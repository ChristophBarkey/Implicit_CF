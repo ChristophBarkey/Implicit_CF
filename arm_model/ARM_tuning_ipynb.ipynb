{
 "cells": [
  {
   "cell_type": "code",
   "execution_count": 25,
   "metadata": {},
   "outputs": [],
   "source": [
    "import pandas as pd\n",
    "import numpy as np\n",
    "from arm_py import AssociationRuleMining, arm_data_import\n",
    "from arm_evaluation_py import train_test_split_arm, precision_per_u"
   ]
  },
  {
   "cell_type": "code",
   "execution_count": 26,
   "metadata": {},
   "outputs": [
    {
     "name": "stdout",
     "output_type": "stream",
     "text": [
      "C:\\Users\\781110104\\OneDrive - Genpact\\Documents\\VSCode\n"
     ]
    }
   ],
   "source": [
    "%cd C:\\Users\\781110104\\OneDrive - Genpact\\Documents\\VSCode"
   ]
  },
  {
   "cell_type": "markdown",
   "metadata": {},
   "source": [
    "OEM2 tuning:"
   ]
  },
  {
   "cell_type": "code",
   "execution_count": 27,
   "metadata": {},
   "outputs": [],
   "source": [
    "transactions_filtered = arm_data_import(OEM='TEREX')"
   ]
  },
  {
   "cell_type": "code",
   "execution_count": 29,
   "metadata": {},
   "outputs": [
    {
     "name": "stdout",
     "output_type": "stream",
     "text": [
      "Filtered out: 0.93 of test lines\n",
      "Train prop: 0.76\n",
      "Filtered out: 0.92 of test lines\n",
      "Train prop: 0.79\n",
      "Filtered out: 0.92 of test lines\n",
      "Train prop: 0.88\n"
     ]
    }
   ],
   "source": [
    "# tuning for specified splits and parameters\n",
    "sep_dates = ['2021-01-01 00:00:00', '2021-06-01 00:00:00', '2022-01-01 00:00:00']\n",
    "limit_dates = ['2021-06-01 00:00:00', '2022-01-01 00:00:00', '2022-06-01 00:00:00']\n",
    "names = ['arm_21_1_tuning_t.csv', 'arm_21_2_tuning_t.csv', 'arm_22_1_tuning_t.csv']\n",
    "min_supports = [0.002, 0.0025, 0.003, 0.0035, 0.004, 0.0045, 0.005]\n",
    "min_confidences = [0.5, 0.55, 0.6, 0.65, 0.7, 0.75, 0.8, 0.85, 0.9]\n",
    "for d in range(len(sep_dates)):\n",
    "    transactions_total = transactions_filtered[transactions_filtered.create_date < limit_dates[d]]\n",
    "    train_temp, test_temp = train_test_split_arm(transactions_total, sep_dates[d])\n",
    "    arm = AssociationRuleMining()\n",
    "    res_temp = arm.tune_arm(train_temp, test_temp, min_supports, min_confidences)\n",
    "    res_temp.to_csv(names[d])"
   ]
  },
  {
   "cell_type": "markdown",
   "metadata": {},
   "source": [
    "OEM1 tuning:"
   ]
  },
  {
   "cell_type": "code",
   "execution_count": 22,
   "metadata": {},
   "outputs": [],
   "source": [
    "transactions_filtered_a = arm_data_import(OEM='AGCO')"
   ]
  },
  {
   "cell_type": "code",
   "execution_count": 30,
   "metadata": {},
   "outputs": [
    {
     "name": "stdout",
     "output_type": "stream",
     "text": [
      "Filtered out: 0.9 of test lines\n",
      "Train prop: 0.86\n",
      "Filtered out: 0.91 of test lines\n",
      "Train prop: 0.84\n",
      "Filtered out: 0.91 of test lines\n",
      "Train prop: 0.9\n"
     ]
    }
   ],
   "source": [
    "sep_dates = ['2021-01-01 00:00:00', '2021-06-01 00:00:00', '2022-01-01 00:00:00']\n",
    "limit_dates = ['2021-06-01 00:00:00', '2022-01-01 00:00:00', '2022-06-01 00:00:00']\n",
    "names = ['arm_21_1_tuning_a.csv', 'arm_21_2_tuning_a.csv', 'arm_22_1_tuning_a.csv']\n",
    "min_supports = [0.008, 0.0085, 0.009, 0.0095, 0.01, 0.015, 0.02, 0.025, 0.03]\n",
    "min_confidences = [0.5, 0.55, 0.6, 0.65, 0.7, 0.75, 0.8, 0.85, 0.9]\n",
    "for d in range(len(sep_dates)):\n",
    "    transactions_total = transactions_filtered_a[transactions_filtered_a.create_date < limit_dates[d]]\n",
    "    train_temp, test_temp = train_test_split_arm(transactions_total, sep_dates[d])\n",
    "    arm_a = AssociationRuleMining()\n",
    "    res_temp = arm_a.tune_arm(train_temp, test_temp, min_supports, min_confidences)\n",
    "    res_temp.to_csv(names[d])"
   ]
  }
 ],
 "metadata": {
  "kernelspec": {
   "display_name": "Python 3.9.7",
   "language": "python",
   "name": "python3"
  },
  "language_info": {
   "codemirror_mode": {
    "name": "ipython",
    "version": 3
   },
   "file_extension": ".py",
   "mimetype": "text/x-python",
   "name": "python",
   "nbconvert_exporter": "python",
   "pygments_lexer": "ipython3",
   "version": "3.9.7"
  },
  "orig_nbformat": 4,
  "vscode": {
   "interpreter": {
    "hash": "b4efcf30d150067e76aa0880eb47772143c44e1fc3c522760740bd759ef99df4"
   }
  }
 },
 "nbformat": 4,
 "nbformat_minor": 2
}
