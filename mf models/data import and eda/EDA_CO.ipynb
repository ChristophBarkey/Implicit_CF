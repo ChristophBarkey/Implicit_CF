{
 "cells": [
  {
   "cell_type": "code",
   "execution_count": 1,
   "metadata": {},
   "outputs": [],
   "source": [
    "from dataloading import DataLoader\n",
    "from cv_py import CrossValidation\n",
    "from visualize_py import Visualize\n",
    "from eda_py import EDA\n",
    "import implicit\n",
    "from implicit.evaluation import train_test_split, ranking_metrics_at_k\n",
    "from implicit.als import AlternatingLeastSquares\n",
    "import pandas as pd\n",
    "import numpy as np"
   ]
  },
  {
   "cell_type": "code",
   "execution_count": 2,
   "metadata": {},
   "outputs": [
    {
     "name": "stdout",
     "output_type": "stream",
     "text": [
      "C:\\Users\\781110104\\OneDrive - Genpact\\Documents\\VSCode\n"
     ]
    }
   ],
   "source": [
    "%cd C:\\Users\\781110104\\OneDrive - Genpact\\Documents\\VSCode"
   ]
  },
  {
   "cell_type": "code",
   "execution_count": 3,
   "metadata": {},
   "outputs": [],
   "source": [
    "dl = DataLoader()\n",
    "user_item_co_a = dl.import_data('AGCO', 'CO', 'df')\n",
    "user_item_co_t = dl.import_data('TEREX', 'CO', 'df')"
   ]
  },
  {
   "cell_type": "code",
   "execution_count": 4,
   "metadata": {},
   "outputs": [],
   "source": [
    "eda = EDA()"
   ]
  },
  {
   "cell_type": "markdown",
   "metadata": {},
   "source": [
    "When keeping all user-item pairs, disregarding the number of users/item and vice versa"
   ]
  },
  {
   "cell_type": "code",
   "execution_count": 5,
   "metadata": {},
   "outputs": [
    {
     "data": {
      "text/html": [
       "<div>\n",
       "<style scoped>\n",
       "    .dataframe tbody tr th:only-of-type {\n",
       "        vertical-align: middle;\n",
       "    }\n",
       "\n",
       "    .dataframe tbody tr th {\n",
       "        vertical-align: top;\n",
       "    }\n",
       "\n",
       "    .dataframe thead th {\n",
       "        text-align: right;\n",
       "    }\n",
       "</style>\n",
       "<table border=\"1\" class=\"dataframe\">\n",
       "  <thead>\n",
       "    <tr style=\"text-align: right;\">\n",
       "      <th></th>\n",
       "      <th>nouser</th>\n",
       "      <th>noitem</th>\n",
       "      <th>nnz</th>\n",
       "      <th>sparsity</th>\n",
       "    </tr>\n",
       "  </thead>\n",
       "  <tbody>\n",
       "    <tr>\n",
       "      <th>co</th>\n",
       "      <td>303</td>\n",
       "      <td>338426</td>\n",
       "      <td>2847967</td>\n",
       "      <td>0.972227</td>\n",
       "    </tr>\n",
       "    <tr>\n",
       "      <th>po</th>\n",
       "      <td>40</td>\n",
       "      <td>54897</td>\n",
       "      <td>99267</td>\n",
       "      <td>0.954794</td>\n",
       "    </tr>\n",
       "  </tbody>\n",
       "</table>\n",
       "</div>"
      ],
      "text/plain": [
       "    nouser  noitem      nnz  sparsity\n",
       "co     303  338426  2847967  0.972227\n",
       "po      40   54897    99267  0.954794"
      ]
     },
     "execution_count": 5,
     "metadata": {},
     "output_type": "execute_result"
    }
   ],
   "source": [
    "eda.get_basic_user_item_info(user_item_co_a, user_item_co_t)"
   ]
  },
  {
   "cell_type": "code",
   "execution_count": 6,
   "metadata": {},
   "outputs": [
    {
     "data": {
      "text/html": [
       "<div>\n",
       "<style scoped>\n",
       "    .dataframe tbody tr th:only-of-type {\n",
       "        vertical-align: middle;\n",
       "    }\n",
       "\n",
       "    .dataframe tbody tr th {\n",
       "        vertical-align: top;\n",
       "    }\n",
       "\n",
       "    .dataframe thead th {\n",
       "        text-align: right;\n",
       "    }\n",
       "</style>\n",
       "<table border=\"1\" class=\"dataframe\">\n",
       "  <thead>\n",
       "    <tr style=\"text-align: right;\">\n",
       "      <th></th>\n",
       "      <th>count</th>\n",
       "      <th>mean</th>\n",
       "      <th>std</th>\n",
       "      <th>min</th>\n",
       "      <th>25%</th>\n",
       "      <th>50%</th>\n",
       "      <th>75%</th>\n",
       "      <th>max</th>\n",
       "    </tr>\n",
       "  </thead>\n",
       "  <tbody>\n",
       "    <tr>\n",
       "      <th>podl_upi</th>\n",
       "      <td>54897.0</td>\n",
       "      <td>1.808241</td>\n",
       "      <td>1.760623</td>\n",
       "      <td>1.0</td>\n",
       "      <td>1.00</td>\n",
       "      <td>1.0</td>\n",
       "      <td>2.00</td>\n",
       "      <td>18.0</td>\n",
       "    </tr>\n",
       "    <tr>\n",
       "      <th>codl_upi</th>\n",
       "      <td>338426.0</td>\n",
       "      <td>8.415332</td>\n",
       "      <td>17.968807</td>\n",
       "      <td>1.0</td>\n",
       "      <td>1.00</td>\n",
       "      <td>2.0</td>\n",
       "      <td>7.00</td>\n",
       "      <td>298.0</td>\n",
       "    </tr>\n",
       "    <tr>\n",
       "      <th>podl_ipu</th>\n",
       "      <td>40.0</td>\n",
       "      <td>2481.675000</td>\n",
       "      <td>4051.038926</td>\n",
       "      <td>141.0</td>\n",
       "      <td>833.25</td>\n",
       "      <td>1334.0</td>\n",
       "      <td>2104.75</td>\n",
       "      <td>23905.0</td>\n",
       "    </tr>\n",
       "    <tr>\n",
       "      <th>codl_ipu</th>\n",
       "      <td>303.0</td>\n",
       "      <td>9399.231023</td>\n",
       "      <td>10640.834156</td>\n",
       "      <td>519.0</td>\n",
       "      <td>3610.00</td>\n",
       "      <td>6214.0</td>\n",
       "      <td>10723.00</td>\n",
       "      <td>74843.0</td>\n",
       "    </tr>\n",
       "  </tbody>\n",
       "</table>\n",
       "</div>"
      ],
      "text/plain": [
       "             count         mean           std    min      25%     50%  \\\n",
       "podl_upi   54897.0     1.808241      1.760623    1.0     1.00     1.0   \n",
       "codl_upi  338426.0     8.415332     17.968807    1.0     1.00     2.0   \n",
       "podl_ipu      40.0  2481.675000   4051.038926  141.0   833.25  1334.0   \n",
       "codl_ipu     303.0  9399.231023  10640.834156  519.0  3610.00  6214.0   \n",
       "\n",
       "               75%      max  \n",
       "podl_upi      2.00     18.0  \n",
       "codl_upi      7.00    298.0  \n",
       "podl_ipu   2104.75  23905.0  \n",
       "codl_ipu  10723.00  74843.0  "
      ]
     },
     "execution_count": 6,
     "metadata": {},
     "output_type": "execute_result"
    }
   ],
   "source": [
    "eda.get_user_per_item_frame(user_item_co_a, user_item_co_t)"
   ]
  },
  {
   "cell_type": "markdown",
   "metadata": {},
   "source": [
    "After cutting out items with only one observation"
   ]
  },
  {
   "cell_type": "code",
   "execution_count": 7,
   "metadata": {},
   "outputs": [],
   "source": [
    "co_a_filtered = dl.remove_low_interact_items(user_item_co_a, 1)\n",
    "co_t_filtered = dl.remove_low_interact_items(user_item_co_t, 1)"
   ]
  },
  {
   "cell_type": "code",
   "execution_count": 8,
   "metadata": {},
   "outputs": [
    {
     "data": {
      "text/html": [
       "<div>\n",
       "<style scoped>\n",
       "    .dataframe tbody tr th:only-of-type {\n",
       "        vertical-align: middle;\n",
       "    }\n",
       "\n",
       "    .dataframe tbody tr th {\n",
       "        vertical-align: top;\n",
       "    }\n",
       "\n",
       "    .dataframe thead th {\n",
       "        text-align: right;\n",
       "    }\n",
       "</style>\n",
       "<table border=\"1\" class=\"dataframe\">\n",
       "  <thead>\n",
       "    <tr style=\"text-align: right;\">\n",
       "      <th></th>\n",
       "      <th>nouser</th>\n",
       "      <th>noitem</th>\n",
       "      <th>nnz</th>\n",
       "      <th>sparsity</th>\n",
       "    </tr>\n",
       "  </thead>\n",
       "  <tbody>\n",
       "    <tr>\n",
       "      <th>co</th>\n",
       "      <td>303</td>\n",
       "      <td>202000</td>\n",
       "      <td>2711541</td>\n",
       "      <td>0.955698</td>\n",
       "    </tr>\n",
       "    <tr>\n",
       "      <th>po</th>\n",
       "      <td>40</td>\n",
       "      <td>16690</td>\n",
       "      <td>61060</td>\n",
       "      <td>0.908538</td>\n",
       "    </tr>\n",
       "  </tbody>\n",
       "</table>\n",
       "</div>"
      ],
      "text/plain": [
       "    nouser  noitem      nnz  sparsity\n",
       "co     303  202000  2711541  0.955698\n",
       "po      40   16690    61060  0.908538"
      ]
     },
     "execution_count": 8,
     "metadata": {},
     "output_type": "execute_result"
    }
   ],
   "source": [
    "eda.get_basic_user_item_info(co_a_filtered, co_t_filtered)"
   ]
  },
  {
   "cell_type": "code",
   "execution_count": 9,
   "metadata": {},
   "outputs": [
    {
     "data": {
      "text/html": [
       "<div>\n",
       "<style scoped>\n",
       "    .dataframe tbody tr th:only-of-type {\n",
       "        vertical-align: middle;\n",
       "    }\n",
       "\n",
       "    .dataframe tbody tr th {\n",
       "        vertical-align: top;\n",
       "    }\n",
       "\n",
       "    .dataframe thead th {\n",
       "        text-align: right;\n",
       "    }\n",
       "</style>\n",
       "<table border=\"1\" class=\"dataframe\">\n",
       "  <thead>\n",
       "    <tr style=\"text-align: right;\">\n",
       "      <th></th>\n",
       "      <th>count</th>\n",
       "      <th>mean</th>\n",
       "      <th>std</th>\n",
       "      <th>min</th>\n",
       "      <th>25%</th>\n",
       "      <th>50%</th>\n",
       "      <th>75%</th>\n",
       "      <th>max</th>\n",
       "    </tr>\n",
       "  </thead>\n",
       "  <tbody>\n",
       "    <tr>\n",
       "      <th>podl_upi</th>\n",
       "      <td>16690.0</td>\n",
       "      <td>3.658478</td>\n",
       "      <td>2.297217</td>\n",
       "      <td>2.0</td>\n",
       "      <td>2.0</td>\n",
       "      <td>3.0</td>\n",
       "      <td>4.00</td>\n",
       "      <td>18.0</td>\n",
       "    </tr>\n",
       "    <tr>\n",
       "      <th>codl_upi</th>\n",
       "      <td>202000.0</td>\n",
       "      <td>13.423470</td>\n",
       "      <td>21.879773</td>\n",
       "      <td>2.0</td>\n",
       "      <td>3.0</td>\n",
       "      <td>5.0</td>\n",
       "      <td>13.00</td>\n",
       "      <td>298.0</td>\n",
       "    </tr>\n",
       "    <tr>\n",
       "      <th>podl_ipu</th>\n",
       "      <td>40.0</td>\n",
       "      <td>1526.500000</td>\n",
       "      <td>1399.299147</td>\n",
       "      <td>128.0</td>\n",
       "      <td>743.0</td>\n",
       "      <td>1118.0</td>\n",
       "      <td>1663.25</td>\n",
       "      <td>6992.0</td>\n",
       "    </tr>\n",
       "    <tr>\n",
       "      <th>codl_ipu</th>\n",
       "      <td>303.0</td>\n",
       "      <td>8948.980198</td>\n",
       "      <td>9621.547059</td>\n",
       "      <td>515.0</td>\n",
       "      <td>3408.5</td>\n",
       "      <td>6062.0</td>\n",
       "      <td>10502.00</td>\n",
       "      <td>63868.0</td>\n",
       "    </tr>\n",
       "  </tbody>\n",
       "</table>\n",
       "</div>"
      ],
      "text/plain": [
       "             count         mean          std    min     25%     50%       75%  \\\n",
       "podl_upi   16690.0     3.658478     2.297217    2.0     2.0     3.0      4.00   \n",
       "codl_upi  202000.0    13.423470    21.879773    2.0     3.0     5.0     13.00   \n",
       "podl_ipu      40.0  1526.500000  1399.299147  128.0   743.0  1118.0   1663.25   \n",
       "codl_ipu     303.0  8948.980198  9621.547059  515.0  3408.5  6062.0  10502.00   \n",
       "\n",
       "              max  \n",
       "podl_upi     18.0  \n",
       "codl_upi    298.0  \n",
       "podl_ipu   6992.0  \n",
       "codl_ipu  63868.0  "
      ]
     },
     "execution_count": 9,
     "metadata": {},
     "output_type": "execute_result"
    }
   ],
   "source": [
    "eda.get_user_per_item_frame(co_a_filtered, co_t_filtered)"
   ]
  },
  {
   "cell_type": "code",
   "execution_count": 17,
   "metadata": {},
   "outputs": [
    {
     "data": {
      "image/png": "[encoded data removed]",
      "text/plain": [
       "<Figure size 1440x576 with 2 Axes>"
      ]
     },
     "metadata": {},
     "output_type": "display_data"
    }
   ],
   "source": [
    "eda.get_purchase_histograms(co_a_filtered, co_t_filtered, scale_y='log', bins=25, save=True)"
   ]
  },
  {
   "cell_type": "code",
   "execution_count": 12,
   "metadata": {},
   "outputs": [],
   "source": [
    "co_a_filtered_log = dl.log_scale_df(co_a_filtered, 0.01)\n",
    "co_t_filtered_log = dl.log_scale_df(co_t_filtered, 0.01)"
   ]
  },
  {
   "cell_type": "code",
   "execution_count": 18,
   "metadata": {},
   "outputs": [
    {
     "data": {
      "image/png": "[encoded data removed]",
      "text/plain": [
       "<Figure size 1440x576 with 2 Axes>"
      ]
     },
     "metadata": {},
     "output_type": "display_data"
    }
   ],
   "source": [
    "eda.get_purchase_histograms(co_a_filtered_log, co_t_filtered_log, bins=25, save=True)"
   ]
  }
 ],
 "metadata": {
  "kernelspec": {
   "display_name": "Python 3.9.7",
   "language": "python",
   "name": "python3"
  },
  "language_info": {
   "codemirror_mode": {
    "name": "ipython",
    "version": 3
   },
   "file_extension": ".py",
   "mimetype": "text/x-python",
   "name": "python",
   "nbconvert_exporter": "python",
   "pygments_lexer": "ipython3",
   "version": "3.9.7"
  },
  "orig_nbformat": 4,
  "vscode": {
   "interpreter": {
    "hash": "b4efcf30d150067e76aa0880eb47772143c44e1fc3c522760740bd759ef99df4"
   }
  }
 },
 "nbformat": 4,
 "nbformat_minor": 2
}
