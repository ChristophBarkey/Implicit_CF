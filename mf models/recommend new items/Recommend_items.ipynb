{
 "cells": [
  {
   "cell_type": "markdown",
   "metadata": {},
   "source": [
    "Notebook to actually create item recommendations for each user and each model:"
   ]
  },
  {
   "cell_type": "code",
   "execution_count": 1,
   "metadata": {},
   "outputs": [
    {
     "name": "stderr",
     "output_type": "stream",
     "text": [
      "c:\\Users\\781110104\\Anaconda3\\lib\\site-packages\\lightfm\\_lightfm_fast.py:9: UserWarning: LightFM was compiled without OpenMP support. Only a single thread will be used.\n",
      "  warnings.warn(\n"
     ]
    },
    {
     "name": "stdout",
     "output_type": "stream",
     "text": [
      "C:\\Users\\781110104\\OneDrive - Genpact\\Documents\\VSCode\n"
     ]
    }
   ],
   "source": [
    "import pandas as pd\n",
    "import numpy as np\n",
    "from dataloading import DataLoader\n",
    "from datapreparation_py import DataPreparation\n",
    "from cv_py import CrossValidation\n",
    "from eda_py import EDA\n",
    "from recommender_py import Recommender\n",
    "from implicit.evaluation import ranking_metrics_at_k, train_test_split\n",
    "from implicit.nearest_neighbours import CosineRecommender\n",
    "from implicit.als import AlternatingLeastSquares\n",
    "from eALS_adaptor import eALSAdaptor\n",
    "from implicit.lmf import LogisticMatrixFactorization\n",
    "from implicit.bpr import BayesianPersonalizedRanking\n",
    "import matplotlib.pyplot as plt\n",
    "\n",
    "%cd C:\\Users\\781110104\\OneDrive - Genpact\\Documents\\VSCode"
   ]
  },
  {
   "cell_type": "code",
   "execution_count": 2,
   "metadata": {},
   "outputs": [],
   "source": [
    "dl = DataLoader()\n",
    "user_item_co = dl.import_data('AGCO', 'CO', 'df')\n",
    "user_item_co_t = dl.import_data('TEREX', 'CO', 'df')"
   ]
  },
  {
   "cell_type": "code",
   "execution_count": 3,
   "metadata": {},
   "outputs": [],
   "source": [
    "user_item_filtered = dl.remove_low_interact_items(user_item_co, 1)\n",
    "user_item_filtered_t = dl.remove_low_interact_items(user_item_co_t, 1)\n",
    "\n",
    "user_item_filtered_log = dl.log_scale_df(user_item_filtered, 0.01)\n",
    "user_item_filtered_log_t = dl.log_scale_df(user_item_filtered_t, 0.01)\n",
    "\n",
    "user_item_csr = dl.to_csr(user_item_filtered_log)\n",
    "user_item_csr_t = dl.to_csr(user_item_filtered_log_t)"
   ]
  },
  {
   "cell_type": "code",
   "execution_count": 4,
   "metadata": {},
   "outputs": [],
   "source": [
    "dp_t = DataPreparation(user_item_filtered_log_t)\n",
    "full_df_t = dp_t._get_full_user_item()\n",
    "\n",
    "dp = DataPreparation(user_item_filtered_log)\n",
    "full_df = dp._get_full_user_item()"
   ]
  },
  {
   "cell_type": "code",
   "execution_count": 5,
   "metadata": {},
   "outputs": [
    {
     "name": "stderr",
     "output_type": "stream",
     "text": [
      "c:\\Users\\781110104\\Anaconda3\\lib\\site-packages\\implicit\\utils.py:33: UserWarning: Intel MKL BLAS detected. Its highly recommend to set the environment variable 'export MKL_NUM_THREADS=1' to disable its internal multithreading\n",
      "  warnings.warn(\n"
     ]
    }
   ],
   "source": [
    "model_ials_a = AlternatingLeastSquares(factors=150, regularization=90, alpha=0.3, iterations=25)\n",
    "model_ials_t = AlternatingLeastSquares(factors=100, regularization=90, alpha=1.3, iterations=25)\n",
    "model_eals_t = eALSAdaptor(factors=50, regularization=50, alpha=0.1, w0=5000, num_iter=25)\n",
    "model_bpr_a = BayesianPersonalizedRanking(factors=50, regularization=0.03, learning_rate=0.005, iterations=30)\n",
    "model_lmf_a = LogisticMatrixFactorization(factors=10, regularization=40, iterations=25, neg_prop=50)\n",
    "model_cosine_a = CosineRecommender()\n",
    "model_cosine_t = CosineRecommender()"
   ]
  },
  {
   "cell_type": "code",
   "execution_count": 6,
   "metadata": {},
   "outputs": [
    {
     "data": {
      "application/vnd.jupyter.widget-view+json": {
       "model_id": "634c23ed0d5a4ff5819cbc38a3465da8",
       "version_major": 2,
       "version_minor": 0
      },
      "text/plain": [
       "  0%|          | 0/25 [00:00<?, ?it/s]"
      ]
     },
     "metadata": {},
     "output_type": "display_data"
    },
    {
     "data": {
      "application/vnd.jupyter.widget-view+json": {
       "model_id": "5d468d8324c447019918ffa50e26d458",
       "version_major": 2,
       "version_minor": 0
      },
      "text/plain": [
       "  0%|          | 0/25 [00:00<?, ?it/s]"
      ]
     },
     "metadata": {},
     "output_type": "display_data"
    },
    {
     "name": "stdout",
     "output_type": "stream",
     "text": [
      "converting type of user_items to <class 'numpy.float32'>\n"
     ]
    },
    {
     "data": {
      "application/vnd.jupyter.widget-view+json": {
       "model_id": "ba8cd8e934b845adb81becb213ab616e",
       "version_major": 2,
       "version_minor": 0
      },
      "text/plain": [
       "  0%|          | 0/30 [00:00<?, ?it/s]"
      ]
     },
     "metadata": {},
     "output_type": "display_data"
    },
    {
     "data": {
      "application/vnd.jupyter.widget-view+json": {
       "model_id": "c86c32804cac4639ab48b699edf4f37a",
       "version_major": 2,
       "version_minor": 0
      },
      "text/plain": [
       "  0%|          | 0/25 [00:00<?, ?it/s]"
      ]
     },
     "metadata": {},
     "output_type": "display_data"
    },
    {
     "name": "stderr",
     "output_type": "stream",
     "text": [
      "c:\\Users\\781110104\\Anaconda3\\lib\\site-packages\\implicit\\utils.py:138: ParameterWarning: Method expects CSR input, and was passed coo_matrix instead. Converting to CSR took 0.03845810890197754 seconds\n",
      "  warnings.warn(\n"
     ]
    },
    {
     "data": {
      "application/vnd.jupyter.widget-view+json": {
       "model_id": "8de377240ec44498b5d8f97c0ba9e2e8",
       "version_major": 2,
       "version_minor": 0
      },
      "text/plain": [
       "  0%|          | 0/202000 [00:00<?, ?it/s]"
      ]
     },
     "metadata": {},
     "output_type": "display_data"
    },
    {
     "name": "stderr",
     "output_type": "stream",
     "text": [
      "c:\\Users\\781110104\\Anaconda3\\lib\\site-packages\\implicit\\utils.py:138: ParameterWarning: Method expects CSR input, and was passed coo_matrix instead. Converting to CSR took 0.000997304916381836 seconds\n",
      "  warnings.warn(\n"
     ]
    },
    {
     "data": {
      "application/vnd.jupyter.widget-view+json": {
       "model_id": "998fa3e152a444d293872e3b651d3e48",
       "version_major": 2,
       "version_minor": 0
      },
      "text/plain": [
       "  0%|          | 0/16690 [00:00<?, ?it/s]"
      ]
     },
     "metadata": {},
     "output_type": "display_data"
    }
   ],
   "source": [
    "model_ials_a.fit(user_item_csr)\n",
    "model_ials_t.fit(user_item_csr_t)\n",
    "model_eals_t.fit(user_item_csr_t)\n",
    "model_bpr_a.fit(user_item_csr)\n",
    "model_lmf_a.fit(user_item_csr)\n",
    "model_cosine_a.fit(user_item_csr)\n",
    "model_cosine_t.fit(user_item_csr_t)"
   ]
  },
  {
   "cell_type": "code",
   "execution_count": 7,
   "metadata": {},
   "outputs": [],
   "source": [
    "rc = Recommender()"
   ]
  },
  {
   "cell_type": "code",
   "execution_count": 8,
   "metadata": {},
   "outputs": [],
   "source": [
    "recos_ials_a = rc.get_recommendations(model_ials_a, user_item_csr, full_df)\n",
    "recos_ials_t = rc.get_recommendations(model_ials_t, user_item_csr_t, full_df_t)\n",
    "recos_eals_t = rc.get_recommendations(model_eals_t, user_item_csr_t, full_df_t)\n",
    "recos_bpr_a = rc.get_recommendations(model_bpr_a, user_item_csr, full_df)\n",
    "recos_lmf_a = rc.get_recommendations(model_lmf_a, user_item_csr, full_df)\n",
    "recos_cosine_a = rc.get_recommendations(model_cosine_a, user_item_csr, full_df)\n",
    "recos_cosine_t = rc.get_recommendations(model_cosine_t, user_item_csr_t, full_df_t)"
   ]
  },
  {
   "cell_type": "code",
   "execution_count": 10,
   "metadata": {},
   "outputs": [],
   "source": [
    "common_recos_df_t = rc.get_common_recos_t(recos_ials_t, recos_eals_t, recos_cosine_t)"
   ]
  },
  {
   "cell_type": "code",
   "execution_count": 11,
   "metadata": {},
   "outputs": [],
   "source": [
    "get_common_recos_a = rc.get_common_recos_a(recos_ials_a, recos_bpr_a, recos_lmf_a, recos_cosine_a)"
   ]
  },
  {
   "cell_type": "code",
   "execution_count": 14,
   "metadata": {},
   "outputs": [
    {
     "data": {
      "text/html": [
       "<div>\n",
       "<style scoped>\n",
       "    .dataframe tbody tr th:only-of-type {\n",
       "        vertical-align: middle;\n",
       "    }\n",
       "\n",
       "    .dataframe tbody tr th {\n",
       "        vertical-align: top;\n",
       "    }\n",
       "\n",
       "    .dataframe thead th {\n",
       "        text-align: right;\n",
       "    }\n",
       "</style>\n",
       "<table border=\"1\" class=\"dataframe\">\n",
       "  <thead>\n",
       "    <tr style=\"text-align: right;\">\n",
       "      <th></th>\n",
       "      <th>0</th>\n",
       "      <th>1</th>\n",
       "      <th>2</th>\n",
       "      <th>3</th>\n",
       "      <th>4</th>\n",
       "      <th>5</th>\n",
       "      <th>6</th>\n",
       "      <th>7</th>\n",
       "      <th>8</th>\n",
       "      <th>9</th>\n",
       "    </tr>\n",
       "  </thead>\n",
       "  <tbody>\n",
       "    <tr>\n",
       "      <th>00101</th>\n",
       "      <td>3010471X1</td>\n",
       "      <td>3405418M2</td>\n",
       "      <td>3638382M1</td>\n",
       "      <td>4305831M3</td>\n",
       "      <td>4309229M1</td>\n",
       "      <td>V836339371</td>\n",
       "      <td>3790002M1</td>\n",
       "      <td>4296238M1</td>\n",
       "      <td>ACW0283150</td>\n",
       "      <td>3638510M2</td>\n",
       "    </tr>\n",
       "    <tr>\n",
       "      <th>ACA</th>\n",
       "      <td>920700180120</td>\n",
       "      <td>ACV010977B</td>\n",
       "      <td>ACX3327250</td>\n",
       "      <td>F117902020030</td>\n",
       "      <td>V36692300</td>\n",
       "      <td>X548929066000</td>\n",
       "      <td>F716961020030</td>\n",
       "      <td>X530008100000</td>\n",
       "      <td>X991020274000</td>\n",
       "      <td>X991020275000</td>\n",
       "    </tr>\n",
       "    <tr>\n",
       "      <th>AGCO_SUOMI</th>\n",
       "      <td>3904295M3</td>\n",
       "      <td>816810080053</td>\n",
       "      <td>ACV0243090</td>\n",
       "      <td>ACV0254220</td>\n",
       "      <td>F385300100080</td>\n",
       "      <td>F725891552030</td>\n",
       "      <td>V32910600</td>\n",
       "      <td>V37115400</td>\n",
       "      <td>V45031120</td>\n",
       "      <td>V836891457</td>\n",
       "    </tr>\n",
       "    <tr>\n",
       "      <th>AGRAVIS</th>\n",
       "      <td>V836322183</td>\n",
       "      <td>X902011622000</td>\n",
       "      <td>X991000217000</td>\n",
       "      <td>X991000815000</td>\n",
       "      <td>X991004114000</td>\n",
       "      <td>X991005558000</td>\n",
       "      <td>X991005578000</td>\n",
       "      <td>X991007303000</td>\n",
       "      <td>X991007316000</td>\n",
       "      <td>X991000090000</td>\n",
       "    </tr>\n",
       "    <tr>\n",
       "      <th>AGRI33</th>\n",
       "      <td>4370896M1</td>\n",
       "      <td>H524300020100</td>\n",
       "      <td>3618662M2</td>\n",
       "      <td>3907283M1</td>\n",
       "      <td>4308980M1</td>\n",
       "      <td>4380438M1</td>\n",
       "      <td>ACW2110490</td>\n",
       "      <td>V614707230</td>\n",
       "      <td>V615881620</td>\n",
       "      <td>V836129946</td>\n",
       "    </tr>\n",
       "    <tr>\n",
       "      <th>AGRI4</th>\n",
       "      <td>ACX3353300</td>\n",
       "      <td>ACV011942C</td>\n",
       "      <td>ACV024653A</td>\n",
       "      <td>V31631400</td>\n",
       "      <td>V34945320</td>\n",
       "      <td>V37316600</td>\n",
       "      <td>VJB8205</td>\n",
       "      <td>VKH4050</td>\n",
       "      <td>VKH4944</td>\n",
       "      <td>VKH9083</td>\n",
       "    </tr>\n",
       "    <tr>\n",
       "      <th>AGRI40</th>\n",
       "      <td>H524300020100</td>\n",
       "      <td>V837079433</td>\n",
       "      <td>4357550M3</td>\n",
       "      <td>4363052M2</td>\n",
       "      <td>4380934M1</td>\n",
       "      <td>4385488M3</td>\n",
       "      <td>V36660000</td>\n",
       "      <td>V39417000</td>\n",
       "      <td>V836867752</td>\n",
       "      <td>V837079623</td>\n",
       "    </tr>\n",
       "    <tr>\n",
       "      <th>AGRICOLA_PATRICIO</th>\n",
       "      <td>V614901030</td>\n",
       "      <td>VJD8007</td>\n",
       "      <td>H260200090100</td>\n",
       "      <td>V31720200</td>\n",
       "      <td>V39950900</td>\n",
       "      <td>V39952700</td>\n",
       "      <td>V39952900</td>\n",
       "      <td>V837086282</td>\n",
       "      <td>VKH4091</td>\n",
       "      <td>VKH4923</td>\n",
       "    </tr>\n",
       "    <tr>\n",
       "      <th>AGRICOLA_SIAL</th>\n",
       "      <td>205812040060</td>\n",
       "      <td>F275203010020</td>\n",
       "      <td>F743810150010</td>\n",
       "      <td>G312970090011</td>\n",
       "      <td>G737500021611</td>\n",
       "      <td>H395100470140</td>\n",
       "      <td>H411201090100</td>\n",
       "      <td>H411201090110</td>\n",
       "      <td>V837091129</td>\n",
       "      <td>X550081705000</td>\n",
       "    </tr>\n",
       "    <tr>\n",
       "      <th>AGRICOM</th>\n",
       "      <td>737900142020</td>\n",
       "      <td>737960110040</td>\n",
       "      <td>931901140050</td>\n",
       "      <td>E725100420010</td>\n",
       "      <td>V837079717</td>\n",
       "      <td>V837084523</td>\n",
       "      <td>X485008342000</td>\n",
       "      <td>X486526341000</td>\n",
       "      <td>X605595700000</td>\n",
       "      <td>3019123X1</td>\n",
       "    </tr>\n",
       "  </tbody>\n",
       "</table>\n",
       "</div>"
      ],
      "text/plain": [
       "                               0              1              2              3  \\\n",
       "00101                  3010471X1      3405418M2      3638382M1      4305831M3   \n",
       "ACA                 920700180120     ACV010977B     ACX3327250  F117902020030   \n",
       "AGCO_SUOMI             3904295M3   816810080053     ACV0243090     ACV0254220   \n",
       "AGRAVIS               V836322183  X902011622000  X991000217000  X991000815000   \n",
       "AGRI33                 4370896M1  H524300020100      3618662M2      3907283M1   \n",
       "AGRI4                 ACX3353300     ACV011942C     ACV024653A      V31631400   \n",
       "AGRI40             H524300020100     V837079433      4357550M3      4363052M2   \n",
       "AGRICOLA_PATRICIO     V614901030        VJD8007  H260200090100      V31720200   \n",
       "AGRICOLA_SIAL       205812040060  F275203010020  F743810150010  G312970090011   \n",
       "AGRICOM             737900142020   737960110040   931901140050  E725100420010   \n",
       "\n",
       "                               4              5              6              7  \\\n",
       "00101                  4309229M1     V836339371      3790002M1      4296238M1   \n",
       "ACA                    V36692300  X548929066000  F716961020030  X530008100000   \n",
       "AGCO_SUOMI         F385300100080  F725891552030      V32910600      V37115400   \n",
       "AGRAVIS            X991004114000  X991005558000  X991005578000  X991007303000   \n",
       "AGRI33                 4308980M1      4380438M1     ACW2110490     V614707230   \n",
       "AGRI4                  V34945320      V37316600        VJB8205        VKH4050   \n",
       "AGRI40                 4380934M1      4385488M3      V36660000      V39417000   \n",
       "AGRICOLA_PATRICIO      V39950900      V39952700      V39952900     V837086282   \n",
       "AGRICOLA_SIAL      G737500021611  H395100470140  H411201090100  H411201090110   \n",
       "AGRICOM               V837079717     V837084523  X485008342000  X486526341000   \n",
       "\n",
       "                               8              9  \n",
       "00101                 ACW0283150      3638510M2  \n",
       "ACA                X991020274000  X991020275000  \n",
       "AGCO_SUOMI             V45031120     V836891457  \n",
       "AGRAVIS            X991007316000  X991000090000  \n",
       "AGRI33                V615881620     V836129946  \n",
       "AGRI4                    VKH4944        VKH9083  \n",
       "AGRI40                V836867752     V837079623  \n",
       "AGRICOLA_PATRICIO        VKH4091        VKH4923  \n",
       "AGRICOLA_SIAL         V837091129  X550081705000  \n",
       "AGRICOM            X605595700000      3019123X1  "
      ]
     },
     "execution_count": 14,
     "metadata": {},
     "output_type": "execute_result"
    }
   ],
   "source": [
    "recos_ials_a.head(10)"
   ]
  }
 ],
 "metadata": {
  "kernelspec": {
   "display_name": "Python 3.9.7",
   "language": "python",
   "name": "python3"
  },
  "language_info": {
   "codemirror_mode": {
    "name": "ipython",
    "version": 3
   },
   "file_extension": ".py",
   "mimetype": "text/x-python",
   "name": "python",
   "nbconvert_exporter": "python",
   "pygments_lexer": "ipython3",
   "version": "3.9.7"
  },
  "orig_nbformat": 4,
  "vscode": {
   "interpreter": {
    "hash": "b4efcf30d150067e76aa0880eb47772143c44e1fc3c522760740bd759ef99df4"
   }
  }
 },
 "nbformat": 4,
 "nbformat_minor": 2
}
