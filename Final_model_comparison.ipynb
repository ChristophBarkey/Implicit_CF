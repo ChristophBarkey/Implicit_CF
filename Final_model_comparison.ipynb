{
 "cells": [
  {
   "cell_type": "markdown",
   "metadata": {},
   "source": [
    "Notebook for final model comparison:"
   ]
  },
  {
   "cell_type": "markdown",
   "metadata": {},
   "source": [
    "1. iALS model for OEM#1 data. \n",
    "Parameters:\n",
    "alpha: 0.3, lambda: 90, iterations: 25, factors: 150"
   ]
  },
  {
   "cell_type": "markdown",
   "metadata": {},
   "source": [
    "2. iALS model for OEM#2 data. \n",
    "Parameters:\n",
    "alpha: 1.3, lambda: 90, iterations: 25, factors: 100"
   ]
  },
  {
   "cell_type": "markdown",
   "metadata": {},
   "source": [
    "3. eALS model for OEM#2 data. Parameters: alpha: 0.1, lambda: 50, w0: 5000, iterations: 25, factors: 50"
   ]
  },
  {
   "cell_type": "markdown",
   "metadata": {},
   "source": [
    "4. BPR model for OEM#1 data. Parameters: gamma: 0.005, lambda: 0.03, iterations: 30, factors: 50"
   ]
  },
  {
   "cell_type": "markdown",
   "metadata": {},
   "source": [
    "5. LMF model for OEM#1 data. Parameters: gamma: 1.2, lambda: 40, negprop: 50, iterations: 25, factors:10"
   ]
  }
 ],
 "metadata": {
  "kernelspec": {
   "display_name": "Python 3.9.7",
   "language": "python",
   "name": "python3"
  },
  "language_info": {
   "name": "python",
   "version": "3.9.7"
  },
  "orig_nbformat": 4,
  "vscode": {
   "interpreter": {
    "hash": "b4efcf30d150067e76aa0880eb47772143c44e1fc3c522760740bd759ef99df4"
   }
  }
 },
 "nbformat": 4,
 "nbformat_minor": 2
}
