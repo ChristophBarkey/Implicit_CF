{
 "cells": [
  {
   "cell_type": "code",
   "execution_count": 1,
   "metadata": {},
   "outputs": [],
   "source": [
    "import pandas as pd\n",
    "import numpy as np\n",
    "from implicit.evaluation import train_test_split, ranking_metrics_at_k\n",
    "from implicit.datasets.movielens import get_movielens\n",
    "import implicit\n",
    "from itertools import product"
   ]
  },
  {
   "cell_type": "code",
   "execution_count": 2,
   "metadata": {},
   "outputs": [],
   "source": [
    "from cv_py import CrossValidation"
   ]
  },
  {
   "cell_type": "code",
   "execution_count": 3,
   "metadata": {},
   "outputs": [],
   "source": [
    "from implicit.datasets.movielens import get_movielens\n",
    "movies1, ratings1 = get_movielens(\"1M\")\n",
    "ratings_t = ratings1.T"
   ]
  },
  {
   "cell_type": "code",
   "execution_count": 4,
   "metadata": {},
   "outputs": [],
   "source": [
    "cv = CrossValidation(ratings_t, 5)"
   ]
  },
  {
   "cell_type": "code",
   "execution_count": 5,
   "metadata": {},
   "outputs": [],
   "source": [
    "test, train = cv.split_k_fold()"
   ]
  },
  {
   "cell_type": "code",
   "execution_count": 12,
   "metadata": {},
   "outputs": [
    {
     "data": {
      "text/html": [
       "<div>\n",
       "<style scoped>\n",
       "    .dataframe tbody tr th:only-of-type {\n",
       "        vertical-align: middle;\n",
       "    }\n",
       "\n",
       "    .dataframe tbody tr th {\n",
       "        vertical-align: top;\n",
       "    }\n",
       "\n",
       "    .dataframe thead th {\n",
       "        text-align: right;\n",
       "    }\n",
       "</style>\n",
       "<table border=\"1\" class=\"dataframe\">\n",
       "  <thead>\n",
       "    <tr style=\"text-align: right;\">\n",
       "      <th></th>\n",
       "      <th>factors</th>\n",
       "      <th>regularization</th>\n",
       "      <th>alpha</th>\n",
       "      <th>iterations</th>\n",
       "      <th>precision</th>\n",
       "      <th>map</th>\n",
       "      <th>ndcg</th>\n",
       "      <th>auc</th>\n",
       "      <th>mpr</th>\n",
       "    </tr>\n",
       "  </thead>\n",
       "  <tbody>\n",
       "    <tr>\n",
       "      <th>0</th>\n",
       "      <td>20</td>\n",
       "      <td>0.001</td>\n",
       "      <td>0.8</td>\n",
       "      <td>15</td>\n",
       "      <td>0.388102</td>\n",
       "      <td>0.258321</td>\n",
       "      <td>0.388288</td>\n",
       "      <td>0.576223</td>\n",
       "      <td>0.077303</td>\n",
       "    </tr>\n",
       "  </tbody>\n",
       "</table>\n",
       "</div>"
      ],
      "text/plain": [
       "   factors  regularization  alpha  iterations  precision       map      ndcg  \\\n",
       "0       20           0.001    0.8          15   0.388102  0.258321  0.388288   \n",
       "\n",
       "        auc       mpr  \n",
       "0  0.576223  0.077303  "
      ]
     },
     "execution_count": 12,
     "metadata": {},
     "output_type": "execute_result"
    }
   ],
   "source": [
    "# testing for ALS models\n",
    "space = {'factors' : [20], 'regularization' : [0.001], 'alpha' : [0.8], 'iterations' : [15]}\n",
    "hyper_test_als = cv.hyperp_tuning(test, train, space, 'iALS')\n",
    "hyper_test_als"
   ]
  },
  {
   "cell_type": "code",
   "execution_count": 8,
   "metadata": {},
   "outputs": [],
   "source": [
    "# testing for LMF models\n",
    "space = {'factors' : [20], 'learning_rate' : [0.1], 'regularization' : [0.001], 'iterations' : [15], 'neg_prop' : [20]}\n",
    "hyper_test_lmf = cv.hyperp_tuning(test, train, space, 'LMF')\n",
    "hyper_test_lmf"
   ]
  },
  {
   "cell_type": "code",
   "execution_count": 10,
   "metadata": {},
   "outputs": [],
   "source": [
    "# testing for BPR models\n",
    "space = {'factors' : [20], 'learning_rate' : [0.1], 'regularization' : [0.001], 'iterations' : [15]}\n",
    "hyper_test_bpr = cv.hyperp_tuning(test, train, space, 'BPR')\n",
    "hyper_test_bpr"
   ]
  }
 ],
 "metadata": {
  "kernelspec": {
   "display_name": "Python 3.8.5",
   "language": "python",
   "name": "python3"
  },
  "language_info": {
   "codemirror_mode": {
    "name": "ipython",
    "version": 3
   },
   "file_extension": ".py",
   "mimetype": "text/x-python",
   "name": "python",
   "nbconvert_exporter": "python",
   "pygments_lexer": "ipython3",
   "version": "3.8.5"
  },
  "orig_nbformat": 4,
  "vscode": {
   "interpreter": {
    "hash": "5d12259fae5b28c6154b1142ab47a20fd9a5ed96dba143a66549a6b78840fa71"
   }
  }
 },
 "nbformat": 4,
 "nbformat_minor": 2
}
