{
 "cells": [
  {
   "cell_type": "markdown",
   "metadata": {},
   "source": [
    "Notebook inspired by recometrics example NB:\n",
    "https://nbviewer.org/github/david-cortes/recometrics/blob/master/examples/recometrics_example.ipynb\n",
    "Data 360k lastfm, loading directly via tsv"
   ]
  },
  {
   "cell_type": "code",
   "execution_count": 2,
   "metadata": {},
   "outputs": [],
   "source": [
    "import numpy as np\n",
    "import pandas as pd\n",
    "import recometrics\n",
    "import implicit\n",
    "from scipy.sparse import coo_matrix\n",
    "from implicit.evaluation import train_test_split, mean_average_precision_at_k,  precision_at_k, AUC_at_k, ndcg_at_k, ranking_metrics_at_k\n",
    "from sklearn.model_selection import train_test_split"
   ]
  },
  {
   "cell_type": "code",
   "execution_count": null,
   "metadata": {},
   "outputs": [],
   "source": []
  },
  {
   "cell_type": "code",
   "execution_count": 3,
   "metadata": {},
   "outputs": [
    {
     "name": "stdout",
     "output_type": "stream",
     "text": [
      "C:\\Users\\chris\n"
     ]
    }
   ],
   "source": [
    "%cd"
   ]
  },
  {
   "cell_type": "code",
   "execution_count": 80,
   "metadata": {},
   "outputs": [
    {
     "data": {
      "text/html": [
       "<div>\n",
       "<style scoped>\n",
       "    .dataframe tbody tr th:only-of-type {\n",
       "        vertical-align: middle;\n",
       "    }\n",
       "\n",
       "    .dataframe tbody tr th {\n",
       "        vertical-align: top;\n",
       "    }\n",
       "\n",
       "    .dataframe thead th {\n",
       "        text-align: right;\n",
       "    }\n",
       "</style>\n",
       "<table border=\"1\" class=\"dataframe\">\n",
       "  <thead>\n",
       "    <tr style=\"text-align: right;\">\n",
       "      <th></th>\n",
       "      <th>UserId</th>\n",
       "      <th>ItemId</th>\n",
       "      <th>Artist</th>\n",
       "      <th>Count</th>\n",
       "    </tr>\n",
       "  </thead>\n",
       "  <tbody>\n",
       "    <tr>\n",
       "      <th>0</th>\n",
       "      <td>00000c289a1829a808ac09c00daf10bc3c4e223b</td>\n",
       "      <td>3bd73256-3905-4f3a-97e2-8b341527f805</td>\n",
       "      <td>betty blowtorch</td>\n",
       "      <td>2137</td>\n",
       "    </tr>\n",
       "    <tr>\n",
       "      <th>1</th>\n",
       "      <td>00000c289a1829a808ac09c00daf10bc3c4e223b</td>\n",
       "      <td>f2fb0ff0-5679-42ec-a55c-15109ce6e320</td>\n",
       "      <td>die Ärzte</td>\n",
       "      <td>1099</td>\n",
       "    </tr>\n",
       "    <tr>\n",
       "      <th>2</th>\n",
       "      <td>00000c289a1829a808ac09c00daf10bc3c4e223b</td>\n",
       "      <td>b3ae82c2-e60b-4551-a76d-6620f1b456aa</td>\n",
       "      <td>melissa etheridge</td>\n",
       "      <td>897</td>\n",
       "    </tr>\n",
       "  </tbody>\n",
       "</table>\n",
       "</div>"
      ],
      "text/plain": [
       "                                     UserId  \\\n",
       "0  00000c289a1829a808ac09c00daf10bc3c4e223b   \n",
       "1  00000c289a1829a808ac09c00daf10bc3c4e223b   \n",
       "2  00000c289a1829a808ac09c00daf10bc3c4e223b   \n",
       "\n",
       "                                 ItemId             Artist  Count  \n",
       "0  3bd73256-3905-4f3a-97e2-8b341527f805    betty blowtorch   2137  \n",
       "1  f2fb0ff0-5679-42ec-a55c-15109ce6e320          die Ärzte   1099  \n",
       "2  b3ae82c2-e60b-4551-a76d-6620f1b456aa  melissa etheridge    897  "
      ]
     },
     "execution_count": 80,
     "metadata": {},
     "output_type": "execute_result"
    }
   ],
   "source": [
    "# data loading\n",
    "lfm = pd.read_table('usersha1-artmbid-artname-plays.tsv',\n",
    "                    sep='\\t', header=None,\n",
    "                    names=['UserId','ItemId', 'Artist','Count'])\n",
    "lfm.head(3)"
   ]
  },
  {
   "cell_type": "code",
   "execution_count": 81,
   "metadata": {},
   "outputs": [
    {
     "data": {
      "text/html": [
       "<div>\n",
       "<style scoped>\n",
       "    .dataframe tbody tr th:only-of-type {\n",
       "        vertical-align: middle;\n",
       "    }\n",
       "\n",
       "    .dataframe tbody tr th {\n",
       "        vertical-align: top;\n",
       "    }\n",
       "\n",
       "    .dataframe thead th {\n",
       "        text-align: right;\n",
       "    }\n",
       "</style>\n",
       "<table border=\"1\" class=\"dataframe\">\n",
       "  <thead>\n",
       "    <tr style=\"text-align: right;\">\n",
       "      <th></th>\n",
       "      <th>UserId</th>\n",
       "      <th>ItemId</th>\n",
       "      <th>Count</th>\n",
       "    </tr>\n",
       "  </thead>\n",
       "  <tbody>\n",
       "    <tr>\n",
       "      <th>0</th>\n",
       "      <td>0</td>\n",
       "      <td>37425</td>\n",
       "      <td>2137</td>\n",
       "    </tr>\n",
       "    <tr>\n",
       "      <th>1</th>\n",
       "      <td>0</td>\n",
       "      <td>152039</td>\n",
       "      <td>1099</td>\n",
       "    </tr>\n",
       "    <tr>\n",
       "      <th>2</th>\n",
       "      <td>0</td>\n",
       "      <td>112365</td>\n",
       "      <td>897</td>\n",
       "    </tr>\n",
       "  </tbody>\n",
       "</table>\n",
       "</div>"
      ],
      "text/plain": [
       "   UserId  ItemId  Count\n",
       "0       0   37425   2137\n",
       "1       0  152039   1099\n",
       "2       0  112365    897"
      ]
     },
     "execution_count": 81,
     "metadata": {},
     "output_type": "execute_result"
    }
   ],
   "source": [
    "# preprocessing\n",
    "lfm = lfm.drop('Artist', axis=1)\n",
    "lfm = lfm.loc[(lfm.Count > 0) & (lfm.UserId.notnull()) & (lfm.ItemId.notnull())]\n",
    "lfm['UserId'] = pd.Categorical(lfm.UserId).codes\n",
    "lfm['ItemId'] = pd.Categorical(lfm.ItemId).codes\n",
    "lfm.head(3)"
   ]
  },
  {
   "cell_type": "code",
   "execution_count": 6,
   "metadata": {},
   "outputs": [],
   "source": [
    "#lfm = lfm.sort_values(['Count'])\n",
    "counts = lfm['Count']"
   ]
  },
  {
   "cell_type": "code",
   "execution_count": 7,
   "metadata": {},
   "outputs": [],
   "source": [
    "capped_counts = np.clip(counts, a_min=1, a_max=np.percentile(counts, 95))"
   ]
  },
  {
   "cell_type": "code",
   "execution_count": 8,
   "metadata": {},
   "outputs": [],
   "source": [
    "lfm['CountsCap'] = capped_counts"
   ]
  },
  {
   "cell_type": "code",
   "execution_count": 196,
   "metadata": {},
   "outputs": [
    {
     "data": {
      "text/plain": [
       "numpy.int64"
      ]
     },
     "execution_count": 196,
     "metadata": {},
     "output_type": "execute_result"
    }
   ],
   "source": [
    "type(lfm.Count[0])"
   ]
  },
  {
   "cell_type": "code",
   "execution_count": 82,
   "metadata": {},
   "outputs": [
    {
     "data": {
      "text/plain": [
       "<358858x160112 sparse matrix of type '<class 'numpy.int64'>'\n",
       "\twith 17309518 stored elements in COOrdinate format>"
      ]
     },
     "execution_count": 82,
     "metadata": {},
     "output_type": "execute_result"
    }
   ],
   "source": [
    "X = coo_matrix((lfm.Count, (lfm.UserId, lfm.ItemId)))\n",
    "X"
   ]
  },
  {
   "cell_type": "code",
   "execution_count": 14,
   "metadata": {},
   "outputs": [
    {
     "data": {
      "text/plain": [
       "<358858x160112 sparse matrix of type '<class 'numpy.float64'>'\n",
       "\twith 5206192 stored elements in Compressed Sparse Row format>"
      ]
     },
     "execution_count": 14,
     "metadata": {},
     "output_type": "execute_result"
    }
   ],
   "source": [
    "# data splitting considering all users for test\n",
    "X_train, X_test  = \\\n",
    "    recometrics.split_reco_train_test(\n",
    "        X, split_type=\"all\",\n",
    "        users_test_fraction = None,\n",
    "        max_test_users = 10000,\n",
    "        items_test_fraction = 0.3\n",
    "    )\n",
    "X_test"
   ]
  },
  {
   "cell_type": "code",
   "execution_count": 18,
   "metadata": {},
   "outputs": [
    {
     "data": {
      "text/plain": [
       "<10000x160112 sparse matrix of type '<class 'numpy.float64'>'\n",
       "\twith 145109 stored elements in Compressed Sparse Row format>"
      ]
     },
     "execution_count": 18,
     "metadata": {},
     "output_type": "execute_result"
    }
   ],
   "source": [
    "X_train, X_test, users_test = \\\n",
    "    recometrics.split_reco_train_test(\n",
    "        X, split_type=\"joined\",\n",
    "        users_test_fraction = None,\n",
    "        max_test_users = 10000,\n",
    "        items_test_fraction = 0.3\n",
    "    )\n",
    "X_test"
   ]
  },
  {
   "cell_type": "code",
   "execution_count": 62,
   "metadata": {},
   "outputs": [
    {
     "name": "stderr",
     "output_type": "stream",
     "text": [
      "100%|██████████| 15/15 [04:18<00:00, 17.24s/it]\n"
     ]
    },
    {
     "name": "stdout",
     "output_type": "stream",
     "text": [
      "0.001\n",
      "0.2\n"
     ]
    },
    {
     "name": "stderr",
     "output_type": "stream",
     "text": [
      "100%|██████████| 15/15 [04:26<00:00, 17.79s/it]\n"
     ]
    },
    {
     "name": "stdout",
     "output_type": "stream",
     "text": [
      "0.01\n",
      "0.2\n"
     ]
    },
    {
     "name": "stderr",
     "output_type": "stream",
     "text": [
      "100%|██████████| 15/15 [04:28<00:00, 17.93s/it]\n"
     ]
    },
    {
     "name": "stdout",
     "output_type": "stream",
     "text": [
      "0.01\n",
      "0.2\n"
     ]
    },
    {
     "name": "stderr",
     "output_type": "stream",
     "text": [
      "100%|██████████| 15/15 [04:26<00:00, 17.78s/it]\n"
     ]
    },
    {
     "name": "stdout",
     "output_type": "stream",
     "text": [
      "2\n",
      "0.2\n"
     ]
    },
    {
     "name": "stderr",
     "output_type": "stream",
     "text": [
      "100%|██████████| 15/15 [04:19<00:00, 17.33s/it]\n"
     ]
    },
    {
     "name": "stdout",
     "output_type": "stream",
     "text": [
      "5\n",
      "0.2\n"
     ]
    },
    {
     "name": "stderr",
     "output_type": "stream",
     "text": [
      "100%|██████████| 15/15 [04:19<00:00, 17.27s/it]\n"
     ]
    },
    {
     "name": "stdout",
     "output_type": "stream",
     "text": [
      "10\n",
      "0.2\n"
     ]
    },
    {
     "name": "stderr",
     "output_type": "stream",
     "text": [
      "100%|██████████| 15/15 [04:19<00:00, 17.28s/it]\n"
     ]
    },
    {
     "name": "stdout",
     "output_type": "stream",
     "text": [
      "0.001\n",
      "0.4\n"
     ]
    },
    {
     "name": "stderr",
     "output_type": "stream",
     "text": [
      "100%|██████████| 15/15 [04:19<00:00, 17.27s/it]\n"
     ]
    },
    {
     "name": "stdout",
     "output_type": "stream",
     "text": [
      "0.01\n",
      "0.4\n"
     ]
    },
    {
     "name": "stderr",
     "output_type": "stream",
     "text": [
      "100%|██████████| 15/15 [04:20<00:00, 17.33s/it]\n"
     ]
    },
    {
     "name": "stdout",
     "output_type": "stream",
     "text": [
      "0.01\n",
      "0.4\n"
     ]
    },
    {
     "name": "stderr",
     "output_type": "stream",
     "text": [
      "100%|██████████| 15/15 [04:19<00:00, 17.28s/it]\n"
     ]
    },
    {
     "name": "stdout",
     "output_type": "stream",
     "text": [
      "2\n",
      "0.4\n"
     ]
    },
    {
     "name": "stderr",
     "output_type": "stream",
     "text": [
      "100%|██████████| 15/15 [04:19<00:00, 17.31s/it]\n"
     ]
    },
    {
     "name": "stdout",
     "output_type": "stream",
     "text": [
      "5\n",
      "0.4\n"
     ]
    },
    {
     "name": "stderr",
     "output_type": "stream",
     "text": [
      "100%|██████████| 15/15 [04:20<00:00, 17.34s/it]\n"
     ]
    },
    {
     "name": "stdout",
     "output_type": "stream",
     "text": [
      "10\n",
      "0.4\n"
     ]
    },
    {
     "name": "stderr",
     "output_type": "stream",
     "text": [
      "100%|██████████| 15/15 [04:19<00:00, 17.27s/it]\n"
     ]
    },
    {
     "name": "stdout",
     "output_type": "stream",
     "text": [
      "0.001\n",
      "0.8\n"
     ]
    },
    {
     "name": "stderr",
     "output_type": "stream",
     "text": [
      "100%|██████████| 15/15 [04:19<00:00, 17.30s/it]\n"
     ]
    },
    {
     "name": "stdout",
     "output_type": "stream",
     "text": [
      "0.01\n",
      "0.8\n"
     ]
    },
    {
     "name": "stderr",
     "output_type": "stream",
     "text": [
      "100%|██████████| 15/15 [04:18<00:00, 17.26s/it]\n"
     ]
    },
    {
     "name": "stdout",
     "output_type": "stream",
     "text": [
      "0.01\n",
      "0.8\n"
     ]
    },
    {
     "name": "stderr",
     "output_type": "stream",
     "text": [
      "100%|██████████| 15/15 [04:19<00:00, 17.31s/it]\n"
     ]
    },
    {
     "name": "stdout",
     "output_type": "stream",
     "text": [
      "2\n",
      "0.8\n"
     ]
    },
    {
     "name": "stderr",
     "output_type": "stream",
     "text": [
      "100%|██████████| 15/15 [04:18<00:00, 17.25s/it]\n"
     ]
    },
    {
     "name": "stdout",
     "output_type": "stream",
     "text": [
      "5\n",
      "0.8\n"
     ]
    },
    {
     "name": "stderr",
     "output_type": "stream",
     "text": [
      "100%|██████████| 15/15 [04:19<00:00, 17.29s/it]\n"
     ]
    },
    {
     "name": "stdout",
     "output_type": "stream",
     "text": [
      "10\n",
      "0.8\n"
     ]
    },
    {
     "name": "stderr",
     "output_type": "stream",
     "text": [
      "100%|██████████| 15/15 [04:18<00:00, 17.24s/it]\n"
     ]
    },
    {
     "name": "stdout",
     "output_type": "stream",
     "text": [
      "0.001\n",
      "5\n"
     ]
    },
    {
     "name": "stderr",
     "output_type": "stream",
     "text": [
      "100%|██████████| 15/15 [04:18<00:00, 17.23s/it]\n"
     ]
    },
    {
     "name": "stdout",
     "output_type": "stream",
     "text": [
      "0.01\n",
      "5\n"
     ]
    },
    {
     "name": "stderr",
     "output_type": "stream",
     "text": [
      "100%|██████████| 15/15 [04:18<00:00, 17.25s/it]\n"
     ]
    },
    {
     "name": "stdout",
     "output_type": "stream",
     "text": [
      "0.01\n",
      "5\n"
     ]
    },
    {
     "name": "stderr",
     "output_type": "stream",
     "text": [
      "100%|██████████| 15/15 [04:18<00:00, 17.24s/it]\n"
     ]
    },
    {
     "name": "stdout",
     "output_type": "stream",
     "text": [
      "2\n",
      "5\n"
     ]
    },
    {
     "name": "stderr",
     "output_type": "stream",
     "text": [
      "100%|██████████| 15/15 [04:18<00:00, 17.26s/it]\n"
     ]
    },
    {
     "name": "stdout",
     "output_type": "stream",
     "text": [
      "5\n",
      "5\n"
     ]
    },
    {
     "name": "stderr",
     "output_type": "stream",
     "text": [
      "100%|██████████| 15/15 [04:19<00:00, 17.29s/it]\n"
     ]
    },
    {
     "name": "stdout",
     "output_type": "stream",
     "text": [
      "10\n",
      "5\n"
     ]
    },
    {
     "name": "stderr",
     "output_type": "stream",
     "text": [
      "100%|██████████| 15/15 [04:19<00:00, 17.30s/it]\n"
     ]
    },
    {
     "name": "stdout",
     "output_type": "stream",
     "text": [
      "0.001\n",
      "10\n"
     ]
    },
    {
     "name": "stderr",
     "output_type": "stream",
     "text": [
      "100%|██████████| 15/15 [04:19<00:00, 17.27s/it]\n"
     ]
    },
    {
     "name": "stdout",
     "output_type": "stream",
     "text": [
      "0.01\n",
      "10\n"
     ]
    },
    {
     "name": "stderr",
     "output_type": "stream",
     "text": [
      "100%|██████████| 15/15 [04:19<00:00, 17.29s/it]\n"
     ]
    },
    {
     "name": "stdout",
     "output_type": "stream",
     "text": [
      "0.01\n",
      "10\n"
     ]
    },
    {
     "name": "stderr",
     "output_type": "stream",
     "text": [
      "100%|██████████| 15/15 [04:18<00:00, 17.24s/it]\n"
     ]
    },
    {
     "name": "stdout",
     "output_type": "stream",
     "text": [
      "2\n",
      "10\n"
     ]
    },
    {
     "name": "stderr",
     "output_type": "stream",
     "text": [
      "100%|██████████| 15/15 [04:19<00:00, 17.28s/it]\n"
     ]
    },
    {
     "name": "stdout",
     "output_type": "stream",
     "text": [
      "5\n",
      "10\n"
     ]
    },
    {
     "name": "stderr",
     "output_type": "stream",
     "text": [
      "100%|██████████| 15/15 [04:19<00:00, 17.27s/it]\n"
     ]
    },
    {
     "name": "stdout",
     "output_type": "stream",
     "text": [
      "10\n",
      "10\n"
     ]
    },
    {
     "name": "stderr",
     "output_type": "stream",
     "text": [
      "100%|██████████| 15/15 [04:18<00:00, 17.24s/it]\n"
     ]
    },
    {
     "name": "stdout",
     "output_type": "stream",
     "text": [
      "0.001\n",
      "20\n"
     ]
    },
    {
     "name": "stderr",
     "output_type": "stream",
     "text": [
      "100%|██████████| 15/15 [04:19<00:00, 17.30s/it]\n"
     ]
    },
    {
     "name": "stdout",
     "output_type": "stream",
     "text": [
      "0.01\n",
      "20\n"
     ]
    },
    {
     "name": "stderr",
     "output_type": "stream",
     "text": [
      "100%|██████████| 15/15 [04:18<00:00, 17.26s/it]\n"
     ]
    },
    {
     "name": "stdout",
     "output_type": "stream",
     "text": [
      "0.01\n",
      "20\n"
     ]
    },
    {
     "name": "stderr",
     "output_type": "stream",
     "text": [
      "100%|██████████| 15/15 [04:19<00:00, 17.29s/it]\n"
     ]
    },
    {
     "name": "stdout",
     "output_type": "stream",
     "text": [
      "2\n",
      "20\n"
     ]
    },
    {
     "name": "stderr",
     "output_type": "stream",
     "text": [
      "100%|██████████| 15/15 [04:19<00:00, 17.27s/it]\n"
     ]
    },
    {
     "name": "stdout",
     "output_type": "stream",
     "text": [
      "5\n",
      "20\n"
     ]
    },
    {
     "name": "stderr",
     "output_type": "stream",
     "text": [
      "100%|██████████| 15/15 [04:19<00:00, 17.33s/it]\n"
     ]
    },
    {
     "name": "stdout",
     "output_type": "stream",
     "text": [
      "10\n",
      "20\n"
     ]
    },
    {
     "name": "stderr",
     "output_type": "stream",
     "text": [
      "100%|██████████| 15/15 [04:19<00:00, 17.32s/it]\n"
     ]
    },
    {
     "name": "stdout",
     "output_type": "stream",
     "text": [
      "0.001\n",
      "30\n"
     ]
    },
    {
     "name": "stderr",
     "output_type": "stream",
     "text": [
      "100%|██████████| 15/15 [04:18<00:00, 17.25s/it]\n"
     ]
    },
    {
     "name": "stdout",
     "output_type": "stream",
     "text": [
      "0.01\n",
      "30\n"
     ]
    },
    {
     "name": "stderr",
     "output_type": "stream",
     "text": [
      "100%|██████████| 15/15 [04:19<00:00, 17.32s/it]\n"
     ]
    },
    {
     "name": "stdout",
     "output_type": "stream",
     "text": [
      "0.01\n",
      "30\n"
     ]
    },
    {
     "name": "stderr",
     "output_type": "stream",
     "text": [
      "100%|██████████| 15/15 [04:19<00:00, 17.31s/it]\n"
     ]
    },
    {
     "name": "stdout",
     "output_type": "stream",
     "text": [
      "2\n",
      "30\n"
     ]
    },
    {
     "name": "stderr",
     "output_type": "stream",
     "text": [
      "100%|██████████| 15/15 [04:18<00:00, 17.25s/it]\n"
     ]
    },
    {
     "name": "stdout",
     "output_type": "stream",
     "text": [
      "5\n",
      "30\n"
     ]
    },
    {
     "name": "stderr",
     "output_type": "stream",
     "text": [
      "100%|██████████| 15/15 [04:18<00:00, 17.26s/it]\n"
     ]
    },
    {
     "name": "stdout",
     "output_type": "stream",
     "text": [
      "10\n",
      "30\n"
     ]
    },
    {
     "name": "stderr",
     "output_type": "stream",
     "text": [
      "100%|██████████| 15/15 [04:19<00:00, 17.30s/it]\n"
     ]
    },
    {
     "name": "stdout",
     "output_type": "stream",
     "text": [
      "0.001\n",
      "40\n"
     ]
    },
    {
     "name": "stderr",
     "output_type": "stream",
     "text": [
      "100%|██████████| 15/15 [04:19<00:00, 17.28s/it]\n"
     ]
    },
    {
     "name": "stdout",
     "output_type": "stream",
     "text": [
      "0.01\n",
      "40\n"
     ]
    },
    {
     "name": "stderr",
     "output_type": "stream",
     "text": [
      "100%|██████████| 15/15 [04:19<00:00, 17.33s/it]\n"
     ]
    },
    {
     "name": "stdout",
     "output_type": "stream",
     "text": [
      "0.01\n",
      "40\n"
     ]
    },
    {
     "name": "stderr",
     "output_type": "stream",
     "text": [
      "100%|██████████| 15/15 [04:19<00:00, 17.30s/it]\n"
     ]
    },
    {
     "name": "stdout",
     "output_type": "stream",
     "text": [
      "2\n",
      "40\n"
     ]
    },
    {
     "name": "stderr",
     "output_type": "stream",
     "text": [
      "100%|██████████| 15/15 [04:19<00:00, 17.30s/it]\n"
     ]
    },
    {
     "name": "stdout",
     "output_type": "stream",
     "text": [
      "5\n",
      "40\n"
     ]
    },
    {
     "name": "stderr",
     "output_type": "stream",
     "text": [
      "100%|██████████| 15/15 [04:19<00:00, 17.30s/it]\n"
     ]
    },
    {
     "name": "stdout",
     "output_type": "stream",
     "text": [
      "10\n",
      "40\n"
     ]
    }
   ],
   "source": [
    "alpha = [0.2, 0.4, 0.8, 5, 10, 20, 30, 40]\n",
    "reg = [0.001, 0.01, 0.01, 2, 5, 10]\n",
    "\n",
    "for a in range(len(alpha)) :\n",
    "    for r in range(len(reg)) :\n",
    "        model = implicit.als.AlternatingLeastSquares(factors=100, regularization=reg[r], random_state=123, num_threads=4)\n",
    "        Cui = X_train * alpha[a]\n",
    "        model.fit(Cui)\n",
    "\n",
    "        metrics_wrmf = recometrics.calc_reco_metrics(\n",
    "            X_train[:X_test.shape[0]], X_test,\n",
    "            model.user_factors[:X_test.shape[0]], model.item_factors,\n",
    "            k=5, all_metrics=True\n",
    "        )\n",
    "        all_metrics = [\n",
    "            metrics_wrmf\n",
    "        ]\n",
    "        all_metrics = pd.concat([m.mean(axis=0).to_frame().T for m in all_metrics], axis=0)\n",
    "        all_metrics.index = [\n",
    "            \"alpha: \" + str(alpha[a]) + \"reg: \" + str(reg[r])    \n",
    "        ]\n",
    "        metrics_100_init = pd.concat([metrics_100_init, all_metrics], axis=0)\n",
    "        print(reg[r])\n",
    "        print(alpha[a])\n"
   ]
  },
  {
   "cell_type": "code",
   "execution_count": 63,
   "metadata": {},
   "outputs": [
    {
     "data": {
      "text/html": [
       "<div>\n",
       "<style scoped>\n",
       "    .dataframe tbody tr th:only-of-type {\n",
       "        vertical-align: middle;\n",
       "    }\n",
       "\n",
       "    .dataframe tbody tr th {\n",
       "        vertical-align: top;\n",
       "    }\n",
       "\n",
       "    .dataframe thead th {\n",
       "        text-align: right;\n",
       "    }\n",
       "</style>\n",
       "<table border=\"1\" class=\"dataframe\">\n",
       "  <thead>\n",
       "    <tr style=\"text-align: right;\">\n",
       "      <th></th>\n",
       "      <th>P@5</th>\n",
       "      <th>TP@5</th>\n",
       "      <th>R@5</th>\n",
       "      <th>AP@5</th>\n",
       "      <th>TAP@5</th>\n",
       "      <th>NDCG@5</th>\n",
       "      <th>Hit@5</th>\n",
       "      <th>RR@5</th>\n",
       "      <th>ROC_AUC</th>\n",
       "      <th>PR_AUC</th>\n",
       "    </tr>\n",
       "  </thead>\n",
       "  <tbody>\n",
       "    <tr>\n",
       "      <th>alpha: 0.2reg: 0.001</th>\n",
       "      <td>0.25528</td>\n",
       "      <td>0.255328</td>\n",
       "      <td>0.08814</td>\n",
       "      <td>0.062186</td>\n",
       "      <td>0.180368</td>\n",
       "      <td>0.213283</td>\n",
       "      <td>0.7177</td>\n",
       "      <td>0.489598</td>\n",
       "      <td>0.964864</td>\n",
       "      <td>0.14585</td>\n",
       "    </tr>\n",
       "    <tr>\n",
       "      <th>alpha: 0.2reg: 0.01</th>\n",
       "      <td>0.25538</td>\n",
       "      <td>0.255428</td>\n",
       "      <td>0.088166</td>\n",
       "      <td>0.06214</td>\n",
       "      <td>0.180315</td>\n",
       "      <td>0.213273</td>\n",
       "      <td>0.719</td>\n",
       "      <td>0.489815</td>\n",
       "      <td>0.964942</td>\n",
       "      <td>0.145887</td>\n",
       "    </tr>\n",
       "    <tr>\n",
       "      <th>alpha: 0.2reg: 0.01</th>\n",
       "      <td>0.25538</td>\n",
       "      <td>0.255428</td>\n",
       "      <td>0.088166</td>\n",
       "      <td>0.06214</td>\n",
       "      <td>0.180315</td>\n",
       "      <td>0.213273</td>\n",
       "      <td>0.719</td>\n",
       "      <td>0.489815</td>\n",
       "      <td>0.964942</td>\n",
       "      <td>0.145887</td>\n",
       "    </tr>\n",
       "    <tr>\n",
       "      <th>alpha: 0.2reg: 2</th>\n",
       "      <td>0.25696</td>\n",
       "      <td>0.257008</td>\n",
       "      <td>0.088715</td>\n",
       "      <td>0.062639</td>\n",
       "      <td>0.181736</td>\n",
       "      <td>0.214794</td>\n",
       "      <td>0.7193</td>\n",
       "      <td>0.49164</td>\n",
       "      <td>0.965583</td>\n",
       "      <td>0.147057</td>\n",
       "    </tr>\n",
       "    <tr>\n",
       "      <th>alpha: 0.2reg: 5</th>\n",
       "      <td>0.25804</td>\n",
       "      <td>0.258088</td>\n",
       "      <td>0.0891</td>\n",
       "      <td>0.062942</td>\n",
       "      <td>0.18267</td>\n",
       "      <td>0.215666</td>\n",
       "      <td>0.7219</td>\n",
       "      <td>0.494468</td>\n",
       "      <td>0.965489</td>\n",
       "      <td>0.147316</td>\n",
       "    </tr>\n",
       "    <tr>\n",
       "      <th>alpha: 0.2reg: 10</th>\n",
       "      <td>0.25754</td>\n",
       "      <td>0.257588</td>\n",
       "      <td>0.088945</td>\n",
       "      <td>0.062797</td>\n",
       "      <td>0.182207</td>\n",
       "      <td>0.215202</td>\n",
       "      <td>0.7212</td>\n",
       "      <td>0.4939</td>\n",
       "      <td>0.965341</td>\n",
       "      <td>0.147213</td>\n",
       "    </tr>\n",
       "    <tr>\n",
       "      <th>alpha: 0.4reg: 0.001</th>\n",
       "      <td>0.2449</td>\n",
       "      <td>0.244983</td>\n",
       "      <td>0.084862</td>\n",
       "      <td>0.058616</td>\n",
       "      <td>0.169458</td>\n",
       "      <td>0.199803</td>\n",
       "      <td>0.7013</td>\n",
       "      <td>0.465807</td>\n",
       "      <td>0.969746</td>\n",
       "      <td>0.142101</td>\n",
       "    </tr>\n",
       "    <tr>\n",
       "      <th>alpha: 0.4reg: 0.01</th>\n",
       "      <td>0.2448</td>\n",
       "      <td>0.244897</td>\n",
       "      <td>0.084851</td>\n",
       "      <td>0.058615</td>\n",
       "      <td>0.169447</td>\n",
       "      <td>0.199663</td>\n",
       "      <td>0.7008</td>\n",
       "      <td>0.465307</td>\n",
       "      <td>0.969861</td>\n",
       "      <td>0.142181</td>\n",
       "    </tr>\n",
       "    <tr>\n",
       "      <th>alpha: 0.4reg: 0.01</th>\n",
       "      <td>0.2448</td>\n",
       "      <td>0.244897</td>\n",
       "      <td>0.084851</td>\n",
       "      <td>0.058615</td>\n",
       "      <td>0.169447</td>\n",
       "      <td>0.199663</td>\n",
       "      <td>0.7008</td>\n",
       "      <td>0.465307</td>\n",
       "      <td>0.969861</td>\n",
       "      <td>0.142181</td>\n",
       "    </tr>\n",
       "    <tr>\n",
       "      <th>alpha: 0.4reg: 2</th>\n",
       "      <td>0.248</td>\n",
       "      <td>0.248102</td>\n",
       "      <td>0.086068</td>\n",
       "      <td>0.05952</td>\n",
       "      <td>0.172069</td>\n",
       "      <td>0.203213</td>\n",
       "      <td>0.708</td>\n",
       "      <td>0.470343</td>\n",
       "      <td>0.97064</td>\n",
       "      <td>0.144058</td>\n",
       "    </tr>\n",
       "    <tr>\n",
       "      <th>alpha: 0.4reg: 5</th>\n",
       "      <td>0.24844</td>\n",
       "      <td>0.248542</td>\n",
       "      <td>0.08615</td>\n",
       "      <td>0.059708</td>\n",
       "      <td>0.172699</td>\n",
       "      <td>0.203748</td>\n",
       "      <td>0.7079</td>\n",
       "      <td>0.471317</td>\n",
       "      <td>0.970898</td>\n",
       "      <td>0.144483</td>\n",
       "    </tr>\n",
       "    <tr>\n",
       "      <th>alpha: 0.4reg: 10</th>\n",
       "      <td>0.24862</td>\n",
       "      <td>0.248722</td>\n",
       "      <td>0.086195</td>\n",
       "      <td>0.05965</td>\n",
       "      <td>0.172519</td>\n",
       "      <td>0.203464</td>\n",
       "      <td>0.7086</td>\n",
       "      <td>0.471408</td>\n",
       "      <td>0.970801</td>\n",
       "      <td>0.144512</td>\n",
       "    </tr>\n",
       "    <tr>\n",
       "      <th>alpha: 0.8reg: 0.001</th>\n",
       "      <td>0.22608</td>\n",
       "      <td>0.226187</td>\n",
       "      <td>0.078621</td>\n",
       "      <td>0.052809</td>\n",
       "      <td>0.152053</td>\n",
       "      <td>0.18005</td>\n",
       "      <td>0.6683</td>\n",
       "      <td>0.427915</td>\n",
       "      <td>0.97374</td>\n",
       "      <td>0.134398</td>\n",
       "    </tr>\n",
       "    <tr>\n",
       "      <th>alpha: 0.8reg: 0.01</th>\n",
       "      <td>0.2259</td>\n",
       "      <td>0.225993</td>\n",
       "      <td>0.078527</td>\n",
       "      <td>0.052749</td>\n",
       "      <td>0.151952</td>\n",
       "      <td>0.180033</td>\n",
       "      <td>0.6688</td>\n",
       "      <td>0.428503</td>\n",
       "      <td>0.973934</td>\n",
       "      <td>0.134548</td>\n",
       "    </tr>\n",
       "    <tr>\n",
       "      <th>alpha: 0.8reg: 0.01</th>\n",
       "      <td>0.2259</td>\n",
       "      <td>0.225993</td>\n",
       "      <td>0.078527</td>\n",
       "      <td>0.052749</td>\n",
       "      <td>0.151952</td>\n",
       "      <td>0.180033</td>\n",
       "      <td>0.6688</td>\n",
       "      <td>0.428503</td>\n",
       "      <td>0.973934</td>\n",
       "      <td>0.134548</td>\n",
       "    </tr>\n",
       "    <tr>\n",
       "      <th>alpha: 0.8reg: 2</th>\n",
       "      <td>0.2311</td>\n",
       "      <td>0.231177</td>\n",
       "      <td>0.080386</td>\n",
       "      <td>0.053885</td>\n",
       "      <td>0.15521</td>\n",
       "      <td>0.183425</td>\n",
       "      <td>0.6792</td>\n",
       "      <td>0.436415</td>\n",
       "      <td>0.974092</td>\n",
       "      <td>0.136859</td>\n",
       "    </tr>\n",
       "    <tr>\n",
       "      <th>alpha: 0.8reg: 5</th>\n",
       "      <td>0.2312</td>\n",
       "      <td>0.231282</td>\n",
       "      <td>0.08042</td>\n",
       "      <td>0.054009</td>\n",
       "      <td>0.155677</td>\n",
       "      <td>0.183823</td>\n",
       "      <td>0.6806</td>\n",
       "      <td>0.4368</td>\n",
       "      <td>0.974345</td>\n",
       "      <td>0.137383</td>\n",
       "    </tr>\n",
       "    <tr>\n",
       "      <th>alpha: 0.8reg: 10</th>\n",
       "      <td>0.23136</td>\n",
       "      <td>0.231442</td>\n",
       "      <td>0.080479</td>\n",
       "      <td>0.054052</td>\n",
       "      <td>0.155848</td>\n",
       "      <td>0.183532</td>\n",
       "      <td>0.6795</td>\n",
       "      <td>0.436528</td>\n",
       "      <td>0.974443</td>\n",
       "      <td>0.137646</td>\n",
       "    </tr>\n",
       "    <tr>\n",
       "      <th>alpha: 5reg: 0.001</th>\n",
       "      <td>0.14706</td>\n",
       "      <td>0.147162</td>\n",
       "      <td>0.051896</td>\n",
       "      <td>0.031924</td>\n",
       "      <td>0.090419</td>\n",
       "      <td>0.109952</td>\n",
       "      <td>0.4909</td>\n",
       "      <td>0.284292</td>\n",
       "      <td>0.978453</td>\n",
       "      <td>0.097473</td>\n",
       "    </tr>\n",
       "    <tr>\n",
       "      <th>alpha: 5reg: 0.01</th>\n",
       "      <td>0.14774</td>\n",
       "      <td>0.147842</td>\n",
       "      <td>0.052155</td>\n",
       "      <td>0.032238</td>\n",
       "      <td>0.091283</td>\n",
       "      <td>0.110555</td>\n",
       "      <td>0.4915</td>\n",
       "      <td>0.285797</td>\n",
       "      <td>0.978666</td>\n",
       "      <td>0.098099</td>\n",
       "    </tr>\n",
       "    <tr>\n",
       "      <th>alpha: 5reg: 0.01</th>\n",
       "      <td>0.14774</td>\n",
       "      <td>0.147842</td>\n",
       "      <td>0.052155</td>\n",
       "      <td>0.032238</td>\n",
       "      <td>0.091283</td>\n",
       "      <td>0.110555</td>\n",
       "      <td>0.4915</td>\n",
       "      <td>0.285797</td>\n",
       "      <td>0.978666</td>\n",
       "      <td>0.098099</td>\n",
       "    </tr>\n",
       "    <tr>\n",
       "      <th>alpha: 5reg: 2</th>\n",
       "      <td>0.1577</td>\n",
       "      <td>0.157788</td>\n",
       "      <td>0.055629</td>\n",
       "      <td>0.034209</td>\n",
       "      <td>0.097132</td>\n",
       "      <td>0.116503</td>\n",
       "      <td>0.5165</td>\n",
       "      <td>0.296805</td>\n",
       "      <td>0.979504</td>\n",
       "      <td>0.104008</td>\n",
       "    </tr>\n",
       "    <tr>\n",
       "      <th>alpha: 5reg: 5</th>\n",
       "      <td>0.15772</td>\n",
       "      <td>0.157813</td>\n",
       "      <td>0.055542</td>\n",
       "      <td>0.034449</td>\n",
       "      <td>0.09786</td>\n",
       "      <td>0.116557</td>\n",
       "      <td>0.5186</td>\n",
       "      <td>0.299582</td>\n",
       "      <td>0.979715</td>\n",
       "      <td>0.105284</td>\n",
       "    </tr>\n",
       "    <tr>\n",
       "      <th>alpha: 5reg: 10</th>\n",
       "      <td>0.16058</td>\n",
       "      <td>0.160673</td>\n",
       "      <td>0.056486</td>\n",
       "      <td>0.034916</td>\n",
       "      <td>0.09924</td>\n",
       "      <td>0.117905</td>\n",
       "      <td>0.5258</td>\n",
       "      <td>0.302023</td>\n",
       "      <td>0.979812</td>\n",
       "      <td>0.106252</td>\n",
       "    </tr>\n",
       "    <tr>\n",
       "      <th>alpha: 10reg: 0.001</th>\n",
       "      <td>0.11726</td>\n",
       "      <td>0.117422</td>\n",
       "      <td>0.041772</td>\n",
       "      <td>0.025</td>\n",
       "      <td>0.070279</td>\n",
       "      <td>0.08541</td>\n",
       "      <td>0.4084</td>\n",
       "      <td>0.228812</td>\n",
       "      <td>0.978371</td>\n",
       "      <td>0.082381</td>\n",
       "    </tr>\n",
       "    <tr>\n",
       "      <th>alpha: 10reg: 0.01</th>\n",
       "      <td>0.11868</td>\n",
       "      <td>0.118807</td>\n",
       "      <td>0.042231</td>\n",
       "      <td>0.025314</td>\n",
       "      <td>0.071168</td>\n",
       "      <td>0.08653</td>\n",
       "      <td>0.4107</td>\n",
       "      <td>0.230957</td>\n",
       "      <td>0.978601</td>\n",
       "      <td>0.083056</td>\n",
       "    </tr>\n",
       "    <tr>\n",
       "      <th>alpha: 10reg: 0.01</th>\n",
       "      <td>0.11868</td>\n",
       "      <td>0.118807</td>\n",
       "      <td>0.042231</td>\n",
       "      <td>0.025314</td>\n",
       "      <td>0.071168</td>\n",
       "      <td>0.08653</td>\n",
       "      <td>0.4107</td>\n",
       "      <td>0.230957</td>\n",
       "      <td>0.978601</td>\n",
       "      <td>0.083056</td>\n",
       "    </tr>\n",
       "    <tr>\n",
       "      <th>alpha: 10reg: 2</th>\n",
       "      <td>0.129</td>\n",
       "      <td>0.129123</td>\n",
       "      <td>0.045778</td>\n",
       "      <td>0.027449</td>\n",
       "      <td>0.077467</td>\n",
       "      <td>0.093334</td>\n",
       "      <td>0.4431</td>\n",
       "      <td>0.248555</td>\n",
       "      <td>0.980273</td>\n",
       "      <td>0.090434</td>\n",
       "    </tr>\n",
       "    <tr>\n",
       "      <th>alpha: 10reg: 5</th>\n",
       "      <td>0.13014</td>\n",
       "      <td>0.130242</td>\n",
       "      <td>0.046109</td>\n",
       "      <td>0.0277</td>\n",
       "      <td>0.07828</td>\n",
       "      <td>0.094301</td>\n",
       "      <td>0.448</td>\n",
       "      <td>0.25266</td>\n",
       "      <td>0.980527</td>\n",
       "      <td>0.09197</td>\n",
       "    </tr>\n",
       "    <tr>\n",
       "      <th>alpha: 10reg: 10</th>\n",
       "      <td>0.13136</td>\n",
       "      <td>0.131435</td>\n",
       "      <td>0.046447</td>\n",
       "      <td>0.028002</td>\n",
       "      <td>0.079224</td>\n",
       "      <td>0.095381</td>\n",
       "      <td>0.451</td>\n",
       "      <td>0.254663</td>\n",
       "      <td>0.98089</td>\n",
       "      <td>0.093008</td>\n",
       "    </tr>\n",
       "    <tr>\n",
       "      <th>alpha: 20reg: 0.001</th>\n",
       "      <td>0.09246</td>\n",
       "      <td>0.092567</td>\n",
       "      <td>0.03324</td>\n",
       "      <td>0.019108</td>\n",
       "      <td>0.053332</td>\n",
       "      <td>0.065398</td>\n",
       "      <td>0.3351</td>\n",
       "      <td>0.17994</td>\n",
       "      <td>0.977466</td>\n",
       "      <td>0.068446</td>\n",
       "    </tr>\n",
       "    <tr>\n",
       "      <th>alpha: 20reg: 0.01</th>\n",
       "      <td>0.09304</td>\n",
       "      <td>0.093147</td>\n",
       "      <td>0.033431</td>\n",
       "      <td>0.019217</td>\n",
       "      <td>0.053677</td>\n",
       "      <td>0.065987</td>\n",
       "      <td>0.3363</td>\n",
       "      <td>0.180867</td>\n",
       "      <td>0.97771</td>\n",
       "      <td>0.068866</td>\n",
       "    </tr>\n",
       "    <tr>\n",
       "      <th>alpha: 20reg: 0.01</th>\n",
       "      <td>0.09304</td>\n",
       "      <td>0.093147</td>\n",
       "      <td>0.033431</td>\n",
       "      <td>0.019217</td>\n",
       "      <td>0.053677</td>\n",
       "      <td>0.065987</td>\n",
       "      <td>0.3363</td>\n",
       "      <td>0.180867</td>\n",
       "      <td>0.97771</td>\n",
       "      <td>0.068866</td>\n",
       "    </tr>\n",
       "    <tr>\n",
       "      <th>alpha: 20reg: 2</th>\n",
       "      <td>0.10624</td>\n",
       "      <td>0.106385</td>\n",
       "      <td>0.037871</td>\n",
       "      <td>0.022232</td>\n",
       "      <td>0.062394</td>\n",
       "      <td>0.0749</td>\n",
       "      <td>0.3751</td>\n",
       "      <td>0.204792</td>\n",
       "      <td>0.980677</td>\n",
       "      <td>0.077858</td>\n",
       "    </tr>\n",
       "    <tr>\n",
       "      <th>alpha: 20reg: 5</th>\n",
       "      <td>0.10782</td>\n",
       "      <td>0.107943</td>\n",
       "      <td>0.03836</td>\n",
       "      <td>0.022277</td>\n",
       "      <td>0.062791</td>\n",
       "      <td>0.075393</td>\n",
       "      <td>0.3844</td>\n",
       "      <td>0.207558</td>\n",
       "      <td>0.980805</td>\n",
       "      <td>0.079555</td>\n",
       "    </tr>\n",
       "    <tr>\n",
       "      <th>alpha: 20reg: 10</th>\n",
       "      <td>0.10764</td>\n",
       "      <td>0.107758</td>\n",
       "      <td>0.03824</td>\n",
       "      <td>0.022229</td>\n",
       "      <td>0.062726</td>\n",
       "      <td>0.075125</td>\n",
       "      <td>0.3818</td>\n",
       "      <td>0.207248</td>\n",
       "      <td>0.981294</td>\n",
       "      <td>0.080407</td>\n",
       "    </tr>\n",
       "    <tr>\n",
       "      <th>alpha: 30reg: 0.001</th>\n",
       "      <td>0.08034</td>\n",
       "      <td>0.080442</td>\n",
       "      <td>0.028987</td>\n",
       "      <td>0.016475</td>\n",
       "      <td>0.045794</td>\n",
       "      <td>0.05634</td>\n",
       "      <td>0.2953</td>\n",
       "      <td>0.157312</td>\n",
       "      <td>0.976647</td>\n",
       "      <td>0.061366</td>\n",
       "    </tr>\n",
       "    <tr>\n",
       "      <th>alpha: 30reg: 0.01</th>\n",
       "      <td>0.08064</td>\n",
       "      <td>0.080742</td>\n",
       "      <td>0.029099</td>\n",
       "      <td>0.016625</td>\n",
       "      <td>0.046205</td>\n",
       "      <td>0.056695</td>\n",
       "      <td>0.2955</td>\n",
       "      <td>0.157935</td>\n",
       "      <td>0.976895</td>\n",
       "      <td>0.0618</td>\n",
       "    </tr>\n",
       "    <tr>\n",
       "      <th>alpha: 30reg: 0.01</th>\n",
       "      <td>0.08064</td>\n",
       "      <td>0.080742</td>\n",
       "      <td>0.029099</td>\n",
       "      <td>0.016625</td>\n",
       "      <td>0.046205</td>\n",
       "      <td>0.056695</td>\n",
       "      <td>0.2955</td>\n",
       "      <td>0.157935</td>\n",
       "      <td>0.976895</td>\n",
       "      <td>0.0618</td>\n",
       "    </tr>\n",
       "    <tr>\n",
       "      <th>alpha: 30reg: 2</th>\n",
       "      <td>0.09408</td>\n",
       "      <td>0.094225</td>\n",
       "      <td>0.033647</td>\n",
       "      <td>0.019563</td>\n",
       "      <td>0.054692</td>\n",
       "      <td>0.065782</td>\n",
       "      <td>0.339</td>\n",
       "      <td>0.182147</td>\n",
       "      <td>0.9808</td>\n",
       "      <td>0.071163</td>\n",
       "    </tr>\n",
       "    <tr>\n",
       "      <th>alpha: 30reg: 5</th>\n",
       "      <td>0.0963</td>\n",
       "      <td>0.096475</td>\n",
       "      <td>0.034433</td>\n",
       "      <td>0.019853</td>\n",
       "      <td>0.055589</td>\n",
       "      <td>0.067273</td>\n",
       "      <td>0.3477</td>\n",
       "      <td>0.186288</td>\n",
       "      <td>0.980937</td>\n",
       "      <td>0.073186</td>\n",
       "    </tr>\n",
       "    <tr>\n",
       "      <th>alpha: 30reg: 10</th>\n",
       "      <td>0.0967</td>\n",
       "      <td>0.096883</td>\n",
       "      <td>0.034551</td>\n",
       "      <td>0.019839</td>\n",
       "      <td>0.055611</td>\n",
       "      <td>0.067082</td>\n",
       "      <td>0.35</td>\n",
       "      <td>0.186715</td>\n",
       "      <td>0.981536</td>\n",
       "      <td>0.073911</td>\n",
       "    </tr>\n",
       "    <tr>\n",
       "      <th>alpha: 40reg: 0.001</th>\n",
       "      <td>0.07194</td>\n",
       "      <td>0.072028</td>\n",
       "      <td>0.02604</td>\n",
       "      <td>0.014699</td>\n",
       "      <td>0.040737</td>\n",
       "      <td>0.050164</td>\n",
       "      <td>0.2702</td>\n",
       "      <td>0.142318</td>\n",
       "      <td>0.976037</td>\n",
       "      <td>0.056696</td>\n",
       "    </tr>\n",
       "    <tr>\n",
       "      <th>alpha: 40reg: 0.01</th>\n",
       "      <td>0.07322</td>\n",
       "      <td>0.073308</td>\n",
       "      <td>0.026459</td>\n",
       "      <td>0.014881</td>\n",
       "      <td>0.041282</td>\n",
       "      <td>0.050801</td>\n",
       "      <td>0.2751</td>\n",
       "      <td>0.143762</td>\n",
       "      <td>0.976253</td>\n",
       "      <td>0.057083</td>\n",
       "    </tr>\n",
       "    <tr>\n",
       "      <th>alpha: 40reg: 0.01</th>\n",
       "      <td>0.07322</td>\n",
       "      <td>0.073308</td>\n",
       "      <td>0.026459</td>\n",
       "      <td>0.014881</td>\n",
       "      <td>0.041282</td>\n",
       "      <td>0.050801</td>\n",
       "      <td>0.2751</td>\n",
       "      <td>0.143762</td>\n",
       "      <td>0.976253</td>\n",
       "      <td>0.057083</td>\n",
       "    </tr>\n",
       "    <tr>\n",
       "      <th>alpha: 40reg: 2</th>\n",
       "      <td>0.08616</td>\n",
       "      <td>0.086275</td>\n",
       "      <td>0.030862</td>\n",
       "      <td>0.017793</td>\n",
       "      <td>0.049622</td>\n",
       "      <td>0.059685</td>\n",
       "      <td>0.3129</td>\n",
       "      <td>0.167283</td>\n",
       "      <td>0.980809</td>\n",
       "      <td>0.066792</td>\n",
       "    </tr>\n",
       "    <tr>\n",
       "      <th>alpha: 40reg: 5</th>\n",
       "      <td>0.08884</td>\n",
       "      <td>0.089015</td>\n",
       "      <td>0.031837</td>\n",
       "      <td>0.018311</td>\n",
       "      <td>0.051271</td>\n",
       "      <td>0.062043</td>\n",
       "      <td>0.3248</td>\n",
       "      <td>0.174282</td>\n",
       "      <td>0.981085</td>\n",
       "      <td>0.069044</td>\n",
       "    </tr>\n",
       "    <tr>\n",
       "      <th>alpha: 40reg: 10</th>\n",
       "      <td>0.089</td>\n",
       "      <td>0.08914</td>\n",
       "      <td>0.031754</td>\n",
       "      <td>0.018347</td>\n",
       "      <td>0.051407</td>\n",
       "      <td>0.061689</td>\n",
       "      <td>0.3258</td>\n",
       "      <td>0.175335</td>\n",
       "      <td>0.981596</td>\n",
       "      <td>0.069748</td>\n",
       "    </tr>\n",
       "  </tbody>\n",
       "</table>\n",
       "</div>"
      ],
      "text/plain": [
       "                          P@5      TP@5       R@5      AP@5     TAP@5  \\\n",
       "alpha: 0.2reg: 0.001  0.25528  0.255328   0.08814  0.062186  0.180368   \n",
       "alpha: 0.2reg: 0.01   0.25538  0.255428  0.088166   0.06214  0.180315   \n",
       "alpha: 0.2reg: 0.01   0.25538  0.255428  0.088166   0.06214  0.180315   \n",
       "alpha: 0.2reg: 2      0.25696  0.257008  0.088715  0.062639  0.181736   \n",
       "alpha: 0.2reg: 5      0.25804  0.258088    0.0891  0.062942   0.18267   \n",
       "alpha: 0.2reg: 10     0.25754  0.257588  0.088945  0.062797  0.182207   \n",
       "alpha: 0.4reg: 0.001   0.2449  0.244983  0.084862  0.058616  0.169458   \n",
       "alpha: 0.4reg: 0.01    0.2448  0.244897  0.084851  0.058615  0.169447   \n",
       "alpha: 0.4reg: 0.01    0.2448  0.244897  0.084851  0.058615  0.169447   \n",
       "alpha: 0.4reg: 2        0.248  0.248102  0.086068   0.05952  0.172069   \n",
       "alpha: 0.4reg: 5      0.24844  0.248542   0.08615  0.059708  0.172699   \n",
       "alpha: 0.4reg: 10     0.24862  0.248722  0.086195   0.05965  0.172519   \n",
       "alpha: 0.8reg: 0.001  0.22608  0.226187  0.078621  0.052809  0.152053   \n",
       "alpha: 0.8reg: 0.01    0.2259  0.225993  0.078527  0.052749  0.151952   \n",
       "alpha: 0.8reg: 0.01    0.2259  0.225993  0.078527  0.052749  0.151952   \n",
       "alpha: 0.8reg: 2       0.2311  0.231177  0.080386  0.053885   0.15521   \n",
       "alpha: 0.8reg: 5       0.2312  0.231282   0.08042  0.054009  0.155677   \n",
       "alpha: 0.8reg: 10     0.23136  0.231442  0.080479  0.054052  0.155848   \n",
       "alpha: 5reg: 0.001    0.14706  0.147162  0.051896  0.031924  0.090419   \n",
       "alpha: 5reg: 0.01     0.14774  0.147842  0.052155  0.032238  0.091283   \n",
       "alpha: 5reg: 0.01     0.14774  0.147842  0.052155  0.032238  0.091283   \n",
       "alpha: 5reg: 2         0.1577  0.157788  0.055629  0.034209  0.097132   \n",
       "alpha: 5reg: 5        0.15772  0.157813  0.055542  0.034449   0.09786   \n",
       "alpha: 5reg: 10       0.16058  0.160673  0.056486  0.034916   0.09924   \n",
       "alpha: 10reg: 0.001   0.11726  0.117422  0.041772     0.025  0.070279   \n",
       "alpha: 10reg: 0.01    0.11868  0.118807  0.042231  0.025314  0.071168   \n",
       "alpha: 10reg: 0.01    0.11868  0.118807  0.042231  0.025314  0.071168   \n",
       "alpha: 10reg: 2         0.129  0.129123  0.045778  0.027449  0.077467   \n",
       "alpha: 10reg: 5       0.13014  0.130242  0.046109    0.0277   0.07828   \n",
       "alpha: 10reg: 10      0.13136  0.131435  0.046447  0.028002  0.079224   \n",
       "alpha: 20reg: 0.001   0.09246  0.092567   0.03324  0.019108  0.053332   \n",
       "alpha: 20reg: 0.01    0.09304  0.093147  0.033431  0.019217  0.053677   \n",
       "alpha: 20reg: 0.01    0.09304  0.093147  0.033431  0.019217  0.053677   \n",
       "alpha: 20reg: 2       0.10624  0.106385  0.037871  0.022232  0.062394   \n",
       "alpha: 20reg: 5       0.10782  0.107943   0.03836  0.022277  0.062791   \n",
       "alpha: 20reg: 10      0.10764  0.107758   0.03824  0.022229  0.062726   \n",
       "alpha: 30reg: 0.001   0.08034  0.080442  0.028987  0.016475  0.045794   \n",
       "alpha: 30reg: 0.01    0.08064  0.080742  0.029099  0.016625  0.046205   \n",
       "alpha: 30reg: 0.01    0.08064  0.080742  0.029099  0.016625  0.046205   \n",
       "alpha: 30reg: 2       0.09408  0.094225  0.033647  0.019563  0.054692   \n",
       "alpha: 30reg: 5        0.0963  0.096475  0.034433  0.019853  0.055589   \n",
       "alpha: 30reg: 10       0.0967  0.096883  0.034551  0.019839  0.055611   \n",
       "alpha: 40reg: 0.001   0.07194  0.072028   0.02604  0.014699  0.040737   \n",
       "alpha: 40reg: 0.01    0.07322  0.073308  0.026459  0.014881  0.041282   \n",
       "alpha: 40reg: 0.01    0.07322  0.073308  0.026459  0.014881  0.041282   \n",
       "alpha: 40reg: 2       0.08616  0.086275  0.030862  0.017793  0.049622   \n",
       "alpha: 40reg: 5       0.08884  0.089015  0.031837  0.018311  0.051271   \n",
       "alpha: 40reg: 10        0.089   0.08914  0.031754  0.018347  0.051407   \n",
       "\n",
       "                        NDCG@5   Hit@5      RR@5   ROC_AUC    PR_AUC  \n",
       "alpha: 0.2reg: 0.001  0.213283  0.7177  0.489598  0.964864   0.14585  \n",
       "alpha: 0.2reg: 0.01   0.213273   0.719  0.489815  0.964942  0.145887  \n",
       "alpha: 0.2reg: 0.01   0.213273   0.719  0.489815  0.964942  0.145887  \n",
       "alpha: 0.2reg: 2      0.214794  0.7193   0.49164  0.965583  0.147057  \n",
       "alpha: 0.2reg: 5      0.215666  0.7219  0.494468  0.965489  0.147316  \n",
       "alpha: 0.2reg: 10     0.215202  0.7212    0.4939  0.965341  0.147213  \n",
       "alpha: 0.4reg: 0.001  0.199803  0.7013  0.465807  0.969746  0.142101  \n",
       "alpha: 0.4reg: 0.01   0.199663  0.7008  0.465307  0.969861  0.142181  \n",
       "alpha: 0.4reg: 0.01   0.199663  0.7008  0.465307  0.969861  0.142181  \n",
       "alpha: 0.4reg: 2      0.203213   0.708  0.470343   0.97064  0.144058  \n",
       "alpha: 0.4reg: 5      0.203748  0.7079  0.471317  0.970898  0.144483  \n",
       "alpha: 0.4reg: 10     0.203464  0.7086  0.471408  0.970801  0.144512  \n",
       "alpha: 0.8reg: 0.001   0.18005  0.6683  0.427915   0.97374  0.134398  \n",
       "alpha: 0.8reg: 0.01   0.180033  0.6688  0.428503  0.973934  0.134548  \n",
       "alpha: 0.8reg: 0.01   0.180033  0.6688  0.428503  0.973934  0.134548  \n",
       "alpha: 0.8reg: 2      0.183425  0.6792  0.436415  0.974092  0.136859  \n",
       "alpha: 0.8reg: 5      0.183823  0.6806    0.4368  0.974345  0.137383  \n",
       "alpha: 0.8reg: 10     0.183532  0.6795  0.436528  0.974443  0.137646  \n",
       "alpha: 5reg: 0.001    0.109952  0.4909  0.284292  0.978453  0.097473  \n",
       "alpha: 5reg: 0.01     0.110555  0.4915  0.285797  0.978666  0.098099  \n",
       "alpha: 5reg: 0.01     0.110555  0.4915  0.285797  0.978666  0.098099  \n",
       "alpha: 5reg: 2        0.116503  0.5165  0.296805  0.979504  0.104008  \n",
       "alpha: 5reg: 5        0.116557  0.5186  0.299582  0.979715  0.105284  \n",
       "alpha: 5reg: 10       0.117905  0.5258  0.302023  0.979812  0.106252  \n",
       "alpha: 10reg: 0.001    0.08541  0.4084  0.228812  0.978371  0.082381  \n",
       "alpha: 10reg: 0.01     0.08653  0.4107  0.230957  0.978601  0.083056  \n",
       "alpha: 10reg: 0.01     0.08653  0.4107  0.230957  0.978601  0.083056  \n",
       "alpha: 10reg: 2       0.093334  0.4431  0.248555  0.980273  0.090434  \n",
       "alpha: 10reg: 5       0.094301   0.448   0.25266  0.980527   0.09197  \n",
       "alpha: 10reg: 10      0.095381   0.451  0.254663   0.98089  0.093008  \n",
       "alpha: 20reg: 0.001   0.065398  0.3351   0.17994  0.977466  0.068446  \n",
       "alpha: 20reg: 0.01    0.065987  0.3363  0.180867   0.97771  0.068866  \n",
       "alpha: 20reg: 0.01    0.065987  0.3363  0.180867   0.97771  0.068866  \n",
       "alpha: 20reg: 2         0.0749  0.3751  0.204792  0.980677  0.077858  \n",
       "alpha: 20reg: 5       0.075393  0.3844  0.207558  0.980805  0.079555  \n",
       "alpha: 20reg: 10      0.075125  0.3818  0.207248  0.981294  0.080407  \n",
       "alpha: 30reg: 0.001    0.05634  0.2953  0.157312  0.976647  0.061366  \n",
       "alpha: 30reg: 0.01    0.056695  0.2955  0.157935  0.976895    0.0618  \n",
       "alpha: 30reg: 0.01    0.056695  0.2955  0.157935  0.976895    0.0618  \n",
       "alpha: 30reg: 2       0.065782   0.339  0.182147    0.9808  0.071163  \n",
       "alpha: 30reg: 5       0.067273  0.3477  0.186288  0.980937  0.073186  \n",
       "alpha: 30reg: 10      0.067082    0.35  0.186715  0.981536  0.073911  \n",
       "alpha: 40reg: 0.001   0.050164  0.2702  0.142318  0.976037  0.056696  \n",
       "alpha: 40reg: 0.01    0.050801  0.2751  0.143762  0.976253  0.057083  \n",
       "alpha: 40reg: 0.01    0.050801  0.2751  0.143762  0.976253  0.057083  \n",
       "alpha: 40reg: 2       0.059685  0.3129  0.167283  0.980809  0.066792  \n",
       "alpha: 40reg: 5       0.062043  0.3248  0.174282  0.981085  0.069044  \n",
       "alpha: 40reg: 10      0.061689  0.3258  0.175335  0.981596  0.069748  "
      ]
     },
     "execution_count": 63,
     "metadata": {},
     "output_type": "execute_result"
    }
   ],
   "source": [
    "metrics_100_init"
   ]
  },
  {
   "cell_type": "code",
   "execution_count": 59,
   "metadata": {},
   "outputs": [
    {
     "data": {
      "text/html": [
       "<div>\n",
       "<style scoped>\n",
       "    .dataframe tbody tr th:only-of-type {\n",
       "        vertical-align: middle;\n",
       "    }\n",
       "\n",
       "    .dataframe tbody tr th {\n",
       "        vertical-align: top;\n",
       "    }\n",
       "\n",
       "    .dataframe thead th {\n",
       "        text-align: right;\n",
       "    }\n",
       "</style>\n",
       "<table border=\"1\" class=\"dataframe\">\n",
       "  <thead>\n",
       "    <tr style=\"text-align: right;\">\n",
       "      <th></th>\n",
       "      <th>P@5</th>\n",
       "      <th>TP@5</th>\n",
       "      <th>R@5</th>\n",
       "      <th>AP@5</th>\n",
       "      <th>TAP@5</th>\n",
       "      <th>NDCG@5</th>\n",
       "      <th>Hit@5</th>\n",
       "      <th>RR@5</th>\n",
       "      <th>ROC_AUC</th>\n",
       "      <th>PR_AUC</th>\n",
       "    </tr>\n",
       "  </thead>\n",
       "  <tbody>\n",
       "    <tr>\n",
       "      <th>alpha: 0.4reg: 0.001</th>\n",
       "      <td>0.23288</td>\n",
       "      <td>0.232968</td>\n",
       "      <td>0.08058</td>\n",
       "      <td>0.05532</td>\n",
       "      <td>0.160309</td>\n",
       "      <td>0.191023</td>\n",
       "      <td>0.6844</td>\n",
       "      <td>0.453045</td>\n",
       "      <td>0.975846</td>\n",
       "      <td>0.134152</td>\n",
       "    </tr>\n",
       "    <tr>\n",
       "      <th>alpha: 0.4reg: 0.01</th>\n",
       "      <td>0.2331</td>\n",
       "      <td>0.233188</td>\n",
       "      <td>0.080659</td>\n",
       "      <td>0.055398</td>\n",
       "      <td>0.160546</td>\n",
       "      <td>0.191176</td>\n",
       "      <td>0.6838</td>\n",
       "      <td>0.453073</td>\n",
       "      <td>0.975887</td>\n",
       "      <td>0.1342</td>\n",
       "    </tr>\n",
       "    <tr>\n",
       "      <th>alpha: 0.4reg: 0.1</th>\n",
       "      <td>0.23334</td>\n",
       "      <td>0.233428</td>\n",
       "      <td>0.080721</td>\n",
       "      <td>0.055569</td>\n",
       "      <td>0.161093</td>\n",
       "      <td>0.191781</td>\n",
       "      <td>0.684</td>\n",
       "      <td>0.455382</td>\n",
       "      <td>0.975866</td>\n",
       "      <td>0.134437</td>\n",
       "    </tr>\n",
       "    <tr>\n",
       "      <th>alpha: 0.4reg: 2</th>\n",
       "      <td>0.23434</td>\n",
       "      <td>0.234407</td>\n",
       "      <td>0.080947</td>\n",
       "      <td>0.055776</td>\n",
       "      <td>0.161763</td>\n",
       "      <td>0.192233</td>\n",
       "      <td>0.6832</td>\n",
       "      <td>0.453102</td>\n",
       "      <td>0.976321</td>\n",
       "      <td>0.134839</td>\n",
       "    </tr>\n",
       "    <tr>\n",
       "      <th>alpha: 0.4reg: 5</th>\n",
       "      <td>0.2349</td>\n",
       "      <td>0.234953</td>\n",
       "      <td>0.081224</td>\n",
       "      <td>0.055914</td>\n",
       "      <td>0.162109</td>\n",
       "      <td>0.192471</td>\n",
       "      <td>0.6839</td>\n",
       "      <td>0.454728</td>\n",
       "      <td>0.976285</td>\n",
       "      <td>0.135129</td>\n",
       "    </tr>\n",
       "    <tr>\n",
       "      <th>alpha: 0.8reg: 0.001</th>\n",
       "      <td>0.21636</td>\n",
       "      <td>0.216378</td>\n",
       "      <td>0.074985</td>\n",
       "      <td>0.049981</td>\n",
       "      <td>0.14432</td>\n",
       "      <td>0.172386</td>\n",
       "      <td>0.6548</td>\n",
       "      <td>0.417315</td>\n",
       "      <td>0.979155</td>\n",
       "      <td>0.127014</td>\n",
       "    </tr>\n",
       "    <tr>\n",
       "      <th>alpha: 0.8reg: 0.01</th>\n",
       "      <td>0.21638</td>\n",
       "      <td>0.216398</td>\n",
       "      <td>0.074991</td>\n",
       "      <td>0.050003</td>\n",
       "      <td>0.144352</td>\n",
       "      <td>0.172504</td>\n",
       "      <td>0.6543</td>\n",
       "      <td>0.417703</td>\n",
       "      <td>0.979157</td>\n",
       "      <td>0.127047</td>\n",
       "    </tr>\n",
       "    <tr>\n",
       "      <th>alpha: 0.8reg: 0.1</th>\n",
       "      <td>0.21724</td>\n",
       "      <td>0.217288</td>\n",
       "      <td>0.075288</td>\n",
       "      <td>0.050051</td>\n",
       "      <td>0.144611</td>\n",
       "      <td>0.173097</td>\n",
       "      <td>0.6569</td>\n",
       "      <td>0.418417</td>\n",
       "      <td>0.979247</td>\n",
       "      <td>0.127176</td>\n",
       "    </tr>\n",
       "    <tr>\n",
       "      <th>alpha: 0.8reg: 2</th>\n",
       "      <td>0.21918</td>\n",
       "      <td>0.219203</td>\n",
       "      <td>0.075898</td>\n",
       "      <td>0.050642</td>\n",
       "      <td>0.14642</td>\n",
       "      <td>0.174686</td>\n",
       "      <td>0.6567</td>\n",
       "      <td>0.41983</td>\n",
       "      <td>0.979453</td>\n",
       "      <td>0.127997</td>\n",
       "    </tr>\n",
       "    <tr>\n",
       "      <th>alpha: 0.8reg: 5</th>\n",
       "      <td>0.21848</td>\n",
       "      <td>0.218503</td>\n",
       "      <td>0.075656</td>\n",
       "      <td>0.050401</td>\n",
       "      <td>0.145664</td>\n",
       "      <td>0.174104</td>\n",
       "      <td>0.6579</td>\n",
       "      <td>0.419673</td>\n",
       "      <td>0.979433</td>\n",
       "      <td>0.128114</td>\n",
       "    </tr>\n",
       "    <tr>\n",
       "      <th>alpha: 5reg: 0.001</th>\n",
       "      <td>0.13604</td>\n",
       "      <td>0.136153</td>\n",
       "      <td>0.047833</td>\n",
       "      <td>0.029447</td>\n",
       "      <td>0.084013</td>\n",
       "      <td>0.101064</td>\n",
       "      <td>0.4604</td>\n",
       "      <td>0.267962</td>\n",
       "      <td>0.982908</td>\n",
       "      <td>0.093425</td>\n",
       "    </tr>\n",
       "    <tr>\n",
       "      <th>alpha: 5reg: 0.01</th>\n",
       "      <td>0.13722</td>\n",
       "      <td>0.137333</td>\n",
       "      <td>0.04823</td>\n",
       "      <td>0.029735</td>\n",
       "      <td>0.084875</td>\n",
       "      <td>0.102063</td>\n",
       "      <td>0.4625</td>\n",
       "      <td>0.27035</td>\n",
       "      <td>0.982998</td>\n",
       "      <td>0.093718</td>\n",
       "    </tr>\n",
       "    <tr>\n",
       "      <th>alpha: 5reg: 0.1</th>\n",
       "      <td>0.14004</td>\n",
       "      <td>0.140153</td>\n",
       "      <td>0.049228</td>\n",
       "      <td>0.030223</td>\n",
       "      <td>0.08621</td>\n",
       "      <td>0.104045</td>\n",
       "      <td>0.4719</td>\n",
       "      <td>0.273937</td>\n",
       "      <td>0.983208</td>\n",
       "      <td>0.094426</td>\n",
       "    </tr>\n",
       "    <tr>\n",
       "      <th>alpha: 5reg: 2</th>\n",
       "      <td>0.14358</td>\n",
       "      <td>0.143673</td>\n",
       "      <td>0.050332</td>\n",
       "      <td>0.030425</td>\n",
       "      <td>0.087061</td>\n",
       "      <td>0.105167</td>\n",
       "      <td>0.4805</td>\n",
       "      <td>0.273782</td>\n",
       "      <td>0.983406</td>\n",
       "      <td>0.09561</td>\n",
       "    </tr>\n",
       "    <tr>\n",
       "      <th>alpha: 5reg: 5</th>\n",
       "      <td>0.14502</td>\n",
       "      <td>0.145127</td>\n",
       "      <td>0.050901</td>\n",
       "      <td>0.030773</td>\n",
       "      <td>0.087974</td>\n",
       "      <td>0.105909</td>\n",
       "      <td>0.4842</td>\n",
       "      <td>0.2756</td>\n",
       "      <td>0.983429</td>\n",
       "      <td>0.096384</td>\n",
       "    </tr>\n",
       "    <tr>\n",
       "      <th>alpha: 10reg: 0.001</th>\n",
       "      <td>0.10876</td>\n",
       "      <td>0.10886</td>\n",
       "      <td>0.038434</td>\n",
       "      <td>0.022803</td>\n",
       "      <td>0.064538</td>\n",
       "      <td>0.077729</td>\n",
       "      <td>0.383</td>\n",
       "      <td>0.213822</td>\n",
       "      <td>0.983422</td>\n",
       "      <td>0.079827</td>\n",
       "    </tr>\n",
       "    <tr>\n",
       "      <th>alpha: 10reg: 0.01</th>\n",
       "      <td>0.10902</td>\n",
       "      <td>0.10912</td>\n",
       "      <td>0.038503</td>\n",
       "      <td>0.022856</td>\n",
       "      <td>0.06468</td>\n",
       "      <td>0.078047</td>\n",
       "      <td>0.3834</td>\n",
       "      <td>0.21406</td>\n",
       "      <td>0.983493</td>\n",
       "      <td>0.079982</td>\n",
       "    </tr>\n",
       "    <tr>\n",
       "      <th>alpha: 10reg: 0.1</th>\n",
       "      <td>0.10902</td>\n",
       "      <td>0.10912</td>\n",
       "      <td>0.038434</td>\n",
       "      <td>0.023132</td>\n",
       "      <td>0.065501</td>\n",
       "      <td>0.07863</td>\n",
       "      <td>0.3847</td>\n",
       "      <td>0.218033</td>\n",
       "      <td>0.983723</td>\n",
       "      <td>0.080837</td>\n",
       "    </tr>\n",
       "    <tr>\n",
       "      <th>alpha: 10reg: 2</th>\n",
       "      <td>0.11404</td>\n",
       "      <td>0.114115</td>\n",
       "      <td>0.040168</td>\n",
       "      <td>0.023528</td>\n",
       "      <td>0.066828</td>\n",
       "      <td>0.080772</td>\n",
       "      <td>0.4003</td>\n",
       "      <td>0.220173</td>\n",
       "      <td>0.983975</td>\n",
       "      <td>0.082084</td>\n",
       "    </tr>\n",
       "    <tr>\n",
       "      <th>alpha: 10reg: 5</th>\n",
       "      <td>0.11454</td>\n",
       "      <td>0.114623</td>\n",
       "      <td>0.04029</td>\n",
       "      <td>0.023442</td>\n",
       "      <td>0.066777</td>\n",
       "      <td>0.08092</td>\n",
       "      <td>0.4044</td>\n",
       "      <td>0.220347</td>\n",
       "      <td>0.983896</td>\n",
       "      <td>0.082789</td>\n",
       "    </tr>\n",
       "    <tr>\n",
       "      <th>alpha: 20reg: 0.001</th>\n",
       "      <td>0.08208</td>\n",
       "      <td>0.08219</td>\n",
       "      <td>0.029314</td>\n",
       "      <td>0.016822</td>\n",
       "      <td>0.047204</td>\n",
       "      <td>0.057178</td>\n",
       "      <td>0.2967</td>\n",
       "      <td>0.158925</td>\n",
       "      <td>0.983087</td>\n",
       "      <td>0.066622</td>\n",
       "    </tr>\n",
       "    <tr>\n",
       "      <th>alpha: 20reg: 0.01</th>\n",
       "      <td>0.08318</td>\n",
       "      <td>0.083285</td>\n",
       "      <td>0.029689</td>\n",
       "      <td>0.016976</td>\n",
       "      <td>0.047654</td>\n",
       "      <td>0.057824</td>\n",
       "      <td>0.3008</td>\n",
       "      <td>0.160688</td>\n",
       "      <td>0.983172</td>\n",
       "      <td>0.066848</td>\n",
       "    </tr>\n",
       "    <tr>\n",
       "      <th>alpha: 20reg: 0.1</th>\n",
       "      <td>0.08476</td>\n",
       "      <td>0.084865</td>\n",
       "      <td>0.030245</td>\n",
       "      <td>0.017326</td>\n",
       "      <td>0.04871</td>\n",
       "      <td>0.059092</td>\n",
       "      <td>0.305</td>\n",
       "      <td>0.164027</td>\n",
       "      <td>0.983438</td>\n",
       "      <td>0.067518</td>\n",
       "    </tr>\n",
       "    <tr>\n",
       "      <th>alpha: 20reg: 2</th>\n",
       "      <td>0.08752</td>\n",
       "      <td>0.087595</td>\n",
       "      <td>0.030968</td>\n",
       "      <td>0.017763</td>\n",
       "      <td>0.050189</td>\n",
       "      <td>0.061273</td>\n",
       "      <td>0.3177</td>\n",
       "      <td>0.16995</td>\n",
       "      <td>0.983985</td>\n",
       "      <td>0.069603</td>\n",
       "    </tr>\n",
       "    <tr>\n",
       "      <th>alpha: 20reg: 5</th>\n",
       "      <td>0.08812</td>\n",
       "      <td>0.088195</td>\n",
       "      <td>0.031112</td>\n",
       "      <td>0.017626</td>\n",
       "      <td>0.050027</td>\n",
       "      <td>0.061026</td>\n",
       "      <td>0.3209</td>\n",
       "      <td>0.169253</td>\n",
       "      <td>0.983991</td>\n",
       "      <td>0.070009</td>\n",
       "    </tr>\n",
       "    <tr>\n",
       "      <th>alpha: 0.2reg: 0.001</th>\n",
       "      <td>0.24464</td>\n",
       "      <td>0.244723</td>\n",
       "      <td>0.084343</td>\n",
       "      <td>0.058516</td>\n",
       "      <td>0.170191</td>\n",
       "      <td>0.202094</td>\n",
       "      <td>0.6993</td>\n",
       "      <td>0.469948</td>\n",
       "      <td>0.971563</td>\n",
       "      <td>0.136918</td>\n",
       "    </tr>\n",
       "    <tr>\n",
       "      <th>alpha: 0.2reg: 0.01</th>\n",
       "      <td>0.24462</td>\n",
       "      <td>0.244703</td>\n",
       "      <td>0.084334</td>\n",
       "      <td>0.058511</td>\n",
       "      <td>0.170159</td>\n",
       "      <td>0.202045</td>\n",
       "      <td>0.6992</td>\n",
       "      <td>0.469795</td>\n",
       "      <td>0.971586</td>\n",
       "      <td>0.136916</td>\n",
       "    </tr>\n",
       "    <tr>\n",
       "      <th>alpha: 0.2reg: 0.1</th>\n",
       "      <td>0.24516</td>\n",
       "      <td>0.245243</td>\n",
       "      <td>0.08452</td>\n",
       "      <td>0.058677</td>\n",
       "      <td>0.170635</td>\n",
       "      <td>0.202413</td>\n",
       "      <td>0.7008</td>\n",
       "      <td>0.47166</td>\n",
       "      <td>0.971803</td>\n",
       "      <td>0.137085</td>\n",
       "    </tr>\n",
       "    <tr>\n",
       "      <th>alpha: 0.2reg: 2</th>\n",
       "      <td>0.24558</td>\n",
       "      <td>0.245677</td>\n",
       "      <td>0.084704</td>\n",
       "      <td>0.05879</td>\n",
       "      <td>0.1709</td>\n",
       "      <td>0.203082</td>\n",
       "      <td>0.703</td>\n",
       "      <td>0.4727</td>\n",
       "      <td>0.972048</td>\n",
       "      <td>0.13737</td>\n",
       "    </tr>\n",
       "    <tr>\n",
       "      <th>alpha: 0.2reg: 5</th>\n",
       "      <td>0.2451</td>\n",
       "      <td>0.245183</td>\n",
       "      <td>0.084588</td>\n",
       "      <td>0.05895</td>\n",
       "      <td>0.171295</td>\n",
       "      <td>0.202936</td>\n",
       "      <td>0.7023</td>\n",
       "      <td>0.473983</td>\n",
       "      <td>0.972053</td>\n",
       "      <td>0.137597</td>\n",
       "    </tr>\n",
       "    <tr>\n",
       "      <th>alpha: 30reg: 0.001</th>\n",
       "      <td>0.07018</td>\n",
       "      <td>0.070303</td>\n",
       "      <td>0.025155</td>\n",
       "      <td>0.014108</td>\n",
       "      <td>0.039418</td>\n",
       "      <td>0.048516</td>\n",
       "      <td>0.2627</td>\n",
       "      <td>0.137775</td>\n",
       "      <td>0.982713</td>\n",
       "      <td>0.059968</td>\n",
       "    </tr>\n",
       "    <tr>\n",
       "      <th>alpha: 30reg: 0.01</th>\n",
       "      <td>0.07006</td>\n",
       "      <td>0.070183</td>\n",
       "      <td>0.025132</td>\n",
       "      <td>0.0141</td>\n",
       "      <td>0.039399</td>\n",
       "      <td>0.048536</td>\n",
       "      <td>0.263</td>\n",
       "      <td>0.138023</td>\n",
       "      <td>0.98279</td>\n",
       "      <td>0.060088</td>\n",
       "    </tr>\n",
       "    <tr>\n",
       "      <th>alpha: 30reg: 0.1</th>\n",
       "      <td>0.07194</td>\n",
       "      <td>0.072068</td>\n",
       "      <td>0.025759</td>\n",
       "      <td>0.014538</td>\n",
       "      <td>0.04066</td>\n",
       "      <td>0.050022</td>\n",
       "      <td>0.2681</td>\n",
       "      <td>0.141348</td>\n",
       "      <td>0.983106</td>\n",
       "      <td>0.060828</td>\n",
       "    </tr>\n",
       "    <tr>\n",
       "      <th>alpha: 30reg: 2</th>\n",
       "      <td>0.07648</td>\n",
       "      <td>0.07656</td>\n",
       "      <td>0.02727</td>\n",
       "      <td>0.015107</td>\n",
       "      <td>0.042494</td>\n",
       "      <td>0.052629</td>\n",
       "      <td>0.2856</td>\n",
       "      <td>0.146997</td>\n",
       "      <td>0.983795</td>\n",
       "      <td>0.063052</td>\n",
       "    </tr>\n",
       "    <tr>\n",
       "      <th>alpha: 30reg: 5</th>\n",
       "      <td>0.0761</td>\n",
       "      <td>0.076153</td>\n",
       "      <td>0.027025</td>\n",
       "      <td>0.014969</td>\n",
       "      <td>0.042318</td>\n",
       "      <td>0.051413</td>\n",
       "      <td>0.2809</td>\n",
       "      <td>0.145012</td>\n",
       "      <td>0.983813</td>\n",
       "      <td>0.063399</td>\n",
       "    </tr>\n",
       "    <tr>\n",
       "      <th>alpha: 40reg: 0.001</th>\n",
       "      <td>0.06258</td>\n",
       "      <td>0.06269</td>\n",
       "      <td>0.022546</td>\n",
       "      <td>0.012612</td>\n",
       "      <td>0.035017</td>\n",
       "      <td>0.043509</td>\n",
       "      <td>0.2352</td>\n",
       "      <td>0.122893</td>\n",
       "      <td>0.982374</td>\n",
       "      <td>0.055778</td>\n",
       "    </tr>\n",
       "    <tr>\n",
       "      <th>alpha: 40reg: 0.01</th>\n",
       "      <td>0.0633</td>\n",
       "      <td>0.06341</td>\n",
       "      <td>0.02279</td>\n",
       "      <td>0.012638</td>\n",
       "      <td>0.035092</td>\n",
       "      <td>0.043629</td>\n",
       "      <td>0.2376</td>\n",
       "      <td>0.122713</td>\n",
       "      <td>0.982437</td>\n",
       "      <td>0.055855</td>\n",
       "    </tr>\n",
       "    <tr>\n",
       "      <th>alpha: 40reg: 0.1</th>\n",
       "      <td>0.06356</td>\n",
       "      <td>0.063675</td>\n",
       "      <td>0.022874</td>\n",
       "      <td>0.012682</td>\n",
       "      <td>0.035269</td>\n",
       "      <td>0.044147</td>\n",
       "      <td>0.2396</td>\n",
       "      <td>0.123563</td>\n",
       "      <td>0.982781</td>\n",
       "      <td>0.056282</td>\n",
       "    </tr>\n",
       "    <tr>\n",
       "      <th>alpha: 40reg: 2</th>\n",
       "      <td>0.06852</td>\n",
       "      <td>0.06857</td>\n",
       "      <td>0.024523</td>\n",
       "      <td>0.01351</td>\n",
       "      <td>0.037817</td>\n",
       "      <td>0.047215</td>\n",
       "      <td>0.2564</td>\n",
       "      <td>0.131543</td>\n",
       "      <td>0.983603</td>\n",
       "      <td>0.058837</td>\n",
       "    </tr>\n",
       "    <tr>\n",
       "      <th>alpha: 40reg: 5</th>\n",
       "      <td>0.0678</td>\n",
       "      <td>0.067875</td>\n",
       "      <td>0.024204</td>\n",
       "      <td>0.013304</td>\n",
       "      <td>0.037372</td>\n",
       "      <td>0.046268</td>\n",
       "      <td>0.2545</td>\n",
       "      <td>0.131088</td>\n",
       "      <td>0.983695</td>\n",
       "      <td>0.058855</td>\n",
       "    </tr>\n",
       "    <tr>\n",
       "      <th>alpha: 0.2reg: 10</th>\n",
       "      <td>0.24514</td>\n",
       "      <td>0.245223</td>\n",
       "      <td>0.084571</td>\n",
       "      <td>0.058901</td>\n",
       "      <td>0.17115</td>\n",
       "      <td>0.202706</td>\n",
       "      <td>0.702</td>\n",
       "      <td>0.472545</td>\n",
       "      <td>0.971963</td>\n",
       "      <td>0.137503</td>\n",
       "    </tr>\n",
       "    <tr>\n",
       "      <th>alpha: 0.4reg: 10</th>\n",
       "      <td>0.23466</td>\n",
       "      <td>0.234688</td>\n",
       "      <td>0.081135</td>\n",
       "      <td>0.055797</td>\n",
       "      <td>0.161739</td>\n",
       "      <td>0.192308</td>\n",
       "      <td>0.6851</td>\n",
       "      <td>0.455087</td>\n",
       "      <td>0.9762</td>\n",
       "      <td>0.135103</td>\n",
       "    </tr>\n",
       "    <tr>\n",
       "      <th>alpha: 0.8reg: 10</th>\n",
       "      <td>0.21822</td>\n",
       "      <td>0.218238</td>\n",
       "      <td>0.075545</td>\n",
       "      <td>0.050288</td>\n",
       "      <td>0.145369</td>\n",
       "      <td>0.173785</td>\n",
       "      <td>0.6568</td>\n",
       "      <td>0.418637</td>\n",
       "      <td>0.979347</td>\n",
       "      <td>0.128118</td>\n",
       "    </tr>\n",
       "    <tr>\n",
       "      <th>alpha: 5reg: 10</th>\n",
       "      <td>0.14488</td>\n",
       "      <td>0.144987</td>\n",
       "      <td>0.050833</td>\n",
       "      <td>0.03066</td>\n",
       "      <td>0.087694</td>\n",
       "      <td>0.106203</td>\n",
       "      <td>0.4843</td>\n",
       "      <td>0.275012</td>\n",
       "      <td>0.983482</td>\n",
       "      <td>0.096629</td>\n",
       "    </tr>\n",
       "    <tr>\n",
       "      <th>alpha: 10reg: 10</th>\n",
       "      <td>0.1139</td>\n",
       "      <td>0.113983</td>\n",
       "      <td>0.040046</td>\n",
       "      <td>0.023298</td>\n",
       "      <td>0.066526</td>\n",
       "      <td>0.080807</td>\n",
       "      <td>0.4013</td>\n",
       "      <td>0.219313</td>\n",
       "      <td>0.984016</td>\n",
       "      <td>0.082914</td>\n",
       "    </tr>\n",
       "    <tr>\n",
       "      <th>alpha: 20reg: 10</th>\n",
       "      <td>0.08676</td>\n",
       "      <td>0.08684</td>\n",
       "      <td>0.030651</td>\n",
       "      <td>0.017374</td>\n",
       "      <td>0.049346</td>\n",
       "      <td>0.060347</td>\n",
       "      <td>0.3175</td>\n",
       "      <td>0.1682</td>\n",
       "      <td>0.984084</td>\n",
       "      <td>0.070082</td>\n",
       "    </tr>\n",
       "    <tr>\n",
       "      <th>alpha: 30reg: 10</th>\n",
       "      <td>0.07422</td>\n",
       "      <td>0.07429</td>\n",
       "      <td>0.026288</td>\n",
       "      <td>0.014587</td>\n",
       "      <td>0.041191</td>\n",
       "      <td>0.05048</td>\n",
       "      <td>0.2778</td>\n",
       "      <td>0.143363</td>\n",
       "      <td>0.984002</td>\n",
       "      <td>0.063035</td>\n",
       "    </tr>\n",
       "    <tr>\n",
       "      <th>alpha: 40reg: 10</th>\n",
       "      <td>0.06596</td>\n",
       "      <td>0.06603</td>\n",
       "      <td>0.023491</td>\n",
       "      <td>0.012707</td>\n",
       "      <td>0.035759</td>\n",
       "      <td>0.04442</td>\n",
       "      <td>0.2515</td>\n",
       "      <td>0.126348</td>\n",
       "      <td>0.983892</td>\n",
       "      <td>0.058178</td>\n",
       "    </tr>\n",
       "  </tbody>\n",
       "</table>\n",
       "</div>"
      ],
      "text/plain": [
       "                          P@5      TP@5       R@5      AP@5     TAP@5  \\\n",
       "alpha: 0.4reg: 0.001  0.23288  0.232968   0.08058   0.05532  0.160309   \n",
       "alpha: 0.4reg: 0.01    0.2331  0.233188  0.080659  0.055398  0.160546   \n",
       "alpha: 0.4reg: 0.1    0.23334  0.233428  0.080721  0.055569  0.161093   \n",
       "alpha: 0.4reg: 2      0.23434  0.234407  0.080947  0.055776  0.161763   \n",
       "alpha: 0.4reg: 5       0.2349  0.234953  0.081224  0.055914  0.162109   \n",
       "alpha: 0.8reg: 0.001  0.21636  0.216378  0.074985  0.049981   0.14432   \n",
       "alpha: 0.8reg: 0.01   0.21638  0.216398  0.074991  0.050003  0.144352   \n",
       "alpha: 0.8reg: 0.1    0.21724  0.217288  0.075288  0.050051  0.144611   \n",
       "alpha: 0.8reg: 2      0.21918  0.219203  0.075898  0.050642   0.14642   \n",
       "alpha: 0.8reg: 5      0.21848  0.218503  0.075656  0.050401  0.145664   \n",
       "alpha: 5reg: 0.001    0.13604  0.136153  0.047833  0.029447  0.084013   \n",
       "alpha: 5reg: 0.01     0.13722  0.137333   0.04823  0.029735  0.084875   \n",
       "alpha: 5reg: 0.1      0.14004  0.140153  0.049228  0.030223   0.08621   \n",
       "alpha: 5reg: 2        0.14358  0.143673  0.050332  0.030425  0.087061   \n",
       "alpha: 5reg: 5        0.14502  0.145127  0.050901  0.030773  0.087974   \n",
       "alpha: 10reg: 0.001   0.10876   0.10886  0.038434  0.022803  0.064538   \n",
       "alpha: 10reg: 0.01    0.10902   0.10912  0.038503  0.022856   0.06468   \n",
       "alpha: 10reg: 0.1     0.10902   0.10912  0.038434  0.023132  0.065501   \n",
       "alpha: 10reg: 2       0.11404  0.114115  0.040168  0.023528  0.066828   \n",
       "alpha: 10reg: 5       0.11454  0.114623   0.04029  0.023442  0.066777   \n",
       "alpha: 20reg: 0.001   0.08208   0.08219  0.029314  0.016822  0.047204   \n",
       "alpha: 20reg: 0.01    0.08318  0.083285  0.029689  0.016976  0.047654   \n",
       "alpha: 20reg: 0.1     0.08476  0.084865  0.030245  0.017326   0.04871   \n",
       "alpha: 20reg: 2       0.08752  0.087595  0.030968  0.017763  0.050189   \n",
       "alpha: 20reg: 5       0.08812  0.088195  0.031112  0.017626  0.050027   \n",
       "alpha: 0.2reg: 0.001  0.24464  0.244723  0.084343  0.058516  0.170191   \n",
       "alpha: 0.2reg: 0.01   0.24462  0.244703  0.084334  0.058511  0.170159   \n",
       "alpha: 0.2reg: 0.1    0.24516  0.245243   0.08452  0.058677  0.170635   \n",
       "alpha: 0.2reg: 2      0.24558  0.245677  0.084704   0.05879    0.1709   \n",
       "alpha: 0.2reg: 5       0.2451  0.245183  0.084588   0.05895  0.171295   \n",
       "alpha: 30reg: 0.001   0.07018  0.070303  0.025155  0.014108  0.039418   \n",
       "alpha: 30reg: 0.01    0.07006  0.070183  0.025132    0.0141  0.039399   \n",
       "alpha: 30reg: 0.1     0.07194  0.072068  0.025759  0.014538   0.04066   \n",
       "alpha: 30reg: 2       0.07648   0.07656   0.02727  0.015107  0.042494   \n",
       "alpha: 30reg: 5        0.0761  0.076153  0.027025  0.014969  0.042318   \n",
       "alpha: 40reg: 0.001   0.06258   0.06269  0.022546  0.012612  0.035017   \n",
       "alpha: 40reg: 0.01     0.0633   0.06341   0.02279  0.012638  0.035092   \n",
       "alpha: 40reg: 0.1     0.06356  0.063675  0.022874  0.012682  0.035269   \n",
       "alpha: 40reg: 2       0.06852   0.06857  0.024523   0.01351  0.037817   \n",
       "alpha: 40reg: 5        0.0678  0.067875  0.024204  0.013304  0.037372   \n",
       "alpha: 0.2reg: 10     0.24514  0.245223  0.084571  0.058901   0.17115   \n",
       "alpha: 0.4reg: 10     0.23466  0.234688  0.081135  0.055797  0.161739   \n",
       "alpha: 0.8reg: 10     0.21822  0.218238  0.075545  0.050288  0.145369   \n",
       "alpha: 5reg: 10       0.14488  0.144987  0.050833   0.03066  0.087694   \n",
       "alpha: 10reg: 10       0.1139  0.113983  0.040046  0.023298  0.066526   \n",
       "alpha: 20reg: 10      0.08676   0.08684  0.030651  0.017374  0.049346   \n",
       "alpha: 30reg: 10      0.07422   0.07429  0.026288  0.014587  0.041191   \n",
       "alpha: 40reg: 10      0.06596   0.06603  0.023491  0.012707  0.035759   \n",
       "\n",
       "                        NDCG@5   Hit@5      RR@5   ROC_AUC    PR_AUC  \n",
       "alpha: 0.4reg: 0.001  0.191023  0.6844  0.453045  0.975846  0.134152  \n",
       "alpha: 0.4reg: 0.01   0.191176  0.6838  0.453073  0.975887    0.1342  \n",
       "alpha: 0.4reg: 0.1    0.191781   0.684  0.455382  0.975866  0.134437  \n",
       "alpha: 0.4reg: 2      0.192233  0.6832  0.453102  0.976321  0.134839  \n",
       "alpha: 0.4reg: 5      0.192471  0.6839  0.454728  0.976285  0.135129  \n",
       "alpha: 0.8reg: 0.001  0.172386  0.6548  0.417315  0.979155  0.127014  \n",
       "alpha: 0.8reg: 0.01   0.172504  0.6543  0.417703  0.979157  0.127047  \n",
       "alpha: 0.8reg: 0.1    0.173097  0.6569  0.418417  0.979247  0.127176  \n",
       "alpha: 0.8reg: 2      0.174686  0.6567   0.41983  0.979453  0.127997  \n",
       "alpha: 0.8reg: 5      0.174104  0.6579  0.419673  0.979433  0.128114  \n",
       "alpha: 5reg: 0.001    0.101064  0.4604  0.267962  0.982908  0.093425  \n",
       "alpha: 5reg: 0.01     0.102063  0.4625   0.27035  0.982998  0.093718  \n",
       "alpha: 5reg: 0.1      0.104045  0.4719  0.273937  0.983208  0.094426  \n",
       "alpha: 5reg: 2        0.105167  0.4805  0.273782  0.983406   0.09561  \n",
       "alpha: 5reg: 5        0.105909  0.4842    0.2756  0.983429  0.096384  \n",
       "alpha: 10reg: 0.001   0.077729   0.383  0.213822  0.983422  0.079827  \n",
       "alpha: 10reg: 0.01    0.078047  0.3834   0.21406  0.983493  0.079982  \n",
       "alpha: 10reg: 0.1      0.07863  0.3847  0.218033  0.983723  0.080837  \n",
       "alpha: 10reg: 2       0.080772  0.4003  0.220173  0.983975  0.082084  \n",
       "alpha: 10reg: 5        0.08092  0.4044  0.220347  0.983896  0.082789  \n",
       "alpha: 20reg: 0.001   0.057178  0.2967  0.158925  0.983087  0.066622  \n",
       "alpha: 20reg: 0.01    0.057824  0.3008  0.160688  0.983172  0.066848  \n",
       "alpha: 20reg: 0.1     0.059092   0.305  0.164027  0.983438  0.067518  \n",
       "alpha: 20reg: 2       0.061273  0.3177   0.16995  0.983985  0.069603  \n",
       "alpha: 20reg: 5       0.061026  0.3209  0.169253  0.983991  0.070009  \n",
       "alpha: 0.2reg: 0.001  0.202094  0.6993  0.469948  0.971563  0.136918  \n",
       "alpha: 0.2reg: 0.01   0.202045  0.6992  0.469795  0.971586  0.136916  \n",
       "alpha: 0.2reg: 0.1    0.202413  0.7008   0.47166  0.971803  0.137085  \n",
       "alpha: 0.2reg: 2      0.203082   0.703    0.4727  0.972048   0.13737  \n",
       "alpha: 0.2reg: 5      0.202936  0.7023  0.473983  0.972053  0.137597  \n",
       "alpha: 30reg: 0.001   0.048516  0.2627  0.137775  0.982713  0.059968  \n",
       "alpha: 30reg: 0.01    0.048536   0.263  0.138023   0.98279  0.060088  \n",
       "alpha: 30reg: 0.1     0.050022  0.2681  0.141348  0.983106  0.060828  \n",
       "alpha: 30reg: 2       0.052629  0.2856  0.146997  0.983795  0.063052  \n",
       "alpha: 30reg: 5       0.051413  0.2809  0.145012  0.983813  0.063399  \n",
       "alpha: 40reg: 0.001   0.043509  0.2352  0.122893  0.982374  0.055778  \n",
       "alpha: 40reg: 0.01    0.043629  0.2376  0.122713  0.982437  0.055855  \n",
       "alpha: 40reg: 0.1     0.044147  0.2396  0.123563  0.982781  0.056282  \n",
       "alpha: 40reg: 2       0.047215  0.2564  0.131543  0.983603  0.058837  \n",
       "alpha: 40reg: 5       0.046268  0.2545  0.131088  0.983695  0.058855  \n",
       "alpha: 0.2reg: 10     0.202706   0.702  0.472545  0.971963  0.137503  \n",
       "alpha: 0.4reg: 10     0.192308  0.6851  0.455087    0.9762  0.135103  \n",
       "alpha: 0.8reg: 10     0.173785  0.6568  0.418637  0.979347  0.128118  \n",
       "alpha: 5reg: 10       0.106203  0.4843  0.275012  0.983482  0.096629  \n",
       "alpha: 10reg: 10      0.080807  0.4013  0.219313  0.984016  0.082914  \n",
       "alpha: 20reg: 10      0.060347  0.3175    0.1682  0.984084  0.070082  \n",
       "alpha: 30reg: 10       0.05048  0.2778  0.143363  0.984002  0.063035  \n",
       "alpha: 40reg: 10       0.04442  0.2515  0.126348  0.983892  0.058178  "
      ]
     },
     "execution_count": 59,
     "metadata": {},
     "output_type": "execute_result"
    }
   ],
   "source": [
    "metrics_init"
   ]
  },
  {
   "cell_type": "code",
   "execution_count": 64,
   "metadata": {},
   "outputs": [
    {
     "name": "stderr",
     "output_type": "stream",
     "text": [
      "100%|██████████| 15/15 [04:08<00:00, 16.55s/it]\n"
     ]
    }
   ],
   "source": [
    "wrmf = implicit.als.AlternatingLeastSquares(factors=50, regularization=1, random_state=123, num_threads=4)\n",
    "wrmf.fit(X_train.T)"
   ]
  },
  {
   "cell_type": "code",
   "execution_count": 65,
   "metadata": {},
   "outputs": [
    {
     "name": "stderr",
     "output_type": "stream",
     "text": [
      "c:\\Users\\chris\\AppData\\Local\\R-MINI~1\\lib\\site-packages\\recometrics\\__init__.py:457: UserWarning: 'B' has more items than 'X_test'.\n",
      "  warn(\"'B' has more items than 'X_test'.\")\n"
     ]
    }
   ],
   "source": [
    "k = 5 ## Top-K recommendations to evaluate\n",
    "metrics_wrmf = recometrics.calc_reco_metrics(\n",
    "    X_train[:X_test.shape[0]], X_test,\n",
    "    wrmf.user_factors[:X_test.shape[0]], wrmf.item_factors,\n",
    "    k=k, all_metrics=True\n",
    ")"
   ]
  },
  {
   "cell_type": "code",
   "execution_count": 27,
   "metadata": {},
   "outputs": [
    {
     "data": {
      "text/html": [
       "<div>\n",
       "<style scoped>\n",
       "    .dataframe tbody tr th:only-of-type {\n",
       "        vertical-align: middle;\n",
       "    }\n",
       "\n",
       "    .dataframe tbody tr th {\n",
       "        vertical-align: top;\n",
       "    }\n",
       "\n",
       "    .dataframe thead th {\n",
       "        text-align: right;\n",
       "    }\n",
       "</style>\n",
       "<table border=\"1\" class=\"dataframe\">\n",
       "  <thead>\n",
       "    <tr style=\"text-align: right;\">\n",
       "      <th></th>\n",
       "      <th>P@5</th>\n",
       "      <th>TP@5</th>\n",
       "      <th>R@5</th>\n",
       "      <th>AP@5</th>\n",
       "      <th>TAP@5</th>\n",
       "      <th>NDCG@5</th>\n",
       "      <th>Hit@5</th>\n",
       "      <th>RR@5</th>\n",
       "      <th>ROC_AUC</th>\n",
       "      <th>PR_AUC</th>\n",
       "    </tr>\n",
       "  </thead>\n",
       "  <tbody>\n",
       "    <tr>\n",
       "      <th>WRMF (a.k.a. iALS)</th>\n",
       "      <td>0.22208</td>\n",
       "      <td>0.222162</td>\n",
       "      <td>0.077338</td>\n",
       "      <td>0.051299</td>\n",
       "      <td>0.147571</td>\n",
       "      <td>0.174771</td>\n",
       "      <td>0.6652</td>\n",
       "      <td>0.419487</td>\n",
       "      <td>0.975165</td>\n",
       "      <td>0.133003</td>\n",
       "    </tr>\n",
       "  </tbody>\n",
       "</table>\n",
       "</div>"
      ],
      "text/plain": [
       "                        P@5      TP@5       R@5      AP@5     TAP@5    NDCG@5  \\\n",
       "WRMF (a.k.a. iALS)  0.22208  0.222162  0.077338  0.051299  0.147571  0.174771   \n",
       "\n",
       "                     Hit@5      RR@5   ROC_AUC    PR_AUC  \n",
       "WRMF (a.k.a. iALS)  0.6652  0.419487  0.975165  0.133003  "
      ]
     },
     "execution_count": 27,
     "metadata": {},
     "output_type": "execute_result"
    }
   ],
   "source": [
    "all_metrics = [\n",
    "    metrics_wrmf\n",
    "]\n",
    "all_metrics = pd.concat([m.mean(axis=0).to_frame().T for m in all_metrics], axis=0)\n",
    "all_metrics.index = [\n",
    "    \"WRMF (a.k.a. iALS)\"\n",
    "]\n",
    "all_metrics"
   ]
  },
  {
   "cell_type": "code",
   "execution_count": 16,
   "metadata": {},
   "outputs": [
    {
     "name": "stderr",
     "output_type": "stream",
     "text": [
      "100%|██████████| 358812/358812 [02:05<00:00, 2856.39it/s]\n"
     ]
    }
   ],
   "source": [
    "metr_impl = ranking_metrics_at_k(model=wrmf, train_user_items=X_train, test_user_items=X_test, K=5, show_progress=True, num_threads=4)"
   ]
  },
  {
   "cell_type": "code",
   "execution_count": 17,
   "metadata": {},
   "outputs": [
    {
     "data": {
      "text/plain": [
       "{'precision': 0.2058831248823816,\n",
       " 'map': 0.13492709196511338,\n",
       " 'ndcg': 0.21811472272896915,\n",
       " 'auc': 0.5356746013660015}"
      ]
     },
     "execution_count": 17,
     "metadata": {},
     "output_type": "execute_result"
    }
   ],
   "source": [
    "metr_impl"
   ]
  },
  {
   "cell_type": "code",
   "execution_count": 89,
   "metadata": {},
   "outputs": [],
   "source": [
    "# MPR function\n",
    "def MPR(model, train_data, test_data, user_f, item_f, k) :\n",
    "    zähler_liste = []\n",
    "    nenner_liste = []\n",
    "    #for idx, u in enumerate(test_data.toarray()) :\n",
    "    for u in np.unique(test_data.tocoo().row) :\n",
    "        #mask = (train_data[u].toarray()[0] == 0)\n",
    "        #pred_temp = []\n",
    "        #for i in item_f[mask] :\n",
    "        #    pred_temp.append(np.inner(user_f[u], i)) # training beobachtungen auslassen. Pro user die trainings items aus train_data weglassen\n",
    "        #df = pd.DataFrame({'r' : test_data[u].toarray()[0][mask], 'pred' : pred_temp}) #, 'train' : train_data[u].toarray()[0][mask]})\n",
    "        recs = model.recommend(user_items=train_data, userid=list(range(0,train_data.shape[0])), filter_already_liked_items=True, N = k)\n",
    "        pred_temp = recs[1][u]\n",
    "        r = test_data[u].toarray()[0][recs[0][u]]\n",
    "        r = np.clip(r, a_min=0, a_max=1)\n",
    "        df = pd.DataFrame({'r' : r, 'pred' : pred_temp})\n",
    "        df = df.sort_values(by=['pred'], ascending=False)\n",
    "        #df = df.drop(df[df.train > 0].index)\n",
    "        index = list(range(0,len(df)))\n",
    "        df['rankui'] = [x / (len(df)-1) for x in index]\n",
    "        #df = df.iloc[:k, ]\n",
    "        zähler_liste.append(np.inner(df.r, df.rankui))\n",
    "        if sum(df.r) != 0:\n",
    "            nenner_liste.append(sum(df.r))\n",
    "        else:\n",
    "            nenner_liste.append(1)\n",
    "        if u % 100 == 0:\n",
    "            print(u)\n",
    "    mpr_list = [m/n for m, n in zip(zähler_liste, nenner_liste)]\n",
    "    name = 'MPR@' + str(k)\n",
    "    return pd.DataFrame({name : mpr_list})\n",
    "    "
   ]
  },
  {
   "cell_type": "code",
   "execution_count": 87,
   "metadata": {},
   "outputs": [],
   "source": [
    "train_data = X_train[:X_test.shape[0]]\n",
    "test_data = X_test\n",
    "user_factors = wrmf.user_factors[:X_test.shape[0]]\n",
    "item_factors = wrmf.item_factors[:X_test.shape[0]]"
   ]
  },
  {
   "cell_type": "markdown",
   "metadata": {},
   "source": [
    "Testing with implicit split and eval function if parameters behave the same"
   ]
  },
  {
   "cell_type": "code",
   "execution_count": 83,
   "metadata": {},
   "outputs": [],
   "source": [
    "impl_train, impl_test = implicit.evaluation.train_test_split(X, train_percentage=0.7, random_state=123)"
   ]
  },
  {
   "cell_type": "code",
   "execution_count": 86,
   "metadata": {},
   "outputs": [
    {
     "data": {
      "text/plain": [
       "15.359144024256032"
      ]
     },
     "execution_count": 86,
     "metadata": {},
     "output_type": "execute_result"
    }
   ],
   "source": [
    "alpha = (X.shape[0] * X.shape[1] - X.nnz) / sum(X.data)\n",
    "alpha"
   ]
  },
  {
   "cell_type": "code",
   "execution_count": 91,
   "metadata": {},
   "outputs": [
    {
     "name": "stderr",
     "output_type": "stream",
     "text": [
      "100%|██████████| 15/15 [03:20<00:00, 13.37s/it]\n",
      "  0%|          | 0/117793 [00:00<?, ?it/s]"
     ]
    },
    {
     "ename": "IndexError",
     "evalue": "index 179659 is out of bounds for axis 1 with size 160112",
     "output_type": "error",
     "traceback": [
      "\u001b[1;31m---------------------------------------------------------------------------\u001b[0m",
      "\u001b[1;31mIndexError\u001b[0m                                Traceback (most recent call last)",
      "\u001b[1;32m~\\AppData\\Local\\Temp/ipykernel_2952/3850274753.py\u001b[0m in \u001b[0;36m<module>\u001b[1;34m\u001b[0m\n\u001b[0;32m      1\u001b[0m \u001b[0mimpl_model\u001b[0m \u001b[1;33m=\u001b[0m \u001b[0mimplicit\u001b[0m\u001b[1;33m.\u001b[0m\u001b[0mals\u001b[0m\u001b[1;33m.\u001b[0m\u001b[0mAlternatingLeastSquares\u001b[0m\u001b[1;33m(\u001b[0m\u001b[0mfactors\u001b[0m\u001b[1;33m=\u001b[0m\u001b[1;36m64\u001b[0m\u001b[1;33m,\u001b[0m \u001b[0mregularization\u001b[0m\u001b[1;33m=\u001b[0m\u001b[1;36m0.05\u001b[0m\u001b[1;33m,\u001b[0m \u001b[0mrandom_state\u001b[0m\u001b[1;33m=\u001b[0m\u001b[1;36m123\u001b[0m\u001b[1;33m,\u001b[0m \u001b[0mnum_threads\u001b[0m\u001b[1;33m=\u001b[0m\u001b[1;36m4\u001b[0m\u001b[1;33m)\u001b[0m\u001b[1;33m\u001b[0m\u001b[1;33m\u001b[0m\u001b[0m\n\u001b[0;32m      2\u001b[0m \u001b[0mimpl_model\u001b[0m\u001b[1;33m.\u001b[0m\u001b[0mfit\u001b[0m\u001b[1;33m(\u001b[0m\u001b[0malpha\u001b[0m \u001b[1;33m*\u001b[0m \u001b[0mimpl_train\u001b[0m\u001b[1;33m)\u001b[0m\u001b[1;33m\u001b[0m\u001b[1;33m\u001b[0m\u001b[0m\n\u001b[1;32m----> 3\u001b[1;33m \u001b[0mimpl_metr\u001b[0m \u001b[1;33m=\u001b[0m \u001b[0mranking_metrics_at_k\u001b[0m\u001b[1;33m(\u001b[0m\u001b[0mmodel\u001b[0m\u001b[1;33m=\u001b[0m\u001b[0mimpl_model\u001b[0m\u001b[1;33m,\u001b[0m \u001b[0mtrain_user_items\u001b[0m\u001b[1;33m=\u001b[0m\u001b[0mimpl_train\u001b[0m\u001b[1;33m.\u001b[0m\u001b[0mT\u001b[0m\u001b[1;33m.\u001b[0m\u001b[0mtocsr\u001b[0m\u001b[1;33m(\u001b[0m\u001b[1;33m)\u001b[0m\u001b[1;33m,\u001b[0m \u001b[0mtest_user_items\u001b[0m\u001b[1;33m=\u001b[0m\u001b[0mimpl_test\u001b[0m\u001b[1;33m.\u001b[0m\u001b[0mT\u001b[0m\u001b[1;33m.\u001b[0m\u001b[0mtocsr\u001b[0m\u001b[1;33m(\u001b[0m\u001b[1;33m)\u001b[0m\u001b[1;33m,\u001b[0m \u001b[0mK\u001b[0m\u001b[1;33m=\u001b[0m\u001b[1;36m10\u001b[0m\u001b[1;33m,\u001b[0m \u001b[0mshow_progress\u001b[0m\u001b[1;33m=\u001b[0m\u001b[1;32mTrue\u001b[0m\u001b[1;33m,\u001b[0m \u001b[0mnum_threads\u001b[0m\u001b[1;33m=\u001b[0m\u001b[1;36m4\u001b[0m\u001b[1;33m)\u001b[0m\u001b[1;33m\u001b[0m\u001b[1;33m\u001b[0m\u001b[0m\n\u001b[0m\u001b[0;32m      4\u001b[0m \u001b[0mimpl_metr\u001b[0m\u001b[1;33m\u001b[0m\u001b[1;33m\u001b[0m\u001b[0m\n",
      "\u001b[1;32mevaluation.pyx\u001b[0m in \u001b[0;36mimplicit.evaluation.ranking_metrics_at_k\u001b[1;34m()\u001b[0m\n",
      "\u001b[1;32mc:\\Users\\chris\\AppData\\Local\\R-MINI~1\\lib\\site-packages\\implicit\\cpu\\matrix_factorization_base.py\u001b[0m in \u001b[0;36mrecommend\u001b[1;34m(self, userid, user_items, N, filter_already_liked_items, filter_items, recalculate_user, items)\u001b[0m\n\u001b[0;32m     73\u001b[0m                 \u001b[0mfilter_query_items\u001b[0m \u001b[1;33m=\u001b[0m \u001b[0m_filter_items_from_sparse_matrix\u001b[0m\u001b[1;33m(\u001b[0m\u001b[0mitems\u001b[0m\u001b[1;33m,\u001b[0m \u001b[0mfilter_query_items\u001b[0m\u001b[1;33m)\u001b[0m\u001b[1;33m\u001b[0m\u001b[1;33m\u001b[0m\u001b[0m\n\u001b[0;32m     74\u001b[0m \u001b[1;33m\u001b[0m\u001b[0m\n\u001b[1;32m---> 75\u001b[1;33m         ids, scores = topk(\n\u001b[0m\u001b[0;32m     76\u001b[0m             \u001b[0mitem_factors\u001b[0m\u001b[1;33m,\u001b[0m\u001b[1;33m\u001b[0m\u001b[1;33m\u001b[0m\u001b[0m\n\u001b[0;32m     77\u001b[0m             \u001b[0muser\u001b[0m\u001b[1;33m,\u001b[0m\u001b[1;33m\u001b[0m\u001b[1;33m\u001b[0m\u001b[0m\n",
      "\u001b[1;32mtopk.pyx\u001b[0m in \u001b[0;36mimplicit.cpu.topk.topk\u001b[1;34m()\u001b[0m\n",
      "\u001b[1;32mtopk.pyx\u001b[0m in \u001b[0;36mimplicit.cpu.topk._topk_batch\u001b[1;34m()\u001b[0m\n",
      "\u001b[1;31mIndexError\u001b[0m: index 179659 is out of bounds for axis 1 with size 160112"
     ]
    }
   ],
   "source": [
    "impl_model = implicit.als.AlternatingLeastSquares(factors=64, regularization=0.05, random_state=123, num_threads=4)\n",
    "impl_model.fit(alpha * impl_train)\n",
    "impl_metr = ranking_metrics_at_k(model=impl_model, train_user_items=impl_train.T.tocsr(), test_user_items=impl_test.T.tocsr(), K=10, show_progress=True, num_threads=4)\n",
    "impl_metr"
   ]
  },
  {
   "cell_type": "markdown",
   "metadata": {},
   "source": [
    "Since no changes, now with data loading provided by implicit:"
   ]
  },
  {
   "cell_type": "code",
   "execution_count": 130,
   "metadata": {},
   "outputs": [],
   "source": [
    "from implicit.datasets.lastfm import get_lastfm\n",
    "artists, users, plays = get_lastfm()"
   ]
  },
  {
   "cell_type": "code",
   "execution_count": 186,
   "metadata": {},
   "outputs": [],
   "source": [
    "from implicit.evaluation import train_test_split\n",
    "train, test = train_test_split(user_plays)"
   ]
  },
  {
   "cell_type": "code",
   "execution_count": 184,
   "metadata": {},
   "outputs": [],
   "source": [
    "user_plays = plays.T"
   ]
  },
  {
   "cell_type": "code",
   "execution_count": 180,
   "metadata": {},
   "outputs": [
    {
     "data": {
      "text/plain": [
       "27.80136771101889"
      ]
     },
     "execution_count": 180,
     "metadata": {},
     "output_type": "execute_result"
    }
   ],
   "source": [
    "(plays.shape[0] * plays.shape[1] - plays.nnz) / sum(plays.data)"
   ]
  },
  {
   "cell_type": "code",
   "execution_count": 191,
   "metadata": {},
   "outputs": [
    {
     "data": {
      "text/plain": [
       "0.9998328790268004"
      ]
     },
     "execution_count": 191,
     "metadata": {},
     "output_type": "execute_result"
    }
   ],
   "source": [
    "1 - (user_plays.nnz / (user_plays.shape[0] * user_plays.shape[1]))"
   ]
  },
  {
   "cell_type": "code",
   "execution_count": 194,
   "metadata": {},
   "outputs": [
    {
     "data": {
      "text/plain": [
       "0.00016712097319960392"
      ]
     },
     "execution_count": 194,
     "metadata": {},
     "output_type": "execute_result"
    }
   ],
   "source": [
    "(user_plays.nnz / (user_plays.shape[0] * user_plays.shape[1]))"
   ]
  },
  {
   "cell_type": "code",
   "execution_count": 187,
   "metadata": {},
   "outputs": [
    {
     "name": "stderr",
     "output_type": "stream",
     "text": [
      "100%|██████████| 15/15 [04:09<00:00, 16.66s/it]\n",
      "100%|██████████| 358532/358532 [04:55<00:00, 1212.17it/s]\n"
     ]
    }
   ],
   "source": [
    "#init\n",
    "from implicit.als import AlternatingLeastSquares\n",
    "alpha = 15\n",
    "model = AlternatingLeastSquares(factors=128, regularization=0.001, iterations=15, use_native=True, use_cg=True)\n",
    "model.fit(train * alpha)\n",
    "p = ranking_metrics_at_k(model, train, test, K=10, num_threads=4)"
   ]
  },
  {
   "cell_type": "code",
   "execution_count": 188,
   "metadata": {},
   "outputs": [
    {
     "data": {
      "text/html": [
       "<div>\n",
       "<style scoped>\n",
       "    .dataframe tbody tr th:only-of-type {\n",
       "        vertical-align: middle;\n",
       "    }\n",
       "\n",
       "    .dataframe tbody tr th {\n",
       "        vertical-align: top;\n",
       "    }\n",
       "\n",
       "    .dataframe thead th {\n",
       "        text-align: right;\n",
       "    }\n",
       "</style>\n",
       "<table border=\"1\" class=\"dataframe\">\n",
       "  <thead>\n",
       "    <tr style=\"text-align: right;\">\n",
       "      <th></th>\n",
       "      <th>precision</th>\n",
       "      <th>map</th>\n",
       "      <th>ndcg</th>\n",
       "      <th>auc</th>\n",
       "    </tr>\n",
       "  </thead>\n",
       "  <tbody>\n",
       "    <tr>\n",
       "      <th>reg: 0.001</th>\n",
       "      <td>0.071979</td>\n",
       "      <td>0.029409</td>\n",
       "      <td>0.071648</td>\n",
       "      <td>0.532456</td>\n",
       "    </tr>\n",
       "  </tbody>\n",
       "</table>\n",
       "</div>"
      ],
      "text/plain": [
       "            precision       map      ndcg       auc\n",
       "reg: 0.001   0.071979  0.029409  0.071648  0.532456"
      ]
     },
     "execution_count": 188,
     "metadata": {},
     "output_type": "execute_result"
    }
   ],
   "source": [
    "init_df = pd.DataFrame(p, index=['reg: 0.001'])\n",
    "init_df"
   ]
  },
  {
   "cell_type": "code",
   "execution_count": 177,
   "metadata": {},
   "outputs": [
    {
     "name": "stderr",
     "output_type": "stream",
     "text": [
      "100%|██████████| 15/15 [00:04<00:00,  3.52it/s]\n",
      "100%|██████████| 3470/3470 [00:00<00:00, 9663.60it/s]\n",
      "  0%|          | 0/15 [00:00<?, ?it/s]"
     ]
    },
    {
     "name": "stdout",
     "output_type": "stream",
     "text": [
      "0.0\n"
     ]
    },
    {
     "name": "stderr",
     "output_type": "stream",
     "text": [
      "100%|██████████| 15/15 [00:04<00:00,  3.43it/s]\n",
      "100%|██████████| 3470/3470 [00:00<00:00, 9717.70it/s]\n",
      "  0%|          | 0/15 [00:00<?, ?it/s]"
     ]
    },
    {
     "name": "stdout",
     "output_type": "stream",
     "text": [
      "0.1\n"
     ]
    },
    {
     "name": "stderr",
     "output_type": "stream",
     "text": [
      "100%|██████████| 15/15 [00:04<00:00,  3.43it/s]\n",
      "100%|██████████| 3470/3470 [00:00<00:00, 9504.72it/s]\n",
      "  0%|          | 0/15 [00:00<?, ?it/s]"
     ]
    },
    {
     "name": "stdout",
     "output_type": "stream",
     "text": [
      "0.2\n"
     ]
    },
    {
     "name": "stderr",
     "output_type": "stream",
     "text": [
      "100%|██████████| 15/15 [00:05<00:00,  2.74it/s]\n",
      "100%|██████████| 3470/3470 [00:01<00:00, 3174.03it/s]\n",
      "  0%|          | 0/15 [00:00<?, ?it/s]"
     ]
    },
    {
     "name": "stdout",
     "output_type": "stream",
     "text": [
      "0.3\n"
     ]
    },
    {
     "name": "stderr",
     "output_type": "stream",
     "text": [
      "100%|██████████| 15/15 [00:10<00:00,  1.47it/s]\n",
      "100%|██████████| 3470/3470 [00:00<00:00, 8260.09it/s]\n",
      "  0%|          | 0/15 [00:00<?, ?it/s]"
     ]
    },
    {
     "name": "stdout",
     "output_type": "stream",
     "text": [
      "0.4\n"
     ]
    },
    {
     "name": "stderr",
     "output_type": "stream",
     "text": [
      "100%|██████████| 15/15 [00:04<00:00,  3.01it/s]\n",
      "100%|██████████| 3470/3470 [00:00<00:00, 9300.88it/s]\n",
      "  0%|          | 0/15 [00:00<?, ?it/s]"
     ]
    },
    {
     "name": "stdout",
     "output_type": "stream",
     "text": [
      "0.5\n"
     ]
    },
    {
     "name": "stderr",
     "output_type": "stream",
     "text": [
      "100%|██████████| 15/15 [00:04<00:00,  3.41it/s]\n",
      "100%|██████████| 3470/3470 [00:00<00:00, 9276.02it/s]\n",
      "  0%|          | 0/15 [00:00<?, ?it/s]"
     ]
    },
    {
     "name": "stdout",
     "output_type": "stream",
     "text": [
      "0.6\n"
     ]
    },
    {
     "name": "stderr",
     "output_type": "stream",
     "text": [
      "100%|██████████| 15/15 [00:04<00:00,  3.42it/s]\n",
      "100%|██████████| 3470/3470 [00:00<00:00, 9105.47it/s]\n",
      "  0%|          | 0/15 [00:00<?, ?it/s]"
     ]
    },
    {
     "name": "stdout",
     "output_type": "stream",
     "text": [
      "0.7\n"
     ]
    },
    {
     "name": "stderr",
     "output_type": "stream",
     "text": [
      "100%|██████████| 15/15 [00:04<00:00,  3.41it/s]\n",
      "100%|██████████| 3470/3470 [00:00<00:00, 8952.66it/s]\n",
      "  0%|          | 0/15 [00:00<?, ?it/s]"
     ]
    },
    {
     "name": "stdout",
     "output_type": "stream",
     "text": [
      "0.8\n"
     ]
    },
    {
     "name": "stderr",
     "output_type": "stream",
     "text": [
      "100%|██████████| 15/15 [00:04<00:00,  3.39it/s]\n",
      "100%|██████████| 3470/3470 [00:00<00:00, 9300.83it/s]"
     ]
    },
    {
     "name": "stdout",
     "output_type": "stream",
     "text": [
      "0.9\n"
     ]
    },
    {
     "name": "stderr",
     "output_type": "stream",
     "text": [
      "\n"
     ]
    }
   ],
   "source": [
    "from implicit.als import AlternatingLeastSquares\n",
    "regularizations = [0.003, 0.01, 0.03, 0.1, 0.3, 1, 3, 10, 20, 40]\n",
    "alpha = 15\n",
    "for i in range(len(regularizations)):\n",
    "    model = AlternatingLeastSquares(factors=128, regularization=regularizations[i], iterations=15, use_native=True, use_cg=True)\n",
    "    model.fit(train * alpha)\n",
    "    p = ranking_metrics_at_k(model, train, test, K=10, num_threads=4)\n",
    "    init_df = pd.concat((init_df, pd.DataFrame(p, index=['reg: ' + str(regularizations[i])])), axis=0)\n",
    "    print(i / len(regularizations))"
   ]
  },
  {
   "cell_type": "code",
   "execution_count": 178,
   "metadata": {},
   "outputs": [
    {
     "data": {
      "text/html": [
       "<div>\n",
       "<style scoped>\n",
       "    .dataframe tbody tr th:only-of-type {\n",
       "        vertical-align: middle;\n",
       "    }\n",
       "\n",
       "    .dataframe tbody tr th {\n",
       "        vertical-align: top;\n",
       "    }\n",
       "\n",
       "    .dataframe thead th {\n",
       "        text-align: right;\n",
       "    }\n",
       "</style>\n",
       "<table border=\"1\" class=\"dataframe\">\n",
       "  <thead>\n",
       "    <tr style=\"text-align: right;\">\n",
       "      <th></th>\n",
       "      <th>precision</th>\n",
       "      <th>map</th>\n",
       "      <th>ndcg</th>\n",
       "      <th>auc</th>\n",
       "    </tr>\n",
       "  </thead>\n",
       "  <tbody>\n",
       "    <tr>\n",
       "      <th>reg: 0.001</th>\n",
       "      <td>0.203908</td>\n",
       "      <td>0.091570</td>\n",
       "      <td>0.187735</td>\n",
       "      <td>0.532693</td>\n",
       "    </tr>\n",
       "    <tr>\n",
       "      <th>reg: 0.003</th>\n",
       "      <td>0.207597</td>\n",
       "      <td>0.094610</td>\n",
       "      <td>0.191718</td>\n",
       "      <td>0.532953</td>\n",
       "    </tr>\n",
       "    <tr>\n",
       "      <th>reg: 0.01</th>\n",
       "      <td>0.205582</td>\n",
       "      <td>0.094251</td>\n",
       "      <td>0.192341</td>\n",
       "      <td>0.533178</td>\n",
       "    </tr>\n",
       "    <tr>\n",
       "      <th>reg: 0.03</th>\n",
       "      <td>0.209476</td>\n",
       "      <td>0.097526</td>\n",
       "      <td>0.196607</td>\n",
       "      <td>0.533620</td>\n",
       "    </tr>\n",
       "    <tr>\n",
       "      <th>reg: 0.1</th>\n",
       "      <td>0.206607</td>\n",
       "      <td>0.094425</td>\n",
       "      <td>0.192672</td>\n",
       "      <td>0.534375</td>\n",
       "    </tr>\n",
       "    <tr>\n",
       "      <th>reg: 0.3</th>\n",
       "      <td>0.212209</td>\n",
       "      <td>0.096806</td>\n",
       "      <td>0.195736</td>\n",
       "      <td>0.533782</td>\n",
       "    </tr>\n",
       "    <tr>\n",
       "      <th>reg: 1</th>\n",
       "      <td>0.213337</td>\n",
       "      <td>0.099423</td>\n",
       "      <td>0.198824</td>\n",
       "      <td>0.534537</td>\n",
       "    </tr>\n",
       "    <tr>\n",
       "      <th>reg: 3</th>\n",
       "      <td>0.207666</td>\n",
       "      <td>0.093935</td>\n",
       "      <td>0.191880</td>\n",
       "      <td>0.532945</td>\n",
       "    </tr>\n",
       "    <tr>\n",
       "      <th>reg: 10</th>\n",
       "      <td>0.210740</td>\n",
       "      <td>0.096722</td>\n",
       "      <td>0.195408</td>\n",
       "      <td>0.533844</td>\n",
       "    </tr>\n",
       "    <tr>\n",
       "      <th>reg: 20</th>\n",
       "      <td>0.222492</td>\n",
       "      <td>0.104173</td>\n",
       "      <td>0.205851</td>\n",
       "      <td>0.534349</td>\n",
       "    </tr>\n",
       "    <tr>\n",
       "      <th>reg: 40</th>\n",
       "      <td>0.236395</td>\n",
       "      <td>0.113582</td>\n",
       "      <td>0.220089</td>\n",
       "      <td>0.537227</td>\n",
       "    </tr>\n",
       "  </tbody>\n",
       "</table>\n",
       "</div>"
      ],
      "text/plain": [
       "            precision       map      ndcg       auc\n",
       "reg: 0.001   0.203908  0.091570  0.187735  0.532693\n",
       "reg: 0.003   0.207597  0.094610  0.191718  0.532953\n",
       "reg: 0.01    0.205582  0.094251  0.192341  0.533178\n",
       "reg: 0.03    0.209476  0.097526  0.196607  0.533620\n",
       "reg: 0.1     0.206607  0.094425  0.192672  0.534375\n",
       "reg: 0.3     0.212209  0.096806  0.195736  0.533782\n",
       "reg: 1       0.213337  0.099423  0.198824  0.534537\n",
       "reg: 3       0.207666  0.093935  0.191880  0.532945\n",
       "reg: 10      0.210740  0.096722  0.195408  0.533844\n",
       "reg: 20      0.222492  0.104173  0.205851  0.534349\n",
       "reg: 40      0.236395  0.113582  0.220089  0.537227"
      ]
     },
     "execution_count": 178,
     "metadata": {},
     "output_type": "execute_result"
    }
   ],
   "source": [
    "init_df"
   ]
  },
  {
   "cell_type": "code",
   "execution_count": 168,
   "metadata": {},
   "outputs": [
    {
     "data": {
      "text/html": [
       "<div>\n",
       "<style scoped>\n",
       "    .dataframe tbody tr th:only-of-type {\n",
       "        vertical-align: middle;\n",
       "    }\n",
       "\n",
       "    .dataframe tbody tr th {\n",
       "        vertical-align: top;\n",
       "    }\n",
       "\n",
       "    .dataframe thead th {\n",
       "        text-align: right;\n",
       "    }\n",
       "</style>\n",
       "<table border=\"1\" class=\"dataframe\">\n",
       "  <thead>\n",
       "    <tr style=\"text-align: right;\">\n",
       "      <th></th>\n",
       "      <th>precision</th>\n",
       "      <th>map</th>\n",
       "      <th>ndcg</th>\n",
       "      <th>auc</th>\n",
       "    </tr>\n",
       "  </thead>\n",
       "  <tbody>\n",
       "    <tr>\n",
       "      <th>reg: 0.001</th>\n",
       "      <td>0.275647</td>\n",
       "      <td>0.142135</td>\n",
       "      <td>0.256260</td>\n",
       "      <td>0.540093</td>\n",
       "    </tr>\n",
       "    <tr>\n",
       "      <th>reg: 0.003</th>\n",
       "      <td>0.276945</td>\n",
       "      <td>0.145457</td>\n",
       "      <td>0.260200</td>\n",
       "      <td>0.540275</td>\n",
       "    </tr>\n",
       "    <tr>\n",
       "      <th>reg: 0.01</th>\n",
       "      <td>0.277662</td>\n",
       "      <td>0.143902</td>\n",
       "      <td>0.257661</td>\n",
       "      <td>0.539836</td>\n",
       "    </tr>\n",
       "    <tr>\n",
       "      <th>reg: 0.03</th>\n",
       "      <td>0.273050</td>\n",
       "      <td>0.142123</td>\n",
       "      <td>0.256762</td>\n",
       "      <td>0.539842</td>\n",
       "    </tr>\n",
       "    <tr>\n",
       "      <th>reg: 0.1</th>\n",
       "      <td>0.282684</td>\n",
       "      <td>0.148001</td>\n",
       "      <td>0.263153</td>\n",
       "      <td>0.540671</td>\n",
       "    </tr>\n",
       "    <tr>\n",
       "      <th>reg: 0.3</th>\n",
       "      <td>0.282410</td>\n",
       "      <td>0.145258</td>\n",
       "      <td>0.261059</td>\n",
       "      <td>0.540982</td>\n",
       "    </tr>\n",
       "    <tr>\n",
       "      <th>reg: 1</th>\n",
       "      <td>0.277560</td>\n",
       "      <td>0.143474</td>\n",
       "      <td>0.258623</td>\n",
       "      <td>0.540241</td>\n",
       "    </tr>\n",
       "    <tr>\n",
       "      <th>reg: 3</th>\n",
       "      <td>0.280190</td>\n",
       "      <td>0.147173</td>\n",
       "      <td>0.262406</td>\n",
       "      <td>0.540536</td>\n",
       "    </tr>\n",
       "    <tr>\n",
       "      <th>reg: 10</th>\n",
       "      <td>0.287330</td>\n",
       "      <td>0.152530</td>\n",
       "      <td>0.268325</td>\n",
       "      <td>0.541380</td>\n",
       "    </tr>\n",
       "    <tr>\n",
       "      <th>reg: 20</th>\n",
       "      <td>0.296826</td>\n",
       "      <td>0.159597</td>\n",
       "      <td>0.277751</td>\n",
       "      <td>0.542580</td>\n",
       "    </tr>\n",
       "    <tr>\n",
       "      <th>reg: 40</th>\n",
       "      <td>0.318348</td>\n",
       "      <td>0.175807</td>\n",
       "      <td>0.297263</td>\n",
       "      <td>0.544678</td>\n",
       "    </tr>\n",
       "  </tbody>\n",
       "</table>\n",
       "</div>"
      ],
      "text/plain": [
       "            precision       map      ndcg       auc\n",
       "reg: 0.001   0.275647  0.142135  0.256260  0.540093\n",
       "reg: 0.003   0.276945  0.145457  0.260200  0.540275\n",
       "reg: 0.01    0.277662  0.143902  0.257661  0.539836\n",
       "reg: 0.03    0.273050  0.142123  0.256762  0.539842\n",
       "reg: 0.1     0.282684  0.148001  0.263153  0.540671\n",
       "reg: 0.3     0.282410  0.145258  0.261059  0.540982\n",
       "reg: 1       0.277560  0.143474  0.258623  0.540241\n",
       "reg: 3       0.280190  0.147173  0.262406  0.540536\n",
       "reg: 10      0.287330  0.152530  0.268325  0.541380\n",
       "reg: 20      0.296826  0.159597  0.277751  0.542580\n",
       "reg: 40      0.318348  0.175807  0.297263  0.544678"
      ]
     },
     "execution_count": 168,
     "metadata": {},
     "output_type": "execute_result"
    }
   ],
   "source": [
    "init_df # alpha=5"
   ]
  },
  {
   "cell_type": "code",
   "execution_count": 164,
   "metadata": {},
   "outputs": [
    {
     "data": {
      "text/html": [
       "<div>\n",
       "<style scoped>\n",
       "    .dataframe tbody tr th:only-of-type {\n",
       "        vertical-align: middle;\n",
       "    }\n",
       "\n",
       "    .dataframe tbody tr th {\n",
       "        vertical-align: top;\n",
       "    }\n",
       "\n",
       "    .dataframe thead th {\n",
       "        text-align: right;\n",
       "    }\n",
       "</style>\n",
       "<table border=\"1\" class=\"dataframe\">\n",
       "  <thead>\n",
       "    <tr style=\"text-align: right;\">\n",
       "      <th></th>\n",
       "      <th>precision</th>\n",
       "      <th>map</th>\n",
       "      <th>ndcg</th>\n",
       "      <th>auc</th>\n",
       "    </tr>\n",
       "  </thead>\n",
       "  <tbody>\n",
       "    <tr>\n",
       "      <th>reg: 0.001</th>\n",
       "      <td>0.204694</td>\n",
       "      <td>0.092708</td>\n",
       "      <td>0.188691</td>\n",
       "      <td>0.532273</td>\n",
       "    </tr>\n",
       "    <tr>\n",
       "      <th>reg: 0.003</th>\n",
       "      <td>0.206743</td>\n",
       "      <td>0.095636</td>\n",
       "      <td>0.192071</td>\n",
       "      <td>0.532049</td>\n",
       "    </tr>\n",
       "    <tr>\n",
       "      <th>reg: 0.01</th>\n",
       "      <td>0.210774</td>\n",
       "      <td>0.096524</td>\n",
       "      <td>0.194036</td>\n",
       "      <td>0.533175</td>\n",
       "    </tr>\n",
       "    <tr>\n",
       "      <th>reg: 0.03</th>\n",
       "      <td>0.207358</td>\n",
       "      <td>0.093976</td>\n",
       "      <td>0.190589</td>\n",
       "      <td>0.532587</td>\n",
       "    </tr>\n",
       "    <tr>\n",
       "      <th>reg: 0.1</th>\n",
       "      <td>0.209306</td>\n",
       "      <td>0.094043</td>\n",
       "      <td>0.192157</td>\n",
       "      <td>0.533485</td>\n",
       "    </tr>\n",
       "    <tr>\n",
       "      <th>reg: 0.3</th>\n",
       "      <td>0.210023</td>\n",
       "      <td>0.096654</td>\n",
       "      <td>0.195236</td>\n",
       "      <td>0.534035</td>\n",
       "    </tr>\n",
       "    <tr>\n",
       "      <th>reg: 1</th>\n",
       "      <td>0.211594</td>\n",
       "      <td>0.099213</td>\n",
       "      <td>0.198210</td>\n",
       "      <td>0.534196</td>\n",
       "    </tr>\n",
       "    <tr>\n",
       "      <th>reg: 3</th>\n",
       "      <td>0.204728</td>\n",
       "      <td>0.092348</td>\n",
       "      <td>0.189119</td>\n",
       "      <td>0.532795</td>\n",
       "    </tr>\n",
       "    <tr>\n",
       "      <th>reg: 10</th>\n",
       "      <td>0.212961</td>\n",
       "      <td>0.097938</td>\n",
       "      <td>0.196850</td>\n",
       "      <td>0.533927</td>\n",
       "    </tr>\n",
       "    <tr>\n",
       "      <th>reg: 20</th>\n",
       "      <td>0.223448</td>\n",
       "      <td>0.103368</td>\n",
       "      <td>0.205401</td>\n",
       "      <td>0.534644</td>\n",
       "    </tr>\n",
       "    <tr>\n",
       "      <th>reg: 40</th>\n",
       "      <td>0.238513</td>\n",
       "      <td>0.113831</td>\n",
       "      <td>0.219990</td>\n",
       "      <td>0.536411</td>\n",
       "    </tr>\n",
       "  </tbody>\n",
       "</table>\n",
       "</div>"
      ],
      "text/plain": [
       "            precision       map      ndcg       auc\n",
       "reg: 0.001   0.204694  0.092708  0.188691  0.532273\n",
       "reg: 0.003   0.206743  0.095636  0.192071  0.532049\n",
       "reg: 0.01    0.210774  0.096524  0.194036  0.533175\n",
       "reg: 0.03    0.207358  0.093976  0.190589  0.532587\n",
       "reg: 0.1     0.209306  0.094043  0.192157  0.533485\n",
       "reg: 0.3     0.210023  0.096654  0.195236  0.534035\n",
       "reg: 1       0.211594  0.099213  0.198210  0.534196\n",
       "reg: 3       0.204728  0.092348  0.189119  0.532795\n",
       "reg: 10      0.212961  0.097938  0.196850  0.533927\n",
       "reg: 20      0.223448  0.103368  0.205401  0.534644\n",
       "reg: 40      0.238513  0.113831  0.219990  0.536411"
      ]
     },
     "execution_count": 164,
     "metadata": {},
     "output_type": "execute_result"
    }
   ],
   "source": [
    "init_df # aöpha = 15"
   ]
  },
  {
   "cell_type": "code",
   "execution_count": 160,
   "metadata": {},
   "outputs": [
    {
     "data": {
      "text/html": [
       "<div>\n",
       "<style scoped>\n",
       "    .dataframe tbody tr th:only-of-type {\n",
       "        vertical-align: middle;\n",
       "    }\n",
       "\n",
       "    .dataframe tbody tr th {\n",
       "        vertical-align: top;\n",
       "    }\n",
       "\n",
       "    .dataframe thead th {\n",
       "        text-align: right;\n",
       "    }\n",
       "</style>\n",
       "<table border=\"1\" class=\"dataframe\">\n",
       "  <thead>\n",
       "    <tr style=\"text-align: right;\">\n",
       "      <th></th>\n",
       "      <th>precision</th>\n",
       "      <th>map</th>\n",
       "      <th>ndcg</th>\n",
       "      <th>auc</th>\n",
       "    </tr>\n",
       "  </thead>\n",
       "  <tbody>\n",
       "    <tr>\n",
       "      <th>reg: 0.001</th>\n",
       "      <td>0.177365</td>\n",
       "      <td>0.076519</td>\n",
       "      <td>0.162823</td>\n",
       "      <td>0.529095</td>\n",
       "    </tr>\n",
       "    <tr>\n",
       "      <th>reg: 0.003</th>\n",
       "      <td>0.175657</td>\n",
       "      <td>0.076139</td>\n",
       "      <td>0.162595</td>\n",
       "      <td>0.528929</td>\n",
       "    </tr>\n",
       "    <tr>\n",
       "      <th>reg: 0.01</th>\n",
       "      <td>0.175793</td>\n",
       "      <td>0.076655</td>\n",
       "      <td>0.163287</td>\n",
       "      <td>0.528527</td>\n",
       "    </tr>\n",
       "    <tr>\n",
       "      <th>reg: 0.03</th>\n",
       "      <td>0.175349</td>\n",
       "      <td>0.075697</td>\n",
       "      <td>0.161742</td>\n",
       "      <td>0.529638</td>\n",
       "    </tr>\n",
       "    <tr>\n",
       "      <th>reg: 0.1</th>\n",
       "      <td>0.179927</td>\n",
       "      <td>0.078557</td>\n",
       "      <td>0.166509</td>\n",
       "      <td>0.529492</td>\n",
       "    </tr>\n",
       "    <tr>\n",
       "      <th>reg: 0.3</th>\n",
       "      <td>0.181942</td>\n",
       "      <td>0.078665</td>\n",
       "      <td>0.167816</td>\n",
       "      <td>0.530604</td>\n",
       "    </tr>\n",
       "    <tr>\n",
       "      <th>reg: 1</th>\n",
       "      <td>0.177467</td>\n",
       "      <td>0.076356</td>\n",
       "      <td>0.164014</td>\n",
       "      <td>0.529878</td>\n",
       "    </tr>\n",
       "    <tr>\n",
       "      <th>reg: 3</th>\n",
       "      <td>0.178936</td>\n",
       "      <td>0.077334</td>\n",
       "      <td>0.165528</td>\n",
       "      <td>0.530628</td>\n",
       "    </tr>\n",
       "    <tr>\n",
       "      <th>reg: 10</th>\n",
       "      <td>0.178868</td>\n",
       "      <td>0.076127</td>\n",
       "      <td>0.165011</td>\n",
       "      <td>0.529261</td>\n",
       "    </tr>\n",
       "    <tr>\n",
       "      <th>reg: 20</th>\n",
       "      <td>0.186144</td>\n",
       "      <td>0.081093</td>\n",
       "      <td>0.171609</td>\n",
       "      <td>0.531458</td>\n",
       "    </tr>\n",
       "    <tr>\n",
       "      <th>reg: 40</th>\n",
       "      <td>0.199125</td>\n",
       "      <td>0.088931</td>\n",
       "      <td>0.183597</td>\n",
       "      <td>0.532606</td>\n",
       "    </tr>\n",
       "  </tbody>\n",
       "</table>\n",
       "</div>"
      ],
      "text/plain": [
       "            precision       map      ndcg       auc\n",
       "reg: 0.001   0.177365  0.076519  0.162823  0.529095\n",
       "reg: 0.003   0.175657  0.076139  0.162595  0.528929\n",
       "reg: 0.01    0.175793  0.076655  0.163287  0.528527\n",
       "reg: 0.03    0.175349  0.075697  0.161742  0.529638\n",
       "reg: 0.1     0.179927  0.078557  0.166509  0.529492\n",
       "reg: 0.3     0.181942  0.078665  0.167816  0.530604\n",
       "reg: 1       0.177467  0.076356  0.164014  0.529878\n",
       "reg: 3       0.178936  0.077334  0.165528  0.530628\n",
       "reg: 10      0.178868  0.076127  0.165011  0.529261\n",
       "reg: 20      0.186144  0.081093  0.171609  0.531458\n",
       "reg: 40      0.199125  0.088931  0.183597  0.532606"
      ]
     },
     "execution_count": 160,
     "metadata": {},
     "output_type": "execute_result"
    }
   ],
   "source": [
    "init_df # alpha = 27"
   ]
  },
  {
   "cell_type": "code",
   "execution_count": 152,
   "metadata": {},
   "outputs": [
    {
     "data": {
      "text/html": [
       "<div>\n",
       "<style scoped>\n",
       "    .dataframe tbody tr th:only-of-type {\n",
       "        vertical-align: middle;\n",
       "    }\n",
       "\n",
       "    .dataframe tbody tr th {\n",
       "        vertical-align: top;\n",
       "    }\n",
       "\n",
       "    .dataframe thead th {\n",
       "        text-align: right;\n",
       "    }\n",
       "</style>\n",
       "<table border=\"1\" class=\"dataframe\">\n",
       "  <thead>\n",
       "    <tr style=\"text-align: right;\">\n",
       "      <th></th>\n",
       "      <th>precision</th>\n",
       "      <th>map</th>\n",
       "      <th>ndcg</th>\n",
       "      <th>auc</th>\n",
       "    </tr>\n",
       "  </thead>\n",
       "  <tbody>\n",
       "    <tr>\n",
       "      <th>1</th>\n",
       "      <td>0.175938</td>\n",
       "      <td>0.098132</td>\n",
       "      <td>0.166902</td>\n",
       "      <td>0.51779</td>\n",
       "    </tr>\n",
       "  </tbody>\n",
       "</table>\n",
       "</div>"
      ],
      "text/plain": [
       "   precision       map      ndcg      auc\n",
       "1   0.175938  0.098132  0.166902  0.51779"
      ]
     },
     "execution_count": 152,
     "metadata": {},
     "output_type": "execute_result"
    }
   ],
   "source": [
    "pd.DataFrame(p, index=[1])"
   ]
  },
  {
   "cell_type": "code",
   "execution_count": 129,
   "metadata": {},
   "outputs": [
    {
     "data": {
      "text/plain": [
       "8.05218508037773"
      ]
     },
     "execution_count": 129,
     "metadata": {},
     "output_type": "execute_result"
    }
   ],
   "source": [
    "alpha = (train.shape[0] * train.shape[1] - train.nnz) / sum(train.data)\n",
    "alpha"
   ]
  },
  {
   "cell_type": "code",
   "execution_count": 133,
   "metadata": {},
   "outputs": [
    {
     "name": "stderr",
     "output_type": "stream",
     "text": [
      "100%|██████████| 15/15 [00:04<00:00,  3.00it/s]\n",
      "100%|██████████| 3470/3470 [00:00<00:00, 8260.02it/s]\n"
     ]
    },
    {
     "data": {
      "text/plain": [
       "{'precision': 0.26085471253373416,\n",
       " 'map': 0.12917824423504048,\n",
       " 'ndcg': 0.24068824646783163,\n",
       " 'auc': 0.5385924544400514}"
      ]
     },
     "execution_count": 133,
     "metadata": {},
     "output_type": "execute_result"
    }
   ],
   "source": [
    "from implicit.evaluation import precision_at_k, train_test_split\n",
    "from implicit.als import AlternatingLeastSquares\n",
    "from implicit.datasets.movielens import get_movielens\n",
    "\n",
    "movies, ratings = get_movielens(\"1m\")\n",
    "train, test = implicit.evaluation.train_test_split(ratings)\n",
    "\n",
    "model = AlternatingLeastSquares(factors=128, regularization=0.01, iterations=15)\n",
    "alpha = (ratings.shape[0] * ratings.shape[1] - ratings.nnz) / sum(ratings.data)\n",
    "model.fit(train * alpha)\n",
    "\n",
    "p = ranking_metrics_at_k(model, train, test, K=10, num_threads=4)\n",
    "p"
   ]
  }
 ],
 "metadata": {
  "kernelspec": {
   "display_name": "Python 3.8.5",
   "language": "python",
   "name": "python3"
  },
  "language_info": {
   "codemirror_mode": {
    "name": "ipython",
    "version": 3
   },
   "file_extension": ".py",
   "mimetype": "text/x-python",
   "name": "python",
   "nbconvert_exporter": "python",
   "pygments_lexer": "ipython3",
   "version": "3.8.5"
  },
  "orig_nbformat": 4,
  "vscode": {
   "interpreter": {
    "hash": "5d12259fae5b28c6154b1142ab47a20fd9a5ed96dba143a66549a6b78840fa71"
   }
  }
 },
 "nbformat": 4,
 "nbformat_minor": 2
}
