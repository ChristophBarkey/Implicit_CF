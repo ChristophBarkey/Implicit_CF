{
 "cells": [
  {
   "cell_type": "code",
   "execution_count": 20,
   "metadata": {},
   "outputs": [],
   "source": [
    "from cv_py import CrossValidation\n",
    "\n",
    "import pandas as pd\n",
    "import numpy as np\n",
    "from itertools import product\n",
    "import implicit\n",
    "\n",
    "class CrossValidationiALS(CrossValidation):\n",
    "    \n",
    "    def __init__(self, user_item, k):\n",
    "        CrossValidation.__init__(self, user_item, k)\n",
    "\n",
    "    def hyperp_tuning(self, test, train, param_space, eval):\n",
    "        keys, values = zip(*param_space.items())\n",
    "        result = [dict(zip(keys, p)) for p in product(*values)]\n",
    "        first_iter = True\n",
    "        for r in result:\n",
    "            model = implicit.als.AlternatingLeastSquares(factors=r['factors'], regularization=r['regularization'], alpha=r['alpha'])\n",
    "            if eval == 'cv':\n",
    "                res = self.k_fold_eval(test, train, model, return_type='mean')\n",
    "            if eval == 'split':\n",
    "                res = self.evaluate_model(model, train, test, 10)\n",
    "\n",
    "            if first_iter == True:\n",
    "                metrics_frame = res\n",
    "                first_iter = False\n",
    "            else:\n",
    "                metrics_frame = pd.concat((metrics_frame, res), axis=0)\n",
    "        param_df = pd.DataFrame(result)\n",
    "        ret = pd.concat((param_df.reset_index(drop=True), metrics_frame.reset_index(drop=True)), axis=1)\n",
    "        return ret\n",
    "    "
   ]
  }
 ],
 "metadata": {
  "kernelspec": {
   "display_name": "Python 3.8.5",
   "language": "python",
   "name": "python3"
  },
  "language_info": {
   "codemirror_mode": {
    "name": "ipython",
    "version": 3
   },
   "file_extension": ".py",
   "mimetype": "text/x-python",
   "name": "python",
   "nbconvert_exporter": "python",
   "pygments_lexer": "ipython3",
   "version": "3.8.5"
  },
  "orig_nbformat": 4,
  "vscode": {
   "interpreter": {
    "hash": "5d12259fae5b28c6154b1142ab47a20fd9a5ed96dba143a66549a6b78840fa71"
   }
  }
 },
 "nbformat": 4,
 "nbformat_minor": 2
}
