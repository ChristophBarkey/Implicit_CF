{
 "cells": [
  {
   "cell_type": "code",
   "execution_count": 51,
   "metadata": {},
   "outputs": [],
   "source": [
    "import pandas as pd\n",
    "import numpy as np\n",
    "from scipy.sparse import coo_matrix, csr_matrix\n",
    "\n",
    "\n",
    "class DataLoader:\n",
    "\n",
    "    def __init__(self):\n",
    "        pass\n",
    "\n",
    "    # integrated func to load co(d) data and return csr user_item\n",
    "    def import_agco_co(self, clip) :\n",
    "        co = pd.read_csv('co_agco_new.csv', sep = '|', low_memory=False)\n",
    "        cd = pd.read_csv('cd_agco_new.csv', sep = '|', low_memory=False)\n",
    "        cod = pd.merge(co, cd, on='co_id', how='inner')\n",
    "        locations = pd.read_csv('locations_agco_new.csv', sep='|', low_memory=False)\n",
    "        cod_loc = pd.merge(cod, locations, left_on='supply_location_id', right_on='location_id', how='left')\n",
    "        dealer_items = cod_loc[['group1', 'item_id', 'requested_quantity']]\n",
    "        user_item = dealer_items.groupby(by=['group1', 'item_id']).sum().reset_index()\n",
    "        user_item.columns = ['user', 'item', 'purchases']\n",
    "        user_item = user_item.loc[user_item.purchases > 0]\n",
    "        if clip < 100 :\n",
    "            user_item['purchases'] = np.clip(user_item.purchases, a_min=1, a_max=np.percentile(user_item.purchases, clip))\n",
    "        user_item['user'] = pd.Categorical(user_item.user).codes\n",
    "        user_item['item'] = pd.Categorical(user_item.item).codes\n",
    "        user_item_coo = coo_matrix((user_item.purchases, (user_item.user, user_item.item)))\n",
    "        user_item_csr = user_item_coo.tocsr()\n",
    "        return user_item_csr\n",
    "\n",
    "    # func to get the number of items each user has interacted with\n",
    "    def items_per_user(self, csr):\n",
    "        df = pd.DataFrame({'user' : csr.tocoo().row, 'item' : csr.tocoo().col})\n",
    "        df_agg = df.groupby(by=['user']).count()\n",
    "        return df_agg\n"
   ]
  }
 ],
 "metadata": {
  "kernelspec": {
   "display_name": "Python 3.9.7",
   "language": "python",
   "name": "python3"
  },
  "language_info": {
   "codemirror_mode": {
    "name": "ipython",
    "version": 3
   },
   "file_extension": ".py",
   "mimetype": "text/x-python",
   "name": "python",
   "nbconvert_exporter": "python",
   "pygments_lexer": "ipython3",
   "version": "3.9.7"
  },
  "orig_nbformat": 4,
  "vscode": {
   "interpreter": {
    "hash": "b4efcf30d150067e76aa0880eb47772143c44e1fc3c522760740bd759ef99df4"
   }
  }
 },
 "nbformat": 4,
 "nbformat_minor": 2
}
