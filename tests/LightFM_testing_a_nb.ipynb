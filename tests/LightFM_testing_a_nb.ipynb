{
 "cells": [
  {
   "cell_type": "code",
   "execution_count": 1,
   "metadata": {},
   "outputs": [
    {
     "name": "stdout",
     "output_type": "stream",
     "text": [
      "C:\\Users\\781110104\\OneDrive - Genpact\\Documents\\VSCode\n"
     ]
    },
    {
     "name": "stderr",
     "output_type": "stream",
     "text": [
      "c:\\Users\\781110104\\Anaconda3\\lib\\site-packages\\lightfm\\_lightfm_fast.py:9: UserWarning: LightFM was compiled without OpenMP support. Only a single thread will be used.\n",
      "  warnings.warn(\n"
     ]
    }
   ],
   "source": [
    "import pandas as pd\n",
    "import numpy as np\n",
    "from dataloading import DataLoader\n",
    "from eda_py import EDA\n",
    "from eALS_adaptor import eALSAdaptor\n",
    "from implicit.evaluation import train_test_split, ranking_metrics_at_k\n",
    "from cv_py import CrossValidation\n",
    "from visualize_py import Visualize\n",
    "from lightFM_adoptor import LightFMAdaptor\n",
    "from lightfm import LightFM\n",
    "from datapreparation_py import DataPreparation\n",
    "from scipy import sparse\n",
    "\n",
    "%cd C:\\Users\\781110104\\OneDrive - Genpact\\Documents\\VSCode"
   ]
  },
  {
   "cell_type": "markdown",
   "metadata": {},
   "source": [
    "Loading and saving OEM1 data. Since the data is large, this takes a lot of time, but loading the data in the future is fast."
   ]
  },
  {
   "cell_type": "code",
   "execution_count": 2,
   "metadata": {},
   "outputs": [],
   "source": [
    "dl = DataLoader()\n",
    "user_item_co = dl.import_data('AGCO', 'CO', 'df')"
   ]
  },
  {
   "cell_type": "code",
   "execution_count": 3,
   "metadata": {},
   "outputs": [],
   "source": [
    "user_item_co_filtered = dl.remove_low_interact_items(user_item_co, 1)\n",
    "user_item_filtered_log_t = dl.log_scale_df(user_item_co_filtered, 0.01)"
   ]
  },
  {
   "cell_type": "code",
   "execution_count": 4,
   "metadata": {},
   "outputs": [],
   "source": [
    "dp = DataPreparation(user_item_filtered_log_t)"
   ]
  },
  {
   "cell_type": "code",
   "execution_count": 5,
   "metadata": {},
   "outputs": [],
   "source": [
    "interactions_csr, weights_csr = dp.get_interaction_data()"
   ]
  },
  {
   "cell_type": "code",
   "execution_count": 106,
   "metadata": {},
   "outputs": [],
   "source": [
    "sparse.save_npz('interactions_csr.npz', interactions_csr)\n",
    "sparse.save_npz('weights_csr.npz', weights_csr)"
   ]
  },
  {
   "cell_type": "code",
   "execution_count": 6,
   "metadata": {},
   "outputs": [],
   "source": [
    "user_features = ['country', 'currency', 'dealer_size']\n",
    "item_features = ['group2', 'movement_code', 'cost_class', 'cps_category']   \n",
    "userf, itemf = dp.get_feature_data(OEM='AGCO', user_features=user_features, item_features=item_features)"
   ]
  },
  {
   "cell_type": "code",
   "execution_count": 8,
   "metadata": {},
   "outputs": [],
   "source": [
    "item_features = ['group2']   \n",
    "itemf_group = dp.get_feature_data(OEM='AGCO', item_features=item_features)"
   ]
  },
  {
   "cell_type": "code",
   "execution_count": 9,
   "metadata": {},
   "outputs": [],
   "source": [
    "item_features = ['movement_code']   \n",
    "itemf_move = dp.get_feature_data(OEM='AGCO', item_features=item_features)"
   ]
  },
  {
   "cell_type": "code",
   "execution_count": 10,
   "metadata": {},
   "outputs": [],
   "source": [
    "item_features = ['cost_class']   \n",
    "itemf_cost = dp.get_feature_data(OEM='AGCO', item_features=item_features)"
   ]
  },
  {
   "cell_type": "code",
   "execution_count": 11,
   "metadata": {},
   "outputs": [],
   "source": [
    "item_features = ['cps_category']   \n",
    "itemf_cps = dp.get_feature_data(OEM='AGCO', item_features=item_features)"
   ]
  },
  {
   "cell_type": "code",
   "execution_count": 12,
   "metadata": {},
   "outputs": [],
   "source": [
    "item_features = ['group2', 'movement_code']   \n",
    "itemf_group_move = dp.get_feature_data(OEM='AGCO', item_features=item_features)"
   ]
  },
  {
   "cell_type": "code",
   "execution_count": 13,
   "metadata": {},
   "outputs": [],
   "source": [
    "item_features = ['group2', 'cost_class']   \n",
    "itemf_group_cost = dp.get_feature_data(OEM='AGCO', item_features=item_features)"
   ]
  },
  {
   "cell_type": "code",
   "execution_count": 14,
   "metadata": {},
   "outputs": [],
   "source": [
    "item_features = ['group2', 'cps_category']   \n",
    "itemf_group_cps = dp.get_feature_data(OEM='AGCO', item_features=item_features)"
   ]
  },
  {
   "cell_type": "code",
   "execution_count": 15,
   "metadata": {},
   "outputs": [],
   "source": [
    "item_features = ['movement_code', 'cost_class']   \n",
    "itemf_move_cost = dp.get_feature_data(OEM='AGCO', item_features=item_features)"
   ]
  },
  {
   "cell_type": "code",
   "execution_count": 16,
   "metadata": {},
   "outputs": [],
   "source": [
    "item_features = ['movement_code', 'cps_category']   \n",
    "itemf_move_cps = dp.get_feature_data(OEM='AGCO', item_features=item_features)"
   ]
  },
  {
   "cell_type": "code",
   "execution_count": 17,
   "metadata": {},
   "outputs": [],
   "source": [
    "item_features = ['cost_class', 'cps_category']   \n",
    "itemf_cost_cps = dp.get_feature_data(OEM='AGCO', item_features=item_features)"
   ]
  },
  {
   "cell_type": "code",
   "execution_count": 18,
   "metadata": {},
   "outputs": [],
   "source": [
    "item_features = ['group2', 'movement_code', 'cost_class']   \n",
    "itemf_group_move_cost = dp.get_feature_data(OEM='AGCO', item_features=item_features)"
   ]
  },
  {
   "cell_type": "code",
   "execution_count": 19,
   "metadata": {},
   "outputs": [],
   "source": [
    "item_features = ['group2', 'movement_code', 'cps_category']   \n",
    "itemf_group_move_cps = dp.get_feature_data(OEM='AGCO', item_features=item_features)"
   ]
  },
  {
   "cell_type": "code",
   "execution_count": 20,
   "metadata": {},
   "outputs": [],
   "source": [
    "item_features = ['group2', 'cost_class', 'cps_category']   \n",
    "itemf_group_cost_cps = dp.get_feature_data(OEM='AGCO', item_features=item_features)"
   ]
  },
  {
   "cell_type": "code",
   "execution_count": 21,
   "metadata": {},
   "outputs": [],
   "source": [
    "item_features = ['movement_code', 'cost_class', 'cps_category']\n",
    "itemf_move_cost_cps = dp.get_feature_data(OEM='AGCO', item_features=item_features)"
   ]
  },
  {
   "cell_type": "code",
   "execution_count": 22,
   "metadata": {},
   "outputs": [],
   "source": [
    "user_features = ['country']   \n",
    "userf_country = dp.get_feature_data(OEM='AGCO', user_features=user_features)"
   ]
  },
  {
   "cell_type": "code",
   "execution_count": 23,
   "metadata": {},
   "outputs": [],
   "source": [
    "user_features = ['currency']   \n",
    "userf_curr = dp.get_feature_data(OEM='AGCO', user_features=user_features)"
   ]
  },
  {
   "cell_type": "code",
   "execution_count": 24,
   "metadata": {},
   "outputs": [],
   "source": [
    "user_features = ['dealer_size']   \n",
    "userf_ds = dp.get_feature_data(OEM='AGCO', user_features=user_features)"
   ]
  },
  {
   "cell_type": "code",
   "execution_count": 25,
   "metadata": {},
   "outputs": [],
   "source": [
    "user_features = ['country', 'currency']   \n",
    "userf_country_curr = dp.get_feature_data(OEM='AGCO', user_features=user_features)"
   ]
  },
  {
   "cell_type": "code",
   "execution_count": 26,
   "metadata": {},
   "outputs": [],
   "source": [
    "user_features = ['country', 'dealer_size']   \n",
    "userf_country_ds = dp.get_feature_data(OEM='AGCO', user_features=user_features)"
   ]
  },
  {
   "cell_type": "code",
   "execution_count": 27,
   "metadata": {},
   "outputs": [],
   "source": [
    "user_features = ['currency', 'dealer_size']   \n",
    "userf_curr_ds = dp.get_feature_data(OEM='AGCO', user_features=user_features)"
   ]
  },
  {
   "cell_type": "code",
   "execution_count": 42,
   "metadata": {},
   "outputs": [],
   "source": [
    "sparse.save_npz('itemf_move_cost_cps.npz', itemf_move_cost_cps[0])\n",
    "sparse.save_npz('itemf_group_cost_cps.npz', itemf_group_cost_cps[0])\n",
    "sparse.save_npz('itemf_group_move_cps.npz', itemf_group_move_cps[0])\n",
    "sparse.save_npz('itemf_group_move_cost.npz', itemf_group_move_cost[0])\n",
    "sparse.save_npz('itemf_cost_cps.npz', itemf_cost_cps[0])\n",
    "sparse.save_npz('itemf_move_cps.npz', itemf_move_cps[0])\n",
    "sparse.save_npz('itemf_move_cost.npz', itemf_move_cost[0])\n",
    "sparse.save_npz('itemf_group_cps.npz', itemf_group_cps[0])\n",
    "sparse.save_npz('itemf_group_cost.npz', itemf_group_cost[0])\n",
    "sparse.save_npz('itemf_group_move.npz', itemf_group_move[0])\n",
    "sparse.save_npz('itemf_cps.npz', itemf_cps[0])\n",
    "sparse.save_npz('itemf_cost.npz', itemf_cost[0])\n",
    "sparse.save_npz('itemf_move.npz', itemf_move[0])\n",
    "sparse.save_npz('itemf_group.npz', itemf_group[0])\n",
    "sparse.save_npz('itemf.npz', itemf)"
   ]
  },
  {
   "cell_type": "code",
   "execution_count": 105,
   "metadata": {},
   "outputs": [],
   "source": [
    "sparse.save_npz('userf.npz', userf)\n",
    "sparse.save_npz('userf_country.npz', userf_country[0])\n",
    "sparse.save_npz('userf_curr.npz', userf_curr[0])\n",
    "sparse.save_npz('userf_ds.npz', userf_ds[0])\n",
    "sparse.save_npz('userf_country_curr.npz', userf_country_curr[0])\n",
    "sparse.save_npz('userf_country_ds.npz', userf_country_ds[0])\n",
    "sparse.save_npz('userf_curr_ds.npz', userf_curr_ds[0])"
   ]
  },
  {
   "cell_type": "code",
   "execution_count": 6,
   "metadata": {},
   "outputs": [],
   "source": [
    "itemf_move_cost_cps = sparse.load_npz('itemf_move_cost_cps.npz')\n",
    "itemf_group_cost_cps = sparse.load_npz('itemf_group_cost_cps.npz')\n",
    "itemf_group_move_cps = sparse.load_npz('itemf_group_move_cps.npz')\n",
    "itemf_group_move_cost = sparse.load_npz('itemf_group_move_cost.npz')\n",
    "itemf_cost_cps = sparse.load_npz('itemf_cost_cps.npz')\n",
    "itemf_move_cps = sparse.load_npz('itemf_move_cps.npz')\n",
    "itemf_move_cost = sparse.load_npz('itemf_move_cost.npz')\n",
    "itemf_group_cps = sparse.load_npz('itemf_group_cps.npz')\n",
    "itemf_group_cost = sparse.load_npz('itemf_group_cost.npz')\n",
    "itemf_group_move = sparse.load_npz('itemf_group_move.npz')\n",
    "itemf_cps = sparse.load_npz('itemf_cps.npz')\n",
    "itemf_cost = sparse.load_npz('itemf_cost.npz')\n",
    "itemf_move = sparse.load_npz('itemf_move.npz')\n",
    "itemf_group = sparse.load_npz('itemf_group.npz')\n",
    "itemf = sparse.load_npz('itemf.npz')"
   ]
  },
  {
   "cell_type": "code",
   "execution_count": 43,
   "metadata": {},
   "outputs": [],
   "source": [
    "train_i, test_i = train_test_split(interactions_csr, 0.8, 22)\n",
    "train_w, test_w = train_test_split(weights_csr, 0.8, 22)"
   ]
  },
  {
   "cell_type": "code",
   "execution_count": 44,
   "metadata": {},
   "outputs": [],
   "source": [
    "cv = CrossValidation(5)"
   ]
  },
  {
   "cell_type": "code",
   "execution_count": 45,
   "metadata": {},
   "outputs": [],
   "source": [
    "cal_w, val_w = train_test_split(train_w, 0.8, 22)"
   ]
  },
  {
   "cell_type": "markdown",
   "metadata": {},
   "source": [
    "Testing and modeling for OEM1:"
   ]
  },
  {
   "cell_type": "code",
   "execution_count": 46,
   "metadata": {},
   "outputs": [],
   "source": [
    "# setting parameter and feature space:\n",
    "\n",
    "space_FM_warp = {'factors' : [64], 'regularization' : [0.0001, 0.0005, 0.001], 'learning_rate' : [0.005, 0.01, 0.05], 'iterations' : [15], 'loss' : ['warp'], 'max_sampled' : [80, 90, 100]}\n",
    "\n",
    "uf_combi = [None, userf]\n",
    "if_combi = [None, itemf]\n",
    "\n",
    "uf_names = ['None', 'userf']\n",
    "if_names = ['None', 'itemf']"
   ]
  },
  {
   "cell_type": "code",
   "execution_count": 86,
   "metadata": {},
   "outputs": [],
   "source": [
    "results_warp = cv.tune_FM(space=space_FM_warp, user_f=uf_combi, item_f=if_combi, uf_names=uf_names, if_names=if_names, train=cal_w, test=val_w, exclude=test_w)"
   ]
  },
  {
   "cell_type": "markdown",
   "metadata": {},
   "source": []
  }
 ],
 "metadata": {
  "kernelspec": {
   "display_name": "Python 3.9.7",
   "language": "python",
   "name": "python3"
  },
  "language_info": {
   "codemirror_mode": {
    "name": "ipython",
    "version": 3
   },
   "file_extension": ".py",
   "mimetype": "text/x-python",
   "name": "python",
   "nbconvert_exporter": "python",
   "pygments_lexer": "ipython3",
   "version": "3.9.7"
  },
  "orig_nbformat": 4,
  "vscode": {
   "interpreter": {
    "hash": "b4efcf30d150067e76aa0880eb47772143c44e1fc3c522760740bd759ef99df4"
   }
  }
 },
 "nbformat": 4,
 "nbformat_minor": 2
}
