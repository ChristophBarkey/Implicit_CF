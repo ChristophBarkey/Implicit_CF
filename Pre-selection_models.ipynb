{
 "cells": [
  {
   "cell_type": "markdown",
   "metadata": {},
   "source": [
    "Notebook for Pre-selection of models. For this purpose a shallow train/test evaluation protocol is applied:"
   ]
  },
  {
   "cell_type": "code",
   "execution_count": null,
   "metadata": {},
   "outputs": [],
   "source": [
    "import pandas as pd\n",
    "import numpy as np\n",
    "from dataloading import DataLoader\n",
    "from eda_py import EDA\n",
    "from eALS_adaptor import eALSAdaptor\n",
    "from implicit.evaluation import train_test_split, ranking_metrics_at_k\n",
    "from cv_py import CrossValidation"
   ]
  },
  {
   "cell_type": "code",
   "execution_count": null,
   "metadata": {},
   "outputs": [],
   "source": [
    "dl = DataLoader()"
   ]
  },
  {
   "cell_type": "code",
   "execution_count": null,
   "metadata": {},
   "outputs": [],
   "source": [
    "%cd C:\\Users\\781110104\\OneDrive - Genpact\\Documents\\VSCode"
   ]
  },
  {
   "cell_type": "code",
   "execution_count": null,
   "metadata": {},
   "outputs": [],
   "source": [
    "user_item_co = dl.import_data('AGCO', 'CO', 'df')\n",
    "user_item_co_t = dl.import_data('TEREX', 'CO', 'df')"
   ]
  },
  {
   "cell_type": "code",
   "execution_count": null,
   "metadata": {},
   "outputs": [],
   "source": [
    "user_item_filtered = dl.remove_low_interact_items(user_item_co, 1)\n",
    "user_item_filtered_t = dl.remove_low_interact_items(user_item_co_t, 1)"
   ]
  },
  {
   "cell_type": "code",
   "execution_count": null,
   "metadata": {},
   "outputs": [],
   "source": [
    "user_item_filtered_log = dl.log_scale_df(user_item_filtered, 0.01)\n",
    "user_item_filtered_log_t = dl.log_scale_df(user_item_filtered_t, 0.01)"
   ]
  },
  {
   "cell_type": "code",
   "execution_count": null,
   "metadata": {},
   "outputs": [],
   "source": [
    "user_item_csr = dl.to_csr(user_item_filtered_log)\n",
    "user_item_csr_t = dl.to_csr(user_item_filtered_log_t)"
   ]
  },
  {
   "cell_type": "code",
   "execution_count": null,
   "metadata": {},
   "outputs": [],
   "source": [
    "train, test = train_test_split(user_item_csr, 0.8, 22)\n",
    "train_t, test_t = train_test_split(user_item_csr_t, 0.8, 22)"
   ]
  },
  {
   "cell_type": "code",
   "execution_count": null,
   "metadata": {},
   "outputs": [],
   "source": [
    "cv = CrossValidation(user_item_csr, 5)\n",
    "cv_t = CrossValidation(user_item_csr_t, 5)"
   ]
  },
  {
   "cell_type": "code",
   "execution_count": null,
   "metadata": {},
   "outputs": [],
   "source": [
    "space_iALS = {'factors' : [64], 'regularization' : [60, 80, 100, 120, 140, 160], 'alpha' : [0.1, 0.2, 0.3, 0.4, 0.5], 'iterations' : [15]}\n",
    "space_iALS_t = {'factors' : [64], 'regularization' : [5, 10, 20, 30, 40, 50, 60, 80, 100], 'alpha' : [0.1, 0.2, 0.3, 0.4, 0.5, 0.6, 0.7], 'iterations' : [15]}\n",
    "hyper_ials = cv.hyperp_tuning_simple(test, train, space_iALS, 'iALS')\n",
    "hyper_ials_t = cv.hyperp_tuning_simple(test_t, train_t, space_iALS_t, 'iALS')"
   ]
  },
  {
   "cell_type": "code",
   "execution_count": null,
   "metadata": {},
   "outputs": [],
   "source": [
    "space_eALS = {'factors' : [64], 'regularization' : [5, 10, 20], 'alpha' : [0.5, 1, 2], 'w0' : [20, 30, 40, 50]}\n",
    "space_eALS_t = {'factors' : [64], 'regularization' : [0.5, 1, 2], 'alpha' : [0.1, 0.2, 0.3], 'w0' : [30, 40, 50, 60]}\n",
    "hyper_eals = cv.hyperp_tuning_simple(test, train, space_eALS, 'eALS')\n",
    "hyper_eals_t = cv.hyperp_tuning_simple(test_t, train_t, space_eALS_t, 'eALS')"
   ]
  },
  {
   "cell_type": "code",
   "execution_count": null,
   "metadata": {},
   "outputs": [],
   "source": [
    "space_BPR = {'factors' : [64], 'regularization' : [0.001, 0.005, 0.01, 0.05, 0.1], 'learning_rate' : [0.005, 0.01, 0.03, 0.05, 0.07], 'iterations' : [15]}\n",
    "space_BPR_t = {'factors' : [64], 'regularization' : [0.001, 0.005, 0.01, 0.05, 0.07, 0.1], 'learning_rate' : [0.005, 0.01, 0.03, 0.04, 0.05, 0.07], 'iterations' : [15]}\n",
    "hyper_bpr = cv.hyperp_tuning_simple(test, train, space_BPR, 'BPR')\n",
    "hyper_bpr_t = cv_t.hyperp_tuning_simple(test_t, train_t, space_BPR_t, 'BPR')"
   ]
  },
  {
   "cell_type": "code",
   "execution_count": null,
   "metadata": {},
   "outputs": [],
   "source": [
    "space_LMF = {'factors' : [64], 'regularization' : [5, 10, 20, 30, 40, 50], 'learning_rate' : [0.3, 0.5, 0.7, 1, 2], 'iterations' : [15], 'neg_prop': [10, 20, 30]}\n",
    "space_LMF_t = {'factors' : [64], 'regularization' : [1, 5, 10, 20, 30, 40, 50], 'learning_rate' : [0.3, 0.5, 0.7, 1, 2], 'iterations' : [15], 'neg_prop': [0.3, 0.5, 1, 2]}\n",
    "hyper_lmf = cv.hyperp_tuning_simple(test, train, space_LMF, 'LMF')\n",
    "hyper_lmf_t = cv.hyperp_tuning_simple(test_t, train_t, space_LMF_t, 'LMF')"
   ]
  }
 ],
 "metadata": {
  "kernelspec": {
   "display_name": "Python 3.9.7",
   "language": "python",
   "name": "python3"
  },
  "language_info": {
   "name": "python",
   "version": "3.9.7"
  },
  "orig_nbformat": 4,
  "vscode": {
   "interpreter": {
    "hash": "b4efcf30d150067e76aa0880eb47772143c44e1fc3c522760740bd759ef99df4"
   }
  }
 },
 "nbformat": 4,
 "nbformat_minor": 2
}
