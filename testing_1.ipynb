{
 "cells": [
  {
   "cell_type": "code",
   "execution_count": 1,
   "metadata": {},
   "outputs": [],
   "source": [
    "import pandas as pd\n",
    "import numpy as np\n",
    "from cv_py import CrossValidation\n",
    "from dataloading import DataLoader"
   ]
  },
  {
   "cell_type": "code",
   "execution_count": 2,
   "metadata": {},
   "outputs": [
    {
     "name": "stdout",
     "output_type": "stream",
     "text": [
      "C:\\Users\\781110104\\OneDrive - Genpact\\Documents\\VSCode\n"
     ]
    }
   ],
   "source": [
    "%cd C:\\Users\\781110104\\OneDrive - Genpact\\Documents\\VSCode"
   ]
  },
  {
   "cell_type": "code",
   "execution_count": 23,
   "metadata": {},
   "outputs": [],
   "source": [
    "dl = DataLoader()\n",
    "data = dl.import_agco_co(99)"
   ]
  },
  {
   "cell_type": "code",
   "execution_count": 14,
   "metadata": {},
   "outputs": [],
   "source": [
    "items_per_user = dl.items_per_user(data)\n",
    "user_per_item = dl.items_per_user(data.T)"
   ]
  },
  {
   "cell_type": "code",
   "execution_count": 13,
   "metadata": {},
   "outputs": [
    {
     "data": {
      "text/plain": [
       "count       284.000000\n",
       "mean       7532.992958\n",
       "std       12774.998241\n",
       "min         178.000000\n",
       "25%        2457.000000\n",
       "50%        4442.500000\n",
       "75%        8139.750000\n",
       "max      172553.000000\n",
       "Name: item, dtype: float64"
      ]
     },
     "execution_count": 13,
     "metadata": {},
     "output_type": "execute_result"
    }
   ],
   "source": [
    "items_per_user.item.describe()"
   ]
  },
  {
   "cell_type": "code",
   "execution_count": 22,
   "metadata": {},
   "outputs": [
    {
     "data": {
      "text/plain": [
       "199414"
      ]
     },
     "execution_count": 22,
     "metadata": {},
     "output_type": "execute_result"
    }
   ],
   "source": [
    "np.sum(user_per_item.item > 1)"
   ]
  },
  {
   "cell_type": "code",
   "execution_count": 12,
   "metadata": {},
   "outputs": [
    {
     "data": {
      "text/plain": [
       "<AxesSubplot:>"
      ]
     },
     "execution_count": 12,
     "metadata": {},
     "output_type": "execute_result"
    },
    {
     "data": {
      "image/png": "[encoded data removed]",
      "text/plain": [
       "<Figure size 432x288 with 1 Axes>"
      ]
     },
     "metadata": {
      "needs_background": "light"
     },
     "output_type": "display_data"
    }
   ],
   "source": [
    "items_per_user.item.hist()"
   ]
  },
  {
   "cell_type": "code",
   "execution_count": 9,
   "metadata": {},
   "outputs": [
    {
     "data": {
      "text/plain": [
       "<AxesSubplot:>"
      ]
     },
     "execution_count": 9,
     "metadata": {},
     "output_type": "execute_result"
    },
    {
     "data": {
      "image/png": "[encoded data removed]",
      "text/plain": [
       "<Figure size 432x288 with 1 Axes>"
      ]
     },
     "metadata": {
      "needs_background": "light"
     },
     "output_type": "display_data"
    }
   ],
   "source": [
    "pd.Series(data.data).hist()"
   ]
  },
  {
   "cell_type": "code",
   "execution_count": 4,
   "metadata": {},
   "outputs": [],
   "source": [
    "cv = CrossValidation(data, 5)"
   ]
  },
  {
   "cell_type": "code",
   "execution_count": 5,
   "metadata": {},
   "outputs": [],
   "source": [
    "test, train = cv.split_k_fold()"
   ]
  },
  {
   "cell_type": "code",
   "execution_count": 24,
   "metadata": {},
   "outputs": [],
   "source": [
    "alpha = (data.shape[0] * data.shape[1] - data.nnz) / sum(data.data)"
   ]
  },
  {
   "cell_type": "code",
   "execution_count": 25,
   "metadata": {},
   "outputs": [
    {
     "data": {
      "text/plain": [
       "3.4677779795097243"
      ]
     },
     "execution_count": 25,
     "metadata": {},
     "output_type": "execute_result"
    }
   ],
   "source": [
    "alpha"
   ]
  },
  {
   "cell_type": "code",
   "execution_count": 26,
   "metadata": {},
   "outputs": [],
   "source": [
    "space = {'factors' : [20, 64, 128], 'regularization' : [0.001, 0.01, 0.1, 2], 'alpha' : [0.8, 5, 15, 30], 'iterations' : [15]}\n",
    "hyper_test_als = cv.hyperp_tuning(test, train, space, 'iALS')\n"
   ]
  },
  {
   "cell_type": "code",
   "execution_count": 30,
   "metadata": {},
   "outputs": [
    {
     "data": {
      "text/html": [
       "<div>\n",
       "<style scoped>\n",
       "    .dataframe tbody tr th:only-of-type {\n",
       "        vertical-align: middle;\n",
       "    }\n",
       "\n",
       "    .dataframe tbody tr th {\n",
       "        vertical-align: top;\n",
       "    }\n",
       "\n",
       "    .dataframe thead th {\n",
       "        text-align: right;\n",
       "    }\n",
       "</style>\n",
       "<table border=\"1\" class=\"dataframe\">\n",
       "  <thead>\n",
       "    <tr style=\"text-align: right;\">\n",
       "      <th></th>\n",
       "      <th>factors</th>\n",
       "      <th>regularization</th>\n",
       "      <th>alpha</th>\n",
       "      <th>iterations</th>\n",
       "      <th>precision</th>\n",
       "      <th>map</th>\n",
       "      <th>ndcg</th>\n",
       "      <th>auc</th>\n",
       "      <th>mpr</th>\n",
       "    </tr>\n",
       "  </thead>\n",
       "  <tbody>\n",
       "    <tr>\n",
       "      <th>32</th>\n",
       "      <td>128</td>\n",
       "      <td>0.001</td>\n",
       "      <td>0.8</td>\n",
       "      <td>15</td>\n",
       "      <td>0.726901</td>\n",
       "      <td>0.623063</td>\n",
       "      <td>0.737471</td>\n",
       "      <td>0.505365</td>\n",
       "      <td>0.179686</td>\n",
       "    </tr>\n",
       "    <tr>\n",
       "      <th>33</th>\n",
       "      <td>128</td>\n",
       "      <td>0.001</td>\n",
       "      <td>5.0</td>\n",
       "      <td>15</td>\n",
       "      <td>0.581479</td>\n",
       "      <td>0.417509</td>\n",
       "      <td>0.564808</td>\n",
       "      <td>0.504202</td>\n",
       "      <td>0.126858</td>\n",
       "    </tr>\n",
       "    <tr>\n",
       "      <th>34</th>\n",
       "      <td>128</td>\n",
       "      <td>0.001</td>\n",
       "      <td>15.0</td>\n",
       "      <td>15</td>\n",
       "      <td>0.422535</td>\n",
       "      <td>0.258311</td>\n",
       "      <td>0.397948</td>\n",
       "      <td>0.503168</td>\n",
       "      <td>0.104832</td>\n",
       "    </tr>\n",
       "    <tr>\n",
       "      <th>35</th>\n",
       "      <td>128</td>\n",
       "      <td>0.001</td>\n",
       "      <td>30.0</td>\n",
       "      <td>15</td>\n",
       "      <td>0.294577</td>\n",
       "      <td>0.158700</td>\n",
       "      <td>0.274175</td>\n",
       "      <td>0.502338</td>\n",
       "      <td>0.088194</td>\n",
       "    </tr>\n",
       "    <tr>\n",
       "      <th>36</th>\n",
       "      <td>128</td>\n",
       "      <td>0.010</td>\n",
       "      <td>0.8</td>\n",
       "      <td>15</td>\n",
       "      <td>0.721901</td>\n",
       "      <td>0.615718</td>\n",
       "      <td>0.731373</td>\n",
       "      <td>0.505336</td>\n",
       "      <td>0.179082</td>\n",
       "    </tr>\n",
       "    <tr>\n",
       "      <th>37</th>\n",
       "      <td>128</td>\n",
       "      <td>0.010</td>\n",
       "      <td>5.0</td>\n",
       "      <td>15</td>\n",
       "      <td>0.587183</td>\n",
       "      <td>0.425076</td>\n",
       "      <td>0.569637</td>\n",
       "      <td>0.504183</td>\n",
       "      <td>0.125147</td>\n",
       "    </tr>\n",
       "    <tr>\n",
       "      <th>38</th>\n",
       "      <td>128</td>\n",
       "      <td>0.010</td>\n",
       "      <td>15.0</td>\n",
       "      <td>15</td>\n",
       "      <td>0.419225</td>\n",
       "      <td>0.253472</td>\n",
       "      <td>0.395888</td>\n",
       "      <td>0.503219</td>\n",
       "      <td>0.104442</td>\n",
       "    </tr>\n",
       "    <tr>\n",
       "      <th>39</th>\n",
       "      <td>128</td>\n",
       "      <td>0.010</td>\n",
       "      <td>30.0</td>\n",
       "      <td>15</td>\n",
       "      <td>0.298592</td>\n",
       "      <td>0.161578</td>\n",
       "      <td>0.279685</td>\n",
       "      <td>0.502363</td>\n",
       "      <td>0.087759</td>\n",
       "    </tr>\n",
       "    <tr>\n",
       "      <th>40</th>\n",
       "      <td>128</td>\n",
       "      <td>0.100</td>\n",
       "      <td>0.8</td>\n",
       "      <td>15</td>\n",
       "      <td>0.724930</td>\n",
       "      <td>0.616171</td>\n",
       "      <td>0.730845</td>\n",
       "      <td>0.505324</td>\n",
       "      <td>0.180643</td>\n",
       "    </tr>\n",
       "    <tr>\n",
       "      <th>41</th>\n",
       "      <td>128</td>\n",
       "      <td>0.100</td>\n",
       "      <td>5.0</td>\n",
       "      <td>15</td>\n",
       "      <td>0.591901</td>\n",
       "      <td>0.429423</td>\n",
       "      <td>0.576258</td>\n",
       "      <td>0.504229</td>\n",
       "      <td>0.125120</td>\n",
       "    </tr>\n",
       "    <tr>\n",
       "      <th>42</th>\n",
       "      <td>128</td>\n",
       "      <td>0.100</td>\n",
       "      <td>15.0</td>\n",
       "      <td>15</td>\n",
       "      <td>0.413451</td>\n",
       "      <td>0.249865</td>\n",
       "      <td>0.387483</td>\n",
       "      <td>0.502923</td>\n",
       "      <td>0.103961</td>\n",
       "    </tr>\n",
       "    <tr>\n",
       "      <th>43</th>\n",
       "      <td>128</td>\n",
       "      <td>0.100</td>\n",
       "      <td>30.0</td>\n",
       "      <td>15</td>\n",
       "      <td>0.292676</td>\n",
       "      <td>0.157388</td>\n",
       "      <td>0.272153</td>\n",
       "      <td>0.502378</td>\n",
       "      <td>0.087558</td>\n",
       "    </tr>\n",
       "    <tr>\n",
       "      <th>44</th>\n",
       "      <td>128</td>\n",
       "      <td>2.000</td>\n",
       "      <td>0.8</td>\n",
       "      <td>15</td>\n",
       "      <td>0.684577</td>\n",
       "      <td>0.569305</td>\n",
       "      <td>0.697086</td>\n",
       "      <td>0.505223</td>\n",
       "      <td>0.187263</td>\n",
       "    </tr>\n",
       "    <tr>\n",
       "      <th>45</th>\n",
       "      <td>128</td>\n",
       "      <td>2.000</td>\n",
       "      <td>5.0</td>\n",
       "      <td>15</td>\n",
       "      <td>0.603099</td>\n",
       "      <td>0.443509</td>\n",
       "      <td>0.587655</td>\n",
       "      <td>0.504410</td>\n",
       "      <td>0.118219</td>\n",
       "    </tr>\n",
       "    <tr>\n",
       "      <th>46</th>\n",
       "      <td>128</td>\n",
       "      <td>2.000</td>\n",
       "      <td>15.0</td>\n",
       "      <td>15</td>\n",
       "      <td>0.420775</td>\n",
       "      <td>0.255988</td>\n",
       "      <td>0.396049</td>\n",
       "      <td>0.503204</td>\n",
       "      <td>0.094525</td>\n",
       "    </tr>\n",
       "    <tr>\n",
       "      <th>47</th>\n",
       "      <td>128</td>\n",
       "      <td>2.000</td>\n",
       "      <td>30.0</td>\n",
       "      <td>15</td>\n",
       "      <td>0.295000</td>\n",
       "      <td>0.159174</td>\n",
       "      <td>0.274273</td>\n",
       "      <td>0.502658</td>\n",
       "      <td>0.079931</td>\n",
       "    </tr>\n",
       "  </tbody>\n",
       "</table>\n",
       "</div>"
      ],
      "text/plain": [
       "    factors  regularization  alpha  iterations  precision       map      ndcg  \\\n",
       "32      128           0.001    0.8          15   0.726901  0.623063  0.737471   \n",
       "33      128           0.001    5.0          15   0.581479  0.417509  0.564808   \n",
       "34      128           0.001   15.0          15   0.422535  0.258311  0.397948   \n",
       "35      128           0.001   30.0          15   0.294577  0.158700  0.274175   \n",
       "36      128           0.010    0.8          15   0.721901  0.615718  0.731373   \n",
       "37      128           0.010    5.0          15   0.587183  0.425076  0.569637   \n",
       "38      128           0.010   15.0          15   0.419225  0.253472  0.395888   \n",
       "39      128           0.010   30.0          15   0.298592  0.161578  0.279685   \n",
       "40      128           0.100    0.8          15   0.724930  0.616171  0.730845   \n",
       "41      128           0.100    5.0          15   0.591901  0.429423  0.576258   \n",
       "42      128           0.100   15.0          15   0.413451  0.249865  0.387483   \n",
       "43      128           0.100   30.0          15   0.292676  0.157388  0.272153   \n",
       "44      128           2.000    0.8          15   0.684577  0.569305  0.697086   \n",
       "45      128           2.000    5.0          15   0.603099  0.443509  0.587655   \n",
       "46      128           2.000   15.0          15   0.420775  0.255988  0.396049   \n",
       "47      128           2.000   30.0          15   0.295000  0.159174  0.274273   \n",
       "\n",
       "         auc       mpr  \n",
       "32  0.505365  0.179686  \n",
       "33  0.504202  0.126858  \n",
       "34  0.503168  0.104832  \n",
       "35  0.502338  0.088194  \n",
       "36  0.505336  0.179082  \n",
       "37  0.504183  0.125147  \n",
       "38  0.503219  0.104442  \n",
       "39  0.502363  0.087759  \n",
       "40  0.505324  0.180643  \n",
       "41  0.504229  0.125120  \n",
       "42  0.502923  0.103961  \n",
       "43  0.502378  0.087558  \n",
       "44  0.505223  0.187263  \n",
       "45  0.504410  0.118219  \n",
       "46  0.503204  0.094525  \n",
       "47  0.502658  0.079931  "
      ]
     },
     "execution_count": 30,
     "metadata": {},
     "output_type": "execute_result"
    }
   ],
   "source": [
    "hyper_test_als[hyper_test_als.factors == 128]"
   ]
  }
 ],
 "metadata": {
  "kernelspec": {
   "display_name": "Python 3.9.7",
   "language": "python",
   "name": "python3"
  },
  "language_info": {
   "codemirror_mode": {
    "name": "ipython",
    "version": 3
   },
   "file_extension": ".py",
   "mimetype": "text/x-python",
   "name": "python",
   "nbconvert_exporter": "python",
   "pygments_lexer": "ipython3",
   "version": "3.9.7"
  },
  "orig_nbformat": 4,
  "vscode": {
   "interpreter": {
    "hash": "b4efcf30d150067e76aa0880eb47772143c44e1fc3c522760740bd759ef99df4"
   }
  }
 },
 "nbformat": 4,
 "nbformat_minor": 2
}
