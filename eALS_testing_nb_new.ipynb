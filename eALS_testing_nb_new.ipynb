{
 "cells": [
  {
   "cell_type": "code",
   "execution_count": 1,
   "metadata": {},
   "outputs": [],
   "source": [
    "import pandas as pd\n",
    "import numpy as np\n",
    "#import eals\n",
    "#import scipy.sparse import csr_matrix"
   ]
  },
  {
   "cell_type": "code",
   "execution_count": 2,
   "metadata": {},
   "outputs": [],
   "source": [
    "from eals import ElementwiseAlternatingLeastSquares, load_model"
   ]
  },
  {
   "cell_type": "code",
   "execution_count": 3,
   "metadata": {},
   "outputs": [],
   "source": [
    "from cv_py import CrossValidation"
   ]
  },
  {
   "cell_type": "code",
   "execution_count": 4,
   "metadata": {},
   "outputs": [],
   "source": [
    "import implicit\n",
    "from implicit.datasets.movielens import get_movielens\n",
    "movies1, ratings1 = get_movielens(\"1M\")\n",
    "ratings_t = ratings1.T.tocsr()"
   ]
  },
  {
   "cell_type": "code",
   "execution_count": 5,
   "metadata": {},
   "outputs": [],
   "source": [
    "from implicit.evaluation import train_test_split\n",
    "from implicit.evaluation import ranking_metrics_at_k"
   ]
  },
  {
   "cell_type": "code",
   "execution_count": 6,
   "metadata": {},
   "outputs": [],
   "source": [
    "ratings_t_train, ratings_t_test = train_test_split(ratings_t, train_percentage = 0.2)"
   ]
  },
  {
   "cell_type": "code",
   "execution_count": 7,
   "metadata": {},
   "outputs": [],
   "source": [
    "cv = CrossValidation(ratings_t_train, 5)"
   ]
  },
  {
   "cell_type": "code",
   "execution_count": 8,
   "metadata": {},
   "outputs": [],
   "source": [
    "test, train = cv.split_k_fold()"
   ]
  },
  {
   "cell_type": "code",
   "execution_count": 9,
   "metadata": {},
   "outputs": [
    {
     "data": {
      "text/html": [
       "<div>\n",
       "<style scoped>\n",
       "    .dataframe tbody tr th:only-of-type {\n",
       "        vertical-align: middle;\n",
       "    }\n",
       "\n",
       "    .dataframe tbody tr th {\n",
       "        vertical-align: top;\n",
       "    }\n",
       "\n",
       "    .dataframe thead th {\n",
       "        text-align: right;\n",
       "    }\n",
       "</style>\n",
       "<table border=\"1\" class=\"dataframe\">\n",
       "  <thead>\n",
       "    <tr style=\"text-align: right;\">\n",
       "      <th></th>\n",
       "      <th>factors</th>\n",
       "      <th>alpha</th>\n",
       "      <th>regularization</th>\n",
       "      <th>w0</th>\n",
       "      <th>precision</th>\n",
       "      <th>map</th>\n",
       "      <th>ndcg</th>\n",
       "      <th>auc</th>\n",
       "      <th>mpr</th>\n",
       "    </tr>\n",
       "  </thead>\n",
       "  <tbody>\n",
       "    <tr>\n",
       "      <th>0</th>\n",
       "      <td>64.0</td>\n",
       "      <td>0.5</td>\n",
       "      <td>0.02</td>\n",
       "      <td>10.0</td>\n",
       "      <td>0.034422</td>\n",
       "      <td>0.013265</td>\n",
       "      <td>0.029070</td>\n",
       "      <td>0.516533</td>\n",
       "      <td>0.303518</td>\n",
       "    </tr>\n",
       "    <tr>\n",
       "      <th>1</th>\n",
       "      <td>NaN</td>\n",
       "      <td>NaN</td>\n",
       "      <td>NaN</td>\n",
       "      <td>NaN</td>\n",
       "      <td>0.032903</td>\n",
       "      <td>0.012202</td>\n",
       "      <td>0.027433</td>\n",
       "      <td>0.515599</td>\n",
       "      <td>0.301822</td>\n",
       "    </tr>\n",
       "    <tr>\n",
       "      <th>2</th>\n",
       "      <td>NaN</td>\n",
       "      <td>NaN</td>\n",
       "      <td>NaN</td>\n",
       "      <td>NaN</td>\n",
       "      <td>0.033910</td>\n",
       "      <td>0.012106</td>\n",
       "      <td>0.027506</td>\n",
       "      <td>0.515742</td>\n",
       "      <td>0.302853</td>\n",
       "    </tr>\n",
       "    <tr>\n",
       "      <th>3</th>\n",
       "      <td>NaN</td>\n",
       "      <td>NaN</td>\n",
       "      <td>NaN</td>\n",
       "      <td>NaN</td>\n",
       "      <td>0.032681</td>\n",
       "      <td>0.011526</td>\n",
       "      <td>0.026419</td>\n",
       "      <td>0.514858</td>\n",
       "      <td>0.298932</td>\n",
       "    </tr>\n",
       "    <tr>\n",
       "      <th>4</th>\n",
       "      <td>NaN</td>\n",
       "      <td>NaN</td>\n",
       "      <td>NaN</td>\n",
       "      <td>NaN</td>\n",
       "      <td>0.033331</td>\n",
       "      <td>0.012562</td>\n",
       "      <td>0.027881</td>\n",
       "      <td>0.515154</td>\n",
       "      <td>0.298221</td>\n",
       "    </tr>\n",
       "  </tbody>\n",
       "</table>\n",
       "</div>"
      ],
      "text/plain": [
       "   factors  alpha  regularization    w0  precision       map      ndcg  \\\n",
       "0     64.0    0.5            0.02  10.0   0.034422  0.013265  0.029070   \n",
       "1      NaN    NaN             NaN   NaN   0.032903  0.012202  0.027433   \n",
       "2      NaN    NaN             NaN   NaN   0.033910  0.012106  0.027506   \n",
       "3      NaN    NaN             NaN   NaN   0.032681  0.011526  0.026419   \n",
       "4      NaN    NaN             NaN   NaN   0.033331  0.012562  0.027881   \n",
       "\n",
       "        auc       mpr  \n",
       "0  0.516533  0.303518  \n",
       "1  0.515599  0.301822  \n",
       "2  0.515742  0.302853  \n",
       "3  0.514858  0.298932  \n",
       "4  0.515154  0.298221  "
      ]
     },
     "execution_count": 9,
     "metadata": {},
     "output_type": "execute_result"
    }
   ],
   "source": [
    "space = {'factors' : [64], 'alpha': [0.5], 'regularization':[0.02], 'w0':[10]}\n",
    "test_cv_eals = cv.hyperp_tuning(test, train, space, 'eALS', 'full')\n",
    "test_cv_eals"
   ]
  },
  {
   "cell_type": "code",
   "execution_count": 10,
   "metadata": {},
   "outputs": [
    {
     "data": {
      "text/html": [
       "<div>\n",
       "<style scoped>\n",
       "    .dataframe tbody tr th:only-of-type {\n",
       "        vertical-align: middle;\n",
       "    }\n",
       "\n",
       "    .dataframe tbody tr th {\n",
       "        vertical-align: top;\n",
       "    }\n",
       "\n",
       "    .dataframe thead th {\n",
       "        text-align: right;\n",
       "    }\n",
       "</style>\n",
       "<table border=\"1\" class=\"dataframe\">\n",
       "  <thead>\n",
       "    <tr style=\"text-align: right;\">\n",
       "      <th></th>\n",
       "      <th>factors</th>\n",
       "      <th>alpha</th>\n",
       "      <th>regularization</th>\n",
       "      <th>w0</th>\n",
       "      <th>precision</th>\n",
       "      <th>map</th>\n",
       "      <th>ndcg</th>\n",
       "      <th>auc</th>\n",
       "      <th>mpr</th>\n",
       "    </tr>\n",
       "  </thead>\n",
       "  <tbody>\n",
       "    <tr>\n",
       "      <th>0</th>\n",
       "      <td>64</td>\n",
       "      <td>0.5</td>\n",
       "      <td>0.02</td>\n",
       "      <td>10</td>\n",
       "      <td>0.032621</td>\n",
       "      <td>0.012702</td>\n",
       "      <td>0.02778</td>\n",
       "      <td>0.515708</td>\n",
       "      <td>0.302857</td>\n",
       "    </tr>\n",
       "  </tbody>\n",
       "</table>\n",
       "</div>"
      ],
      "text/plain": [
       "   factors  alpha  regularization  w0  precision       map     ndcg       auc  \\\n",
       "0       64    0.5            0.02  10   0.032621  0.012702  0.02778  0.515708   \n",
       "\n",
       "        mpr  \n",
       "0  0.302857  "
      ]
     },
     "execution_count": 10,
     "metadata": {},
     "output_type": "execute_result"
    }
   ],
   "source": []
  },
  {
   "cell_type": "code",
   "execution_count": 11,
   "metadata": {},
   "outputs": [
    {
     "data": {
      "text/html": [
       "<div>\n",
       "<style scoped>\n",
       "    .dataframe tbody tr th:only-of-type {\n",
       "        vertical-align: middle;\n",
       "    }\n",
       "\n",
       "    .dataframe tbody tr th {\n",
       "        vertical-align: top;\n",
       "    }\n",
       "\n",
       "    .dataframe thead th {\n",
       "        text-align: right;\n",
       "    }\n",
       "</style>\n",
       "<table border=\"1\" class=\"dataframe\">\n",
       "  <thead>\n",
       "    <tr style=\"text-align: right;\">\n",
       "      <th></th>\n",
       "      <th>factors</th>\n",
       "      <th>alpha</th>\n",
       "      <th>regularization</th>\n",
       "      <th>iterations</th>\n",
       "      <th>precision</th>\n",
       "      <th>map</th>\n",
       "      <th>ndcg</th>\n",
       "      <th>auc</th>\n",
       "      <th>mpr</th>\n",
       "    </tr>\n",
       "  </thead>\n",
       "  <tbody>\n",
       "    <tr>\n",
       "      <th>0</th>\n",
       "      <td>64.0</td>\n",
       "      <td>10.0</td>\n",
       "      <td>0.02</td>\n",
       "      <td>10.0</td>\n",
       "      <td>0.040677</td>\n",
       "      <td>0.016087</td>\n",
       "      <td>0.035094</td>\n",
       "      <td>0.521014</td>\n",
       "      <td>0.273809</td>\n",
       "    </tr>\n",
       "    <tr>\n",
       "      <th>1</th>\n",
       "      <td>NaN</td>\n",
       "      <td>NaN</td>\n",
       "      <td>NaN</td>\n",
       "      <td>NaN</td>\n",
       "      <td>0.040230</td>\n",
       "      <td>0.015158</td>\n",
       "      <td>0.033598</td>\n",
       "      <td>0.519890</td>\n",
       "      <td>0.271321</td>\n",
       "    </tr>\n",
       "    <tr>\n",
       "      <th>2</th>\n",
       "      <td>NaN</td>\n",
       "      <td>NaN</td>\n",
       "      <td>NaN</td>\n",
       "      <td>NaN</td>\n",
       "      <td>0.037694</td>\n",
       "      <td>0.014155</td>\n",
       "      <td>0.031512</td>\n",
       "      <td>0.518963</td>\n",
       "      <td>0.274474</td>\n",
       "    </tr>\n",
       "    <tr>\n",
       "      <th>3</th>\n",
       "      <td>NaN</td>\n",
       "      <td>NaN</td>\n",
       "      <td>NaN</td>\n",
       "      <td>NaN</td>\n",
       "      <td>0.041219</td>\n",
       "      <td>0.015366</td>\n",
       "      <td>0.034285</td>\n",
       "      <td>0.520397</td>\n",
       "      <td>0.272043</td>\n",
       "    </tr>\n",
       "    <tr>\n",
       "      <th>4</th>\n",
       "      <td>NaN</td>\n",
       "      <td>NaN</td>\n",
       "      <td>NaN</td>\n",
       "      <td>NaN</td>\n",
       "      <td>0.041223</td>\n",
       "      <td>0.016261</td>\n",
       "      <td>0.035410</td>\n",
       "      <td>0.520609</td>\n",
       "      <td>0.271625</td>\n",
       "    </tr>\n",
       "  </tbody>\n",
       "</table>\n",
       "</div>"
      ],
      "text/plain": [
       "   factors  alpha  regularization  iterations  precision       map      ndcg  \\\n",
       "0     64.0   10.0            0.02        10.0   0.040677  0.016087  0.035094   \n",
       "1      NaN    NaN             NaN         NaN   0.040230  0.015158  0.033598   \n",
       "2      NaN    NaN             NaN         NaN   0.037694  0.014155  0.031512   \n",
       "3      NaN    NaN             NaN         NaN   0.041219  0.015366  0.034285   \n",
       "4      NaN    NaN             NaN         NaN   0.041223  0.016261  0.035410   \n",
       "\n",
       "        auc       mpr  \n",
       "0  0.521014  0.273809  \n",
       "1  0.519890  0.271321  \n",
       "2  0.518963  0.274474  \n",
       "3  0.520397  0.272043  \n",
       "4  0.520609  0.271625  "
      ]
     },
     "execution_count": 11,
     "metadata": {},
     "output_type": "execute_result"
    }
   ],
   "source": [
    "space = {'factors' : [64], 'alpha': [10], 'regularization':[0.02], 'iterations':[10]}\n",
    "test_cv_ials = cv.hyperp_tuning(test, train, space, 'iALS', 'full')\n",
    "test_cv_ials"
   ]
  },
  {
   "cell_type": "code",
   "execution_count": 13,
   "metadata": {},
   "outputs": [
    {
     "name": "stderr",
     "output_type": "stream",
     "text": [
      "100%|██████████| 10/10 [00:02<00:00,  4.87it/s]\n",
      "100%|██████████| 6040/6040 [00:00<00:00, 10200.44it/s]\n"
     ]
    },
    {
     "data": {
      "text/plain": [
       "{'precision': 0.4492384105960265,\n",
       " 'map': 0.3525491169977911,\n",
       " 'ndcg': 0.4610603607518856,\n",
       " 'auc': 0.5140829636724776}"
      ]
     },
     "execution_count": 13,
     "metadata": {},
     "output_type": "execute_result"
    }
   ],
   "source": [
    "model_ials = implicit.als.AlternatingLeastSquares(factors=64, alpha=10, regularization=0.02, iterations=10)\n",
    "model_ials.fit(ratings_t_train)\n",
    "ranking_metrics_at_k(model_ials, ratings_t_train, ratings_t_test, 5)"
   ]
  },
  {
   "cell_type": "code",
   "execution_count": 11,
   "metadata": {},
   "outputs": [
    {
     "data": {
      "text/plain": [
       "<eals.eals.ElementwiseAlternatingLeastSquares at 0x28508c87b20>"
      ]
     },
     "execution_count": 11,
     "metadata": {},
     "output_type": "execute_result"
    }
   ],
   "source": [
    "model = ElementwiseAlternatingLeastSquares(factors=64, alpha=0.5, regularization=0.02, w0=10)\n",
    "model"
   ]
  },
  {
   "cell_type": "code",
   "execution_count": 13,
   "metadata": {},
   "outputs": [],
   "source": [
    "model.fit(ratings_t_train)"
   ]
  },
  {
   "cell_type": "code",
   "execution_count": 18,
   "metadata": {},
   "outputs": [
    {
     "name": "stderr",
     "output_type": "stream",
     "text": [
      "100%|██████████| 15/15 [00:04<00:00,  3.19it/s]\n"
     ]
    }
   ],
   "source": [
    "model_ials = implicit.als.AlternatingLeastSquares()\n",
    "model_ials.fit(ratings_t_train)"
   ]
  },
  {
   "cell_type": "code",
   "execution_count": 34,
   "metadata": {},
   "outputs": [
    {
     "data": {
      "text/plain": [
       "(6041, 100)"
      ]
     },
     "execution_count": 34,
     "metadata": {},
     "output_type": "execute_result"
    }
   ],
   "source": [
    "model.user_factors.shape"
   ]
  },
  {
   "cell_type": "code",
   "execution_count": 15,
   "metadata": {},
   "outputs": [],
   "source": [
    "model_ials.user_factors = model.user_factors\n",
    "model_ials.item_factors = model.item_factors"
   ]
  },
  {
   "cell_type": "code",
   "execution_count": 16,
   "metadata": {},
   "outputs": [
    {
     "name": "stderr",
     "output_type": "stream",
     "text": [
      "100%|██████████| 6040/6040 [00:00<00:00, 9108.16it/s]\n"
     ]
    },
    {
     "data": {
      "text/plain": [
       "{'precision': 0.3729139072847682,\n",
       " 'map': 0.28180518763796764,\n",
       " 'ndcg': 0.3845867795300777,\n",
       " 'auc': 0.5106152646123584}"
      ]
     },
     "execution_count": 16,
     "metadata": {},
     "output_type": "execute_result"
    }
   ],
   "source": [
    "ranking_metrics_at_k(model_ials, ratings_t_train, ratings_t_test, 5)"
   ]
  },
  {
   "cell_type": "code",
   "execution_count": 63,
   "metadata": {},
   "outputs": [
    {
     "data": {
      "text/plain": [
       "0.4206324569991457"
      ]
     },
     "execution_count": 63,
     "metadata": {},
     "output_type": "execute_result"
    }
   ],
   "source": [
    "user_list = ratings_counts_test.userId\n",
    "test_mpr = get_MPR(user_list)\n",
    "test_mpr"
   ]
  },
  {
   "cell_type": "code",
   "execution_count": 80,
   "metadata": {},
   "outputs": [],
   "source": [
    "def get_MPR(users, model) :\n",
    "    zähler = 0\n",
    "    nenner = 0\n",
    "    for u in users :\n",
    "        predictions = get_rec_list(u, model)\n",
    "        counts = get_counts(u)\n",
    "        df = pd.DataFrame({'predictions': predictions, 'counts' : counts})\n",
    "        df = df.sort_values('predictions', ascending=False)\n",
    "        df['rank'] = get_rank(u)\n",
    "        for i in range(len(df)) :\n",
    "            zähler += df['counts'].iloc[i] * df['rank'].iloc[i]\n",
    "            nenner += df['counts'].iloc[i] \n",
    "    return zähler / nenner"
   ]
  },
  {
   "cell_type": "code",
   "execution_count": 81,
   "metadata": {},
   "outputs": [],
   "source": [
    "# helperfunc for get_mpr\n",
    "def get_rec_list(user, model) :\n",
    "    items = ratings_counts_test[ratings_counts_test.userId == user].genreId.unique()\n",
    "    ratings = []\n",
    "    for i in items :\n",
    "        pred = np.inner(model.user_factors[user], model.item_factors[i])\n",
    "        ratings.append(pred)\n",
    "    return ratings"
   ]
  },
  {
   "cell_type": "code",
   "execution_count": 29,
   "metadata": {},
   "outputs": [],
   "source": [
    "# helperfunc for get_mpr\n",
    "def get_rank(user) :\n",
    "    no_of_items = ratings_counts_test[ratings_counts_test.userId == user].genreId.nunique()\n",
    "    percentlile_rank = [] \n",
    "    for i in range(no_of_items) :\n",
    "        percentlile_rank.append((i+1) / no_of_items)\n",
    "    return percentlile_rank"
   ]
  },
  {
   "cell_type": "code",
   "execution_count": 30,
   "metadata": {},
   "outputs": [],
   "source": [
    "# helperfunc for get_mpr\n",
    "def get_counts(user) :\n",
    "    no_of_items = ratings_counts_test[ratings_counts_test.userId == user].counts\n",
    "    return no_of_items"
   ]
  },
  {
   "cell_type": "code",
   "execution_count": 35,
   "metadata": {},
   "outputs": [],
   "source": [
    "rmse_test = evaluate(ratings_counts_test, 'mae')\n",
    "rmse_test"
   ]
  },
  {
   "cell_type": "code",
   "execution_count": 194,
   "metadata": {},
   "outputs": [],
   "source": [
    "def evaluate(test_df, metric) :\n",
    "    squared_diff = 0\n",
    "    abs_diff = 0\n",
    "    num_obs = 0\n",
    "    for i in test_df.index:\n",
    "        r = test_df.counts[i]\n",
    "        user_id = test_df.userId[i]\n",
    "        item_id = test_df.genreId[i]\n",
    "        r_hat = np.inner(model.user_factors[user_id], model.item_factors[item_id])\n",
    "        squared_diff += (r - r_hat) ** 2\n",
    "        abs_diff += abs(r - r_hat)\n",
    "        num_obs += 1\n",
    "    if metric == 'rmse' :\n",
    "        return np.sqrt(squared_diff / num_obs)\n",
    "    if metric == 'mse' :\n",
    "        return squared_diff / num_obs\n",
    "    if metric == 'mae' :\n",
    "        return abs_diff / num_obs\n",
    "    "
   ]
  },
  {
   "cell_type": "code",
   "execution_count": 188,
   "metadata": {},
   "outputs": [],
   "source": [
    "def evaluate(test_df, rating_col, user_col, item_col, metric) :\n",
    "    squared_diff = 0\n",
    "    abs_diff = 0\n",
    "    num_obs = 0\n",
    "    for i in test_df.index:\n",
    "        r = test_df[rating_col].iloc[i]\n",
    "        user_id = test_df[user_col].iloc[i]\n",
    "        item_id = test_df[item_col].iloc[i]\n",
    "        r_hat = np.inner(model.user_factors[user_id], model.item_factors[item_id])\n",
    "        squared_diff += (r - r_hat) ** 2\n",
    "        abs_diff += abs(r - r_hat)\n",
    "        num_obs += 1\n",
    "    if metric == 'rmse' :\n",
    "        return np.sqrt(squared_diff / num_obs)\n",
    "    if metric == 'mse' :\n",
    "        return squared_diff / num_obs\n",
    "    if metric == 'mae' :\n",
    "        return abs_diff / num_obs\n",
    "    \n"
   ]
  },
  {
   "cell_type": "code",
   "execution_count": 2,
   "metadata": {},
   "outputs": [],
   "source": [
    "from implicit.evaluation import AUC_at_k"
   ]
  },
  {
   "cell_type": "code",
   "execution_count": null,
   "metadata": {},
   "outputs": [],
   "source": []
  },
  {
   "cell_type": "code",
   "execution_count": 6,
   "metadata": {},
   "outputs": [
    {
     "name": "stdout",
     "output_type": "stream",
     "text": [
      "Requirement already up-to-date: implicit in c:\\users\\chris\\anaconda3\\lib\\site-packages (0.5.2)\n",
      "Requirement already satisfied, skipping upgrade: scipy>=0.16 in c:\\users\\chris\\anaconda3\\lib\\site-packages (from implicit) (1.8.1)\n",
      "Requirement already satisfied, skipping upgrade: numpy in c:\\users\\chris\\anaconda3\\lib\\site-packages (from implicit) (1.22.4)\n",
      "Requirement already satisfied, skipping upgrade: tqdm>=4.27 in c:\\users\\chris\\anaconda3\\lib\\site-packages (from implicit) (4.47.0)\n"
     ]
    }
   ],
   "source": [
    "!pip install --upgrade implicit"
   ]
  },
  {
   "cell_type": "code",
   "execution_count": 7,
   "metadata": {},
   "outputs": [],
   "source": [
    "import implicit"
   ]
  },
  {
   "cell_type": "code",
   "execution_count": 9,
   "metadata": {},
   "outputs": [],
   "source": [
    "model_ials = implicit.als.AlternatingLeastSquares(factors=100, regularization=10, iterations=30)"
   ]
  },
  {
   "cell_type": "code",
   "execution_count": 10,
   "metadata": {},
   "outputs": [
    {
     "ename": "NameError",
     "evalue": "name 'ratings_counts_train_sparse' is not defined",
     "output_type": "error",
     "traceback": [
      "\u001b[1;31m---------------------------------------------------------------------------\u001b[0m",
      "\u001b[1;31mNameError\u001b[0m                                 Traceback (most recent call last)",
      "\u001b[1;32m<ipython-input-10-0129d957b7c0>\u001b[0m in \u001b[0;36m<module>\u001b[1;34m\u001b[0m\n\u001b[1;32m----> 1\u001b[1;33m \u001b[0mratings_counts_train_coo\u001b[0m \u001b[1;33m=\u001b[0m \u001b[0mratings_counts_train_sparse\u001b[0m\u001b[1;33m.\u001b[0m\u001b[0mtocoo\u001b[0m\u001b[1;33m(\u001b[0m\u001b[1;33m)\u001b[0m\u001b[1;33m\u001b[0m\u001b[1;33m\u001b[0m\u001b[0m\n\u001b[0m",
      "\u001b[1;31mNameError\u001b[0m: name 'ratings_counts_train_sparse' is not defined"
     ]
    }
   ],
   "source": [
    "ratings_counts_train_coo = ratings_counts_train_sparse.tocoo()"
   ]
  },
  {
   "cell_type": "code",
   "execution_count": 94,
   "metadata": {},
   "outputs": [
    {
     "name": "stderr",
     "output_type": "stream",
     "text": [
      "100%|██████████| 30/30 [00:00<00:00, 46.14it/s]\n"
     ]
    }
   ],
   "source": [
    "model_ials.fit(ratings_counts_train_coo)"
   ]
  },
  {
   "cell_type": "code",
   "execution_count": 95,
   "metadata": {},
   "outputs": [
    {
     "data": {
      "text/plain": [
       "0.4174168437641856"
      ]
     },
     "execution_count": 95,
     "metadata": {},
     "output_type": "execute_result"
    }
   ],
   "source": [
    "user_list = ratings_counts_test.userId\n",
    "test_mpr = get_MPR(user_list, model_ials)\n",
    "test_mpr"
   ]
  }
 ],
 "metadata": {
  "kernelspec": {
   "display_name": "Python 3.8.5",
   "language": "python",
   "name": "python3"
  },
  "language_info": {
   "codemirror_mode": {
    "name": "ipython",
    "version": 3
   },
   "file_extension": ".py",
   "mimetype": "text/x-python",
   "name": "python",
   "nbconvert_exporter": "python",
   "pygments_lexer": "ipython3",
   "version": "3.8.5"
  },
  "orig_nbformat": 4,
  "vscode": {
   "interpreter": {
    "hash": "5d12259fae5b28c6154b1142ab47a20fd9a5ed96dba143a66549a6b78840fa71"
   }
  }
 },
 "nbformat": 4,
 "nbformat_minor": 2
}
