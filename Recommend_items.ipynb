{
 "cells": [
  {
   "cell_type": "markdown",
   "metadata": {},
   "source": [
    "Notebook to actually create item recommendations for each user and each model:"
   ]
  },
  {
   "cell_type": "code",
   "execution_count": 60,
   "metadata": {},
   "outputs": [
    {
     "name": "stdout",
     "output_type": "stream",
     "text": [
      "C:\\Users\\781110104\\OneDrive - Genpact\\Documents\\VSCode\n"
     ]
    }
   ],
   "source": [
    "import pandas as pd\n",
    "import numpy as np\n",
    "from dataloading import DataLoader\n",
    "from datapreparation_py import DataPreparation\n",
    "from cv_py import CrossValidation\n",
    "from eda_py import EDA\n",
    "from implicit.evaluation import ranking_metrics_at_k, train_test_split\n",
    "from implicit.nearest_neighbours import CosineRecommender\n",
    "from implicit.als import AlternatingLeastSquares\n",
    "from eALS_adaptor import eALSAdaptor\n",
    "from implicit.lmf import LogisticMatrixFactorization\n",
    "from implicit.bpr import BayesianPersonalizedRanking\n",
    "import matplotlib.pyplot as plt\n",
    "\n",
    "%cd C:\\Users\\781110104\\OneDrive - Genpact\\Documents\\VSCode"
   ]
  },
  {
   "cell_type": "code",
   "execution_count": 3,
   "metadata": {},
   "outputs": [],
   "source": [
    "dl = DataLoader()\n",
    "user_item_co = dl.import_data('AGCO', 'CO', 'df')\n",
    "user_item_co_t = dl.import_data('TEREX', 'CO', 'df')"
   ]
  },
  {
   "cell_type": "code",
   "execution_count": 4,
   "metadata": {},
   "outputs": [],
   "source": [
    "user_item_filtered = dl.remove_low_interact_items(user_item_co, 1)\n",
    "user_item_filtered_t = dl.remove_low_interact_items(user_item_co_t, 1)\n",
    "\n",
    "user_item_filtered_log = dl.log_scale_df(user_item_filtered, 0.01)\n",
    "user_item_filtered_log_t = dl.log_scale_df(user_item_filtered_t, 0.01)\n",
    "\n",
    "user_item_csr = dl.to_csr(user_item_filtered_log)\n",
    "user_item_csr_t = dl.to_csr(user_item_filtered_log_t)"
   ]
  },
  {
   "cell_type": "code",
   "execution_count": 65,
   "metadata": {},
   "outputs": [],
   "source": [
    "dp_t = DataPreparation(user_item_filtered_log_t)\n",
    "full_df_t = dp_t._get_full_user_item()\n",
    "\n",
    "dp = DataPreparation(user_item_filtered_log)\n",
    "full_df = dp._get_full_user_item()"
   ]
  },
  {
   "cell_type": "code",
   "execution_count": 62,
   "metadata": {},
   "outputs": [],
   "source": [
    "model_ials_a = AlternatingLeastSquares(factors=150, regularization=90, alpha=0.3, iterations=25)\n",
    "model_ials_t = AlternatingLeastSquares(factors=100, regularization=90, alpha=1.3, iterations=25)\n",
    "model_eals_t = eALSAdaptor(factors=50, regularization=50, alpha=0.1, w0=5000, num_iter=25)\n",
    "model_bpr_a = BayesianPersonalizedRanking(factors=50, regularization=0.03, learning_rate=0.005, iterations=30)\n",
    "model_lmf_a = LogisticMatrixFactorization(factors=10, regularization=40, iterations=25, neg_prop=50)\n",
    "model_cosine_a = CosineRecommender()\n",
    "model_cosine_t = CosineRecommender()"
   ]
  },
  {
   "cell_type": "code",
   "execution_count": 63,
   "metadata": {},
   "outputs": [
    {
     "data": {
      "application/vnd.jupyter.widget-view+json": {
       "model_id": "ea09eed90c8b4074b59c6234364f81e4",
       "version_major": 2,
       "version_minor": 0
      },
      "text/plain": [
       "  0%|          | 0/25 [00:00<?, ?it/s]"
      ]
     },
     "metadata": {},
     "output_type": "display_data"
    },
    {
     "data": {
      "application/vnd.jupyter.widget-view+json": {
       "model_id": "0274254dfc6443c6ae29ba0d2f1fce19",
       "version_major": 2,
       "version_minor": 0
      },
      "text/plain": [
       "  0%|          | 0/25 [00:00<?, ?it/s]"
      ]
     },
     "metadata": {},
     "output_type": "display_data"
    },
    {
     "name": "stdout",
     "output_type": "stream",
     "text": [
      "converting type of user_items to <class 'numpy.float32'>\n"
     ]
    },
    {
     "data": {
      "application/vnd.jupyter.widget-view+json": {
       "model_id": "d18c0d2cee1545478148bc7f2b86a11d",
       "version_major": 2,
       "version_minor": 0
      },
      "text/plain": [
       "  0%|          | 0/30 [00:00<?, ?it/s]"
      ]
     },
     "metadata": {},
     "output_type": "display_data"
    },
    {
     "data": {
      "application/vnd.jupyter.widget-view+json": {
       "model_id": "f4f376f2cb8845acaab3b684f452bed3",
       "version_major": 2,
       "version_minor": 0
      },
      "text/plain": [
       "  0%|          | 0/25 [00:00<?, ?it/s]"
      ]
     },
     "metadata": {},
     "output_type": "display_data"
    },
    {
     "name": "stderr",
     "output_type": "stream",
     "text": [
      "c:\\Users\\781110104\\Anaconda3\\lib\\site-packages\\implicit\\utils.py:138: ParameterWarning: Method expects CSR input, and was passed coo_matrix instead. Converting to CSR took 0.032929420471191406 seconds\n",
      "  warnings.warn(\n"
     ]
    },
    {
     "data": {
      "application/vnd.jupyter.widget-view+json": {
       "model_id": "e2a5d40057404063ae04848226f9d658",
       "version_major": 2,
       "version_minor": 0
      },
      "text/plain": [
       "  0%|          | 0/202000 [00:00<?, ?it/s]"
      ]
     },
     "metadata": {},
     "output_type": "display_data"
    },
    {
     "name": "stderr",
     "output_type": "stream",
     "text": [
      "c:\\Users\\781110104\\Anaconda3\\lib\\site-packages\\implicit\\utils.py:138: ParameterWarning: Method expects CSR input, and was passed coo_matrix instead. Converting to CSR took 0.0 seconds\n",
      "  warnings.warn(\n"
     ]
    },
    {
     "data": {
      "application/vnd.jupyter.widget-view+json": {
       "model_id": "dc10ce3693c34b25bc5a476ca7e06f90",
       "version_major": 2,
       "version_minor": 0
      },
      "text/plain": [
       "  0%|          | 0/16690 [00:00<?, ?it/s]"
      ]
     },
     "metadata": {},
     "output_type": "display_data"
    }
   ],
   "source": [
    "model_ials_a.fit(user_item_csr)\n",
    "model_ials_t.fit(user_item_csr_t)\n",
    "model_eals_t.fit(user_item_csr_t)\n",
    "model_bpr_a.fit(user_item_csr)\n",
    "model_lmf_a.fit(user_item_csr)\n",
    "model_cosine_a.fit(user_item_csr)\n",
    "model_cosine_t.fit(user_item_csr_t)"
   ]
  },
  {
   "cell_type": "code",
   "execution_count": 64,
   "metadata": {},
   "outputs": [],
   "source": [
    "def get_recommendations(model, user_item_csr, user_item_full):\n",
    "    recoms_t = model.recommend(userid=pd.Series(user_item_csr.tocoo().row).unique(), user_items=user_item_csr)\n",
    "\n",
    "    for u in range(len(recoms_t[0])):\n",
    "        recos_u = recoms_t[0][u]\n",
    "        items_u = user_item_full[user_item_full.item_codes.isin(recos_u)]['item'].unique()\n",
    "        user = user_item_full[user_item_full.user_codes==u]['user'].unique()[0]\n",
    "        df = pd.DataFrame({user : items_u}).T\n",
    "        if u == 0:\n",
    "            ret_df = df\n",
    "        else:\n",
    "            ret_df = pd.concat([ret_df, df], axis=0)\n",
    "    return ret_df"
   ]
  },
  {
   "cell_type": "code",
   "execution_count": 66,
   "metadata": {},
   "outputs": [],
   "source": [
    "recos_ials_a = get_recommendations(model_ials_a, user_item_csr, full_df)\n",
    "recos_ials_t = get_recommendations(model_ials_t, user_item_csr_t, full_df_t)\n",
    "recos_eals_t = get_recommendations(model_eals_t, user_item_csr_t, full_df_t)\n",
    "recos_bpr_a = get_recommendations(model_bpr_a, user_item_csr, full_df)\n",
    "recos_lmf_a = get_recommendations(model_lmf_a, user_item_csr, full_df)\n",
    "recos_cosine_a = get_recommendations(model_cosine_a, user_item_csr, full_df)\n",
    "recos_cosine_t = get_recommendations(model_cosine_t, user_item_csr_t, full_df_t)"
   ]
  },
  {
   "cell_type": "code",
   "execution_count": 69,
   "metadata": {},
   "outputs": [
    {
     "data": {
      "text/html": [
       "<div>\n",
       "<style scoped>\n",
       "    .dataframe tbody tr th:only-of-type {\n",
       "        vertical-align: middle;\n",
       "    }\n",
       "\n",
       "    .dataframe tbody tr th {\n",
       "        vertical-align: top;\n",
       "    }\n",
       "\n",
       "    .dataframe thead th {\n",
       "        text-align: right;\n",
       "    }\n",
       "</style>\n",
       "<table border=\"1\" class=\"dataframe\">\n",
       "  <thead>\n",
       "    <tr style=\"text-align: right;\">\n",
       "      <th></th>\n",
       "      <th>0</th>\n",
       "      <th>1</th>\n",
       "      <th>2</th>\n",
       "      <th>3</th>\n",
       "      <th>4</th>\n",
       "      <th>5</th>\n",
       "      <th>6</th>\n",
       "      <th>7</th>\n",
       "      <th>8</th>\n",
       "      <th>9</th>\n",
       "    </tr>\n",
       "  </thead>\n",
       "  <tbody>\n",
       "    <tr>\n",
       "      <th>AKSEL</th>\n",
       "      <td>02220220</td>\n",
       "      <td>05790360</td>\n",
       "      <td>06630306</td>\n",
       "      <td>06630406</td>\n",
       "      <td>07290361</td>\n",
       "      <td>09130180</td>\n",
       "      <td>10.23.6555</td>\n",
       "      <td>12230735</td>\n",
       "      <td>2212-3008</td>\n",
       "      <td>2531-5152</td>\n",
       "    </tr>\n",
       "    <tr>\n",
       "      <th>ALMAHROOS</th>\n",
       "      <td>1270278GT</td>\n",
       "      <td>13037-SGT</td>\n",
       "      <td>25817GT</td>\n",
       "      <td>35586GT</td>\n",
       "      <td>45071GT</td>\n",
       "      <td>45074GT</td>\n",
       "      <td>56302GT</td>\n",
       "      <td>60884GT</td>\n",
       "      <td>66813GT</td>\n",
       "      <td>71376GT</td>\n",
       "    </tr>\n",
       "    <tr>\n",
       "      <th>ALVAJAL</th>\n",
       "      <td>01910231_15MTR</td>\n",
       "      <td>06650488</td>\n",
       "      <td>09900405</td>\n",
       "      <td>12090363</td>\n",
       "      <td>12890228</td>\n",
       "      <td>2531-1000</td>\n",
       "      <td>2531-1021</td>\n",
       "      <td>06650486</td>\n",
       "      <td>06650487</td>\n",
       "      <td>12150184</td>\n",
       "    </tr>\n",
       "    <tr>\n",
       "      <th>ARACO</th>\n",
       "      <td>2402-2003</td>\n",
       "      <td>2495-3003</td>\n",
       "      <td>02020211</td>\n",
       "      <td>05110105</td>\n",
       "      <td>05110107</td>\n",
       "      <td>05120115</td>\n",
       "      <td>12230735</td>\n",
       "      <td>2210-0023</td>\n",
       "      <td>2211-0010</td>\n",
       "      <td>N1322802000000Z</td>\n",
       "    </tr>\n",
       "    <tr>\n",
       "      <th>ASCENDUM</th>\n",
       "      <td>1210707018</td>\n",
       "      <td>1290707014</td>\n",
       "      <td>5050658553</td>\n",
       "      <td>5253100003</td>\n",
       "      <td>5253100544</td>\n",
       "      <td>5368632611</td>\n",
       "      <td>5388660778</td>\n",
       "      <td>5399000725</td>\n",
       "      <td>5468660575</td>\n",
       "      <td>5522655650</td>\n",
       "    </tr>\n",
       "  </tbody>\n",
       "</table>\n",
       "</div>"
      ],
      "text/plain": [
       "                        0           1           2           3           4  \\\n",
       "AKSEL            02220220    05790360    06630306    06630406    07290361   \n",
       "ALMAHROOS       1270278GT   13037-SGT     25817GT     35586GT     45071GT   \n",
       "ALVAJAL    01910231_15MTR    06650488    09900405    12090363    12890228   \n",
       "ARACO           2402-2003   2495-3003    02020211    05110105    05110107   \n",
       "ASCENDUM       1210707018  1290707014  5050658553  5253100003  5253100544   \n",
       "\n",
       "                    5           6           7           8                9  \n",
       "AKSEL        09130180  10.23.6555    12230735   2212-3008        2531-5152  \n",
       "ALMAHROOS     45074GT     56302GT     60884GT     66813GT          71376GT  \n",
       "ALVAJAL     2531-1000   2531-1021    06650486    06650487         12150184  \n",
       "ARACO        05120115    12230735   2210-0023   2211-0010  N1322802000000Z  \n",
       "ASCENDUM   5368632611  5388660778  5399000725  5468660575       5522655650  "
      ]
     },
     "execution_count": 69,
     "metadata": {},
     "output_type": "execute_result"
    }
   ],
   "source": [
    "recos_ials_t.head()"
   ]
  }
 ],
 "metadata": {
  "kernelspec": {
   "display_name": "Python 3.9.7",
   "language": "python",
   "name": "python3"
  },
  "language_info": {
   "codemirror_mode": {
    "name": "ipython",
    "version": 3
   },
   "file_extension": ".py",
   "mimetype": "text/x-python",
   "name": "python",
   "nbconvert_exporter": "python",
   "pygments_lexer": "ipython3",
   "version": "3.9.7"
  },
  "orig_nbformat": 4,
  "vscode": {
   "interpreter": {
    "hash": "b4efcf30d150067e76aa0880eb47772143c44e1fc3c522760740bd759ef99df4"
   }
  }
 },
 "nbformat": 4,
 "nbformat_minor": 2
}
