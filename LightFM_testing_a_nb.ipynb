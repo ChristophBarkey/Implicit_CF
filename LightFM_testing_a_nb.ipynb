{
 "cells": [
  {
   "cell_type": "code",
   "execution_count": 1,
   "metadata": {},
   "outputs": [
    {
     "name": "stdout",
     "output_type": "stream",
     "text": [
      "C:\\Users\\781110104\\OneDrive - Genpact\\Documents\\VSCode\n"
     ]
    },
    {
     "name": "stderr",
     "output_type": "stream",
     "text": [
      "c:\\Users\\781110104\\Anaconda3\\lib\\site-packages\\lightfm\\_lightfm_fast.py:9: UserWarning: LightFM was compiled without OpenMP support. Only a single thread will be used.\n",
      "  warnings.warn(\n"
     ]
    }
   ],
   "source": [
    "import pandas as pd\n",
    "import numpy as np\n",
    "from dataloading import DataLoader\n",
    "from eda_py import EDA\n",
    "from eALS_adaptor import eALSAdaptor\n",
    "from implicit.evaluation import train_test_split, ranking_metrics_at_k\n",
    "from cv_py import CrossValidation\n",
    "from visualize_py import Visualize\n",
    "from lightFM_adoptor import LightFMAdaptor\n",
    "from datapreparation_py import DataPreparation\n",
    "from scipy import sparse\n",
    "\n",
    "%cd C:\\Users\\781110104\\OneDrive - Genpact\\Documents\\VSCode"
   ]
  },
  {
   "cell_type": "code",
   "execution_count": 2,
   "metadata": {},
   "outputs": [],
   "source": [
    "dl = DataLoader()\n",
    "user_item_co = dl.import_data('AGCO', 'CO', 'df')"
   ]
  },
  {
   "cell_type": "code",
   "execution_count": 3,
   "metadata": {},
   "outputs": [],
   "source": [
    "user_item_co_filtered = dl.remove_low_interact_items(user_item_co, 1)\n",
    "user_item_filtered_log_t = dl.log_scale_df(user_item_co_filtered, 0.01)"
   ]
  },
  {
   "cell_type": "code",
   "execution_count": 4,
   "metadata": {},
   "outputs": [],
   "source": [
    "dp = DataPreparation(user_item_filtered_log_t)"
   ]
  },
  {
   "cell_type": "code",
   "execution_count": 4,
   "metadata": {},
   "outputs": [],
   "source": [
    "items = pd.read_csv('items_agco_new.csv', sep='|', low_memory=False)"
   ]
  },
  {
   "cell_type": "code",
   "execution_count": 5,
   "metadata": {},
   "outputs": [],
   "source": [
    "skus = pd.read_csv('skus_agco_new.csv', sep='|', low_memory=False)"
   ]
  },
  {
   "cell_type": "code",
   "execution_count": 5,
   "metadata": {},
   "outputs": [],
   "source": [
    "interactions_csr, weights_csr = dp.get_interaction_data()"
   ]
  },
  {
   "cell_type": "code",
   "execution_count": 8,
   "metadata": {},
   "outputs": [],
   "source": [
    "user_features = ['country', 'brand', 'currency', 'dealer_size']\n",
    "item_features = ['group2', 'movement_code', 'cost_class', 'cps_category']   \n",
    "return_list = dp.get_feature_data(OEM='AGCO', user_features=user_features, item_features=item_features)"
   ]
  },
  {
   "cell_type": "code",
   "execution_count": 9,
   "metadata": {},
   "outputs": [],
   "source": [
    "userf, itemf = return_list"
   ]
  },
  {
   "cell_type": "code",
   "execution_count": 29,
   "metadata": {},
   "outputs": [],
   "source": [
    "sparse.save_npz('user_feature_matrix_agco.npz', userf)"
   ]
  },
  {
   "cell_type": "code",
   "execution_count": 33,
   "metadata": {},
   "outputs": [],
   "source": [
    "sparse.save_npz('item_feature_matrix_agco.npz', itemf)"
   ]
  },
  {
   "cell_type": "code",
   "execution_count": 30,
   "metadata": {},
   "outputs": [
    {
     "data": {
      "text/plain": [
       "<303x330 sparse matrix of type '<class 'numpy.float32'>'\n",
       "\twith 649 stored elements in Compressed Sparse Row format>"
      ]
     },
     "execution_count": 30,
     "metadata": {},
     "output_type": "execute_result"
    }
   ],
   "source": [
    "userf"
   ]
  },
  {
   "cell_type": "code",
   "execution_count": 6,
   "metadata": {},
   "outputs": [],
   "source": [
    "loaded_userf = sparse.load_npz('user_feature_matrix_agco.npz')"
   ]
  },
  {
   "cell_type": "code",
   "execution_count": 7,
   "metadata": {},
   "outputs": [],
   "source": [
    "loaded_itemf = sparse.load_npz('item_feature_matrix_agco.npz')"
   ]
  },
  {
   "cell_type": "code",
   "execution_count": 35,
   "metadata": {},
   "outputs": [
    {
     "data": {
      "text/plain": [
       "<202000x202415 sparse matrix of type '<class 'numpy.float32'>'\n",
       "\twith 489905 stored elements in Compressed Sparse Row format>"
      ]
     },
     "execution_count": 35,
     "metadata": {},
     "output_type": "execute_result"
    }
   ],
   "source": [
    "loaded_itemf"
   ]
  },
  {
   "cell_type": "code",
   "execution_count": 8,
   "metadata": {},
   "outputs": [],
   "source": [
    "train_i, test_i = train_test_split(interactions_csr, 0.8, 22)\n",
    "train_w, test_w = train_test_split(weights_csr, 0.8, 22)"
   ]
  },
  {
   "cell_type": "code",
   "execution_count": null,
   "metadata": {},
   "outputs": [],
   "source": [
    "model_adapt = LightFMAdaptor(loss='warp', random_state=22, no_components=64, iterations=15, item_alpha=0.001, user_alpha=0.001, learning_rate=0.005)"
   ]
  },
  {
   "cell_type": "code",
   "execution_count": 9,
   "metadata": {},
   "outputs": [],
   "source": [
    "model_adapt = LightFMAdaptor(loss='warp', random_state=22)"
   ]
  },
  {
   "cell_type": "code",
   "execution_count": 10,
   "metadata": {},
   "outputs": [
    {
     "name": "stderr",
     "output_type": "stream",
     "text": [
      "Epoch: 100%|██████████| 1/1 [00:13<00:00, 13.14s/it]\n"
     ]
    }
   ],
   "source": [
    "model_adapt.fit(interactions=train_i, user_features=loaded_userf, item_features=loaded_itemf, weights=train_w, show_progress=True, transform_factors=False)"
   ]
  },
  {
   "cell_type": "code",
   "execution_count": 11,
   "metadata": {},
   "outputs": [
    {
     "data": {
      "text/plain": [
       "0.57326734"
      ]
     },
     "execution_count": 11,
     "metadata": {},
     "output_type": "execute_result"
    }
   ],
   "source": [
    "pk = model_adapt.evaluate(test_interactions=test_i, train_interactions=train_i, user_features=loaded_userf, item_features=loaded_itemf, k=10)\n",
    "pk"
   ]
  },
  {
   "cell_type": "code",
   "execution_count": 69,
   "metadata": {},
   "outputs": [
    {
     "name": "stderr",
     "output_type": "stream",
     "text": [
      "Epoch: 100%|██████████| 5/5 [02:42<00:00, 32.58s/it]\n",
      "Epoch: 100%|██████████| 5/5 [02:40<00:00, 32.09s/it]\n",
      "Epoch: 100%|██████████| 5/5 [02:44<00:00, 32.83s/it]\n",
      "Epoch: 100%|██████████| 5/5 [02:40<00:00, 32.07s/it]\n",
      "Epoch: 100%|██████████| 5/5 [02:37<00:00, 31.53s/it]\n",
      "Epoch: 100%|██████████| 5/5 [02:34<00:00, 30.96s/it]\n",
      "Epoch: 100%|██████████| 5/5 [01:54<00:00, 22.97s/it]\n",
      "Epoch: 100%|██████████| 5/5 [02:33<00:00, 30.73s/it]\n",
      "Epoch: 100%|██████████| 5/5 [02:22<00:00, 28.56s/it]\n",
      "Epoch: 100%|██████████| 5/5 [02:37<00:00, 31.44s/it]\n",
      "Epoch: 100%|██████████| 5/5 [02:46<00:00, 33.20s/it]\n",
      "Epoch: 100%|██████████| 5/5 [02:28<00:00, 29.77s/it]\n",
      "Epoch: 100%|██████████| 5/5 [02:22<00:00, 28.46s/it]\n",
      "Epoch: 100%|██████████| 5/5 [02:12<00:00, 26.46s/it]\n",
      "Epoch: 100%|██████████| 5/5 [02:30<00:00, 30.19s/it]\n",
      "Epoch: 100%|██████████| 5/5 [02:32<00:00, 30.59s/it]\n",
      "Epoch: 100%|██████████| 5/5 [03:30<00:00, 42.13s/it]\n",
      "Epoch: 100%|██████████| 5/5 [03:21<00:00, 40.31s/it]\n",
      "Epoch: 100%|██████████| 5/5 [02:45<00:00, 33.18s/it]\n",
      "Epoch: 100%|██████████| 5/5 [02:46<00:00, 33.38s/it]\n",
      "Epoch: 100%|██████████| 5/5 [02:23<00:00, 28.61s/it]\n",
      "Epoch: 100%|██████████| 5/5 [02:43<00:00, 32.69s/it]\n",
      "Epoch: 100%|██████████| 5/5 [02:46<00:00, 33.28s/it]\n",
      "Epoch: 100%|██████████| 5/5 [02:33<00:00, 30.61s/it]\n",
      "Epoch: 100%|██████████| 5/5 [02:41<00:00, 32.30s/it]\n",
      "Epoch: 100%|██████████| 5/5 [02:29<00:00, 29.96s/it]\n",
      "Epoch: 100%|██████████| 5/5 [02:29<00:00, 29.99s/it]\n",
      "Epoch: 100%|██████████| 5/5 [02:33<00:00, 30.77s/it]\n",
      "Epoch: 100%|██████████| 5/5 [02:30<00:00, 30.20s/it]\n",
      "Epoch: 100%|██████████| 5/5 [02:50<00:00, 34.10s/it]\n",
      "Epoch: 100%|██████████| 5/5 [02:38<00:00, 31.77s/it]\n",
      "Epoch: 100%|██████████| 5/5 [02:28<00:00, 29.62s/it]\n",
      "Epoch: 100%|██████████| 5/5 [02:34<00:00, 30.97s/it]\n",
      "Epoch: 100%|██████████| 5/5 [02:22<00:00, 28.53s/it]\n",
      "Epoch: 100%|██████████| 5/5 [01:58<00:00, 23.71s/it]\n",
      "Epoch: 100%|██████████| 5/5 [02:37<00:00, 31.40s/it]\n",
      "Epoch: 100%|██████████| 5/5 [02:28<00:00, 29.67s/it]\n",
      "Epoch: 100%|██████████| 5/5 [02:03<00:00, 24.61s/it]\n",
      "Epoch: 100%|██████████| 5/5 [02:06<00:00, 25.21s/it]\n",
      "Epoch: 100%|██████████| 5/5 [01:58<00:00, 23.71s/it]\n",
      "Epoch: 100%|██████████| 5/5 [01:56<00:00, 23.29s/it]\n",
      "Epoch: 100%|██████████| 5/5 [02:07<00:00, 25.56s/it]\n"
     ]
    }
   ],
   "source": [
    "results = []\n",
    "for r in [0.00001, 0.00007, 0.0001, 0.0003, 0.001, 0.01]: # regularization\n",
    "    for lr in [0.001, 0.01, 0.05, 0.07, 0.1, 0.3, 0.5]: # learning rate\n",
    "        model = LightFMAdaptor(loss='bpr', random_state=22, no_components=32, iterations=5, item_alpha=r, user_alpha=r, learning_rate=lr)\n",
    "        model.fit(interactions=train_i, user_features=loaded_userf, item_features=loaded_itemf, weights=train_w, show_progress=True, transform_factors=False)\n",
    "        pk = model.evaluate(test_interactions=test_i, train_interactions=train_i, user_features=loaded_userf, item_features=loaded_itemf, k=10)\n",
    "        res = {'reg': r, 'lr' : lr, 'ms' : ms, 'p@k' : pk}\n",
    "        results.append(res)\n"
   ]
  },
  {
   "cell_type": "code",
   "execution_count": 70,
   "metadata": {},
   "outputs": [],
   "source": [
    "for i in range(len(results)):\n",
    "    if i == 0:\n",
    "        result_df_bpr = pd.DataFrame(results[0], index=[0])\n",
    "    else:\n",
    "        result_df_bpr = pd.concat([result_df_bpr, pd.DataFrame(results[i], index=[i])])\n"
   ]
  },
  {
   "cell_type": "code",
   "execution_count": 54,
   "metadata": {},
   "outputs": [],
   "source": [
    "for i in range(len(results)):\n",
    "    result_df = pd.concat([result_df, pd.DataFrame(results[i], index=[i])])"
   ]
  },
  {
   "cell_type": "code",
   "execution_count": 55,
   "metadata": {},
   "outputs": [
    {
     "data": {
      "text/html": [
       "<div>\n",
       "<style scoped>\n",
       "    .dataframe tbody tr th:only-of-type {\n",
       "        vertical-align: middle;\n",
       "    }\n",
       "\n",
       "    .dataframe tbody tr th {\n",
       "        vertical-align: top;\n",
       "    }\n",
       "\n",
       "    .dataframe thead th {\n",
       "        text-align: right;\n",
       "    }\n",
       "</style>\n",
       "<table border=\"1\" class=\"dataframe\">\n",
       "  <thead>\n",
       "    <tr style=\"text-align: right;\">\n",
       "      <th></th>\n",
       "      <th>reg</th>\n",
       "      <th>lr</th>\n",
       "      <th>ms</th>\n",
       "      <th>p@k</th>\n",
       "    </tr>\n",
       "  </thead>\n",
       "  <tbody>\n",
       "    <tr>\n",
       "      <th>0</th>\n",
       "      <td>0.00010</td>\n",
       "      <td>0.100</td>\n",
       "      <td>30</td>\n",
       "      <td>0.779868</td>\n",
       "    </tr>\n",
       "    <tr>\n",
       "      <th>13</th>\n",
       "      <td>0.00010</td>\n",
       "      <td>0.100</td>\n",
       "      <td>30</td>\n",
       "      <td>0.779868</td>\n",
       "    </tr>\n",
       "    <tr>\n",
       "      <th>11</th>\n",
       "      <td>0.00010</td>\n",
       "      <td>0.070</td>\n",
       "      <td>35</td>\n",
       "      <td>0.776238</td>\n",
       "    </tr>\n",
       "    <tr>\n",
       "      <th>9</th>\n",
       "      <td>0.00010</td>\n",
       "      <td>0.070</td>\n",
       "      <td>25</td>\n",
       "      <td>0.768317</td>\n",
       "    </tr>\n",
       "    <tr>\n",
       "      <th>8</th>\n",
       "      <td>0.00010</td>\n",
       "      <td>0.050</td>\n",
       "      <td>30</td>\n",
       "      <td>0.764356</td>\n",
       "    </tr>\n",
       "    <tr>\n",
       "      <th>7</th>\n",
       "      <td>0.00010</td>\n",
       "      <td>0.050</td>\n",
       "      <td>20</td>\n",
       "      <td>0.763036</td>\n",
       "    </tr>\n",
       "    <tr>\n",
       "      <th>0</th>\n",
       "      <td>0.00010</td>\n",
       "      <td>0.050</td>\n",
       "      <td>40</td>\n",
       "      <td>0.763036</td>\n",
       "    </tr>\n",
       "    <tr>\n",
       "      <th>20</th>\n",
       "      <td>0.00030</td>\n",
       "      <td>0.070</td>\n",
       "      <td>35</td>\n",
       "      <td>0.760396</td>\n",
       "    </tr>\n",
       "    <tr>\n",
       "      <th>2</th>\n",
       "      <td>0.00007</td>\n",
       "      <td>0.070</td>\n",
       "      <td>35</td>\n",
       "      <td>0.759076</td>\n",
       "    </tr>\n",
       "    <tr>\n",
       "      <th>4</th>\n",
       "      <td>0.00007</td>\n",
       "      <td>0.100</td>\n",
       "      <td>30</td>\n",
       "      <td>0.759076</td>\n",
       "    </tr>\n",
       "    <tr>\n",
       "      <th>14</th>\n",
       "      <td>0.00010</td>\n",
       "      <td>0.100</td>\n",
       "      <td>35</td>\n",
       "      <td>0.758746</td>\n",
       "    </tr>\n",
       "    <tr>\n",
       "      <th>10</th>\n",
       "      <td>0.00010</td>\n",
       "      <td>0.070</td>\n",
       "      <td>30</td>\n",
       "      <td>0.758416</td>\n",
       "    </tr>\n",
       "    <tr>\n",
       "      <th>1</th>\n",
       "      <td>0.00007</td>\n",
       "      <td>0.070</td>\n",
       "      <td>30</td>\n",
       "      <td>0.758086</td>\n",
       "    </tr>\n",
       "    <tr>\n",
       "      <th>18</th>\n",
       "      <td>0.00030</td>\n",
       "      <td>0.070</td>\n",
       "      <td>25</td>\n",
       "      <td>0.757756</td>\n",
       "    </tr>\n",
       "    <tr>\n",
       "      <th>12</th>\n",
       "      <td>0.00010</td>\n",
       "      <td>0.100</td>\n",
       "      <td>25</td>\n",
       "      <td>0.757756</td>\n",
       "    </tr>\n",
       "    <tr>\n",
       "      <th>5</th>\n",
       "      <td>0.00007</td>\n",
       "      <td>0.100</td>\n",
       "      <td>35</td>\n",
       "      <td>0.756436</td>\n",
       "    </tr>\n",
       "    <tr>\n",
       "      <th>0</th>\n",
       "      <td>0.00001</td>\n",
       "      <td>0.050</td>\n",
       "      <td>30</td>\n",
       "      <td>0.754785</td>\n",
       "    </tr>\n",
       "    <tr>\n",
       "      <th>3</th>\n",
       "      <td>0.00007</td>\n",
       "      <td>0.100</td>\n",
       "      <td>25</td>\n",
       "      <td>0.753135</td>\n",
       "    </tr>\n",
       "    <tr>\n",
       "      <th>0</th>\n",
       "      <td>0.00007</td>\n",
       "      <td>0.070</td>\n",
       "      <td>25</td>\n",
       "      <td>0.747855</td>\n",
       "    </tr>\n",
       "    <tr>\n",
       "      <th>19</th>\n",
       "      <td>0.00030</td>\n",
       "      <td>0.070</td>\n",
       "      <td>30</td>\n",
       "      <td>0.743894</td>\n",
       "    </tr>\n",
       "    <tr>\n",
       "      <th>6</th>\n",
       "      <td>0.00010</td>\n",
       "      <td>0.050</td>\n",
       "      <td>10</td>\n",
       "      <td>0.730033</td>\n",
       "    </tr>\n",
       "    <tr>\n",
       "      <th>21</th>\n",
       "      <td>0.00030</td>\n",
       "      <td>0.100</td>\n",
       "      <td>25</td>\n",
       "      <td>0.549175</td>\n",
       "    </tr>\n",
       "    <tr>\n",
       "      <th>22</th>\n",
       "      <td>0.00030</td>\n",
       "      <td>0.100</td>\n",
       "      <td>30</td>\n",
       "      <td>0.529703</td>\n",
       "    </tr>\n",
       "    <tr>\n",
       "      <th>5</th>\n",
       "      <td>0.00010</td>\n",
       "      <td>0.010</td>\n",
       "      <td>30</td>\n",
       "      <td>0.515182</td>\n",
       "    </tr>\n",
       "    <tr>\n",
       "      <th>14</th>\n",
       "      <td>0.00100</td>\n",
       "      <td>0.010</td>\n",
       "      <td>30</td>\n",
       "      <td>0.507921</td>\n",
       "    </tr>\n",
       "    <tr>\n",
       "      <th>23</th>\n",
       "      <td>0.00030</td>\n",
       "      <td>0.100</td>\n",
       "      <td>35</td>\n",
       "      <td>0.506931</td>\n",
       "    </tr>\n",
       "    <tr>\n",
       "      <th>13</th>\n",
       "      <td>0.00100</td>\n",
       "      <td>0.010</td>\n",
       "      <td>20</td>\n",
       "      <td>0.499670</td>\n",
       "    </tr>\n",
       "    <tr>\n",
       "      <th>4</th>\n",
       "      <td>0.00010</td>\n",
       "      <td>0.010</td>\n",
       "      <td>20</td>\n",
       "      <td>0.483168</td>\n",
       "    </tr>\n",
       "    <tr>\n",
       "      <th>12</th>\n",
       "      <td>0.00100</td>\n",
       "      <td>0.010</td>\n",
       "      <td>10</td>\n",
       "      <td>0.480198</td>\n",
       "    </tr>\n",
       "    <tr>\n",
       "      <th>3</th>\n",
       "      <td>0.00010</td>\n",
       "      <td>0.010</td>\n",
       "      <td>10</td>\n",
       "      <td>0.470957</td>\n",
       "    </tr>\n",
       "    <tr>\n",
       "      <th>24</th>\n",
       "      <td>0.01000</td>\n",
       "      <td>0.050</td>\n",
       "      <td>10</td>\n",
       "      <td>0.468647</td>\n",
       "    </tr>\n",
       "    <tr>\n",
       "      <th>25</th>\n",
       "      <td>0.01000</td>\n",
       "      <td>0.050</td>\n",
       "      <td>20</td>\n",
       "      <td>0.418812</td>\n",
       "    </tr>\n",
       "    <tr>\n",
       "      <th>20</th>\n",
       "      <td>0.01000</td>\n",
       "      <td>0.001</td>\n",
       "      <td>30</td>\n",
       "      <td>0.255116</td>\n",
       "    </tr>\n",
       "    <tr>\n",
       "      <th>19</th>\n",
       "      <td>0.01000</td>\n",
       "      <td>0.001</td>\n",
       "      <td>20</td>\n",
       "      <td>0.252475</td>\n",
       "    </tr>\n",
       "    <tr>\n",
       "      <th>18</th>\n",
       "      <td>0.01000</td>\n",
       "      <td>0.001</td>\n",
       "      <td>10</td>\n",
       "      <td>0.244224</td>\n",
       "    </tr>\n",
       "    <tr>\n",
       "      <th>0</th>\n",
       "      <td>0.01000</td>\n",
       "      <td>0.050</td>\n",
       "      <td>30</td>\n",
       "      <td>0.210891</td>\n",
       "    </tr>\n",
       "    <tr>\n",
       "      <th>26</th>\n",
       "      <td>0.01000</td>\n",
       "      <td>0.050</td>\n",
       "      <td>30</td>\n",
       "      <td>0.210891</td>\n",
       "    </tr>\n",
       "    <tr>\n",
       "      <th>17</th>\n",
       "      <td>0.00100</td>\n",
       "      <td>0.050</td>\n",
       "      <td>30</td>\n",
       "      <td>0.187789</td>\n",
       "    </tr>\n",
       "    <tr>\n",
       "      <th>15</th>\n",
       "      <td>0.00100</td>\n",
       "      <td>0.050</td>\n",
       "      <td>10</td>\n",
       "      <td>0.184158</td>\n",
       "    </tr>\n",
       "    <tr>\n",
       "      <th>16</th>\n",
       "      <td>0.00100</td>\n",
       "      <td>0.050</td>\n",
       "      <td>20</td>\n",
       "      <td>0.183498</td>\n",
       "    </tr>\n",
       "    <tr>\n",
       "      <th>23</th>\n",
       "      <td>0.01000</td>\n",
       "      <td>0.010</td>\n",
       "      <td>30</td>\n",
       "      <td>0.166667</td>\n",
       "    </tr>\n",
       "    <tr>\n",
       "      <th>22</th>\n",
       "      <td>0.01000</td>\n",
       "      <td>0.010</td>\n",
       "      <td>20</td>\n",
       "      <td>0.162376</td>\n",
       "    </tr>\n",
       "    <tr>\n",
       "      <th>21</th>\n",
       "      <td>0.01000</td>\n",
       "      <td>0.010</td>\n",
       "      <td>10</td>\n",
       "      <td>0.149175</td>\n",
       "    </tr>\n",
       "    <tr>\n",
       "      <th>2</th>\n",
       "      <td>0.00010</td>\n",
       "      <td>0.001</td>\n",
       "      <td>30</td>\n",
       "      <td>0.128053</td>\n",
       "    </tr>\n",
       "    <tr>\n",
       "      <th>11</th>\n",
       "      <td>0.00100</td>\n",
       "      <td>0.001</td>\n",
       "      <td>30</td>\n",
       "      <td>0.125743</td>\n",
       "    </tr>\n",
       "    <tr>\n",
       "      <th>1</th>\n",
       "      <td>0.00010</td>\n",
       "      <td>0.001</td>\n",
       "      <td>20</td>\n",
       "      <td>0.125413</td>\n",
       "    </tr>\n",
       "    <tr>\n",
       "      <th>10</th>\n",
       "      <td>0.00100</td>\n",
       "      <td>0.001</td>\n",
       "      <td>20</td>\n",
       "      <td>0.124422</td>\n",
       "    </tr>\n",
       "    <tr>\n",
       "      <th>9</th>\n",
       "      <td>0.00100</td>\n",
       "      <td>0.001</td>\n",
       "      <td>10</td>\n",
       "      <td>0.118482</td>\n",
       "    </tr>\n",
       "    <tr>\n",
       "      <th>15</th>\n",
       "      <td>0.00010</td>\n",
       "      <td>0.300</td>\n",
       "      <td>25</td>\n",
       "      <td>0.012541</td>\n",
       "    </tr>\n",
       "    <tr>\n",
       "      <th>8</th>\n",
       "      <td>0.00007</td>\n",
       "      <td>0.300</td>\n",
       "      <td>35</td>\n",
       "      <td>0.011221</td>\n",
       "    </tr>\n",
       "    <tr>\n",
       "      <th>24</th>\n",
       "      <td>0.00030</td>\n",
       "      <td>0.300</td>\n",
       "      <td>25</td>\n",
       "      <td>0.009901</td>\n",
       "    </tr>\n",
       "    <tr>\n",
       "      <th>6</th>\n",
       "      <td>0.00007</td>\n",
       "      <td>0.300</td>\n",
       "      <td>25</td>\n",
       "      <td>0.007921</td>\n",
       "    </tr>\n",
       "    <tr>\n",
       "      <th>0</th>\n",
       "      <td>0.00010</td>\n",
       "      <td>0.500</td>\n",
       "      <td>30</td>\n",
       "      <td>0.007591</td>\n",
       "    </tr>\n",
       "    <tr>\n",
       "      <th>16</th>\n",
       "      <td>0.00010</td>\n",
       "      <td>0.300</td>\n",
       "      <td>30</td>\n",
       "      <td>0.007591</td>\n",
       "    </tr>\n",
       "    <tr>\n",
       "      <th>26</th>\n",
       "      <td>0.00030</td>\n",
       "      <td>0.300</td>\n",
       "      <td>35</td>\n",
       "      <td>0.005941</td>\n",
       "    </tr>\n",
       "    <tr>\n",
       "      <th>7</th>\n",
       "      <td>0.00007</td>\n",
       "      <td>0.300</td>\n",
       "      <td>30</td>\n",
       "      <td>0.005941</td>\n",
       "    </tr>\n",
       "    <tr>\n",
       "      <th>25</th>\n",
       "      <td>0.00030</td>\n",
       "      <td>0.300</td>\n",
       "      <td>30</td>\n",
       "      <td>0.005611</td>\n",
       "    </tr>\n",
       "    <tr>\n",
       "      <th>17</th>\n",
       "      <td>0.00010</td>\n",
       "      <td>0.300</td>\n",
       "      <td>35</td>\n",
       "      <td>0.005281</td>\n",
       "    </tr>\n",
       "  </tbody>\n",
       "</table>\n",
       "</div>"
      ],
      "text/plain": [
       "        reg     lr  ms       p@k\n",
       "0   0.00010  0.100  30  0.779868\n",
       "13  0.00010  0.100  30  0.779868\n",
       "11  0.00010  0.070  35  0.776238\n",
       "9   0.00010  0.070  25  0.768317\n",
       "8   0.00010  0.050  30  0.764356\n",
       "7   0.00010  0.050  20  0.763036\n",
       "0   0.00010  0.050  40  0.763036\n",
       "20  0.00030  0.070  35  0.760396\n",
       "2   0.00007  0.070  35  0.759076\n",
       "4   0.00007  0.100  30  0.759076\n",
       "14  0.00010  0.100  35  0.758746\n",
       "10  0.00010  0.070  30  0.758416\n",
       "1   0.00007  0.070  30  0.758086\n",
       "18  0.00030  0.070  25  0.757756\n",
       "12  0.00010  0.100  25  0.757756\n",
       "5   0.00007  0.100  35  0.756436\n",
       "0   0.00001  0.050  30  0.754785\n",
       "3   0.00007  0.100  25  0.753135\n",
       "0   0.00007  0.070  25  0.747855\n",
       "19  0.00030  0.070  30  0.743894\n",
       "6   0.00010  0.050  10  0.730033\n",
       "21  0.00030  0.100  25  0.549175\n",
       "22  0.00030  0.100  30  0.529703\n",
       "5   0.00010  0.010  30  0.515182\n",
       "14  0.00100  0.010  30  0.507921\n",
       "23  0.00030  0.100  35  0.506931\n",
       "13  0.00100  0.010  20  0.499670\n",
       "4   0.00010  0.010  20  0.483168\n",
       "12  0.00100  0.010  10  0.480198\n",
       "3   0.00010  0.010  10  0.470957\n",
       "24  0.01000  0.050  10  0.468647\n",
       "25  0.01000  0.050  20  0.418812\n",
       "20  0.01000  0.001  30  0.255116\n",
       "19  0.01000  0.001  20  0.252475\n",
       "18  0.01000  0.001  10  0.244224\n",
       "0   0.01000  0.050  30  0.210891\n",
       "26  0.01000  0.050  30  0.210891\n",
       "17  0.00100  0.050  30  0.187789\n",
       "15  0.00100  0.050  10  0.184158\n",
       "16  0.00100  0.050  20  0.183498\n",
       "23  0.01000  0.010  30  0.166667\n",
       "22  0.01000  0.010  20  0.162376\n",
       "21  0.01000  0.010  10  0.149175\n",
       "2   0.00010  0.001  30  0.128053\n",
       "11  0.00100  0.001  30  0.125743\n",
       "1   0.00010  0.001  20  0.125413\n",
       "10  0.00100  0.001  20  0.124422\n",
       "9   0.00100  0.001  10  0.118482\n",
       "15  0.00010  0.300  25  0.012541\n",
       "8   0.00007  0.300  35  0.011221\n",
       "24  0.00030  0.300  25  0.009901\n",
       "6   0.00007  0.300  25  0.007921\n",
       "0   0.00010  0.500  30  0.007591\n",
       "16  0.00010  0.300  30  0.007591\n",
       "26  0.00030  0.300  35  0.005941\n",
       "7   0.00007  0.300  30  0.005941\n",
       "25  0.00030  0.300  30  0.005611\n",
       "17  0.00010  0.300  35  0.005281"
      ]
     },
     "execution_count": 55,
     "metadata": {},
     "output_type": "execute_result"
    }
   ],
   "source": [
    "result_df.sort_values('p@k', ascending=False)"
   ]
  },
  {
   "cell_type": "code",
   "execution_count": 68,
   "metadata": {},
   "outputs": [
    {
     "data": {
      "text/html": [
       "<div>\n",
       "<style scoped>\n",
       "    .dataframe tbody tr th:only-of-type {\n",
       "        vertical-align: middle;\n",
       "    }\n",
       "\n",
       "    .dataframe tbody tr th {\n",
       "        vertical-align: top;\n",
       "    }\n",
       "\n",
       "    .dataframe thead th {\n",
       "        text-align: right;\n",
       "    }\n",
       "</style>\n",
       "<table border=\"1\" class=\"dataframe\">\n",
       "  <thead>\n",
       "    <tr style=\"text-align: right;\">\n",
       "      <th></th>\n",
       "      <th>ms</th>\n",
       "    </tr>\n",
       "  </thead>\n",
       "  <tbody>\n",
       "    <tr>\n",
       "      <th>3</th>\n",
       "      <td>10</td>\n",
       "    </tr>\n",
       "    <tr>\n",
       "      <th>1</th>\n",
       "      <td>20</td>\n",
       "    </tr>\n",
       "    <tr>\n",
       "      <th>0</th>\n",
       "      <td>25</td>\n",
       "    </tr>\n",
       "    <tr>\n",
       "      <th>0</th>\n",
       "      <td>30</td>\n",
       "    </tr>\n",
       "    <tr>\n",
       "      <th>2</th>\n",
       "      <td>35</td>\n",
       "    </tr>\n",
       "    <tr>\n",
       "      <th>0</th>\n",
       "      <td>40</td>\n",
       "    </tr>\n",
       "  </tbody>\n",
       "</table>\n",
       "</div>"
      ],
      "text/plain": [
       "   ms\n",
       "3  10\n",
       "1  20\n",
       "0  25\n",
       "0  30\n",
       "2  35\n",
       "0  40"
      ]
     },
     "execution_count": 68,
     "metadata": {},
     "output_type": "execute_result"
    }
   ],
   "source": [
    "result_df[['ms']].drop_duplicates().sort_values('ms')"
   ]
  },
  {
   "cell_type": "code",
   "execution_count": 71,
   "metadata": {},
   "outputs": [
    {
     "data": {
      "text/html": [
       "<div>\n",
       "<style scoped>\n",
       "    .dataframe tbody tr th:only-of-type {\n",
       "        vertical-align: middle;\n",
       "    }\n",
       "\n",
       "    .dataframe tbody tr th {\n",
       "        vertical-align: top;\n",
       "    }\n",
       "\n",
       "    .dataframe thead th {\n",
       "        text-align: right;\n",
       "    }\n",
       "</style>\n",
       "<table border=\"1\" class=\"dataframe\">\n",
       "  <thead>\n",
       "    <tr style=\"text-align: right;\">\n",
       "      <th></th>\n",
       "      <th>reg</th>\n",
       "      <th>lr</th>\n",
       "      <th>ms</th>\n",
       "      <th>p@k</th>\n",
       "    </tr>\n",
       "  </thead>\n",
       "  <tbody>\n",
       "    <tr>\n",
       "      <th>9</th>\n",
       "      <td>0.00007</td>\n",
       "      <td>0.050</td>\n",
       "      <td>35</td>\n",
       "      <td>0.409571</td>\n",
       "    </tr>\n",
       "    <tr>\n",
       "      <th>16</th>\n",
       "      <td>0.00010</td>\n",
       "      <td>0.050</td>\n",
       "      <td>35</td>\n",
       "      <td>0.390429</td>\n",
       "    </tr>\n",
       "    <tr>\n",
       "      <th>10</th>\n",
       "      <td>0.00007</td>\n",
       "      <td>0.070</td>\n",
       "      <td>35</td>\n",
       "      <td>0.357096</td>\n",
       "    </tr>\n",
       "    <tr>\n",
       "      <th>0</th>\n",
       "      <td>0.00001</td>\n",
       "      <td>0.001</td>\n",
       "      <td>35</td>\n",
       "      <td>0.343564</td>\n",
       "    </tr>\n",
       "    <tr>\n",
       "      <th>7</th>\n",
       "      <td>0.00007</td>\n",
       "      <td>0.001</td>\n",
       "      <td>35</td>\n",
       "      <td>0.341914</td>\n",
       "    </tr>\n",
       "    <tr>\n",
       "      <th>14</th>\n",
       "      <td>0.00010</td>\n",
       "      <td>0.001</td>\n",
       "      <td>35</td>\n",
       "      <td>0.340924</td>\n",
       "    </tr>\n",
       "    <tr>\n",
       "      <th>21</th>\n",
       "      <td>0.00030</td>\n",
       "      <td>0.001</td>\n",
       "      <td>35</td>\n",
       "      <td>0.336964</td>\n",
       "    </tr>\n",
       "    <tr>\n",
       "      <th>2</th>\n",
       "      <td>0.00001</td>\n",
       "      <td>0.050</td>\n",
       "      <td>35</td>\n",
       "      <td>0.333333</td>\n",
       "    </tr>\n",
       "    <tr>\n",
       "      <th>1</th>\n",
       "      <td>0.00001</td>\n",
       "      <td>0.010</td>\n",
       "      <td>35</td>\n",
       "      <td>0.329043</td>\n",
       "    </tr>\n",
       "    <tr>\n",
       "      <th>8</th>\n",
       "      <td>0.00007</td>\n",
       "      <td>0.010</td>\n",
       "      <td>35</td>\n",
       "      <td>0.298020</td>\n",
       "    </tr>\n",
       "    <tr>\n",
       "      <th>28</th>\n",
       "      <td>0.00100</td>\n",
       "      <td>0.001</td>\n",
       "      <td>35</td>\n",
       "      <td>0.297690</td>\n",
       "    </tr>\n",
       "    <tr>\n",
       "      <th>3</th>\n",
       "      <td>0.00001</td>\n",
       "      <td>0.070</td>\n",
       "      <td>35</td>\n",
       "      <td>0.293729</td>\n",
       "    </tr>\n",
       "    <tr>\n",
       "      <th>15</th>\n",
       "      <td>0.00010</td>\n",
       "      <td>0.010</td>\n",
       "      <td>35</td>\n",
       "      <td>0.286139</td>\n",
       "    </tr>\n",
       "    <tr>\n",
       "      <th>17</th>\n",
       "      <td>0.00010</td>\n",
       "      <td>0.070</td>\n",
       "      <td>35</td>\n",
       "      <td>0.278878</td>\n",
       "    </tr>\n",
       "    <tr>\n",
       "      <th>4</th>\n",
       "      <td>0.00001</td>\n",
       "      <td>0.100</td>\n",
       "      <td>35</td>\n",
       "      <td>0.242904</td>\n",
       "    </tr>\n",
       "    <tr>\n",
       "      <th>11</th>\n",
       "      <td>0.00007</td>\n",
       "      <td>0.100</td>\n",
       "      <td>35</td>\n",
       "      <td>0.236634</td>\n",
       "    </tr>\n",
       "    <tr>\n",
       "      <th>22</th>\n",
       "      <td>0.00030</td>\n",
       "      <td>0.010</td>\n",
       "      <td>35</td>\n",
       "      <td>0.207921</td>\n",
       "    </tr>\n",
       "    <tr>\n",
       "      <th>27</th>\n",
       "      <td>0.00030</td>\n",
       "      <td>0.500</td>\n",
       "      <td>35</td>\n",
       "      <td>0.140264</td>\n",
       "    </tr>\n",
       "    <tr>\n",
       "      <th>35</th>\n",
       "      <td>0.01000</td>\n",
       "      <td>0.001</td>\n",
       "      <td>35</td>\n",
       "      <td>0.102310</td>\n",
       "    </tr>\n",
       "    <tr>\n",
       "      <th>18</th>\n",
       "      <td>0.00010</td>\n",
       "      <td>0.100</td>\n",
       "      <td>35</td>\n",
       "      <td>0.085149</td>\n",
       "    </tr>\n",
       "    <tr>\n",
       "      <th>12</th>\n",
       "      <td>0.00007</td>\n",
       "      <td>0.300</td>\n",
       "      <td>35</td>\n",
       "      <td>0.062706</td>\n",
       "    </tr>\n",
       "    <tr>\n",
       "      <th>19</th>\n",
       "      <td>0.00010</td>\n",
       "      <td>0.300</td>\n",
       "      <td>35</td>\n",
       "      <td>0.057096</td>\n",
       "    </tr>\n",
       "    <tr>\n",
       "      <th>39</th>\n",
       "      <td>0.01000</td>\n",
       "      <td>0.100</td>\n",
       "      <td>35</td>\n",
       "      <td>0.055776</td>\n",
       "    </tr>\n",
       "    <tr>\n",
       "      <th>26</th>\n",
       "      <td>0.00030</td>\n",
       "      <td>0.300</td>\n",
       "      <td>35</td>\n",
       "      <td>0.051485</td>\n",
       "    </tr>\n",
       "    <tr>\n",
       "      <th>29</th>\n",
       "      <td>0.00100</td>\n",
       "      <td>0.010</td>\n",
       "      <td>35</td>\n",
       "      <td>0.050495</td>\n",
       "    </tr>\n",
       "    <tr>\n",
       "      <th>23</th>\n",
       "      <td>0.00030</td>\n",
       "      <td>0.050</td>\n",
       "      <td>35</td>\n",
       "      <td>0.038614</td>\n",
       "    </tr>\n",
       "    <tr>\n",
       "      <th>38</th>\n",
       "      <td>0.01000</td>\n",
       "      <td>0.070</td>\n",
       "      <td>35</td>\n",
       "      <td>0.038614</td>\n",
       "    </tr>\n",
       "    <tr>\n",
       "      <th>5</th>\n",
       "      <td>0.00001</td>\n",
       "      <td>0.300</td>\n",
       "      <td>35</td>\n",
       "      <td>0.029373</td>\n",
       "    </tr>\n",
       "    <tr>\n",
       "      <th>36</th>\n",
       "      <td>0.01000</td>\n",
       "      <td>0.010</td>\n",
       "      <td>35</td>\n",
       "      <td>0.022112</td>\n",
       "    </tr>\n",
       "    <tr>\n",
       "      <th>37</th>\n",
       "      <td>0.01000</td>\n",
       "      <td>0.050</td>\n",
       "      <td>35</td>\n",
       "      <td>0.019472</td>\n",
       "    </tr>\n",
       "    <tr>\n",
       "      <th>6</th>\n",
       "      <td>0.00001</td>\n",
       "      <td>0.500</td>\n",
       "      <td>35</td>\n",
       "      <td>0.010231</td>\n",
       "    </tr>\n",
       "    <tr>\n",
       "      <th>20</th>\n",
       "      <td>0.00010</td>\n",
       "      <td>0.500</td>\n",
       "      <td>35</td>\n",
       "      <td>0.004950</td>\n",
       "    </tr>\n",
       "    <tr>\n",
       "      <th>34</th>\n",
       "      <td>0.00100</td>\n",
       "      <td>0.500</td>\n",
       "      <td>35</td>\n",
       "      <td>0.003960</td>\n",
       "    </tr>\n",
       "    <tr>\n",
       "      <th>33</th>\n",
       "      <td>0.00100</td>\n",
       "      <td>0.300</td>\n",
       "      <td>35</td>\n",
       "      <td>0.003630</td>\n",
       "    </tr>\n",
       "    <tr>\n",
       "      <th>41</th>\n",
       "      <td>0.01000</td>\n",
       "      <td>0.500</td>\n",
       "      <td>35</td>\n",
       "      <td>0.002970</td>\n",
       "    </tr>\n",
       "    <tr>\n",
       "      <th>32</th>\n",
       "      <td>0.00100</td>\n",
       "      <td>0.100</td>\n",
       "      <td>35</td>\n",
       "      <td>0.002640</td>\n",
       "    </tr>\n",
       "    <tr>\n",
       "      <th>25</th>\n",
       "      <td>0.00030</td>\n",
       "      <td>0.100</td>\n",
       "      <td>35</td>\n",
       "      <td>0.002640</td>\n",
       "    </tr>\n",
       "    <tr>\n",
       "      <th>40</th>\n",
       "      <td>0.01000</td>\n",
       "      <td>0.300</td>\n",
       "      <td>35</td>\n",
       "      <td>0.002640</td>\n",
       "    </tr>\n",
       "    <tr>\n",
       "      <th>24</th>\n",
       "      <td>0.00030</td>\n",
       "      <td>0.070</td>\n",
       "      <td>35</td>\n",
       "      <td>0.002640</td>\n",
       "    </tr>\n",
       "    <tr>\n",
       "      <th>31</th>\n",
       "      <td>0.00100</td>\n",
       "      <td>0.070</td>\n",
       "      <td>35</td>\n",
       "      <td>0.002310</td>\n",
       "    </tr>\n",
       "    <tr>\n",
       "      <th>30</th>\n",
       "      <td>0.00100</td>\n",
       "      <td>0.050</td>\n",
       "      <td>35</td>\n",
       "      <td>0.001980</td>\n",
       "    </tr>\n",
       "    <tr>\n",
       "      <th>13</th>\n",
       "      <td>0.00007</td>\n",
       "      <td>0.500</td>\n",
       "      <td>35</td>\n",
       "      <td>0.001980</td>\n",
       "    </tr>\n",
       "  </tbody>\n",
       "</table>\n",
       "</div>"
      ],
      "text/plain": [
       "        reg     lr  ms       p@k\n",
       "9   0.00007  0.050  35  0.409571\n",
       "16  0.00010  0.050  35  0.390429\n",
       "10  0.00007  0.070  35  0.357096\n",
       "0   0.00001  0.001  35  0.343564\n",
       "7   0.00007  0.001  35  0.341914\n",
       "14  0.00010  0.001  35  0.340924\n",
       "21  0.00030  0.001  35  0.336964\n",
       "2   0.00001  0.050  35  0.333333\n",
       "1   0.00001  0.010  35  0.329043\n",
       "8   0.00007  0.010  35  0.298020\n",
       "28  0.00100  0.001  35  0.297690\n",
       "3   0.00001  0.070  35  0.293729\n",
       "15  0.00010  0.010  35  0.286139\n",
       "17  0.00010  0.070  35  0.278878\n",
       "4   0.00001  0.100  35  0.242904\n",
       "11  0.00007  0.100  35  0.236634\n",
       "22  0.00030  0.010  35  0.207921\n",
       "27  0.00030  0.500  35  0.140264\n",
       "35  0.01000  0.001  35  0.102310\n",
       "18  0.00010  0.100  35  0.085149\n",
       "12  0.00007  0.300  35  0.062706\n",
       "19  0.00010  0.300  35  0.057096\n",
       "39  0.01000  0.100  35  0.055776\n",
       "26  0.00030  0.300  35  0.051485\n",
       "29  0.00100  0.010  35  0.050495\n",
       "23  0.00030  0.050  35  0.038614\n",
       "38  0.01000  0.070  35  0.038614\n",
       "5   0.00001  0.300  35  0.029373\n",
       "36  0.01000  0.010  35  0.022112\n",
       "37  0.01000  0.050  35  0.019472\n",
       "6   0.00001  0.500  35  0.010231\n",
       "20  0.00010  0.500  35  0.004950\n",
       "34  0.00100  0.500  35  0.003960\n",
       "33  0.00100  0.300  35  0.003630\n",
       "41  0.01000  0.500  35  0.002970\n",
       "32  0.00100  0.100  35  0.002640\n",
       "25  0.00030  0.100  35  0.002640\n",
       "40  0.01000  0.300  35  0.002640\n",
       "24  0.00030  0.070  35  0.002640\n",
       "31  0.00100  0.070  35  0.002310\n",
       "30  0.00100  0.050  35  0.001980\n",
       "13  0.00007  0.500  35  0.001980"
      ]
     },
     "execution_count": 71,
     "metadata": {},
     "output_type": "execute_result"
    }
   ],
   "source": [
    "result_df_bpr.sort_values('p@k', ascending=False)"
   ]
  },
  {
   "cell_type": "code",
   "execution_count": 18,
   "metadata": {},
   "outputs": [],
   "source": [
    "from implicit.evaluation import ranking_metrics_at_k"
   ]
  },
  {
   "cell_type": "code",
   "execution_count": 19,
   "metadata": {},
   "outputs": [
    {
     "data": {
      "application/vnd.jupyter.widget-view+json": {
       "model_id": "b4b5b5da4e084392baae77f0c3812cec",
       "version_major": 2,
       "version_minor": 0
      },
      "text/plain": [
       "  0%|          | 0/303 [00:00<?, ?it/s]"
      ]
     },
     "metadata": {},
     "output_type": "display_data"
    },
    {
     "data": {
      "text/plain": [
       "{'precision': 0.5732673267326732,\n",
       " 'map': 0.46093037875216075,\n",
       " 'ndcg': 0.5909468719658185,\n",
       " 'auc': 0.5025406698625545}"
      ]
     },
     "execution_count": 19,
     "metadata": {},
     "output_type": "execute_result"
    }
   ],
   "source": [
    "ranking_metrics_at_k(model_adapt, train_w, test_w, 10)"
   ]
  },
  {
   "cell_type": "code",
   "execution_count": 20,
   "metadata": {},
   "outputs": [],
   "source": [
    "from lightfm import LightFM"
   ]
  },
  {
   "cell_type": "code",
   "execution_count": 21,
   "metadata": {},
   "outputs": [],
   "source": [
    "model_orig = LightFM(loss='warp', random_state=22)"
   ]
  },
  {
   "cell_type": "code",
   "execution_count": 24,
   "metadata": {},
   "outputs": [
    {
     "name": "stderr",
     "output_type": "stream",
     "text": [
      "Epoch: 100%|██████████| 1/1 [00:12<00:00, 12.33s/it]\n"
     ]
    },
    {
     "data": {
      "text/plain": [
       "<lightfm.lightfm.LightFM at 0x1b3bfeb2490>"
      ]
     },
     "execution_count": 24,
     "metadata": {},
     "output_type": "execute_result"
    }
   ],
   "source": [
    "model_orig.fit(interactions=train_i, user_features=userf, item_features=itemf, sample_weight=train_w.tocoo(), verbose=True)"
   ]
  },
  {
   "cell_type": "code",
   "execution_count": 25,
   "metadata": {},
   "outputs": [],
   "source": [
    "from lightfm.evaluation import precision_at_k, recall_at_k, auc_score, reciprocal_rank"
   ]
  },
  {
   "cell_type": "code",
   "execution_count": 26,
   "metadata": {},
   "outputs": [
    {
     "data": {
      "text/plain": [
       "0.57326734"
      ]
     },
     "execution_count": 26,
     "metadata": {},
     "output_type": "execute_result"
    }
   ],
   "source": [
    "pk = precision_at_k(model=model_orig, test_interactions=test_i, train_interactions=train_i, user_features=userf, item_features=itemf).mean()\n",
    "pk"
   ]
  },
  {
   "cell_type": "code",
   "execution_count": null,
   "metadata": {},
   "outputs": [],
   "source": []
  },
  {
   "cell_type": "code",
   "execution_count": null,
   "metadata": {},
   "outputs": [],
   "source": []
  },
  {
   "cell_type": "code",
   "execution_count": null,
   "metadata": {},
   "outputs": [],
   "source": []
  },
  {
   "cell_type": "code",
   "execution_count": 46,
   "metadata": {},
   "outputs": [],
   "source": [
    "available_items = user_item_filtered_log_t[['item']].drop_duplicates()\n",
    "items_filtered = pd.merge(available_items, items, left_on='item', right_on='item_id', how='left')"
   ]
  },
  {
   "cell_type": "code",
   "execution_count": 47,
   "metadata": {},
   "outputs": [
    {
     "data": {
      "text/html": [
       "<div>\n",
       "<style scoped>\n",
       "    .dataframe tbody tr th:only-of-type {\n",
       "        vertical-align: middle;\n",
       "    }\n",
       "\n",
       "    .dataframe tbody tr th {\n",
       "        vertical-align: top;\n",
       "    }\n",
       "\n",
       "    .dataframe thead th {\n",
       "        text-align: right;\n",
       "    }\n",
       "</style>\n",
       "<table border=\"1\" class=\"dataframe\">\n",
       "  <thead>\n",
       "    <tr style=\"text-align: right;\">\n",
       "      <th></th>\n",
       "      <th>location_id</th>\n",
       "      <th>item_id</th>\n",
       "      <th>cost_class</th>\n",
       "      <th>movement_code</th>\n",
       "      <th>comparative_planning_score</th>\n",
       "      <th>comparative_planning_score_percentile</th>\n",
       "    </tr>\n",
       "  </thead>\n",
       "  <tbody>\n",
       "    <tr>\n",
       "      <th>0</th>\n",
       "      <td>AGWOOD_02</td>\n",
       "      <td>0-110-7500-00</td>\n",
       "      <td>low</td>\n",
       "      <td>non_moving</td>\n",
       "      <td>0.0000</td>\n",
       "      <td>0.110318</td>\n",
       "    </tr>\n",
       "    <tr>\n",
       "      <th>1</th>\n",
       "      <td>LISTER_WILDER_POOLING</td>\n",
       "      <td>0-113-7505-00</td>\n",
       "      <td>very_low</td>\n",
       "      <td>non_moving</td>\n",
       "      <td>5.8333</td>\n",
       "      <td>0.923979</td>\n",
       "    </tr>\n",
       "    <tr>\n",
       "      <th>2</th>\n",
       "      <td>REDLYNCH_01</td>\n",
       "      <td>0-113-7505-00</td>\n",
       "      <td>very_low</td>\n",
       "      <td>non_moving</td>\n",
       "      <td>5.8333</td>\n",
       "      <td>0.923979</td>\n",
       "    </tr>\n",
       "    <tr>\n",
       "      <th>3</th>\n",
       "      <td>REDLYNCH_02</td>\n",
       "      <td>0-113-7505-00</td>\n",
       "      <td>very_low</td>\n",
       "      <td>non_moving</td>\n",
       "      <td>5.8333</td>\n",
       "      <td>0.923979</td>\n",
       "    </tr>\n",
       "    <tr>\n",
       "      <th>4</th>\n",
       "      <td>REDLYNCH_POOLING</td>\n",
       "      <td>0-113-7505-00</td>\n",
       "      <td>very_low</td>\n",
       "      <td>non_moving</td>\n",
       "      <td>5.8333</td>\n",
       "      <td>0.923979</td>\n",
       "    </tr>\n",
       "  </tbody>\n",
       "</table>\n",
       "</div>"
      ],
      "text/plain": [
       "             location_id        item_id cost_class movement_code  \\\n",
       "0              AGWOOD_02  0-110-7500-00        low    non_moving   \n",
       "1  LISTER_WILDER_POOLING  0-113-7505-00   very_low    non_moving   \n",
       "2            REDLYNCH_01  0-113-7505-00   very_low    non_moving   \n",
       "3            REDLYNCH_02  0-113-7505-00   very_low    non_moving   \n",
       "4       REDLYNCH_POOLING  0-113-7505-00   very_low    non_moving   \n",
       "\n",
       "   comparative_planning_score  comparative_planning_score_percentile  \n",
       "0                      0.0000                               0.110318  \n",
       "1                      5.8333                               0.923979  \n",
       "2                      5.8333                               0.923979  \n",
       "3                      5.8333                               0.923979  \n",
       "4                      5.8333                               0.923979  "
      ]
     },
     "execution_count": 47,
     "metadata": {},
     "output_type": "execute_result"
    }
   ],
   "source": [
    "skus.head()"
   ]
  },
  {
   "cell_type": "code",
   "execution_count": 49,
   "metadata": {},
   "outputs": [],
   "source": [
    "skus_mapped = map_cps(skus)"
   ]
  },
  {
   "cell_type": "code",
   "execution_count": 50,
   "metadata": {},
   "outputs": [
    {
     "data": {
      "text/html": [
       "<div>\n",
       "<style scoped>\n",
       "    .dataframe tbody tr th:only-of-type {\n",
       "        vertical-align: middle;\n",
       "    }\n",
       "\n",
       "    .dataframe tbody tr th {\n",
       "        vertical-align: top;\n",
       "    }\n",
       "\n",
       "    .dataframe thead th {\n",
       "        text-align: right;\n",
       "    }\n",
       "</style>\n",
       "<table border=\"1\" class=\"dataframe\">\n",
       "  <thead>\n",
       "    <tr style=\"text-align: right;\">\n",
       "      <th></th>\n",
       "      <th>location_id</th>\n",
       "      <th>item_id</th>\n",
       "      <th>cost_class</th>\n",
       "      <th>movement_code</th>\n",
       "      <th>comparative_planning_score</th>\n",
       "      <th>comparative_planning_score_percentile</th>\n",
       "      <th>cps_category</th>\n",
       "    </tr>\n",
       "  </thead>\n",
       "  <tbody>\n",
       "    <tr>\n",
       "      <th>0</th>\n",
       "      <td>AGWOOD_02</td>\n",
       "      <td>0-110-7500-00</td>\n",
       "      <td>low</td>\n",
       "      <td>non_moving</td>\n",
       "      <td>0.0000</td>\n",
       "      <td>0.110318</td>\n",
       "      <td>1</td>\n",
       "    </tr>\n",
       "    <tr>\n",
       "      <th>1</th>\n",
       "      <td>LISTER_WILDER_POOLING</td>\n",
       "      <td>0-113-7505-00</td>\n",
       "      <td>very_low</td>\n",
       "      <td>non_moving</td>\n",
       "      <td>5.8333</td>\n",
       "      <td>0.923979</td>\n",
       "      <td>2</td>\n",
       "    </tr>\n",
       "    <tr>\n",
       "      <th>2</th>\n",
       "      <td>REDLYNCH_01</td>\n",
       "      <td>0-113-7505-00</td>\n",
       "      <td>very_low</td>\n",
       "      <td>non_moving</td>\n",
       "      <td>5.8333</td>\n",
       "      <td>0.923979</td>\n",
       "      <td>2</td>\n",
       "    </tr>\n",
       "    <tr>\n",
       "      <th>3</th>\n",
       "      <td>REDLYNCH_02</td>\n",
       "      <td>0-113-7505-00</td>\n",
       "      <td>very_low</td>\n",
       "      <td>non_moving</td>\n",
       "      <td>5.8333</td>\n",
       "      <td>0.923979</td>\n",
       "      <td>2</td>\n",
       "    </tr>\n",
       "    <tr>\n",
       "      <th>4</th>\n",
       "      <td>REDLYNCH_POOLING</td>\n",
       "      <td>0-113-7505-00</td>\n",
       "      <td>very_low</td>\n",
       "      <td>non_moving</td>\n",
       "      <td>5.8333</td>\n",
       "      <td>0.923979</td>\n",
       "      <td>2</td>\n",
       "    </tr>\n",
       "  </tbody>\n",
       "</table>\n",
       "</div>"
      ],
      "text/plain": [
       "             location_id        item_id cost_class movement_code  \\\n",
       "0              AGWOOD_02  0-110-7500-00        low    non_moving   \n",
       "1  LISTER_WILDER_POOLING  0-113-7505-00   very_low    non_moving   \n",
       "2            REDLYNCH_01  0-113-7505-00   very_low    non_moving   \n",
       "3            REDLYNCH_02  0-113-7505-00   very_low    non_moving   \n",
       "4       REDLYNCH_POOLING  0-113-7505-00   very_low    non_moving   \n",
       "\n",
       "   comparative_planning_score  comparative_planning_score_percentile  \\\n",
       "0                      0.0000                               0.110318   \n",
       "1                      5.8333                               0.923979   \n",
       "2                      5.8333                               0.923979   \n",
       "3                      5.8333                               0.923979   \n",
       "4                      5.8333                               0.923979   \n",
       "\n",
       "  cps_category  \n",
       "0            1  \n",
       "1            2  \n",
       "2            2  \n",
       "3            2  \n",
       "4            2  "
      ]
     },
     "execution_count": 50,
     "metadata": {},
     "output_type": "execute_result"
    }
   ],
   "source": [
    "skus_mapped.head()"
   ]
  },
  {
   "cell_type": "code",
   "execution_count": 51,
   "metadata": {},
   "outputs": [
    {
     "data": {
      "text/plain": [
       "<AxesSubplot:>"
      ]
     },
     "execution_count": 51,
     "metadata": {},
     "output_type": "execute_result"
    },
    {
     "data": {
      "image/png": "[encoded data removed]",
      "text/plain": [
       "<Figure size 432x288 with 1 Axes>"
      ]
     },
     "metadata": {
      "needs_background": "light"
     },
     "output_type": "display_data"
    }
   ],
   "source": [
    "skus_mapped.cps_category.hist()"
   ]
  },
  {
   "cell_type": "code",
   "execution_count": 52,
   "metadata": {},
   "outputs": [],
   "source": [
    "item_sku_features = pd.merge(items_filtered, skus_mapped, on='item_id', how='left')"
   ]
  },
  {
   "cell_type": "code",
   "execution_count": 84,
   "metadata": {},
   "outputs": [],
   "source": [
    "uif_temp = item_sku_features[item_sku_features.item == '0.012.2614.3'][['item', 'cost_class']].dropna().set_index('item')"
   ]
  },
  {
   "cell_type": "code",
   "execution_count": 85,
   "metadata": {},
   "outputs": [
    {
     "data": {
      "text/html": [
       "<div>\n",
       "<style scoped>\n",
       "    .dataframe tbody tr th:only-of-type {\n",
       "        vertical-align: middle;\n",
       "    }\n",
       "\n",
       "    .dataframe tbody tr th {\n",
       "        vertical-align: top;\n",
       "    }\n",
       "\n",
       "    .dataframe thead th {\n",
       "        text-align: right;\n",
       "    }\n",
       "</style>\n",
       "<table border=\"1\" class=\"dataframe\">\n",
       "  <thead>\n",
       "    <tr style=\"text-align: right;\">\n",
       "      <th></th>\n",
       "      <th>cost_class</th>\n",
       "    </tr>\n",
       "    <tr>\n",
       "      <th>item</th>\n",
       "      <th></th>\n",
       "    </tr>\n",
       "  </thead>\n",
       "  <tbody>\n",
       "    <tr>\n",
       "      <th>0.012.2614.3</th>\n",
       "      <td>medium</td>\n",
       "    </tr>\n",
       "    <tr>\n",
       "      <th>0.012.2614.3</th>\n",
       "      <td>medium</td>\n",
       "    </tr>\n",
       "    <tr>\n",
       "      <th>0.012.2614.3</th>\n",
       "      <td>medium</td>\n",
       "    </tr>\n",
       "    <tr>\n",
       "      <th>0.012.2614.3</th>\n",
       "      <td>medium</td>\n",
       "    </tr>\n",
       "    <tr>\n",
       "      <th>0.012.2614.3</th>\n",
       "      <td>medium</td>\n",
       "    </tr>\n",
       "  </tbody>\n",
       "</table>\n",
       "</div>"
      ],
      "text/plain": [
       "             cost_class\n",
       "item                   \n",
       "0.012.2614.3     medium\n",
       "0.012.2614.3     medium\n",
       "0.012.2614.3     medium\n",
       "0.012.2614.3     medium\n",
       "0.012.2614.3     medium"
      ]
     },
     "execution_count": 85,
     "metadata": {},
     "output_type": "execute_result"
    }
   ],
   "source": [
    "uif_temp.head()"
   ]
  },
  {
   "cell_type": "code",
   "execution_count": 86,
   "metadata": {},
   "outputs": [],
   "source": [
    "ui_features = dp._gather_features(uif_temp)\n",
    "ui_tuple = dp._get_feature_tuple(uif_temp)"
   ]
  },
  {
   "cell_type": "code",
   "execution_count": 87,
   "metadata": {},
   "outputs": [
    {
     "data": {
      "text/plain": [
       "[('0.012.2614.3', ['medium']),\n",
       " ('0.012.2614.3', ['medium']),\n",
       " ('0.012.2614.3', ['medium']),\n",
       " ('0.012.2614.3', ['medium']),\n",
       " ('0.012.2614.3', ['medium']),\n",
       " ('0.012.2614.3', ['medium']),\n",
       " ('0.012.2614.3', ['medium']),\n",
       " ('0.012.2614.3', ['medium']),\n",
       " ('0.012.2614.3', ['medium']),\n",
       " ('0.012.2614.3', ['medium']),\n",
       " ('0.012.2614.3', ['medium']),\n",
       " ('0.012.2614.3', ['medium']),\n",
       " ('0.012.2614.3', ['medium']),\n",
       " ('0.012.2614.3', ['medium']),\n",
       " ('0.012.2614.3', ['medium']),\n",
       " ('0.012.2614.3', ['medium']),\n",
       " ('0.012.2614.3', ['medium']),\n",
       " ('0.012.2614.3', ['medium']),\n",
       " ('0.012.2614.3', ['medium']),\n",
       " ('0.012.2614.3', ['medium']),\n",
       " ('0.012.2614.3', ['medium']),\n",
       " ('0.012.2614.3', ['medium']),\n",
       " ('0.012.2614.3', ['medium']),\n",
       " ('0.012.2614.3', ['medium']),\n",
       " ('0.012.2614.3', ['medium']),\n",
       " ('0.012.2614.3', ['medium']),\n",
       " ('0.012.2614.3', ['medium']),\n",
       " ('0.012.2614.3', ['medium']),\n",
       " ('0.012.2614.3', ['medium']),\n",
       " ('0.012.2614.3', ['medium']),\n",
       " ('0.012.2614.3', ['medium']),\n",
       " ('0.012.2614.3', ['medium']),\n",
       " ('0.012.2614.3', ['medium']),\n",
       " ('0.012.2614.3', ['medium']),\n",
       " ('0.012.2614.3', ['medium']),\n",
       " ('0.012.2614.3', ['medium']),\n",
       " ('0.012.2614.3', ['medium']),\n",
       " ('0.012.2614.3', ['medium']),\n",
       " ('0.012.2614.3', ['medium']),\n",
       " ('0.012.2614.3', ['medium']),\n",
       " ('0.012.2614.3', ['medium']),\n",
       " ('0.012.2614.3', ['medium']),\n",
       " ('0.012.2614.3', ['medium']),\n",
       " ('0.012.2614.3', ['medium']),\n",
       " ('0.012.2614.3', ['medium']),\n",
       " ('0.012.2614.3', ['medium']),\n",
       " ('0.012.2614.3', ['medium']),\n",
       " ('0.012.2614.3', ['medium']),\n",
       " ('0.012.2614.3', ['medium']),\n",
       " ('0.012.2614.3', ['medium']),\n",
       " ('0.012.2614.3', ['medium']),\n",
       " ('0.012.2614.3', ['medium']),\n",
       " ('0.012.2614.3', ['medium']),\n",
       " ('0.012.2614.3', ['medium']),\n",
       " ('0.012.2614.3', ['medium']),\n",
       " ('0.012.2614.3', ['medium']),\n",
       " ('0.012.2614.3', ['medium']),\n",
       " ('0.012.2614.3', ['very_low']),\n",
       " ('0.012.2614.3', ['very_low']),\n",
       " ('0.012.2614.3', ['medium']),\n",
       " ('0.012.2614.3', ['medium']),\n",
       " ('0.012.2614.3', ['medium']),\n",
       " ('0.012.2614.3', ['medium']),\n",
       " ('0.012.2614.3', ['medium']),\n",
       " ('0.012.2614.3', ['medium']),\n",
       " ('0.012.2614.3', ['medium']),\n",
       " ('0.012.2614.3', ['medium']),\n",
       " ('0.012.2614.3', ['medium']),\n",
       " ('0.012.2614.3', ['medium']),\n",
       " ('0.012.2614.3', ['medium'])]"
      ]
     },
     "execution_count": 87,
     "metadata": {},
     "output_type": "execute_result"
    }
   ],
   "source": [
    "ui_tuple"
   ]
  },
  {
   "cell_type": "code",
   "execution_count": 88,
   "metadata": {},
   "outputs": [],
   "source": [
    "from lightfm.data import Dataset\n",
    "dataset_t = Dataset()"
   ]
  },
  {
   "cell_type": "code",
   "execution_count": 89,
   "metadata": {},
   "outputs": [],
   "source": [
    "dataset_t.fit(np.array(['user']), np.array(['0.012.2614.3']), item_features = ui_features)\n",
    "ui_features_sp = dataset_t.build_item_features(ui_tuple, normalize=False)"
   ]
  },
  {
   "cell_type": "code",
   "execution_count": 90,
   "metadata": {},
   "outputs": [
    {
     "data": {
      "text/plain": [
       "matrix([[ 1., 68.,  2.]], dtype=float32)"
      ]
     },
     "execution_count": 90,
     "metadata": {},
     "output_type": "execute_result"
    }
   ],
   "source": [
    "ui_features_sp.todense()"
   ]
  },
  {
   "cell_type": "code",
   "execution_count": 91,
   "metadata": {},
   "outputs": [],
   "source": [
    "ui_features_sp_norm = dp._normalize(ui_features_sp)"
   ]
  },
  {
   "cell_type": "code",
   "execution_count": 92,
   "metadata": {},
   "outputs": [
    {
     "data": {
      "text/plain": [
       "matrix([[1.        , 0.9714286 , 0.02857143]], dtype=float32)"
      ]
     },
     "execution_count": 92,
     "metadata": {},
     "output_type": "execute_result"
    }
   ],
   "source": [
    "ui_features_sp_norm.todense()"
   ]
  },
  {
   "cell_type": "code",
   "execution_count": 68,
   "metadata": {},
   "outputs": [
    {
     "data": {
      "text/plain": [
       "(95, 9)"
      ]
     },
     "execution_count": 68,
     "metadata": {},
     "output_type": "execute_result"
    }
   ],
   "source": [
    "item_sku_features[item_sku_features.item == '0.012.2614.3'].shape"
   ]
  },
  {
   "cell_type": "code",
   "execution_count": 29,
   "metadata": {},
   "outputs": [],
   "source": [
    "col = user_features.item_count\n",
    "bins = [col.min(), np.percentile(col, 25), np.percentile(col, 50), np.percentile(col, 75), col.max()]\n",
    "names = ['1', '2', '3', '4']"
   ]
  },
  {
   "cell_type": "code",
   "execution_count": 30,
   "metadata": {},
   "outputs": [],
   "source": [
    "user_features['dealer_size'] = pd.cut(user_features['item_count'], bins=bins, labels=names)"
   ]
  },
  {
   "cell_type": "code",
   "execution_count": 31,
   "metadata": {},
   "outputs": [
    {
     "data": {
      "text/html": [
       "<div>\n",
       "<style scoped>\n",
       "    .dataframe tbody tr th:only-of-type {\n",
       "        vertical-align: middle;\n",
       "    }\n",
       "\n",
       "    .dataframe tbody tr th {\n",
       "        vertical-align: top;\n",
       "    }\n",
       "\n",
       "    .dataframe thead th {\n",
       "        text-align: right;\n",
       "    }\n",
       "</style>\n",
       "<table border=\"1\" class=\"dataframe\">\n",
       "  <thead>\n",
       "    <tr style=\"text-align: right;\">\n",
       "      <th></th>\n",
       "      <th>location_id</th>\n",
       "      <th>dealer</th>\n",
       "      <th>country</th>\n",
       "      <th>item_count</th>\n",
       "      <th>currency</th>\n",
       "      <th>brand</th>\n",
       "      <th>dealer_size</th>\n",
       "    </tr>\n",
       "  </thead>\n",
       "  <tbody>\n",
       "    <tr>\n",
       "      <th>0</th>\n",
       "      <td>ACA_01</td>\n",
       "      <td>ACA</td>\n",
       "      <td>Austria</td>\n",
       "      <td>21743.0</td>\n",
       "      <td>EUR</td>\n",
       "      <td>0</td>\n",
       "      <td>4</td>\n",
       "    </tr>\n",
       "    <tr>\n",
       "      <th>1</th>\n",
       "      <td>ACA_02</td>\n",
       "      <td>ACA</td>\n",
       "      <td>Austria</td>\n",
       "      <td>18277.0</td>\n",
       "      <td>EUR</td>\n",
       "      <td>MOTIONDATA</td>\n",
       "      <td>4</td>\n",
       "    </tr>\n",
       "    <tr>\n",
       "      <th>2</th>\n",
       "      <td>ACA_03</td>\n",
       "      <td>ACA</td>\n",
       "      <td>Austria</td>\n",
       "      <td>12753.0</td>\n",
       "      <td>EUR</td>\n",
       "      <td>MOTIONDATA</td>\n",
       "      <td>3</td>\n",
       "    </tr>\n",
       "    <tr>\n",
       "      <th>3</th>\n",
       "      <td>ACA_04</td>\n",
       "      <td>ACA</td>\n",
       "      <td>Austria</td>\n",
       "      <td>13701.0</td>\n",
       "      <td>EUR</td>\n",
       "      <td>MOTIONDATA</td>\n",
       "      <td>4</td>\n",
       "    </tr>\n",
       "    <tr>\n",
       "      <th>4</th>\n",
       "      <td>ACA_05</td>\n",
       "      <td>ACA</td>\n",
       "      <td>Austria</td>\n",
       "      <td>27508.0</td>\n",
       "      <td>EUR</td>\n",
       "      <td>MOTIONDATA</td>\n",
       "      <td>4</td>\n",
       "    </tr>\n",
       "  </tbody>\n",
       "</table>\n",
       "</div>"
      ],
      "text/plain": [
       "  location_id dealer  country  item_count currency       brand dealer_size\n",
       "0      ACA_01    ACA  Austria     21743.0      EUR           0           4\n",
       "1      ACA_02    ACA  Austria     18277.0      EUR  MOTIONDATA           4\n",
       "2      ACA_03    ACA  Austria     12753.0      EUR  MOTIONDATA           3\n",
       "3      ACA_04    ACA  Austria     13701.0      EUR  MOTIONDATA           4\n",
       "4      ACA_05    ACA  Austria     27508.0      EUR  MOTIONDATA           4"
      ]
     },
     "execution_count": 31,
     "metadata": {},
     "output_type": "execute_result"
    }
   ],
   "source": [
    "user_features.head()"
   ]
  },
  {
   "cell_type": "code",
   "execution_count": 33,
   "metadata": {},
   "outputs": [
    {
     "data": {
      "text/plain": [
       "<AxesSubplot:>"
      ]
     },
     "execution_count": 33,
     "metadata": {},
     "output_type": "execute_result"
    },
    {
     "data": {
      "image/png": "[encoded data removed]",
      "text/plain": [
       "<Figure size 432x288 with 1 Axes>"
      ]
     },
     "metadata": {
      "needs_background": "light"
     },
     "output_type": "display_data"
    }
   ],
   "source": [
    "user_features.dealer_size.hist()"
   ]
  },
  {
   "cell_type": "code",
   "execution_count": 39,
   "metadata": {},
   "outputs": [],
   "source": [
    "def map_dealer_size(user_features):\n",
    "    user_features_temp = user_features.copy()\n",
    "    user_features_temp['item_count'] = user_features_temp.item_count.fillna(0)\n",
    "    col = user_features_temp.item_count\n",
    "    bins = [col.min(), np.percentile(col, 25), np.percentile(col, 50), np.percentile(col, 75), col.max()]\n",
    "    names = ['1', '2', '3', '4']\n",
    "    user_features_temp['dealer_size'] = pd.cut(user_features_temp['item_count'], bins=bins, labels=names)\n",
    "    return user_features_temp"
   ]
  },
  {
   "cell_type": "code",
   "execution_count": 48,
   "metadata": {},
   "outputs": [],
   "source": [
    "def map_cps(skus):\n",
    "    skus_temp = skus.copy()\n",
    "    skus_temp['comparative_planning_score'] = skus_temp.comparative_planning_score.fillna(0)\n",
    "    col = skus_temp.comparative_planning_score\n",
    "    bins = [col.min(), np.percentile(col, 25), np.percentile(col, 50), np.percentile(col, 75), col.max()]\n",
    "    names = ['1', '2', '3', '4']\n",
    "    skus_temp['cps_category'] = pd.cut(skus_temp['comparative_planning_score'], bins=bins, labels=names)\n",
    "    return skus_temp"
   ]
  }
 ],
 "metadata": {
  "kernelspec": {
   "display_name": "Python 3.9.7",
   "language": "python",
   "name": "python3"
  },
  "language_info": {
   "codemirror_mode": {
    "name": "ipython",
    "version": 3
   },
   "file_extension": ".py",
   "mimetype": "text/x-python",
   "name": "python",
   "nbconvert_exporter": "python",
   "pygments_lexer": "ipython3",
   "version": "3.9.7"
  },
  "orig_nbformat": 4,
  "vscode": {
   "interpreter": {
    "hash": "b4efcf30d150067e76aa0880eb47772143c44e1fc3c522760740bd759ef99df4"
   }
  }
 },
 "nbformat": 4,
 "nbformat_minor": 2
}
