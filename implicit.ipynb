{
 "cells": [
  {
   "cell_type": "code",
   "execution_count": 36,
   "metadata": {},
   "outputs": [],
   "source": [
    "import numpy as np\n",
    "import pandas as pd\n",
    "import recometrics\n",
    "import implicit\n",
    "from scipy.sparse import coo_matrix\n",
    "import implicit.evaluation\n",
    "from implicit.evaluation import mean_average_precision_at_k\n",
    "from implicit.evaluation import train_test_split\n",
    "from sklearn.model_selection import train_test_split"
   ]
  },
  {
   "cell_type": "code",
   "execution_count": 38,
   "metadata": {},
   "outputs": [
    {
     "name": "stdout",
     "output_type": "stream",
     "text": [
      "C:\\Users\\chris\n"
     ]
    }
   ],
   "source": [
    "%cd"
   ]
  },
  {
   "cell_type": "code",
   "execution_count": 756,
   "metadata": {},
   "outputs": [
    {
     "name": "stdout",
     "output_type": "stream",
     "text": [
      "0\n",
      "100\n",
      "200\n",
      "300\n",
      "400\n",
      "500\n",
      "600\n",
      "700\n",
      "800\n",
      "900\n"
     ]
    }
   ],
   "source": []
  },
  {
   "cell_type": "code",
   "execution_count": 761,
   "metadata": {},
   "outputs": [
    {
     "data": {
      "text/plain": [
       "array([[<AxesSubplot:title={'center':'MPR@10'}>]], dtype=object)"
      ]
     },
     "execution_count": 761,
     "metadata": {},
     "output_type": "execute_result"
    },
    {
     "data": {
      "image/png": "[encoded data removed]",
      "text/plain": [
       "<Figure size 432x288 with 1 Axes>"
      ]
     },
     "metadata": {
      "needs_background": "light"
     },
     "output_type": "display_data"
    }
   ],
   "source": [
    "mpr.hist()"
   ]
  },
  {
   "cell_type": "code",
   "execution_count": null,
   "metadata": {},
   "outputs": [],
   "source": [
    "test_metrics = recometrics.calc_reco_metrics(\n",
    "    t_train_data, t_test_data, t_user_factors, t_item_factors,\n",
    "    k=3, all_metrics=True\n",
    ")"
   ]
  },
  {
   "cell_type": "code",
   "execution_count": 102,
   "metadata": {},
   "outputs": [
    {
     "name": "stderr",
     "output_type": "stream",
     "text": [
      "100%|██████████| 10/10 [02:31<00:00, 15.17s/it]\n"
     ]
    }
   ],
   "source": [
    "model.fit(apply_alpha_log(coo_train, 10), show_progress=True)"
   ]
  },
  {
   "cell_type": "code",
   "execution_count": 103,
   "metadata": {},
   "outputs": [
    {
     "name": "stderr",
     "output_type": "stream",
     "text": [
      "100%|██████████| 143217/143217 [01:47<00:00, 1338.41it/s]\n"
     ]
    }
   ],
   "source": [
    "metrics_lastfm_alphalog = ranking_metrics_at_k(model, csr_train, csr_val, K=12, show_progress=True, num_threads=4)"
   ]
  },
  {
   "cell_type": "code",
   "execution_count": 104,
   "metadata": {},
   "outputs": [
    {
     "name": "stdout",
     "output_type": "stream",
     "text": [
      "{'precision': 0.05249255439839029, 'map': 0.012897876772244268, 'ndcg': 0.02783080566674384, 'auc': 0.5137784479605413}\n"
     ]
    }
   ],
   "source": [
    "print(metrics_lastfm_alphalog)"
   ]
  },
  {
   "cell_type": "code",
   "execution_count": 95,
   "metadata": {},
   "outputs": [
    {
     "name": "stderr",
     "output_type": "stream",
     "text": [
      "100%|██████████| 143217/143217 [02:02<00:00, 1173.82it/s]\n"
     ]
    }
   ],
   "source": [
    "metrics_lastfm_alpha = ranking_metrics_at_k(model, csr_train, csr_val, K=12, show_progress=True, num_threads=4)"
   ]
  },
  {
   "cell_type": "code",
   "execution_count": 96,
   "metadata": {},
   "outputs": [
    {
     "name": "stdout",
     "output_type": "stream",
     "text": [
      "{'precision': 0.02268123300183185, 'map': 0.006544941070392487, 'ndcg': 0.013727028093378921, 'auc': 0.5079965233967513}\n"
     ]
    }
   ],
   "source": [
    "print(metrics_lastfm_alpha)"
   ]
  },
  {
   "cell_type": "code",
   "execution_count": 92,
   "metadata": {},
   "outputs": [
    {
     "name": "stdout",
     "output_type": "stream",
     "text": [
      "{'precision': 0.03955566214402711, 'map': 0.009183045747414444, 'ndcg': 0.0204139358779609, 'auc': 0.5091654091285858}\n"
     ]
    }
   ],
   "source": [
    "print(metrics_lastfm)"
   ]
  },
  {
   "cell_type": "code",
   "execution_count": 85,
   "metadata": {},
   "outputs": [
    {
     "name": "stderr",
     "output_type": "stream",
     "text": [
      "100%|██████████| 127453/127453 [00:39<00:00, 3190.39it/s]\n"
     ]
    }
   ],
   "source": [
    "metrics12_csr_v2 = ranking_metrics_at_k(model, csr_train, csr_val, K=12, show_progress=True, num_threads=4)"
   ]
  },
  {
   "cell_type": "code",
   "execution_count": 77,
   "metadata": {},
   "outputs": [
    {
     "name": "stderr",
     "output_type": "stream",
     "text": [
      "100%|██████████| 127432/127432 [00:40<00:00, 3165.33it/s]\n"
     ]
    }
   ],
   "source": [
    "metrics12_coo = ranking_metrics_at_k(model, csr_train, csr_val, K=12, show_progress=True, num_threads=4)"
   ]
  },
  {
   "cell_type": "code",
   "execution_count": 86,
   "metadata": {},
   "outputs": [
    {
     "name": "stdout",
     "output_type": "stream",
     "text": [
      "{'precision': 0.07121407936749277, 'map': 0.03559369845944202, 'ndcg': 0.049003219445839456, 'auc': 0.5367455479423412}\n"
     ]
    }
   ],
   "source": [
    "print(metrics12_csr_v2)"
   ]
  },
  {
   "cell_type": "code",
   "execution_count": 78,
   "metadata": {},
   "outputs": [
    {
     "name": "stdout",
     "output_type": "stream",
     "text": [
      "{'precision': 0.07172973693227243, 'map': 0.03600024642898094, 'ndcg': 0.04950867598058593, 'auc': 0.5371619143960749}\n"
     ]
    }
   ],
   "source": [
    "print(metrics12_coo)"
   ]
  },
  {
   "cell_type": "code",
   "execution_count": 68,
   "metadata": {},
   "outputs": [
    {
     "name": "stdout",
     "output_type": "stream",
     "text": [
      "{'precision': 0.002290361312064251, 'map': 0.0006759050730795196, 'ndcg': 0.0014960162353700602, 'auc': 0.5010293244876979}\n"
     ]
    }
   ],
   "source": [
    "print(metrics12_csr)"
   ]
  },
  {
   "cell_type": "code",
   "execution_count": 62,
   "metadata": {},
   "outputs": [
    {
     "name": "stdout",
     "output_type": "stream",
     "text": [
      "{'precision': 0.07109649728052686, 'map': 0.036254443583044756, 'ndcg': 0.0494728674601154, 'auc': 0.5369186522880177}\n"
     ]
    }
   ],
   "source": [
    "print(metrics12_df)"
   ]
  },
  {
   "cell_type": "code",
   "execution_count": 58,
   "metadata": {},
   "outputs": [],
   "source": [
    "matrices = get_val_matrices(df_agg)\n",
    "coo_train, csr_train, csr_val = matrices['coo_train'], matrices['csr_train'], matrices['csr_val']"
   ]
  },
  {
   "cell_type": "code",
   "execution_count": 93,
   "metadata": {},
   "outputs": [],
   "source": [
    "model_alpha = implicit.als.AlternatingLeastSquares(factors=200, \n",
    "                                                 iterations=10, \n",
    "                                                 regularization=0.01,\n",
    "                                                 random_state=42)\n",
    "\n",
    "model = implicit.als.AlternatingLeastSquares(factors=200, \n",
    "                                                 iterations=10, \n",
    "                                                 regularization=0.01,\n",
    "                                                 random_state=42)"
   ]
  },
  {
   "cell_type": "code",
   "execution_count": 101,
   "metadata": {},
   "outputs": [
    {
     "name": "stderr",
     "output_type": "stream",
     "text": [
      "100%|██████████| 10/10 [01:20<00:00,  8.08s/it]\n",
      "100%|██████████| 10/10 [01:24<00:00,  8.41s/it]\n"
     ]
    }
   ],
   "source": [
    "model_alpha.fit(apply_alpha(coo_train, 20), show_progress=True)"
   ]
  },
  {
   "cell_type": "code",
   "execution_count": 102,
   "metadata": {},
   "outputs": [
    {
     "name": "stderr",
     "output_type": "stream",
     "text": [
      "100%|██████████| 127577/127577 [00:59<00:00, 2134.45it/s]\n"
     ]
    }
   ],
   "source": [
    "map12_alphaa = mean_average_precision_at_k(model_alpha, csr_train, csr_val, K=12, show_progress=True, num_threads=4)"
   ]
  },
  {
   "cell_type": "code",
   "execution_count": 98,
   "metadata": {},
   "outputs": [
    {
     "name": "stderr",
     "output_type": "stream",
     "text": [
      "100%|██████████| 127577/127577 [01:01<00:00, 2068.05it/s]\n",
      "100%|██████████| 127577/127577 [01:02<00:00, 2049.48it/s]\n",
      "100%|██████████| 127577/127577 [01:00<00:00, 2105.35it/s]\n",
      "100%|██████████| 127577/127577 [01:00<00:00, 2103.52it/s]\n"
     ]
    }
   ],
   "source": [
    "map12 = mean_average_precision_at_k(model, csr_train, csr_val, K=12, show_progress=True, num_threads=4)"
   ]
  },
  {
   "cell_type": "code",
   "execution_count": 106,
   "metadata": {},
   "outputs": [
    {
     "name": "stderr",
     "output_type": "stream",
     "text": [
      "100%|██████████| 127577/127577 [00:56<00:00, 2275.56it/s]\n"
     ]
    }
   ],
   "source": [
    "metrics12 = ranking_metrics_at_k(model_alpha, csr_train, csr_val, K=12, show_progress=True, num_threads=4)"
   ]
  },
  {
   "cell_type": "code",
   "execution_count": 110,
   "metadata": {},
   "outputs": [],
   "source": [
    "metrics_df = pd.DataFrame(metrics12, index=[12])"
   ]
  },
  {
   "cell_type": "code",
   "execution_count": 105,
   "metadata": {},
   "outputs": [],
   "source": [
    "from implicit.evaluation import precision_at_k, AUC_at_k, ranking_metrics_at_k"
   ]
  },
  {
   "cell_type": "code",
   "execution_count": 79,
   "metadata": {},
   "outputs": [
    {
     "name": "stderr",
     "output_type": "stream",
     "text": [
      "100%|██████████| 127577/127577 [00:31<00:00, 4096.24it/s]\n"
     ]
    }
   ],
   "source": [
    "matrices = get_val_matrices(df_agg)\n",
    "coo_train, csr_train, csr_val = matrices['coo_train'], matrices['csr_train'], matrices['csr_val']\n",
    "ndcg12 = ndcg_at_k(model, csr_train, csr_val, K=12, show_progress=True, num_threads=4)"
   ]
  },
  {
   "cell_type": "code",
   "execution_count": 91,
   "metadata": {},
   "outputs": [
    {
     "name": "stderr",
     "output_type": "stream",
     "text": [
      "100%|██████████| 127577/127577 [00:32<00:00, 3940.13it/s]\n"
     ]
    }
   ],
   "source": [
    "matrices = get_val_matrices(df_agg)\n",
    "coo_train, csr_train, csr_val = matrices['coo_train'], matrices['csr_train'], matrices['csr_val']\n",
    "map12 = mean_average_precision_at_k(model, csr_train, csr_val, K=12, show_progress=True, num_threads=4)"
   ]
  },
  {
   "cell_type": "code",
   "execution_count": 89,
   "metadata": {},
   "outputs": [
    {
     "name": "stdout",
     "output_type": "stream",
     "text": [
      "Factors: 200 - Iterations: 10 - Regularization: 0.010 ==> MAP@12: 0.04236\n"
     ]
    }
   ],
   "source": [
    "matrices = get_val_matrices(df_agg)\n",
    "map12 = validate(matrices, factors=200, iterations=10, regularization=0.01, alpha=10, show_progress=False)"
   ]
  }
 ],
 "metadata": {
  "kernelspec": {
   "display_name": "Python 3.8.5",
   "language": "python",
   "name": "python3"
  },
  "language_info": {
   "codemirror_mode": {
    "name": "ipython",
    "version": 3
   },
   "file_extension": ".py",
   "mimetype": "text/x-python",
   "name": "python",
   "nbconvert_exporter": "python",
   "pygments_lexer": "ipython3",
   "version": "3.8.5"
  },
  "orig_nbformat": 4,
  "vscode": {
   "interpreter": {
    "hash": "5d12259fae5b28c6154b1142ab47a20fd9a5ed96dba143a66549a6b78840fa71"
   }
  }
 },
 "nbformat": 4,
 "nbformat_minor": 2
}
