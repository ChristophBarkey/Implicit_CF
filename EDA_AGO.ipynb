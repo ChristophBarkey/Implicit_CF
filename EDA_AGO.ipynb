{
 "cells": [
  {
   "cell_type": "code",
   "execution_count": 1,
   "metadata": {},
   "outputs": [],
   "source": [
    "import pandas as pd\n",
    "import numpy as np\n",
    "from cv_py import CrossValidation\n",
    "from dataloading import DataLoader\n",
    "from scipy.sparse import coo_matrix, csr_matrix\n",
    "from matplotlib import pyplot as plt"
   ]
  },
  {
   "cell_type": "code",
   "execution_count": 2,
   "metadata": {},
   "outputs": [
    {
     "name": "stdout",
     "output_type": "stream",
     "text": [
      "C:\\Users\\781110104\\OneDrive - Genpact\\Documents\\VSCode\n"
     ]
    }
   ],
   "source": [
    "%cd C:\\Users\\781110104\\OneDrive - Genpact\\Documents\\VSCode"
   ]
  },
  {
   "cell_type": "code",
   "execution_count": 5,
   "metadata": {},
   "outputs": [],
   "source": [
    "dl = DataLoader()\n",
    "user_item_co = dl.import_data('AGCO', 'CO', 'df')\n",
    "user_item_po = dl.import_data('AGCO', 'PO', 'df')"
   ]
  },
  {
   "cell_type": "code",
   "execution_count": 6,
   "metadata": {},
   "outputs": [
    {
     "data": {
      "text/html": [
       "<div>\n",
       "<style scoped>\n",
       "    .dataframe tbody tr th:only-of-type {\n",
       "        vertical-align: middle;\n",
       "    }\n",
       "\n",
       "    .dataframe tbody tr th {\n",
       "        vertical-align: top;\n",
       "    }\n",
       "\n",
       "    .dataframe thead th {\n",
       "        text-align: right;\n",
       "    }\n",
       "</style>\n",
       "<table border=\"1\" class=\"dataframe\">\n",
       "  <thead>\n",
       "    <tr style=\"text-align: right;\">\n",
       "      <th></th>\n",
       "      <th>nouser</th>\n",
       "      <th>noitem</th>\n",
       "      <th>nnz</th>\n",
       "      <th>sparsity</th>\n",
       "    </tr>\n",
       "  </thead>\n",
       "  <tbody>\n",
       "    <tr>\n",
       "      <th>co</th>\n",
       "      <td>292</td>\n",
       "      <td>258398</td>\n",
       "      <td>1822377</td>\n",
       "      <td>0.975847</td>\n",
       "    </tr>\n",
       "    <tr>\n",
       "      <th>po</th>\n",
       "      <td>287</td>\n",
       "      <td>227824</td>\n",
       "      <td>1568442</td>\n",
       "      <td>0.976012</td>\n",
       "    </tr>\n",
       "  </tbody>\n",
       "</table>\n",
       "</div>"
      ],
      "text/plain": [
       "    nouser  noitem      nnz  sparsity\n",
       "co     292  258398  1822377  0.975847\n",
       "po     287  227824  1568442  0.976012"
      ]
     },
     "execution_count": 6,
     "metadata": {},
     "output_type": "execute_result"
    }
   ],
   "source": [
    "basic_frame = dl.get_basic_user_item_info(user_item_co, user_item_po)\n",
    "basic_frame"
   ]
  },
  {
   "cell_type": "code",
   "execution_count": 7,
   "metadata": {},
   "outputs": [
    {
     "data": {
      "text/html": [
       "<div>\n",
       "<style scoped>\n",
       "    .dataframe tbody tr th:only-of-type {\n",
       "        vertical-align: middle;\n",
       "    }\n",
       "\n",
       "    .dataframe tbody tr th {\n",
       "        vertical-align: top;\n",
       "    }\n",
       "\n",
       "    .dataframe thead th {\n",
       "        text-align: right;\n",
       "    }\n",
       "</style>\n",
       "<table border=\"1\" class=\"dataframe\">\n",
       "  <thead>\n",
       "    <tr style=\"text-align: right;\">\n",
       "      <th></th>\n",
       "      <th>count</th>\n",
       "      <th>mean</th>\n",
       "      <th>std</th>\n",
       "      <th>min</th>\n",
       "      <th>25%</th>\n",
       "      <th>50%</th>\n",
       "      <th>75%</th>\n",
       "      <th>max</th>\n",
       "    </tr>\n",
       "  </thead>\n",
       "  <tbody>\n",
       "    <tr>\n",
       "      <th>podl_upi</th>\n",
       "      <td>227824.0</td>\n",
       "      <td>6.884446</td>\n",
       "      <td>13.897926</td>\n",
       "      <td>1.0</td>\n",
       "      <td>1.0</td>\n",
       "      <td>2.0</td>\n",
       "      <td>6.00</td>\n",
       "      <td>267.0</td>\n",
       "    </tr>\n",
       "    <tr>\n",
       "      <th>codl_upi</th>\n",
       "      <td>258398.0</td>\n",
       "      <td>7.052597</td>\n",
       "      <td>15.156893</td>\n",
       "      <td>1.0</td>\n",
       "      <td>1.0</td>\n",
       "      <td>2.0</td>\n",
       "      <td>6.00</td>\n",
       "      <td>287.0</td>\n",
       "    </tr>\n",
       "    <tr>\n",
       "      <th>podl_ipu</th>\n",
       "      <td>287.0</td>\n",
       "      <td>5464.954704</td>\n",
       "      <td>7115.661449</td>\n",
       "      <td>1.0</td>\n",
       "      <td>1718.0</td>\n",
       "      <td>3502.0</td>\n",
       "      <td>6367.00</td>\n",
       "      <td>54409.0</td>\n",
       "    </tr>\n",
       "    <tr>\n",
       "      <th>codl_ipu</th>\n",
       "      <td>292.0</td>\n",
       "      <td>6241.017123</td>\n",
       "      <td>7470.930569</td>\n",
       "      <td>173.0</td>\n",
       "      <td>2229.5</td>\n",
       "      <td>4219.5</td>\n",
       "      <td>7203.25</td>\n",
       "      <td>52207.0</td>\n",
       "    </tr>\n",
       "  </tbody>\n",
       "</table>\n",
       "</div>"
      ],
      "text/plain": [
       "             count         mean          std    min     25%     50%      75%  \\\n",
       "podl_upi  227824.0     6.884446    13.897926    1.0     1.0     2.0     6.00   \n",
       "codl_upi  258398.0     7.052597    15.156893    1.0     1.0     2.0     6.00   \n",
       "podl_ipu     287.0  5464.954704  7115.661449    1.0  1718.0  3502.0  6367.00   \n",
       "codl_ipu     292.0  6241.017123  7470.930569  173.0  2229.5  4219.5  7203.25   \n",
       "\n",
       "              max  \n",
       "podl_upi    267.0  \n",
       "codl_upi    287.0  \n",
       "podl_ipu  54409.0  \n",
       "codl_ipu  52207.0  "
      ]
     },
     "execution_count": 7,
     "metadata": {},
     "output_type": "execute_result"
    }
   ],
   "source": [
    "user_per_item_frame = dl.get_user_per_item_frame(user_item_co, user_item_po)\n",
    "user_per_item_frame"
   ]
  },
  {
   "cell_type": "code",
   "execution_count": 8,
   "metadata": {},
   "outputs": [
    {
     "data": {
      "image/png": "[encoded data removed]",
      "text/plain": [
       "<Figure size 1440x576 with 2 Axes>"
      ]
     },
     "metadata": {},
     "output_type": "display_data"
    }
   ],
   "source": [
    "dl.get_purchase_histograms('AGCO', user_item_co, user_item_po, size=(20, 8), title_fsize=30, label_fsize=20, ticks_fsize=15, save=True)"
   ]
  }
 ],
 "metadata": {
  "kernelspec": {
   "display_name": "Python 3.9.7",
   "language": "python",
   "name": "python3"
  },
  "language_info": {
   "codemirror_mode": {
    "name": "ipython",
    "version": 3
   },
   "file_extension": ".py",
   "mimetype": "text/x-python",
   "name": "python",
   "nbconvert_exporter": "python",
   "pygments_lexer": "ipython3",
   "version": "3.9.7"
  },
  "orig_nbformat": 4,
  "vscode": {
   "interpreter": {
    "hash": "b4efcf30d150067e76aa0880eb47772143c44e1fc3c522760740bd759ef99df4"
   }
  }
 },
 "nbformat": 4,
 "nbformat_minor": 2
}
