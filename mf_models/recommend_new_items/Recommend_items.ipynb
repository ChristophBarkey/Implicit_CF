{
 "cells": [
  {
   "cell_type": "markdown",
   "metadata": {},
   "source": [
    "Notebook to actually create item recommendations for each user and each model:"
   ]
  },
  {
   "cell_type": "code",
   "execution_count": 1,
   "metadata": {},
   "outputs": [
    {
     "name": "stderr",
     "output_type": "stream",
     "text": [
      "c:\\Users\\781110104\\Anaconda3\\lib\\site-packages\\lightfm\\_lightfm_fast.py:9: UserWarning: LightFM was compiled without OpenMP support. Only a single thread will be used.\n",
      "  warnings.warn(\n"
     ]
    },
    {
     "name": "stdout",
     "output_type": "stream",
     "text": [
      "C:\\Users\\781110104\\OneDrive - Genpact\\Documents\\VSCode\n"
     ]
    }
   ],
   "source": [
    "import pandas as pd\n",
    "import numpy as np\n",
    "from dataloading import DataLoader\n",
    "from datapreparation_py import DataPreparation\n",
    "from cv_py import CrossValidation\n",
    "from eda_py import EDA\n",
    "from recommender_py import Recommender\n",
    "from implicit.nearest_neighbours import CosineRecommender\n",
    "from implicit.als import AlternatingLeastSquares\n",
    "from eALS_adaptor import eALSAdaptor\n",
    "from implicit.lmf import LogisticMatrixFactorization\n",
    "from implicit.bpr import BayesianPersonalizedRanking\n",
    "import matplotlib.pyplot as plt\n",
    "\n",
    "%cd C:\\Users\\781110104\\OneDrive - Genpact\\Documents\\VSCode"
   ]
  },
  {
   "cell_type": "code",
   "execution_count": 2,
   "metadata": {},
   "outputs": [],
   "source": [
    "dl = DataLoader()\n",
    "user_item_co = dl.import_data('AGCO', 'CO', 'df')\n",
    "user_item_co_t = dl.import_data('TEREX', 'CO', 'df')"
   ]
  },
  {
   "cell_type": "code",
   "execution_count": 3,
   "metadata": {},
   "outputs": [],
   "source": [
    "user_item_filtered = dl.remove_low_interact_items(user_item_co, 1)\n",
    "user_item_filtered_t = dl.remove_low_interact_items(user_item_co_t, 1)\n",
    "\n",
    "user_item_filtered_log = dl.log_scale_df(user_item_filtered, 0.01)\n",
    "user_item_filtered_log_t = dl.log_scale_df(user_item_filtered_t, 0.01)\n",
    "\n",
    "user_item_csr = dl.to_csr(user_item_filtered_log)\n",
    "user_item_csr_t = dl.to_csr(user_item_filtered_log_t)"
   ]
  },
  {
   "cell_type": "code",
   "execution_count": 4,
   "metadata": {},
   "outputs": [],
   "source": [
    "# get full input data, containing the mapping of item and user ids with the indices used by sparse:\n",
    "\n",
    "dp_t = DataPreparation(user_item_filtered_log_t)\n",
    "full_df_t = dp_t._get_full_user_item()\n",
    "\n",
    "dp = DataPreparation(user_item_filtered_log)\n",
    "full_df = dp._get_full_user_item()"
   ]
  },
  {
   "cell_type": "code",
   "execution_count": 5,
   "metadata": {},
   "outputs": [
    {
     "name": "stderr",
     "output_type": "stream",
     "text": [
      "c:\\Users\\781110104\\Anaconda3\\lib\\site-packages\\implicit\\utils.py:33: UserWarning: Intel MKL BLAS detected. Its highly recommend to set the environment variable 'export MKL_NUM_THREADS=1' to disable its internal multithreading\n",
      "  warnings.warn(\n"
     ]
    }
   ],
   "source": [
    "model_ials_a = AlternatingLeastSquares(factors=150, regularization=90, alpha=0.3, iterations=25)\n",
    "model_ials_t = AlternatingLeastSquares(factors=100, regularization=90, alpha=1.3, iterations=25)\n",
    "model_eals_t = eALSAdaptor(factors=50, regularization=50, alpha=0.1, w0=5000, num_iter=25)\n",
    "model_bpr_a = BayesianPersonalizedRanking(factors=50, regularization=0.03, learning_rate=0.005, iterations=30)\n",
    "model_lmf_a = LogisticMatrixFactorization(factors=10, regularization=40, iterations=25, neg_prop=50)\n",
    "model_cosine_a = CosineRecommender()\n",
    "model_cosine_t = CosineRecommender()"
   ]
  },
  {
   "cell_type": "code",
   "execution_count": 6,
   "metadata": {},
   "outputs": [
    {
     "data": {
      "application/vnd.jupyter.widget-view+json": {
       "model_id": "634c23ed0d5a4ff5819cbc38a3465da8",
       "version_major": 2,
       "version_minor": 0
      },
      "text/plain": [
       "  0%|          | 0/25 [00:00<?, ?it/s]"
      ]
     },
     "metadata": {},
     "output_type": "display_data"
    },
    {
     "data": {
      "application/vnd.jupyter.widget-view+json": {
       "model_id": "5d468d8324c447019918ffa50e26d458",
       "version_major": 2,
       "version_minor": 0
      },
      "text/plain": [
       "  0%|          | 0/25 [00:00<?, ?it/s]"
      ]
     },
     "metadata": {},
     "output_type": "display_data"
    },
    {
     "name": "stdout",
     "output_type": "stream",
     "text": [
      "converting type of user_items to <class 'numpy.float32'>\n"
     ]
    },
    {
     "data": {
      "application/vnd.jupyter.widget-view+json": {
       "model_id": "ba8cd8e934b845adb81becb213ab616e",
       "version_major": 2,
       "version_minor": 0
      },
      "text/plain": [
       "  0%|          | 0/30 [00:00<?, ?it/s]"
      ]
     },
     "metadata": {},
     "output_type": "display_data"
    },
    {
     "data": {
      "application/vnd.jupyter.widget-view+json": {
       "model_id": "c86c32804cac4639ab48b699edf4f37a",
       "version_major": 2,
       "version_minor": 0
      },
      "text/plain": [
       "  0%|          | 0/25 [00:00<?, ?it/s]"
      ]
     },
     "metadata": {},
     "output_type": "display_data"
    },
    {
     "name": "stderr",
     "output_type": "stream",
     "text": [
      "c:\\Users\\781110104\\Anaconda3\\lib\\site-packages\\implicit\\utils.py:138: ParameterWarning: Method expects CSR input, and was passed coo_matrix instead. Converting to CSR took 0.03845810890197754 seconds\n",
      "  warnings.warn(\n"
     ]
    },
    {
     "data": {
      "application/vnd.jupyter.widget-view+json": {
       "model_id": "8de377240ec44498b5d8f97c0ba9e2e8",
       "version_major": 2,
       "version_minor": 0
      },
      "text/plain": [
       "  0%|          | 0/202000 [00:00<?, ?it/s]"
      ]
     },
     "metadata": {},
     "output_type": "display_data"
    },
    {
     "name": "stderr",
     "output_type": "stream",
     "text": [
      "c:\\Users\\781110104\\Anaconda3\\lib\\site-packages\\implicit\\utils.py:138: ParameterWarning: Method expects CSR input, and was passed coo_matrix instead. Converting to CSR took 0.000997304916381836 seconds\n",
      "  warnings.warn(\n"
     ]
    },
    {
     "data": {
      "application/vnd.jupyter.widget-view+json": {
       "model_id": "998fa3e152a444d293872e3b651d3e48",
       "version_major": 2,
       "version_minor": 0
      },
      "text/plain": [
       "  0%|          | 0/16690 [00:00<?, ?it/s]"
      ]
     },
     "metadata": {},
     "output_type": "display_data"
    }
   ],
   "source": [
    "model_ials_a.fit(user_item_csr)\n",
    "model_ials_t.fit(user_item_csr_t)\n",
    "model_eals_t.fit(user_item_csr_t)\n",
    "model_bpr_a.fit(user_item_csr)\n",
    "model_lmf_a.fit(user_item_csr)\n",
    "model_cosine_a.fit(user_item_csr)\n",
    "model_cosine_t.fit(user_item_csr_t)"
   ]
  },
  {
   "cell_type": "code",
   "execution_count": 7,
   "metadata": {},
   "outputs": [],
   "source": [
    "rc = Recommender()"
   ]
  },
  {
   "cell_type": "code",
   "execution_count": 8,
   "metadata": {},
   "outputs": [],
   "source": [
    "recos_ials_a = rc.get_recommendations(model_ials_a, user_item_csr, full_df)\n",
    "recos_ials_t = rc.get_recommendations(model_ials_t, user_item_csr_t, full_df_t)\n",
    "recos_eals_t = rc.get_recommendations(model_eals_t, user_item_csr_t, full_df_t)\n",
    "recos_bpr_a = rc.get_recommendations(model_bpr_a, user_item_csr, full_df)\n",
    "recos_lmf_a = rc.get_recommendations(model_lmf_a, user_item_csr, full_df)\n",
    "recos_cosine_a = rc.get_recommendations(model_cosine_a, user_item_csr, full_df)\n",
    "recos_cosine_t = rc.get_recommendations(model_cosine_t, user_item_csr_t, full_df_t)"
   ]
  },
  {
   "cell_type": "code",
   "execution_count": 10,
   "metadata": {},
   "outputs": [],
   "source": [
    "common_recos_df_t = rc.get_common_recos_t(recos_ials_t, recos_eals_t, recos_cosine_t)"
   ]
  },
  {
   "cell_type": "code",
   "execution_count": 11,
   "metadata": {},
   "outputs": [],
   "source": [
    "get_common_recos_a = rc.get_common_recos_a(recos_ials_a, recos_bpr_a, recos_lmf_a, recos_cosine_a)"
   ]
  }
 ],
 "metadata": {
  "kernelspec": {
   "display_name": "Python 3.9.7",
   "language": "python",
   "name": "python3"
  },
  "language_info": {
   "codemirror_mode": {
    "name": "ipython",
    "version": 3
   },
   "file_extension": ".py",
   "mimetype": "text/x-python",
   "name": "python",
   "nbconvert_exporter": "python",
   "pygments_lexer": "ipython3",
   "version": "3.9.7"
  },
  "orig_nbformat": 4,
  "vscode": {
   "interpreter": {
    "hash": "b4efcf30d150067e76aa0880eb47772143c44e1fc3c522760740bd759ef99df4"
   }
  }
 },
 "nbformat": 4,
 "nbformat_minor": 2
}
