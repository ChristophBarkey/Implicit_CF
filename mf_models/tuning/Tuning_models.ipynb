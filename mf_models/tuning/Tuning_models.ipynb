{
 "cells": [
  {
   "cell_type": "code",
   "execution_count": 1,
   "metadata": {},
   "outputs": [
    {
     "name": "stdout",
     "output_type": "stream",
     "text": [
      "[Errno 2] No such file or directory: 'C:Users781110104OneDrive - GenpactDocumentsVSCode'\n",
      "/home/cbarkey\n"
     ]
    }
   ],
   "source": [
    "import pandas as pd\n",
    "import numpy as np\n",
    "from dataloading import DataLoader\n",
    "from implicit.evaluation import train_test_split\n",
    "from cv_py import CrossValidation\n",
    "from scipy import sparse\n",
    "\n",
    "%cd C:\\Users\\781110104\\OneDrive - Genpact\\Documents\\VSCode"
   ]
  },
  {
   "cell_type": "code",
   "execution_count": 53,
   "metadata": {},
   "outputs": [],
   "source": [
    "dl = DataLoader()"
   ]
  },
  {
   "cell_type": "code",
   "execution_count": 3,
   "metadata": {},
   "outputs": [],
   "source": [
    "user_item_co = dl.import_data('AGCO', 'CO', 'df')\n",
    "user_item_co_t = dl.import_data('TEREX', 'CO', 'df')"
   ]
  },
  {
   "cell_type": "code",
   "execution_count": 4,
   "metadata": {},
   "outputs": [],
   "source": [
    "user_item_filtered = dl.remove_low_interact_items(user_item_co, 1)\n",
    "user_item_filtered_t = dl.remove_low_interact_items(user_item_co_t, 1)"
   ]
  },
  {
   "cell_type": "code",
   "execution_count": 5,
   "metadata": {},
   "outputs": [],
   "source": [
    "user_item_filtered_log = dl.log_scale_df(user_item_filtered, 0.01)\n",
    "user_item_filtered_log_t = dl.log_scale_df(user_item_filtered_t, 0.01)"
   ]
  },
  {
   "cell_type": "code",
   "execution_count": 6,
   "metadata": {},
   "outputs": [],
   "source": [
    "user_item_csr = dl.to_csr(user_item_filtered_log)\n",
    "user_item_csr_t = dl.to_csr(user_item_filtered_log_t)"
   ]
  },
  {
   "cell_type": "code",
   "execution_count": 17,
   "metadata": {},
   "outputs": [],
   "source": [
    "# initial split 80/20\n",
    "train, test = train_test_split(user_item_csr, 0.8, 22)\n",
    "train_t, test_t = train_test_split(user_item_csr_t, 0.8, 22)"
   ]
  },
  {
   "cell_type": "code",
   "execution_count": 5,
   "metadata": {},
   "outputs": [],
   "source": [
    "cv = CrossValidation(5)"
   ]
  },
  {
   "cell_type": "code",
   "execution_count": 19,
   "metadata": {},
   "outputs": [],
   "source": [
    "# perform k-fold splitting of trining data\n",
    "validate, calibrate = cv.split_k_fold(train, 22)\n",
    "validate_t, calibrate_t = cv.split_k_fold(train_t, 22)"
   ]
  },
  {
   "cell_type": "markdown",
   "metadata": {},
   "source": [
    "Tune models for OEM1 data:"
   ]
  },
  {
   "cell_type": "code",
   "execution_count": 22,
   "metadata": {},
   "outputs": [],
   "source": [
    "space_iALS = {'factors' : [64], 'regularization' : [80, 90, 100, 110, 120, 130, 140, 150, 160, 170], 'alpha' : [0.2, 0.3, 0.4, 0.5, 0.6, 0.7, 0.8], 'iterations' : [15]}\n",
    "hyper_ials = cv.hyperp_tuning(test=validate, train=calibrate, exclude=test, seed=22, param_space=space_iALS, model_class='iALS')"
   ]
  },
  {
   "cell_type": "code",
   "execution_count": null,
   "metadata": {},
   "outputs": [],
   "source": [
    "space_eALS = {'factors' : [64], 'regularization' : [220, 230, 240, 250, 260, 270], 'alpha' : [0.05, 0.1, 0.15, 0.2], 'w0' : [50000, 55000, 60000, 65000], 'iterations' : [15]}\n",
    "hyper_eals = cv.hyperp_tuning(test=validate, train=calibrate, exclude=test, seed=22, param_space=space_eALS, model_class='eALS')"
   ]
  },
  {
   "cell_type": "code",
   "execution_count": null,
   "metadata": {},
   "outputs": [],
   "source": [
    "space_BPR = {'factors' : [64], 'regularization' : [0.005, 0.01, 0.02, 0.03, 0.04], 'learning_rate' : [0.003, 0.005, 0.007, 0.009, 0.01, 0.02, 0.03], 'iterations' : [15]}\n",
    "hyper_bpr = cv.hyperp_tuning(test=validate, train=calibrate, exclude=test, seed=22, param_space=space_BPR, model_class='BPR')"
   ]
  },
  {
   "cell_type": "code",
   "execution_count": null,
   "metadata": {},
   "outputs": [],
   "source": [
    "space_LMF = {'factors' : [64], 'regularization' : [5, 10, 20, 30, 40, 50], 'learning_rate' : [0.8, 1.0, 1.2, 1.4], 'iterations' : [15], 'neg_prop': [40, 50, 60, 70, 80]}\n",
    "hyper_lmf = cv.hyperp_tuning(test=validate, train=calibrate, exclude=test, seed=22, param_space=space_LMF, model_class='LMF')"
   ]
  },
  {
   "cell_type": "markdown",
   "metadata": {},
   "source": [
    "Load FM data for OEM1:"
   ]
  },
  {
   "cell_type": "code",
   "execution_count": null,
   "metadata": {},
   "outputs": [],
   "source": [
    "interactions_csr = sparse.load_npz('interactions_csr.npz')\n",
    "weights_csr = sparse.load_npz('weights_csr.npz')\n",
    "itemf = sparse.load_npz('itemf.npz')\n",
    "train_i, test_i = train_test_split(interactions_csr, 0.8, 22)\n",
    "train_w, test_w = train_test_split(weights_csr, 0.8, 22)\n",
    "val_w, cal_w = cv.split_k_fold(train_w, 22)\n",
    "val_i, cal_i = cv.split_k_fold(train_i, 22)"
   ]
  },
  {
   "cell_type": "code",
   "execution_count": null,
   "metadata": {},
   "outputs": [],
   "source": [
    "space_FM_warp = {'factors' : [64], 'regularization' : [0.0001, 0.0005, 0.001], 'learning_rate' : [0.01, 0.05, 0.1], 'iterations' : [15], 'loss' : ['warp'], 'max_sampled' : [90, 100, 110]}\n",
    "hyper_fm = cv.hyperp_tuning(test=val_w, train=cal_w, exclude=test_w, seed=22, param_space=space_FM_warp, model_class='FM', item_features=itemf)"
   ]
  },
  {
   "cell_type": "markdown",
   "metadata": {},
   "source": [
    "Tune models for OEM2 data:"
   ]
  },
  {
   "cell_type": "code",
   "execution_count": 23,
   "metadata": {},
   "outputs": [],
   "source": [
    "space_iALS_t = {'factors' : [64], 'regularization' : [50, 60, 70, 80, 90, 100, 110], 'alpha' : [0.8, 0.9, 1, 1.1, 1.2, 1.3, 1.4, 1.5], 'iterations' : [15]}\n",
    "hyper_ials_t = cv.hyperp_tuning(test=validate_t, train=calibrate_t, exclude=test_t, seed=22, param_space=space_iALS_t, model_class='iALS')"
   ]
  },
  {
   "cell_type": "code",
   "execution_count": null,
   "metadata": {},
   "outputs": [],
   "source": [
    "space_eALS_t = {'factors' : [64], 'regularization' : [5, 10, 15], 'alpha' : [0.05, 0.1, 0.2, 0.3], 'w0' : [1000, 1500, 2000, 2500], 'iterations' : [15]}\n",
    "hyper_eals_t = cv.hyperp_tuning(test=validate_t, train=calibrate_t, exclude=test_t, seed=22, param_space=space_eALS_t, model_class='eALS')"
   ]
  },
  {
   "cell_type": "code",
   "execution_count": null,
   "metadata": {},
   "outputs": [],
   "source": [
    "space_BPR_t = {'factors' : [64], 'regularization' : [0.03, 0.035, 0.04, 0.045], 'learning_rate' : [0.025, 0.03, 0.035, 0.04], 'iterations' : [15]}\n",
    "hyper_bpr_t = cv.hyperp_tuning(test=validate_t, train=calibrate_t, exclude=test_t, seed=22, param_space=space_BPR_t, model_class='BPR')"
   ]
  },
  {
   "cell_type": "code",
   "execution_count": null,
   "metadata": {},
   "outputs": [],
   "source": [
    "space_LMF_t = {'factors' : [64], 'regularization' : [5, 10, 20, 30], 'learning_rate' : [0.8, 1.0, 1.2, 1.4], 'iterations' : [15], 'neg_prop': [0, 1, 2, 3, 5, 10]}\n",
    "hyper_lmf_t = cv.hyperp_tuning(test=validate_t, train=calibrate_t, exclude=test_t, seed=22, param_space=space_LMF_t, model_class='LMF')"
   ]
  },
  {
   "cell_type": "markdown",
   "metadata": {},
   "source": [
    "Load FM data for OEM2:"
   ]
  },
  {
   "cell_type": "code",
   "execution_count": 45,
   "metadata": {},
   "outputs": [],
   "source": [
    "interactions_csr_t = sparse.load_npz('interactions_csr_t.npz')\n",
    "weights_csr_t = sparse.load_npz('weights_csr_t.npz')\n",
    "userf_t = sparse.load_npz('userf_t.npz')\n",
    "train_i_t, test_i_t = train_test_split(interactions_csr, 0.8, 22)\n",
    "train_w_t, test_w_t = train_test_split(weights_csr, 0.8, 22)\n",
    "val_w_t, cal_w_t = cv.split_k_fold(train_w, 22)\n",
    "val_i_t, cal_i_t = cv.split_k_fold(train_i, 22)"
   ]
  },
  {
   "cell_type": "code",
   "execution_count": 56,
   "metadata": {},
   "outputs": [],
   "source": [
    "space_FM_warp_t = {'factors' : [64], 'regularization' : [0.00005, 0.0001, 0.0005], 'learning_rate' : [0.0005, 0.001, 0.005], 'iterations' : [15], 'loss' : ['warp'], 'max_sampled' : [4, 5, 6]}\n",
    "hyper_fm_t = cv.hyperp_tuning(test=val_w_t, train=cal_w_t, exclude=test_w_t, seed=22, param_space=space_FM_warp_t, model_class='FM', user_features=userf_t)"
   ]
  }
 ],
 "metadata": {
  "kernelspec": {
   "display_name": "Python 3 (ipykernel)",
   "language": "python",
   "name": "python3"
  },
  "language_info": {
   "name": "python",
   "version": "3.9.7"
  },
  "orig_nbformat": 4,
  "vscode": {
   "interpreter": {
    "hash": "b4efcf30d150067e76aa0880eb47772143c44e1fc3c522760740bd759ef99df4"
   }
  }
 },
 "nbformat": 4,
 "nbformat_minor": 2
}
