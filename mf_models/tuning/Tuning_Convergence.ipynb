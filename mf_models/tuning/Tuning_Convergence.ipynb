{
 "cells": [
  {
   "cell_type": "code",
   "execution_count": 10,
   "metadata": {},
   "outputs": [
    {
     "name": "stdout",
     "output_type": "stream",
     "text": [
      "C:\\Users\\781110104\\OneDrive - Genpact\\Documents\\VSCode\n"
     ]
    }
   ],
   "source": [
    "import pandas as pd\n",
    "import numpy as np\n",
    "from dataloading import DataLoader\n",
    "from datapreparation_py import DataPreparation\n",
    "from implicit.evaluation import train_test_split\n",
    "from cv_py import CrossValidation\n",
    "from scipy import sparse\n",
    "\n",
    "%cd C:\\Users\\781110104\\OneDrive - Genpact\\Documents\\VSCode"
   ]
  },
  {
   "cell_type": "code",
   "execution_count": 73,
   "metadata": {},
   "outputs": [],
   "source": [
    "dl = DataLoader()"
   ]
  },
  {
   "cell_type": "code",
   "execution_count": 74,
   "metadata": {},
   "outputs": [],
   "source": [
    "user_item_co = dl.import_data('AGCO', 'CO', 'df')\n",
    "user_item_co_t = dl.import_data('TEREX', 'CO', 'df')"
   ]
  },
  {
   "cell_type": "code",
   "execution_count": 75,
   "metadata": {},
   "outputs": [],
   "source": [
    "user_item_filtered = dl.remove_low_interact_items(user_item_co, 1)\n",
    "user_item_filtered_t = dl.remove_low_interact_items(user_item_co_t, 1)\n",
    "user_item_filtered_log = dl.log_scale_df(user_item_filtered, 0.01)\n",
    "user_item_filtered_log_t = dl.log_scale_df(user_item_filtered_t, 0.01)\n",
    "user_item_csr = dl.to_csr(user_item_filtered_log)\n",
    "user_item_csr_t = dl.to_csr(user_item_filtered_log_t)"
   ]
  },
  {
   "cell_type": "code",
   "execution_count": 5,
   "metadata": {},
   "outputs": [],
   "source": [
    "# initial split\n",
    "train, test = train_test_split(user_item_csr, 0.8, 22)\n",
    "train_t, test_t = train_test_split(user_item_csr_t, 0.8, 22)"
   ]
  },
  {
   "cell_type": "code",
   "execution_count": 8,
   "metadata": {},
   "outputs": [],
   "source": [
    "cv = CrossValidation(5)\n",
    "validate, calibrate = cv.split_k_fold(train, 22)\n",
    "validate_t, calibrate_t = cv.split_k_fold(train_t, 22)"
   ]
  },
  {
   "cell_type": "code",
   "execution_count": 9,
   "metadata": {},
   "outputs": [],
   "source": [
    "factors = [10, 20, 30, 40, 50, 60, 70, 80, 90, 100, 110, 120, 130, 140, 150, 160, 170, 180, 190, 200]\n",
    "iterations = [2, 4, 6, 8, 10, 12, 14, 16, 18, 20, 22, 24, 26, 28, 30]"
   ]
  },
  {
   "cell_type": "markdown",
   "metadata": {},
   "source": [
    "OEM1:"
   ]
  },
  {
   "cell_type": "code",
   "execution_count": 246,
   "metadata": {},
   "outputs": [],
   "source": [
    "space_iALS = {'factors' : factors, 'regularization' : [90], 'alpha' : [0.3], 'iterations' : iterations}\n",
    "hyper_ials = cv.hyperp_tuning(test=validate, train=calibrate, exclude=test, seed=22, param_space=space_iALS, model_class='iALS')\n",
    "hyper_ials.to_csv('curves_ials.csv')"
   ]
  },
  {
   "cell_type": "code",
   "execution_count": null,
   "metadata": {},
   "outputs": [],
   "source": [
    "space_eALS = {'factors' : factors, 'regularization' : [230], 'alpha' : [0.1], 'w0' : [60000], 'iterations' : iterations}\n",
    "hyper_eals = cv.hyperp_tuning(test=validate, train=calibrate, exclude=test, seed=22, param_space=space_eALS, model_class='eALS')\n",
    "hyper_eals.to_csv('curves_eals.csv')"
   ]
  },
  {
   "cell_type": "code",
   "execution_count": null,
   "metadata": {},
   "outputs": [],
   "source": [
    "space_BPR = {'factors' : factors, 'regularization' : [0.03], 'learning_rate' : [0.005], 'iterations' : iterations}\n",
    "hyper_bpr = cv.hyperp_tuning(test=validate, train=calibrate, exclude=test, seed=22, param_space=space_BPR, model_class='BPR')\n",
    "hyper_bpr.to_csv('curves_bpr.csv')"
   ]
  },
  {
   "cell_type": "code",
   "execution_count": null,
   "metadata": {},
   "outputs": [],
   "source": [
    "space_LMF = {'factors' : factors, 'regularization' : [40], 'learning_rate' : [1.2], 'iterations' : iterations, 'neg_prop': [50]}\n",
    "hyper_lmf = cv.hyperp_tuning(test=validate, train=calibrate, exclude=test, seed=22, param_space=space_LMF, model_class='LMF')\n",
    "hyper_lmf.to_csv('curves_lmf.csv')"
   ]
  },
  {
   "cell_type": "code",
   "execution_count": null,
   "metadata": {},
   "outputs": [],
   "source": [
    "interactions_csr = sparse.load_npz('interactions_csr.npz')\n",
    "weights_csr = sparse.load_npz('weights_csr.npz')\n",
    "itemf = sparse.load_npz('itemf.npz')\n",
    "train_i, test_i = train_test_split(interactions_csr, 0.8, 22)\n",
    "train_w, test_w = train_test_split(weights_csr, 0.8, 22)\n",
    "val_w, cal_w = cv.split_k_fold(train_w, 22)\n",
    "val_i, cal_i = cv.split_k_fold(train_i, 22)"
   ]
  },
  {
   "cell_type": "code",
   "execution_count": null,
   "metadata": {},
   "outputs": [],
   "source": [
    "space_FM_warp = {'factors' : factors, 'regularization' : [0.0005], 'learning_rate' : [0.05], 'iterations' : iterations, 'loss' : ['warp'], 'max_sampled' : [100]}\n",
    "hyper_fm = cv.hyperp_tuning(test=val_w, train=cal_w, exclude=test_w, seed=22, param_space=space_FM_warp, model_class='FM', item_features=itemf)\n",
    "hyper_fm.to_csv('curves_fm.csv')"
   ]
  },
  {
   "cell_type": "markdown",
   "metadata": {},
   "source": [
    "OEM2:"
   ]
  },
  {
   "cell_type": "code",
   "execution_count": 247,
   "metadata": {},
   "outputs": [],
   "source": [
    "space_iALS_t = {'factors' : factors, 'regularization' : [90], 'alpha' : [1.3], 'iterations' : iterations}\n",
    "hyper_ials_t = cv.hyperp_tuning(test=validate_t, train=calibrate_t, exclude=test_t, seed=22, param_space=space_iALS_t, model_class='iALS')\n",
    "hyper_ials_t.to_csv('curves_ials_t.csv')"
   ]
  },
  {
   "cell_type": "code",
   "execution_count": null,
   "metadata": {},
   "outputs": [],
   "source": [
    "space_eALS_t = {'factors' : factors, 'regularization' : [10], 'alpha' : [0.1], 'w0' : [2000], 'iterations' : iterations}\n",
    "hyper_eals_t = cv.hyperp_tuning(test=validate_t, train=calibrate_t, exclude=test_t, seed=22, param_space=space_eALS_t, model_class='eALS')\n",
    "hyper_eals_t.to_csv('curves_eals.csv')"
   ]
  },
  {
   "cell_type": "code",
   "execution_count": 249,
   "metadata": {},
   "outputs": [],
   "source": [
    "space_BPR_t = {'factors' : factors, 'regularization' : [0.04], 'learning_rate' : [0.03], 'iterations' : iterations}\n",
    "hyper_bpr_t = cv.hyperp_tuning(test=validate_t, train=calibrate_t, exclude=test_t, seed=22, param_space=space_BPR_t, model_class='BPR')\n",
    "hyper_bpr_t.to_csv('curves_bpr_t.csv')"
   ]
  },
  {
   "cell_type": "code",
   "execution_count": 250,
   "metadata": {},
   "outputs": [],
   "source": [
    "space_LMF_t = {'factors' : factors, 'regularization' : [20], 'learning_rate' : [1.2], 'iterations' : iterations, 'neg_prop': [0]}\n",
    "hyper_lmf_t = cv.hyperp_tuning(test=validate_t, train=calibrate_t, exclude=test_t, seed=22, param_space=space_LMF_t, model_class='LMF')\n",
    "hyper_lmf_t.to_csv('curves_lmf_t.csv')"
   ]
  },
  {
   "cell_type": "code",
   "execution_count": null,
   "metadata": {},
   "outputs": [],
   "source": [
    "interactions_csr_t = sparse.load_npz('interactions_csr_t.npz')\n",
    "weights_csr_t = sparse.load_npz('weights_csr_t.npz')\n",
    "userf_t = sparse.load_npz('userf_t.npz')\n",
    "train_i_t, test_i_t = train_test_split(interactions_csr, 0.8, 22)\n",
    "train_w_t, test_w_t = train_test_split(weights_csr, 0.8, 22)\n",
    "val_w_t, cal_w_t = cv.split_k_fold(train_w, 22)\n",
    "val_i_t, cal_i_t = cv.split_k_fold(train_i, 22)"
   ]
  },
  {
   "cell_type": "code",
   "execution_count": null,
   "metadata": {},
   "outputs": [],
   "source": [
    "space_FM_warp_t = {'factors' : factors, 'regularization' : [0.0001], 'learning_rate' : [0.001], 'iterations' : iterations, 'loss' : ['warp'], 'max_sampled' : [5]}\n",
    "hyper_fm_t = cv.hyperp_tuning(test=val_w_t, train=cal_w_t, exclude=test_w_t, seed=22, param_space=space_FM_warp_t, model_class='FM', user_features=userf_t)\n",
    "hyper_fm_t.to_csv('curves_fm_t.csv')"
   ]
  }
 ],
 "metadata": {
  "kernelspec": {
   "display_name": "Python 3.9.7",
   "language": "python",
   "name": "python3"
  },
  "language_info": {
   "codemirror_mode": {
    "name": "ipython",
    "version": 3
   },
   "file_extension": ".py",
   "mimetype": "text/x-python",
   "name": "python",
   "nbconvert_exporter": "python",
   "pygments_lexer": "ipython3",
   "version": "3.9.7"
  },
  "orig_nbformat": 4,
  "vscode": {
   "interpreter": {
    "hash": "b4efcf30d150067e76aa0880eb47772143c44e1fc3c522760740bd759ef99df4"
   }
  }
 },
 "nbformat": 4,
 "nbformat_minor": 2
}
