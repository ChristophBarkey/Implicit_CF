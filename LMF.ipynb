{
 "cells": [
  {
   "cell_type": "code",
   "execution_count": 1,
   "metadata": {},
   "outputs": [],
   "source": [
    "import numpy as np\n",
    "import pandas as pd\n",
    "import implicit\n",
    "from scipy.sparse import coo_matrix, csr_matrix\n",
    "from implicit.evaluation import train_test_split, mean_average_precision_at_k,  precision_at_k, AUC_at_k, ndcg_at_k, ranking_metrics_at_k\n",
    "from implicit.datasets.lastfm import get_lastfm\n",
    "from implicit.datasets.movielens import get_movielens"
   ]
  },
  {
   "cell_type": "code",
   "execution_count": 2,
   "metadata": {},
   "outputs": [],
   "source": [
    "#artists, users, plays = get_lastfm()\n",
    "movies1, ratings1 = get_movielens(\"1M\")\n",
    "#movies20, ratings20 = get_movielens(\"20M\")"
   ]
  },
  {
   "cell_type": "code",
   "execution_count": 44,
   "metadata": {},
   "outputs": [],
   "source": [
    "def avg_items(csr):\n",
    "    user = np.unique(csr.tocoo().row)\n",
    "    num_items = []\n",
    "    for u in user :\n",
    "        num_items.append(len(csr[u].data))\n",
    "    return pd.Series(num_items)"
   ]
  },
  {
   "cell_type": "code",
   "execution_count": 45,
   "metadata": {},
   "outputs": [],
   "source": [
    "num_items_M1 = avg_items(ratings1)\n",
    "num_items_M20 = avg_items(ratings20)\n",
    "num_items_Lfm = avg_items(plays)\n",
    "\n",
    "fig, ax = plt.subplots(1, 3)\n",
    "num_items_M1.hist(bins=30, ax=ax[0], figsize=(20, 6))\n",
    "num_items_M20.hist(bins=30, ax=ax[1], figsize=(20, 6))\n",
    "num_items_Lfm.hist(bins=30, ax=ax[2], figsize=(20, 6))"
   ]
  },
  {
   "cell_type": "code",
   "execution_count": null,
   "metadata": {},
   "outputs": [],
   "source": [
    "fig, ax = plt.subplots(1, 3)\n",
    "num_items_M1.box(bins=30, ax=ax[0], figsize=(20, 6))\n",
    "num_items_M20.box(bins=30, ax=ax[1], figsize=(20, 6))\n",
    "num_items_Lfm.box(bins=30, ax=ax[2], figsize=(20, 6))"
   ]
  },
  {
   "cell_type": "code",
   "execution_count": 3,
   "metadata": {},
   "outputs": [],
   "source": [
    "ratings1_t = ratings1.T"
   ]
  },
  {
   "cell_type": "code",
   "execution_count": 359,
   "metadata": {},
   "outputs": [],
   "source": [
    "ratings20_t = ratings20.T"
   ]
  },
  {
   "cell_type": "code",
   "execution_count": 4,
   "metadata": {},
   "outputs": [],
   "source": [
    "train, test = train_test_split(ratings1_t, train_percentage=0.8)"
   ]
  },
  {
   "cell_type": "code",
   "execution_count": 172,
   "metadata": {},
   "outputs": [],
   "source": [
    "from implicit.als import AlternatingLeastSquares"
   ]
  },
  {
   "cell_type": "code",
   "execution_count": 5,
   "metadata": {},
   "outputs": [
    {
     "name": "stderr",
     "output_type": "stream",
     "text": [
      "100%|██████████| 15/15 [00:03<00:00,  4.03it/s, loss=0.0439]\n"
     ]
    }
   ],
   "source": [
    "model = implicit.als.AlternatingLeastSquares(factors=64, regularization=0.1, iterations=15, alpha=20, use_native=True, calculate_training_loss=True)\n",
    "model.fit(train)"
   ]
  },
  {
   "cell_type": "code",
   "execution_count": 6,
   "metadata": {},
   "outputs": [
    {
     "data": {
      "text/plain": [
       "<implicit.cpu.als.AlternatingLeastSquares at 0x2386bdb5bb0>"
      ]
     },
     "execution_count": 6,
     "metadata": {},
     "output_type": "execute_result"
    }
   ],
   "source": [
    "model"
   ]
  },
  {
   "cell_type": "code",
   "execution_count": 7,
   "metadata": {},
   "outputs": [
    {
     "name": "stderr",
     "output_type": "stream",
     "text": [
      "100%|██████████| 6036/6036 [00:00<00:00, 10776.18it/s]\n"
     ]
    }
   ],
   "source": [
    "eval = ranking_metrics_at_k(model, train, test, 10)"
   ]
  },
  {
   "cell_type": "code",
   "execution_count": 8,
   "metadata": {},
   "outputs": [
    {
     "data": {
      "text/plain": [
       "{'precision': 0.21245749729103613,\n",
       " 'map': 0.09926606766243018,\n",
       " 'ndcg': 0.20649873801508647,\n",
       " 'auc': 0.5567310197050357}"
      ]
     },
     "execution_count": 8,
     "metadata": {},
     "output_type": "execute_result"
    }
   ],
   "source": [
    "eval"
   ]
  },
  {
   "cell_type": "code",
   "execution_count": 58,
   "metadata": {},
   "outputs": [],
   "source": [
    "# MPR per user and mpr complete function\n",
    "def mpr_per_user(model, train, test, num_recs, user):\n",
    "    recommended_items = model.recommend(user_items=train[user], userid=user, filter_already_liked_items=True, N = num_recs)[0]\n",
    "    test_items = test[user].nonzero()[1]\n",
    "    test_items_in_list = test_items[np.isin(test_items, recommended_items)]\n",
    "    if len(test_items_in_list) == 0:\n",
    "        return 0.5\n",
    "    recommended_indices = recommended_items.argsort()\n",
    "    hit_indices = recommended_indices[np.searchsorted(recommended_items[recommended_indices], test_items_in_list)]\n",
    "    #return (np.sum(hit_indices) / num_recs) / len(hit_indices)\n",
    "    return np.mean(hit_indices / num_recs)\n",
    "\n",
    "def calc_mpr(model, train, test, full_csr):\n",
    "    mprs = []\n",
    "    for u in range(full_csr.shape[0]) :\n",
    "        mpr = mpr_per_user(model, train, test, full_csr.shape[1], u)\n",
    "        mprs.append(mpr)\n",
    "    return {'mpr' : np.mean(mprs)} \n",
    "\n",
    "# integrated evaluation function with all metrics, can be extended\n",
    "def evaluate_model(model, train, test, k, user_item_csr):\n",
    "    metrics = ranking_metrics_at_k(model, train, test, K=k)\n",
    "    mpr = calc_mpr(model, train, test, user_item_csr)\n",
    "    metrics.update(mpr)\n",
    "    return pd.DataFrame(metrics, index=[str(k)])  "
   ]
  },
  {
   "cell_type": "code",
   "execution_count": 59,
   "metadata": {},
   "outputs": [],
   "source": [
    "import scipy.sparse as sp"
   ]
  },
  {
   "cell_type": "code",
   "execution_count": 147,
   "metadata": {},
   "outputs": [],
   "source": [
    "# func to split a csr matrix in k disjoint test/train sets\n",
    "def split_k_fold(csr_matrix, k) :\n",
    "    split_matrix = csr_matrix\n",
    "    return_dict = {}\n",
    "    return_dict_train = {}\n",
    "    for i in range(k-1):\n",
    "        train_temp, test_temp = train_test_split(split_matrix, train_percentage=((k-(i+1))/(k-i)))\n",
    "        return_dict[str(i)] = test_temp\n",
    "        if i == 0:\n",
    "            return_dict_train[str(i)] = train_temp\n",
    "            rest = test_temp\n",
    "        else:\n",
    "            return_dict_train[str(i)] = (train_temp + rest)\n",
    "            rest = (rest + test_temp)\n",
    "        if i == (k-2):\n",
    "            return_dict[str(i+1)] = train_temp\n",
    "            return_dict_train[str(i+1)] = rest\n",
    "        split_matrix = train_temp\n",
    "    return (return_dict, return_dict_train)\n",
    "\n",
    "# func to process the output of split_k_fold() and perform crossval\n",
    "def k_fold_eval(test, train) :\n",
    "    for i in range(len(test)) :\n",
    "        model = implicit.als.AlternatingLeastSquares(factors=64, regularization=0.1, iterations=15)\n",
    "        test_temp = test[str(i)]\n",
    "        train_temp = train[str(i)]\n",
    "        print(test_temp.nnz)\n",
    "        print(train_temp.nnz)\n",
    "        model.fit(train_temp)\n",
    "        m = evaluate_model(model, train_temp, test_temp, 10, ratings1_t)\n",
    "        if i == 0:\n",
    "            df = m\n",
    "        else :\n",
    "            df = pd.concat((df, m), axis=0)\n",
    "    return df"
   ]
  },
  {
   "cell_type": "code",
   "execution_count": 148,
   "metadata": {},
   "outputs": [],
   "source": [
    "test, train = split_k_fold(ratings1_t, 5)"
   ]
  },
  {
   "cell_type": "code",
   "execution_count": 152,
   "metadata": {},
   "outputs": [
    {
     "name": "stderr",
     "output_type": "stream",
     "text": [
      "  0%|          | 0/15 [00:00<?, ?it/s]"
     ]
    },
    {
     "name": "stdout",
     "output_type": "stream",
     "text": [
      "200377\n",
      "799832\n"
     ]
    },
    {
     "name": "stderr",
     "output_type": "stream",
     "text": [
      "100%|██████████| 15/15 [00:03<00:00,  4.59it/s]\n",
      "100%|██████████| 6034/6034 [00:00<00:00, 10639.59it/s]\n",
      "  0%|          | 0/15 [00:00<?, ?it/s]"
     ]
    },
    {
     "name": "stdout",
     "output_type": "stream",
     "text": [
      "200059\n",
      "800150\n"
     ]
    },
    {
     "name": "stderr",
     "output_type": "stream",
     "text": [
      "100%|██████████| 15/15 [00:03<00:00,  3.87it/s]\n",
      "100%|██████████| 6036/6036 [00:00<00:00, 10422.53it/s]\n",
      "  0%|          | 0/15 [00:00<?, ?it/s]"
     ]
    },
    {
     "name": "stdout",
     "output_type": "stream",
     "text": [
      "200381\n",
      "799828\n"
     ]
    },
    {
     "name": "stderr",
     "output_type": "stream",
     "text": [
      "100%|██████████| 15/15 [00:04<00:00,  3.61it/s]\n",
      "100%|██████████| 6035/6035 [00:00<00:00, 9592.30it/s]\n",
      "  0%|          | 0/15 [00:00<?, ?it/s]"
     ]
    },
    {
     "name": "stdout",
     "output_type": "stream",
     "text": [
      "199862\n",
      "800347\n"
     ]
    },
    {
     "name": "stderr",
     "output_type": "stream",
     "text": [
      "100%|██████████| 15/15 [00:03<00:00,  4.03it/s]\n",
      "100%|██████████| 6036/6036 [00:00<00:00, 9796.31it/s] \n",
      "  0%|          | 0/15 [00:00<?, ?it/s]"
     ]
    },
    {
     "name": "stdout",
     "output_type": "stream",
     "text": [
      "199530\n",
      "800679\n"
     ]
    },
    {
     "name": "stderr",
     "output_type": "stream",
     "text": [
      "100%|██████████| 15/15 [00:03<00:00,  4.14it/s]\n",
      "100%|██████████| 6037/6037 [00:00<00:00, 10352.75it/s]\n"
     ]
    }
   ],
   "source": [
    "test_kfold_eval = k_fold_eval(test, train)"
   ]
  },
  {
   "cell_type": "code",
   "execution_count": 153,
   "metadata": {},
   "outputs": [
    {
     "data": {
      "text/html": [
       "<div>\n",
       "<style scoped>\n",
       "    .dataframe tbody tr th:only-of-type {\n",
       "        vertical-align: middle;\n",
       "    }\n",
       "\n",
       "    .dataframe tbody tr th {\n",
       "        vertical-align: top;\n",
       "    }\n",
       "\n",
       "    .dataframe thead th {\n",
       "        text-align: right;\n",
       "    }\n",
       "</style>\n",
       "<table border=\"1\" class=\"dataframe\">\n",
       "  <thead>\n",
       "    <tr style=\"text-align: right;\">\n",
       "      <th></th>\n",
       "      <th>precision</th>\n",
       "      <th>map</th>\n",
       "      <th>ndcg</th>\n",
       "      <th>auc</th>\n",
       "      <th>mpr</th>\n",
       "    </tr>\n",
       "  </thead>\n",
       "  <tbody>\n",
       "    <tr>\n",
       "      <th>10</th>\n",
       "      <td>0.401828</td>\n",
       "      <td>0.263530</td>\n",
       "      <td>0.403257</td>\n",
       "      <td>0.585966</td>\n",
       "      <td>0.082422</td>\n",
       "    </tr>\n",
       "    <tr>\n",
       "      <th>10</th>\n",
       "      <td>0.398842</td>\n",
       "      <td>0.259468</td>\n",
       "      <td>0.399151</td>\n",
       "      <td>0.584908</td>\n",
       "      <td>0.082460</td>\n",
       "    </tr>\n",
       "    <tr>\n",
       "      <th>10</th>\n",
       "      <td>0.398316</td>\n",
       "      <td>0.259047</td>\n",
       "      <td>0.399804</td>\n",
       "      <td>0.585288</td>\n",
       "      <td>0.080818</td>\n",
       "    </tr>\n",
       "    <tr>\n",
       "      <th>10</th>\n",
       "      <td>0.396888</td>\n",
       "      <td>0.260285</td>\n",
       "      <td>0.399274</td>\n",
       "      <td>0.584229</td>\n",
       "      <td>0.080790</td>\n",
       "    </tr>\n",
       "    <tr>\n",
       "      <th>10</th>\n",
       "      <td>0.399899</td>\n",
       "      <td>0.263167</td>\n",
       "      <td>0.401504</td>\n",
       "      <td>0.585790</td>\n",
       "      <td>0.081580</td>\n",
       "    </tr>\n",
       "  </tbody>\n",
       "</table>\n",
       "</div>"
      ],
      "text/plain": [
       "    precision       map      ndcg       auc       mpr\n",
       "10   0.401828  0.263530  0.403257  0.585966  0.082422\n",
       "10   0.398842  0.259468  0.399151  0.584908  0.082460\n",
       "10   0.398316  0.259047  0.399804  0.585288  0.080818\n",
       "10   0.396888  0.260285  0.399274  0.584229  0.080790\n",
       "10   0.399899  0.263167  0.401504  0.585790  0.081580"
      ]
     },
     "execution_count": 153,
     "metadata": {},
     "output_type": "execute_result"
    }
   ],
   "source": [
    "test_kfold_eval"
   ]
  },
  {
   "cell_type": "code",
   "execution_count": 154,
   "metadata": {},
   "outputs": [],
   "source": [
    "from cv_py import CrossValidation"
   ]
  },
  {
   "cell_type": "code",
   "execution_count": null,
   "metadata": {},
   "outputs": [],
   "source": []
  },
  {
   "cell_type": "code",
   "execution_count": 349,
   "metadata": {},
   "outputs": [
    {
     "data": {
      "text/plain": [
       "0.041884670955570365"
      ]
     },
     "execution_count": 349,
     "metadata": {},
     "output_type": "execute_result"
    }
   ],
   "source": [
    "ratings1_t.nnz / (ratings1_t.shape[0] * ratings1_t.shape[1])"
   ]
  },
  {
   "cell_type": "code",
   "execution_count": 350,
   "metadata": {},
   "outputs": [],
   "source": [
    "alpha = (ratings1_t.shape[0] * ratings1_t.shape[1] - ratings1_t.nnz) / sum(ratings1_t.data)"
   ]
  },
  {
   "cell_type": "code",
   "execution_count": 355,
   "metadata": {},
   "outputs": [],
   "source": [
    "from implicit.lmf import LogisticMatrixFactorization"
   ]
  },
  {
   "cell_type": "code",
   "execution_count": 356,
   "metadata": {},
   "outputs": [
    {
     "name": "stderr",
     "output_type": "stream",
     "text": [
      "100%|██████████| 15/15 [00:02<00:00,  5.32it/s]\n"
     ]
    }
   ],
   "source": [
    "model = LogisticMatrixFactorization(factors=64, regularization=1.5, iterations=15)\n",
    "model.fit(train * alpha)"
   ]
  },
  {
   "cell_type": "code",
   "execution_count": 26,
   "metadata": {},
   "outputs": [
    {
     "name": "stderr",
     "output_type": "stream",
     "text": [
      "100%|██████████| 104540/104540 [01:20<00:00, 1299.97it/s]\n"
     ]
    },
    {
     "data": {
      "text/plain": [
       "{'precision': 0.000681690808760131,\n",
       " 'map': 8.479931734188462e-05,\n",
       " 'ndcg': 0.0002605321096943011,\n",
       " 'auc': 0.5000277321471673}"
      ]
     },
     "execution_count": 26,
     "metadata": {},
     "output_type": "execute_result"
    }
   ],
   "source": [
    "metrics = ranking_metrics_at_k(model, train, test, K=10)\n",
    "metrics"
   ]
  },
  {
   "cell_type": "code",
   "execution_count": 28,
   "metadata": {},
   "outputs": [],
   "source": [
    "from implicit.datasets.movielens import get_movielens"
   ]
  },
  {
   "cell_type": "code",
   "execution_count": 67,
   "metadata": {},
   "outputs": [],
   "source": [
    "movies, ratings = get_movielens(\"1M\")"
   ]
  },
  {
   "cell_type": "code",
   "execution_count": 68,
   "metadata": {},
   "outputs": [
    {
     "data": {
      "text/plain": [
       "<AxesSubplot:>"
      ]
     },
     "execution_count": 68,
     "metadata": {},
     "output_type": "execute_result"
    },
    {
     "data": {
      "image/png": "[encoded data removed]",
      "text/plain": [
       "<Figure size 432x288 with 1 Axes>"
      ]
     },
     "metadata": {
      "needs_background": "light"
     },
     "output_type": "display_data"
    }
   ],
   "source": [
    "pd.Series(ratings.data).hist()"
   ]
  },
  {
   "cell_type": "code",
   "execution_count": 60,
   "metadata": {},
   "outputs": [
    {
     "data": {
      "text/plain": [
       "0.0011001766467592566"
      ]
     },
     "execution_count": 60,
     "metadata": {},
     "output_type": "execute_result"
    }
   ],
   "source": [
    "(ratings.nnz / (ratings.shape[0] * ratings.shape[1]))"
   ]
  },
  {
   "cell_type": "code",
   "execution_count": 61,
   "metadata": {},
   "outputs": [
    {
     "data": {
      "text/plain": [
       "0.9988998233532408"
      ]
     },
     "execution_count": 61,
     "metadata": {},
     "output_type": "execute_result"
    }
   ],
   "source": [
    "1 - (ratings.nnz / (ratings.shape[0] * ratings.shape[1]))"
   ]
  },
  {
   "cell_type": "code",
   "execution_count": 44,
   "metadata": {},
   "outputs": [],
   "source": [
    "alpha = (ratings.shape[0] * ratings.shape[1] - ratings.nnz) / sum(ratings.data)"
   ]
  },
  {
   "cell_type": "code",
   "execution_count": 45,
   "metadata": {},
   "outputs": [],
   "source": [
    "train, test = implicit.evaluation.train_test_split(ratings)"
   ]
  },
  {
   "cell_type": "code",
   "execution_count": 46,
   "metadata": {},
   "outputs": [],
   "source": [
    "model = LogisticMatrixFactorization(factors=64, regularization=1.5, iterations=15)"
   ]
  },
  {
   "cell_type": "code",
   "execution_count": 47,
   "metadata": {},
   "outputs": [
    {
     "name": "stderr",
     "output_type": "stream",
     "text": [
      "100%|██████████| 15/15 [02:13<00:00,  8.89s/it]\n"
     ]
    }
   ],
   "source": [
    "model.fit(train)"
   ]
  },
  {
   "cell_type": "code",
   "execution_count": 48,
   "metadata": {},
   "outputs": [
    {
     "name": "stderr",
     "output_type": "stream",
     "text": [
      "100%|██████████| 20290/20290 [00:06<00:00, 3025.87it/s]\n"
     ]
    },
    {
     "data": {
      "text/plain": [
       "{'precision': 0.06749951578539609,\n",
       " 'map': 0.026425281779652462,\n",
       " 'ndcg': 0.05743384889302971,\n",
       " 'auc': 0.513907392739112}"
      ]
     },
     "execution_count": 48,
     "metadata": {},
     "output_type": "execute_result"
    }
   ],
   "source": [
    "metrics = ranking_metrics_at_k(model, train, test, K=10)\n",
    "metrics"
   ]
  },
  {
   "cell_type": "code",
   "execution_count": 1,
   "metadata": {},
   "outputs": [
    {
     "ename": "NameError",
     "evalue": "name 'ranking_metrics_at_k' is not defined",
     "output_type": "error",
     "traceback": [
      "\u001b[1;31m---------------------------------------------------------------------------\u001b[0m",
      "\u001b[1;31mNameError\u001b[0m                                 Traceback (most recent call last)",
      "\u001b[1;32m~\\AppData\\Local\\Temp/ipykernel_15132/826225796.py\u001b[0m in \u001b[0;36m<module>\u001b[1;34m\u001b[0m\n\u001b[1;32m----> 1\u001b[1;33m \u001b[0mmetrics_new\u001b[0m \u001b[1;33m=\u001b[0m \u001b[0mranking_metrics_at_k\u001b[0m\u001b[1;33m(\u001b[0m\u001b[0mmodel\u001b[0m\u001b[1;33m,\u001b[0m \u001b[0mtrain\u001b[0m\u001b[1;33m,\u001b[0m \u001b[0mtest\u001b[0m\u001b[1;33m,\u001b[0m \u001b[0mK\u001b[0m\u001b[1;33m=\u001b[0m\u001b[1;36m5\u001b[0m\u001b[1;33m)\u001b[0m\u001b[1;33m\u001b[0m\u001b[1;33m\u001b[0m\u001b[0m\n\u001b[0m",
      "\u001b[1;31mNameError\u001b[0m: name 'ranking_metrics_at_k' is not defined"
     ]
    }
   ],
   "source": [
    "metrics_new = ranking_metrics_at_k(model, train, test, K=5)"
   ]
  }
 ],
 "metadata": {
  "kernelspec": {
   "display_name": "Python 3.8.5",
   "language": "python",
   "name": "python3"
  },
  "language_info": {
   "codemirror_mode": {
    "name": "ipython",
    "version": 3
   },
   "file_extension": ".py",
   "mimetype": "text/x-python",
   "name": "python",
   "nbconvert_exporter": "python",
   "pygments_lexer": "ipython3",
   "version": "3.8.5"
  },
  "orig_nbformat": 4,
  "vscode": {
   "interpreter": {
    "hash": "5d12259fae5b28c6154b1142ab47a20fd9a5ed96dba143a66549a6b78840fa71"
   }
  }
 },
 "nbformat": 4,
 "nbformat_minor": 2
}
